{
 "cells": [
  {
   "cell_type": "code",
   "execution_count": 1,
   "metadata": {
    "pycharm": {
     "is_executing": false,
     "name": "#%% IMPORT SECTION\n"
    }
   },
   "outputs": [
    {
     "name": "stderr",
     "text": [
      "Using TensorFlow backend.\n"
     ],
     "output_type": "stream"
    }
   ],
   "source": [
    "import numpy as np\n",
    "import pandas as pd\n",
    "import matplotlib.pyplot as plt\n",
    "import seaborn as sns\n",
    "import sklearn.metrics as metrics\n",
    "\n",
    "\n",
    "from sklearn import preprocessing\n",
    "from xgboost import XGBClassifier\n",
    "\n",
    "# Other Libraries\n",
    "from sklearn.model_selection import train_test_split\n",
    "\n",
    "from imblearn.over_sampling import SMOTE\n",
    "\n",
    "from sklearn.metrics import precision_score, recall_score, f1_score, roc_auc_score, accuracy_score, classification_report\n",
    "from collections import Counter \n",
    "rs = 42\n",
    "def compute_metrics (y_te2,y_p,string):\n",
    "    print('\\n %s'%string)\n",
    "    print('CONFUSION MATRIX')\n",
    "    print(metrics.confusion_matrix(y_te2,y_p))\n",
    "    print(classification_report(y_te2, y_p))\n",
    "    print('\\nROC CURVE: %2.2f'%roc_auc_score(y_te2,y_p))\n",
    "\n",
    "def plotting_ROC_curve(X_te,y_te,model):\n",
    "    plt.figure()\n",
    "    metrics.plot_roc_curve(model,X_te,y_te)\n",
    "    plt.plot([0,1],[0,1],label='baseline',c='red')\n",
    "    plt.legend(loc='lower right')\n",
    "    plt.show()\n",
    "    \n",
    "def Ratio10(y,string):\n",
    "    suma = Counter(y)[0]+Counter(y)[1]\n",
    "    print('\\n'+string)  \n",
    "    print(Counter(y))\n",
    "    print('0: %3.2f%%\\n1: %3.2f%%' % (100*Counter(y)[0]/suma,100*Counter(y)[1]/suma))\n",
    "\n",
    "def histo(data,var):\n",
    "    fig=plt.figure()\n",
    "    colors = np.array(['#0101DF','#DF0101','#01DF01'])\n",
    "    sns.countplot(var,data=data,palette=colors)\n",
    "    plt.title('0/1 Distribution (0: No Stalling || 1: Stalling Event',fontsize=14)\n",
    "    plt.show()\n",
    "    \n",
    "def featImp(model,features):\n",
    "    print('Features: %s' %features)\n",
    "    feat_imp = pd.Series(model.feature_importances_, features).sort_values(ascending=False)\n",
    "    feat_imp.plot(kind='bar', title='Feature Importances')\n",
    "    plt.ylabel('Feature Importance Score')\n",
    "    plt.show()"
   ]
  },
  {
   "cell_type": "code",
   "execution_count": 2,
   "metadata": {
    "pycharm": {
     "is_executing": false,
     "name": "#%%\n"
    }
   },
   "outputs": [
    {
     "name": "stdout",
     "text": [
      "Index(['No.', 'Time', '∆t', 'Protocol', 'pkt_len', 'ip_len', 'tcp_hea_len',\n",
      "       'tcp_flag_ack', 'tcp_flag_cwr', 'tcp_flag_ecn', 'tcp_flag_urg',\n",
      "       'tcp_flag_psh', 'tcp_flag_rst', 'tcp_flag_syn', 'tcp_flag_fin',\n",
      "       'tcp_win_si2', 'delay', 'capture', 'prebuffering', 'stalling_event'],\n",
      "      dtype='object')\n",
      "\n",
      "dataset[stalling_event]\n",
      "Counter({0: 1426743, 1: 113031})\n",
      "0: 92.66%\n",
      "1: 7.34%\n",
      "\n",
      "y (SMOTE)\n",
      "Counter({0: 1426743, 1: 1426743})\n",
      "0: 50.00%\n",
      "1: 50.00%\n"
     ],
     "output_type": "stream"
    },
    {
     "data": {
      "text/plain": "<Figure size 432x288 with 1 Axes>",
      "image/png": "[encoded data removed]"
     },
     "metadata": {
      "needs_background": "light"
     },
     "output_type": "display_data"
    }
   ],
   "source": [
    "dataset = pd.read_csv('../../output/df_general.csv', sep=',')\n",
    "dataset = dataset.dropna()\n",
    "\n",
    "print(dataset.columns)\n",
    "Ratio10(dataset['stalling_event'],'dataset[stalling_event]')\n",
    "histo(dataset,'stalling_event')\n",
    "\n",
    "y = dataset['stalling_event']\n",
    "X = dataset.drop(['No.','Protocol','prebuffering','Time','delay','capture','stalling_event'],axis=1)\n",
    "\n",
    "smote = SMOTE(sampling_strategy='minority',random_state=rs,n_jobs=-1)\n",
    "X, y = smote.fit_sample(X.values, y.values)\n",
    "Ratio10(y,'y (SMOTE)')\n",
    "X_train, X_test, y_train, y_test = train_test_split(X, y,\n",
    "                                                    test_size=0.2,\n",
    "                                                    random_state=42,\n",
    "                                                    shuffle=True)\n",
    "\n",
    "norm = preprocessing.MinMaxScaler()\n",
    "X = norm.fit_transform(X)"
   ]
  },
  {
   "cell_type": "code",
   "execution_count": null,
   "outputs": [],
   "source": [
    "'''model = XGBClassifier( learning_rate =0.1, n_estimators=200, max_depth=5,\n",
    "                       min_child_weight=1, gamma=0, subsample=0.8, colsample_bytree=0.8,objective= 'binary:logistic', \n",
    "                       nthread=4, scale_pos_weight=1, seed=rs)\n",
    "model.fit(X_train,y_train)'''"
   ],
   "metadata": {
    "collapsed": false,
    "pycharm": {
     "name": "#%%\n",
     "is_executing": true
    }
   }
  },
  {
   "cell_type": "code",
   "execution_count": null,
   "outputs": [],
   "source": [
    "'''featImp(model,['∆t', 'pkt_len', 'ip_len', 'tcp_hea_len', 'tcp_flag_ack',\n",
    "       'tcp_flag_cwr', 'tcp_flag_ecn', 'tcp_flag_urg', 'tcp_flag_psh',\n",
    "       'tcp_flag_rst', 'tcp_flag_syn', 'tcp_flag_fin', 'tcp_win_si2'])'''\n"
   ],
   "metadata": {
    "collapsed": false,
    "pycharm": {
     "name": "#%%\n",
     "is_executing": true
    }
   }
  },
  {
   "cell_type": "code",
   "execution_count": 3,
   "outputs": [
    {
     "name": "stdout",
     "text": [
      "Fitting 3 folds for each of 4 candidates, totalling 12 fits\n"
     ],
     "output_type": "stream"
    },
    {
     "name": "stderr",
     "text": [
      "[Parallel(n_jobs=4)]: Using backend LokyBackend with 4 concurrent workers.\n",
      "[Parallel(n_jobs=4)]: Done  12 out of  12 | elapsed: 103.7min finished\n",
      "c:\\users\\usuario\\pycharmprojects\\stallingevents\\venv\\lib\\site-packages\\sklearn\\model_selection\\_search.py:825: FutureWarning: The parameter 'iid' is deprecated in 0.22 and will be removed in 0.24.\n",
      "  \"removed in 0.24.\", FutureWarning\n"
     ],
     "output_type": "stream"
    },
    {
     "data": {
      "text/plain": "GridSearchCV(cv=3, error_score=nan,\n             estimator=XGBClassifier(base_score=0.5, booster='gbtree',\n                                     colsample_bylevel=1, colsample_bynode=1,\n                                     colsample_bytree=0.8, gamma=0,\n                                     learning_rate=0.1, max_delta_step=0,\n                                     max_depth=8, max_features='sqrt',\n                                     min_child_weight=1, missing=None,\n                                     n_estimators=100, n_jobs=1, nthread=4,\n                                     objective='binary:logistic',\n                                     random_state=0, reg_alpha=0, reg_lambda=1,\n                                     scale_pos_weight=1, seed=42, silent=None,\n                                     subsample=0.8, verbosity=1),\n             iid=False, n_jobs=4,\n             param_grid={'n_estimators': range(100, 1700, 500)},\n             pre_dispatch='2*n_jobs', refit=True, return_train_score=False,\n             scoring='roc_auc', verbose=1)"
     },
     "metadata": {},
     "output_type": "execute_result",
     "execution_count": 3
    }
   ],
   "source": [
    "from sklearn.model_selection import GridSearchCV   #Perforing grid search\n",
    "param_test1 = {\n",
    " 'n_estimators':range(100,1700,500)\n",
    "}\n",
    "gsearch1 = GridSearchCV(estimator= XGBClassifier(learning_rate = 0.1, max_depth=8, max_features='sqrt',\n",
    "                                                  min_child_weight=1, gamma=0, subsample=0.8, colsample_bytree=0.8,\n",
    "                                                  objective= 'binary:logistic', seed=rs,\n",
    "                                                  scale_pos_weight=1\n",
    "                                                  ), \n",
    "                        param_grid = param_test1, scoring='roc_auc',n_jobs=4,iid=False, cv=3,verbose=1) #probar scoring 'roc_auc'\n",
    "gsearch1.fit(X_train,y_train)"
   ],
   "metadata": {
    "collapsed": false,
    "pycharm": {
     "name": "#%%\n",
     "is_executing": false
    }
   }
  },
  {
   "cell_type": "code",
   "execution_count": 4,
   "outputs": [
    {
     "name": "stdout",
     "text": [
      "{'mean_fit_time': array([ 226.0576671 , 1347.90633353, 2616.69522587, 2921.51039577]), 'std_fit_time': array([  2.32262758,  13.87059573,  13.6539311 , 575.50591999]), 'mean_score_time': array([ 3.84533509, 21.6691734 , 36.8143301 , 32.88133264]), 'std_score_time': array([0.25779599, 2.39092804, 5.09417881, 9.03378397]), 'param_n_estimators': masked_array(data=[100, 600, 1100, 1600],\n",
      "             mask=[False, False, False, False],\n",
      "       fill_value='?',\n",
      "            dtype=object), 'params': [{'n_estimators': 100}, {'n_estimators': 600}, {'n_estimators': 1100}, {'n_estimators': 1600}], 'split0_test_score': array([0.72894228, 0.75529991, 0.76489686, 0.77058262]), 'split1_test_score': array([0.72559949, 0.751087  , 0.76259813, 0.76937889]), 'split2_test_score': array([0.72642253, 0.75013722, 0.76187   , 0.7686405 ]), 'mean_test_score': array([0.7269881 , 0.75217471, 0.76312166, 0.769534  ]), 'std_test_score': array([0.00142208, 0.00224361, 0.00128997, 0.00080042]), 'rank_test_score': array([4, 3, 2, 1])}\n",
      "{'n_estimators': 1600}\n",
      "0.7695340006604393\n"
     ],
     "output_type": "stream"
    }
   ],
   "source": [
    "print(gsearch1.cv_results_)\n",
    "print(gsearch1.best_params_)\n",
    "print(gsearch1.best_score_)"
   ],
   "metadata": {
    "collapsed": false,
    "pycharm": {
     "name": "#%%\n",
     "is_executing": false
    }
   }
  },
  {
   "cell_type": "code",
   "execution_count": 4,
   "outputs": [
    {
     "name": "stdout",
     "text": [
      "Fitting 3 folds for each of 60 candidates, totalling 180 fits\n"
     ],
     "output_type": "stream"
    },
    {
     "name": "stderr",
     "text": [
      "[Parallel(n_jobs=4)]: Using backend LokyBackend with 4 concurrent workers.\n",
      "[Parallel(n_jobs=4)]: Done  42 tasks      | elapsed: 54.1min\n",
      "[Parallel(n_jobs=4)]: Done 180 out of 180 | elapsed: 242.5min finished\n",
      "c:\\users\\usuario\\pycharmprojects\\stallingevents\\venv\\lib\\site-packages\\sklearn\\model_selection\\_search.py:825: FutureWarning: The parameter 'iid' is deprecated in 0.22 and will be removed in 0.24.\n",
      "  \"removed in 0.24.\", FutureWarning\n"
     ],
     "output_type": "stream"
    },
    {
     "data": {
      "text/plain": "GridSearchCV(cv=3, error_score=nan,\n             estimator=XGBClassifier(base_score=0.5, booster='gbtree',\n                                     colsample_bylevel=1, colsample_bynode=1,\n                                     colsample_bytree=0.8, gamma=0,\n                                     learning_rate=0.1, max_delta_step=0,\n                                     max_depth=3, max_features='sqrt',\n                                     min_child_weight=1, missing=None,\n                                     n_estimators=150, n_jobs=1, nthread=None,\n                                     objective='binary:logistic',\n                                     random_state=0, reg_alpha=0, reg_lambda=1,\n                                     scale_pos_weight=1, seed=42, silent=None,\n                                     subsample=1, verbosity=1),\n             iid=False, n_jobs=4,\n             param_grid={'gamma': [0.01, 0.1, 0.2], 'max_depth': range(5, 10),\n                         'subsample': [0.6, 0.7, 0.8, 0.9]},\n             pre_dispatch='2*n_jobs', refit=True, return_train_score=False,\n             scoring='roc_auc', verbose=1)"
     },
     "metadata": {},
     "output_type": "execute_result",
     "execution_count": 4
    }
   ],
   "source": [
    "from sklearn.model_selection import GridSearchCV   #Perforing grid search\n",
    "param_test2 = {\n",
    "    'max_depth':range(5,10,1),\n",
    "    'gamma':[0.01,0.1,0.2],\n",
    "    'subsample':[0.6,0.7,0.8,0.9]\n",
    "}\n",
    "gsearch2 = GridSearchCV(estimator= XGBClassifier(learning_rate = 0.1, n_estimators=150, max_features='sqrt',\n",
    "                                                  min_child_weight=1, colsample_bytree=0.8,\n",
    "                                                  objective= 'binary:logistic', seed=rs,\n",
    "                                                  scale_pos_weight=1\n",
    "                                                  ), \n",
    "                        param_grid = param_test2, scoring='roc_auc',n_jobs=4,iid=False, cv=3,verbose=1) #probar scoring 'roc_auc'\n",
    "gsearch2.fit(X_train,y_train)"
   ],
   "metadata": {
    "collapsed": false,
    "pycharm": {
     "name": "#%%\n",
     "is_executing": false
    }
   }
  },
  {
   "cell_type": "code",
   "execution_count": 5,
   "outputs": [
    {
     "name": "stdout",
     "text": [
      "{'mean_fit_time': array([252.25333079, 240.64900104, 230.98633258, 222.40366427,\n",
      "       288.68799845, 278.74033213, 269.26402378, 257.51169062,\n",
      "       335.96939437, 314.36268528, 299.83933512, 292.23700237,\n",
      "       369.50780257, 355.45127002, 339.97086422, 322.94059849,\n",
      "       414.64633075, 388.96266715, 369.89699952, 353.02566282,\n",
      "       261.0670681 , 258.7183547 , 251.90002616, 242.93341549,\n",
      "       310.42699941, 294.8819983 , 277.52400057, 260.02399826,\n",
      "       338.61699669, 327.49499853, 319.52656658, 313.06636794,\n",
      "       376.77099665, 362.82666628, 347.4786675 , 331.70133392,\n",
      "       424.06899762, 401.64266531, 382.08033291, 362.63466382,\n",
      "       260.34299771, 250.31366412, 244.27699765, 238.87466415,\n",
      "       300.44833565, 287.77733278, 275.4288617 , 265.64891966,\n",
      "       332.79399967, 318.486998  , 305.06033246, 290.03566289,\n",
      "       373.20299737, 355.72666685, 339.56766486, 324.3349967 ,\n",
      "       414.80366619, 393.82133269, 374.74899936, 356.10866451]), 'std_fit_time': array([0.71949211, 0.35072857, 0.63016228, 0.50255231, 0.32005815,\n",
      "       2.61062162, 1.2723424 , 0.81395982, 0.80358243, 5.20811841,\n",
      "       4.74931457, 0.69706941, 1.19067565, 2.86127434, 0.35442668,\n",
      "       0.70074675, 1.00311611, 3.15145517, 2.78879356, 1.02940442,\n",
      "       0.56542951, 5.98176056, 0.42466382, 0.20548584, 0.5756545 ,\n",
      "       1.98153623, 4.31189631, 0.38921997, 0.18223311, 2.9276548 ,\n",
      "       6.43804065, 0.68218772, 0.31429777, 3.6918515 , 0.48506307,\n",
      "       1.28118701, 1.04229265, 1.32850898, 2.28518765, 1.4622956 ,\n",
      "       0.60963433, 0.45288883, 3.52385293, 0.55901196, 0.0980102 ,\n",
      "       0.70767543, 0.89461598, 0.14316904, 0.54560397, 0.3671879 ,\n",
      "       0.95771732, 0.6177921 , 0.904406  , 0.71056486, 0.93616863,\n",
      "       0.5555759 , 0.67804017, 1.45990301, 0.90869224, 1.23884691]), 'mean_score_time': array([ 4.48133397,  4.30666574,  4.38233479,  4.22933435,  5.31267007,\n",
      "        5.60433459,  5.64700135,  5.90738408,  6.77266653,  6.75900261,\n",
      "        6.80700008,  6.63033144,  8.2186683 ,  8.48299813,  8.25833599,\n",
      "        7.67366767, 10.12133622,  9.72033532,  9.11666878,  9.21267001,\n",
      "        4.73900112,  4.865002  ,  4.82400076,  4.66499798,  6.32033221,\n",
      "        6.30500189,  6.16166488,  5.88466756,  7.5780007 ,  7.56200107,\n",
      "        7.34066621,  7.08367054,  8.97500388,  8.82133444,  8.96833253,\n",
      "        8.97933539, 10.48633456, 10.30566875, 10.41933489, 10.62566439,\n",
      "        4.7710007 ,  4.77400009,  4.74533629,  4.66666691,  6.36299769,\n",
      "        5.99466681,  6.18366623,  6.17566705,  7.43933384,  7.23900056,\n",
      "        7.40166783,  7.12100331,  8.95966887,  8.85766761,  8.78666933,\n",
      "        8.59033672, 10.33933552, 10.24233452,  9.70300206,  9.40066584]), 'std_score_time': array([0.04018582, 0.03791747, 0.01271072, 0.03592925, 0.09680865,\n",
      "       0.13314128, 0.36075909, 0.14596527, 0.19807449, 0.1123304 ,\n",
      "       0.20479836, 0.19618852, 0.06246089, 0.19429861, 0.18914675,\n",
      "       0.26226482, 0.19016169, 0.39291326, 0.06249627, 0.33627049,\n",
      "       0.07887371, 0.20206065, 0.22583717, 0.2192111 , 0.12267334,\n",
      "       0.21388922, 0.12762624, 0.08268198, 0.2314187 , 0.26016322,\n",
      "       0.08624053, 0.11788961, 0.07826046, 0.37041882, 0.27278986,\n",
      "       0.12455131, 0.13626983, 0.11336262, 0.10015183, 0.23163973,\n",
      "       0.03721058, 0.05661864, 0.08248848, 0.04434205, 0.09782914,\n",
      "       0.14787398, 0.13016073, 0.1256822 , 0.16486835, 0.15611141,\n",
      "       0.07097528, 0.21718591, 0.0854619 , 0.05734435, 0.35331345,\n",
      "       0.31122854, 0.16160482, 0.13594262, 0.9970384 , 0.71963399]), 'param_gamma': masked_array(data=[0.01, 0.01, 0.01, 0.01, 0.01, 0.01, 0.01, 0.01, 0.01,\n",
      "                   0.01, 0.01, 0.01, 0.01, 0.01, 0.01, 0.01, 0.01, 0.01,\n",
      "                   0.01, 0.01, 0.1, 0.1, 0.1, 0.1, 0.1, 0.1, 0.1, 0.1,\n",
      "                   0.1, 0.1, 0.1, 0.1, 0.1, 0.1, 0.1, 0.1, 0.1, 0.1, 0.1,\n",
      "                   0.1, 0.2, 0.2, 0.2, 0.2, 0.2, 0.2, 0.2, 0.2, 0.2, 0.2,\n",
      "                   0.2, 0.2, 0.2, 0.2, 0.2, 0.2, 0.2, 0.2, 0.2, 0.2],\n",
      "             mask=[False, False, False, False, False, False, False, False,\n",
      "                   False, False, False, False, False, False, False, False,\n",
      "                   False, False, False, False, False, False, False, False,\n",
      "                   False, False, False, False, False, False, False, False,\n",
      "                   False, False, False, False, False, False, False, False,\n",
      "                   False, False, False, False, False, False, False, False,\n",
      "                   False, False, False, False, False, False, False, False,\n",
      "                   False, False, False, False],\n",
      "       fill_value='?',\n",
      "            dtype=object), 'param_max_depth': masked_array(data=[5, 5, 5, 5, 6, 6, 6, 6, 7, 7, 7, 7, 8, 8, 8, 8, 9, 9,\n",
      "                   9, 9, 5, 5, 5, 5, 6, 6, 6, 6, 7, 7, 7, 7, 8, 8, 8, 8,\n",
      "                   9, 9, 9, 9, 5, 5, 5, 5, 6, 6, 6, 6, 7, 7, 7, 7, 8, 8,\n",
      "                   8, 8, 9, 9, 9, 9],\n",
      "             mask=[False, False, False, False, False, False, False, False,\n",
      "                   False, False, False, False, False, False, False, False,\n",
      "                   False, False, False, False, False, False, False, False,\n",
      "                   False, False, False, False, False, False, False, False,\n",
      "                   False, False, False, False, False, False, False, False,\n",
      "                   False, False, False, False, False, False, False, False,\n",
      "                   False, False, False, False, False, False, False, False,\n",
      "                   False, False, False, False],\n",
      "       fill_value='?',\n",
      "            dtype=object), 'param_subsample': masked_array(data=[0.6, 0.7, 0.8, 0.9, 0.6, 0.7, 0.8, 0.9, 0.6, 0.7, 0.8,\n",
      "                   0.9, 0.6, 0.7, 0.8, 0.9, 0.6, 0.7, 0.8, 0.9, 0.6, 0.7,\n",
      "                   0.8, 0.9, 0.6, 0.7, 0.8, 0.9, 0.6, 0.7, 0.8, 0.9, 0.6,\n",
      "                   0.7, 0.8, 0.9, 0.6, 0.7, 0.8, 0.9, 0.6, 0.7, 0.8, 0.9,\n",
      "                   0.6, 0.7, 0.8, 0.9, 0.6, 0.7, 0.8, 0.9, 0.6, 0.7, 0.8,\n",
      "                   0.9, 0.6, 0.7, 0.8, 0.9],\n",
      "             mask=[False, False, False, False, False, False, False, False,\n",
      "                   False, False, False, False, False, False, False, False,\n",
      "                   False, False, False, False, False, False, False, False,\n",
      "                   False, False, False, False, False, False, False, False,\n",
      "                   False, False, False, False, False, False, False, False,\n",
      "                   False, False, False, False, False, False, False, False,\n",
      "                   False, False, False, False, False, False, False, False,\n",
      "                   False, False, False, False],\n",
      "       fill_value='?',\n",
      "            dtype=object), 'params': [{'gamma': 0.01, 'max_depth': 5, 'subsample': 0.6}, {'gamma': 0.01, 'max_depth': 5, 'subsample': 0.7}, {'gamma': 0.01, 'max_depth': 5, 'subsample': 0.8}, {'gamma': 0.01, 'max_depth': 5, 'subsample': 0.9}, {'gamma': 0.01, 'max_depth': 6, 'subsample': 0.6}, {'gamma': 0.01, 'max_depth': 6, 'subsample': 0.7}, {'gamma': 0.01, 'max_depth': 6, 'subsample': 0.8}, {'gamma': 0.01, 'max_depth': 6, 'subsample': 0.9}, {'gamma': 0.01, 'max_depth': 7, 'subsample': 0.6}, {'gamma': 0.01, 'max_depth': 7, 'subsample': 0.7}, {'gamma': 0.01, 'max_depth': 7, 'subsample': 0.8}, {'gamma': 0.01, 'max_depth': 7, 'subsample': 0.9}, {'gamma': 0.01, 'max_depth': 8, 'subsample': 0.6}, {'gamma': 0.01, 'max_depth': 8, 'subsample': 0.7}, {'gamma': 0.01, 'max_depth': 8, 'subsample': 0.8}, {'gamma': 0.01, 'max_depth': 8, 'subsample': 0.9}, {'gamma': 0.01, 'max_depth': 9, 'subsample': 0.6}, {'gamma': 0.01, 'max_depth': 9, 'subsample': 0.7}, {'gamma': 0.01, 'max_depth': 9, 'subsample': 0.8}, {'gamma': 0.01, 'max_depth': 9, 'subsample': 0.9}, {'gamma': 0.1, 'max_depth': 5, 'subsample': 0.6}, {'gamma': 0.1, 'max_depth': 5, 'subsample': 0.7}, {'gamma': 0.1, 'max_depth': 5, 'subsample': 0.8}, {'gamma': 0.1, 'max_depth': 5, 'subsample': 0.9}, {'gamma': 0.1, 'max_depth': 6, 'subsample': 0.6}, {'gamma': 0.1, 'max_depth': 6, 'subsample': 0.7}, {'gamma': 0.1, 'max_depth': 6, 'subsample': 0.8}, {'gamma': 0.1, 'max_depth': 6, 'subsample': 0.9}, {'gamma': 0.1, 'max_depth': 7, 'subsample': 0.6}, {'gamma': 0.1, 'max_depth': 7, 'subsample': 0.7}, {'gamma': 0.1, 'max_depth': 7, 'subsample': 0.8}, {'gamma': 0.1, 'max_depth': 7, 'subsample': 0.9}, {'gamma': 0.1, 'max_depth': 8, 'subsample': 0.6}, {'gamma': 0.1, 'max_depth': 8, 'subsample': 0.7}, {'gamma': 0.1, 'max_depth': 8, 'subsample': 0.8}, {'gamma': 0.1, 'max_depth': 8, 'subsample': 0.9}, {'gamma': 0.1, 'max_depth': 9, 'subsample': 0.6}, {'gamma': 0.1, 'max_depth': 9, 'subsample': 0.7}, {'gamma': 0.1, 'max_depth': 9, 'subsample': 0.8}, {'gamma': 0.1, 'max_depth': 9, 'subsample': 0.9}, {'gamma': 0.2, 'max_depth': 5, 'subsample': 0.6}, {'gamma': 0.2, 'max_depth': 5, 'subsample': 0.7}, {'gamma': 0.2, 'max_depth': 5, 'subsample': 0.8}, {'gamma': 0.2, 'max_depth': 5, 'subsample': 0.9}, {'gamma': 0.2, 'max_depth': 6, 'subsample': 0.6}, {'gamma': 0.2, 'max_depth': 6, 'subsample': 0.7}, {'gamma': 0.2, 'max_depth': 6, 'subsample': 0.8}, {'gamma': 0.2, 'max_depth': 6, 'subsample': 0.9}, {'gamma': 0.2, 'max_depth': 7, 'subsample': 0.6}, {'gamma': 0.2, 'max_depth': 7, 'subsample': 0.7}, {'gamma': 0.2, 'max_depth': 7, 'subsample': 0.8}, {'gamma': 0.2, 'max_depth': 7, 'subsample': 0.9}, {'gamma': 0.2, 'max_depth': 8, 'subsample': 0.6}, {'gamma': 0.2, 'max_depth': 8, 'subsample': 0.7}, {'gamma': 0.2, 'max_depth': 8, 'subsample': 0.8}, {'gamma': 0.2, 'max_depth': 8, 'subsample': 0.9}, {'gamma': 0.2, 'max_depth': 9, 'subsample': 0.6}, {'gamma': 0.2, 'max_depth': 9, 'subsample': 0.7}, {'gamma': 0.2, 'max_depth': 9, 'subsample': 0.8}, {'gamma': 0.2, 'max_depth': 9, 'subsample': 0.9}], 'split0_test_score': array([0.72311438, 0.72227505, 0.71930989, 0.71722763, 0.72830314,\n",
      "       0.7266801 , 0.72512052, 0.72169296, 0.7324509 , 0.73215657,\n",
      "       0.73021622, 0.72621046, 0.7372982 , 0.73640559, 0.7343507 ,\n",
      "       0.73050449, 0.74054343, 0.73971693, 0.73911832, 0.73515618,\n",
      "       0.72311447, 0.72226255, 0.71931014, 0.71722709, 0.72830312,\n",
      "       0.72668154, 0.72513715, 0.72169239, 0.73261841, 0.73215772,\n",
      "       0.73003146, 0.72620818, 0.73755346, 0.73656168, 0.7350619 ,\n",
      "       0.73050355, 0.74082879, 0.73957212, 0.73842305, 0.73545787,\n",
      "       0.72326734, 0.72226243, 0.7193099 , 0.71722686, 0.72832599,\n",
      "       0.72690573, 0.72513641, 0.72169236, 0.73260038, 0.73216237,\n",
      "       0.73007287, 0.72620707, 0.73718167, 0.73619521, 0.73450828,\n",
      "       0.73117018, 0.74039132, 0.73937816, 0.73907062, 0.7349859 ]), 'split1_test_score': array([0.71812831, 0.71870282, 0.71699387, 0.71141955, 0.72588997,\n",
      "       0.72440559, 0.72110945, 0.71904125, 0.73033617, 0.72845755,\n",
      "       0.72676297, 0.72537882, 0.73435162, 0.73451535, 0.73144417,\n",
      "       0.73033512, 0.73938398, 0.73819922, 0.73570334, 0.73374115,\n",
      "       0.71812832, 0.71870187, 0.71708486, 0.71142182, 0.72588595,\n",
      "       0.72440409, 0.72183692, 0.71903988, 0.73011567, 0.72850228,\n",
      "       0.72662123, 0.72536198, 0.73542576, 0.73419315, 0.73102149,\n",
      "       0.73025349, 0.73881976, 0.73774211, 0.73677919, 0.73419343,\n",
      "       0.71813038, 0.71870191, 0.71708426, 0.7114222 , 0.72525992,\n",
      "       0.72440246, 0.72183645, 0.71903928, 0.73011958, 0.72835352,\n",
      "       0.72676051, 0.72536063, 0.73450963, 0.73438619, 0.73133459,\n",
      "       0.7300613 , 0.73939081, 0.73789947, 0.73681783, 0.7346681 ]), 'split2_test_score': array([0.721699  , 0.72104845, 0.71629415, 0.7087827 , 0.72693668,\n",
      "       0.72677078, 0.72144734, 0.71379303, 0.73169502, 0.73163225,\n",
      "       0.72695049, 0.71790095, 0.73657942, 0.73628069, 0.73117337,\n",
      "       0.72241394, 0.74011054, 0.73991794, 0.73503989, 0.72747238,\n",
      "       0.72169863, 0.72104853, 0.71629415, 0.7087827 , 0.72693447,\n",
      "       0.72743788, 0.72144697, 0.71379156, 0.7315459 , 0.73163204,\n",
      "       0.72700707, 0.71790046, 0.7360126 , 0.73597517, 0.73149835,\n",
      "       0.72235932, 0.74092148, 0.73964368, 0.73424499, 0.72753971,\n",
      "       0.72164678, 0.72044329, 0.71629414, 0.70878268, 0.72693218,\n",
      "       0.72729667, 0.72144643, 0.71379091, 0.73154719, 0.7316454 ,\n",
      "       0.72715196, 0.71813275, 0.73639147, 0.73620431, 0.73085052,\n",
      "       0.72227951, 0.74056859, 0.73969747, 0.73471563, 0.72703382]), 'mean_test_score': array([0.72098056, 0.72067544, 0.71753264, 0.71247663, 0.72704327,\n",
      "       0.72595216, 0.7225591 , 0.71817575, 0.73149403, 0.73074879,\n",
      "       0.72797656, 0.72316341, 0.73607641, 0.73573388, 0.73232275,\n",
      "       0.72775118, 0.74001265, 0.73927803, 0.73662051, 0.73212324,\n",
      "       0.72098047, 0.72067098, 0.71756305, 0.71247721, 0.72704118,\n",
      "       0.7261745 , 0.72280701, 0.71817461, 0.73142666, 0.73076401,\n",
      "       0.72788658, 0.72315687, 0.73633061, 0.73557667, 0.73252725,\n",
      "       0.72770546, 0.74019001, 0.73898597, 0.73648241, 0.732397  ,\n",
      "       0.72101484, 0.72046921, 0.71756277, 0.71247725, 0.72683936,\n",
      "       0.72620162, 0.72280643, 0.71817418, 0.73142238, 0.73072043,\n",
      "       0.72799511, 0.72323349, 0.73602759, 0.73559524, 0.73223113,\n",
      "       0.727837  , 0.74011691, 0.7389917 , 0.73686803, 0.73222927]), 'std_test_score': array([0.00209799, 0.00148202, 0.00128877, 0.00352773, 0.00098805,\n",
      "       0.00109421, 0.00181644, 0.00328269, 0.00087495, 0.00163423,\n",
      "       0.00158553, 0.00373658, 0.00125442, 0.00086314, 0.00143824,\n",
      "       0.00377463, 0.00047838, 0.00076723, 0.00178686, 0.00333901,\n",
      "       0.00209798, 0.00147795, 0.00127686, 0.00352726, 0.00098968,\n",
      "       0.00128939, 0.00165533, 0.00328302, 0.00102522, 0.00161362,\n",
      "       0.00152481, 0.00373287, 0.00089727, 0.00100717, 0.00180281,\n",
      "       0.00378166, 0.00096965, 0.00088003, 0.00171855, 0.0034732 ,\n",
      "       0.00214423, 0.00145369, 0.00127682, 0.00352712, 0.00125344,\n",
      "       0.00128217, 0.00165522, 0.00328324, 0.00101662, 0.00168691,\n",
      "       0.00147786, 0.00362328, 0.00112079, 0.00085493, 0.00162227,\n",
      "       0.00395572, 0.0005185 , 0.00078325, 0.00177827, 0.00367603]), 'rank_test_score': array([47, 49, 57, 60, 34, 39, 45, 52, 22, 26, 29, 41, 11, 13, 18, 32,  3,\n",
      "        4,  8, 21, 48, 50, 55, 59, 35, 38, 43, 53, 23, 25, 30, 42, 10, 15,\n",
      "       16, 33,  1,  6,  9, 17, 46, 51, 56, 58, 36, 37, 44, 54, 24, 27, 28,\n",
      "       40, 12, 14, 19, 31,  2,  5,  7, 20])}\n",
      "{'gamma': 0.1, 'max_depth': 9, 'subsample': 0.6}\n",
      "0.7401900096736237\n"
     ],
     "output_type": "stream"
    }
   ],
   "source": [
    "print(gsearch2.cv_results_)\n",
    "print(gsearch2.best_params_)\n",
    "print(gsearch2.best_score_)"
   ],
   "metadata": {
    "collapsed": false,
    "pycharm": {
     "name": "#%%\n",
     "is_executing": false
    }
   }
  },
  {
   "cell_type": "code",
   "execution_count": 6,
   "outputs": [
    {
     "name": "stdout",
     "text": [
      "Fitting 3 folds for each of 4 candidates, totalling 12 fits\n"
     ],
     "output_type": "stream"
    },
    {
     "name": "stderr",
     "text": [
      "[Parallel(n_jobs=4)]: Using backend LokyBackend with 4 concurrent workers.\n",
      "[Parallel(n_jobs=4)]: Done  12 out of  12 | elapsed: 21.2min finished\n",
      "c:\\users\\usuario\\pycharmprojects\\stallingevents\\venv\\lib\\site-packages\\sklearn\\model_selection\\_search.py:825: FutureWarning: The parameter 'iid' is deprecated in 0.22 and will be removed in 0.24.\n",
      "  \"removed in 0.24.\", FutureWarning\n"
     ],
     "output_type": "stream"
    },
    {
     "data": {
      "text/plain": "GridSearchCV(cv=3, error_score=nan,\n             estimator=XGBClassifier(base_score=0.5, booster='gbtree',\n                                     colsample_bylevel=1, colsample_bynode=1,\n                                     colsample_bytree=1, gamma=0.1,\n                                     learning_rate=0.1, max_delta_step=0,\n                                     max_depth=9, max_features='sqrt',\n                                     min_child_weight=1, missing=None,\n                                     n_estimators=150, n_jobs=1, nthread=None,\n                                     objective='binary:logistic',\n                                     random_state=0, reg_alpha=0, reg_lambda=1,\n                                     scale_pos_weight=1, seed=42, silent=None,\n                                     subsample=0.6, verbosity=1),\n             iid=False, n_jobs=4,\n             param_grid={'colsample_bytree': [0.6, 0.7, 0.8, 0.9]},\n             pre_dispatch='2*n_jobs', refit=True, return_train_score=False,\n             scoring='roc_auc', verbose=1)"
     },
     "metadata": {},
     "output_type": "execute_result",
     "execution_count": 6
    }
   ],
   "source": [
    "param_test3 = {\n",
    "    'colsample_bytree':[0.6,0.7,0.8,0.9]\n",
    "}\n",
    "gsearch3 = GridSearchCV(estimator= XGBClassifier(learning_rate = 0.1, n_estimators=150, max_features='sqrt',\n",
    "                                                  min_child_weight=1, gamma=0.1,max_depth=9, \n",
    "                                                  objective= 'binary:logistic', seed=rs, subsample=0.6,\n",
    "                                                  scale_pos_weight=1\n",
    "                                                  ), \n",
    "                        param_grid = param_test3, scoring='roc_auc',n_jobs=4,iid=False, cv=3,verbose=1) #probar scoring 'roc_auc'\n",
    "gsearch3.fit(X_train,y_train)"
   ],
   "metadata": {
    "collapsed": false,
    "pycharm": {
     "name": "#%%\n",
     "is_executing": false
    }
   }
  },
  {
   "cell_type": "code",
   "execution_count": 7,
   "outputs": [
    {
     "name": "stdout",
     "text": [
      "{'mean_fit_time': array([341.83207099, 393.49628917, 414.83227634, 436.03566575]), 'std_fit_time': array([1.02059983, 1.28627751, 0.84852466, 2.51588469]), 'mean_score_time': array([10.845529  , 10.69551396, 10.65200154,  8.03866665]), 'std_score_time': array([0.28570115, 0.2555128 , 0.06013862, 0.23870766]), 'param_colsample_bytree': masked_array(data=[0.6, 0.7, 0.8, 0.9],\n",
      "             mask=[False, False, False, False],\n",
      "       fill_value='?',\n",
      "            dtype=object), 'params': [{'colsample_bytree': 0.6}, {'colsample_bytree': 0.7}, {'colsample_bytree': 0.8}, {'colsample_bytree': 0.9}], 'split0_test_score': array([0.74173408, 0.74185443, 0.74082879, 0.73968351]), 'split1_test_score': array([0.73785372, 0.7394153 , 0.73881976, 0.73807834]), 'split2_test_score': array([0.74140307, 0.74141213, 0.74092148, 0.73848344]), 'mean_test_score': array([0.74033029, 0.74089395, 0.74019001, 0.73874843]), 'std_test_score': array([0.00175641, 0.00106104, 0.00096965, 0.00068157]), 'rank_test_score': array([2, 1, 3, 4])}\n",
      "{'colsample_bytree': 0.7}\n",
      "0.740893952122859\n"
     ],
     "output_type": "stream"
    }
   ],
   "source": [
    "print(gsearch3.cv_results_)\n",
    "print(gsearch3.best_params_)\n",
    "print(gsearch3.best_score_)"
   ],
   "metadata": {
    "collapsed": false,
    "pycharm": {
     "name": "#%%\n",
     "is_executing": false
    }
   }
  },
  {
   "cell_type": "code",
   "execution_count": 8,
   "outputs": [
    {
     "name": "stdout",
     "text": [
      "Fitting 3 folds for each of 3 candidates, totalling 9 fits\n"
     ],
     "output_type": "stream"
    },
    {
     "name": "stderr",
     "text": [
      "[Parallel(n_jobs=4)]: Using backend LokyBackend with 4 concurrent workers.\n",
      "[Parallel(n_jobs=4)]: Done   9 out of   9 | elapsed: 336.6min finished\n",
      "c:\\users\\usuario\\pycharmprojects\\stallingevents\\venv\\lib\\site-packages\\sklearn\\model_selection\\_search.py:825: FutureWarning: The parameter 'iid' is deprecated in 0.22 and will be removed in 0.24.\n",
      "  \"removed in 0.24.\", FutureWarning\n"
     ],
     "output_type": "stream"
    },
    {
     "data": {
      "text/plain": "GridSearchCV(cv=3, error_score=nan,\n             estimator=XGBClassifier(base_score=0.5, booster='gbtree',\n                                     colsample_bylevel=1, colsample_bynode=1,\n                                     colsample_bytree=0.7, gamma=0.1,\n                                     learning_rate=0.1, max_delta_step=0,\n                                     max_depth=9, max_features='sqrt',\n                                     min_child_weight=1, missing=None,\n                                     n_estimators=100, n_jobs=1, nthread=None,\n                                     objective='binary:logistic',\n                                     random_state=0, reg_alpha=0, reg_lambda=1,\n                                     scale_pos_weight=1, seed=42, silent=None,\n                                     subsample=0.6, verbosity=1),\n             iid=False, n_jobs=4,\n             param_grid={'n_estimators': [1500, 2500, 3500]},\n             pre_dispatch='2*n_jobs', refit=True, return_train_score=False,\n             scoring='roc_auc', verbose=1)"
     },
     "metadata": {},
     "output_type": "execute_result",
     "execution_count": 8
    }
   ],
   "source": [
    "param_test4 = {\n",
    "    'n_estimators':[1500,2500,3500]\n",
    "}\n",
    "gsearch4 = GridSearchCV(estimator= XGBClassifier(learning_rate = 0.1, max_features='sqrt',\n",
    "                                                  min_child_weight=1, gamma=0.1,max_depth=9, colsample_bytree=0.7,\n",
    "                                                  objective= 'binary:logistic', seed=rs, subsample=0.6,\n",
    "                                                  scale_pos_weight=1\n",
    "                                                  ), \n",
    "                        param_grid = param_test4, scoring='roc_auc',n_jobs=4,iid=False, cv=3,verbose=1) #probar scoring 'roc_auc'\n",
    "gsearch4.fit(X_train,y_train)"
   ],
   "metadata": {
    "collapsed": false,
    "pycharm": {
     "name": "#%%\n",
     "is_executing": false
    }
   }
  },
  {
   "cell_type": "code",
   "execution_count": 9,
   "outputs": [
    {
     "name": "stdout",
     "text": [
      "{'mean_fit_time': array([3851.6841561 , 6462.33258994, 8794.80665787]), 'std_fit_time': array([  9.08961544,  11.63216484, 217.78697429]), 'mean_score_time': array([278.57599958, 665.50052762, 552.87947583]), 'std_score_time': array([ 7.56022696, 46.24738201, 94.30468858]), 'param_n_estimators': masked_array(data=[1500, 2500, 3500],\n",
      "             mask=[False, False, False],\n",
      "       fill_value='?',\n",
      "            dtype=object), 'params': [{'n_estimators': 1500}, {'n_estimators': 2500}, {'n_estimators': 3500}], 'split0_test_score': array([0.77427905, 0.77961188, 0.78177384]), 'split1_test_score': array([0.77605825, 0.78141711, 0.78397872]), 'split2_test_score': array([0.77475742, 0.77938431, 0.78150944]), 'mean_test_score': array([0.77503157, 0.78013777, 0.78242067]), 'std_test_score': array([0.00075178, 0.00090939, 0.00110699]), 'rank_test_score': array([3, 2, 1])}\n",
      "{'n_estimators': 3500}\n",
      "0.782420669156472\n"
     ],
     "output_type": "stream"
    }
   ],
   "source": [
    "print(gsearch4.cv_results_)\n",
    "print(gsearch4.best_params_)\n",
    "print(gsearch4.best_score_)"
   ],
   "metadata": {
    "collapsed": false,
    "pycharm": {
     "name": "#%%\n",
     "is_executing": false
    }
   }
  },
  {
   "cell_type": "code",
   "execution_count": 10,
   "outputs": [
    {
     "data": {
      "text/plain": "XGBClassifier(base_score=0.5, booster='gbtree', colsample_bylevel=1,\n              colsample_bynode=1, colsample_bytree=0.7, gamma=0.1,\n              learning_rate=0.1, max_delta_step=0, max_depth=9,\n              max_features='sqrt', min_child_weight=1, missing=None,\n              n_estimators=4000, n_jobs=1, nthread=None,\n              objective='binary:logistic', random_state=0, reg_alpha=0,\n              reg_lambda=1, scale_pos_weight=1, seed=42, silent=None,\n              subsample=0.6, verbosity=1)"
     },
     "metadata": {},
     "output_type": "execute_result",
     "execution_count": 10
    }
   ],
   "source": [
    "model = XGBClassifier(n_estimators=4000,learning_rate = 0.1, max_features='sqrt', min_child_weight=1, \n",
    "              gamma=0.1,max_depth=9, colsample_bytree=0.7, scale_pos_weight=1,\n",
    "              objective= 'binary:logistic', seed=rs, subsample=0.6\n",
    "              )\n",
    "\n",
    "model.fit(X_train,y_train)"
   ],
   "metadata": {
    "collapsed": false,
    "pycharm": {
     "name": "#%%\n",
     "is_executing": false
    }
   }
  },
  {
   "cell_type": "code",
   "execution_count": 11,
   "outputs": [
    {
     "name": "stdout",
     "text": [
      "[0.00838422 0.00362707 0.00420873 0.00317106 0.0100402  0.\n",
      " 0.         0.         0.00742942 0.01928242 0.0075601  0.00237014\n",
      " 0.93392664]\n",
      "\n",
      " XGBoost\n",
      "CONFUSION MATRIX\n",
      "[[209811  74927]\n",
      " [100472 185488]]\n",
      "              precision    recall  f1-score   support\n",
      "\n",
      "           0       0.68      0.74      0.71    284738\n",
      "           1       0.71      0.65      0.68    285960\n",
      "\n",
      "    accuracy                           0.69    570698\n",
      "   macro avg       0.69      0.69      0.69    570698\n",
      "weighted avg       0.69      0.69      0.69    570698\n",
      "\n",
      "\n",
      "ROC CURVE: 0.69\n"
     ],
     "output_type": "stream"
    },
    {
     "data": {
      "text/plain": "<Figure size 432x288 with 0 Axes>"
     },
     "metadata": {},
     "output_type": "display_data"
    },
    {
     "data": {
      "text/plain": "<Figure size 432x288 with 1 Axes>",
      "image/png": "[encoded data removed]"
     },
     "metadata": {
      "needs_background": "light"
     },
     "output_type": "display_data"
    }
   ],
   "source": [
    "y_pred = model.predict(X_test)\n",
    "print(model.feature_importances_)\n",
    "compute_metrics(y_test,y_pred,'XGBoost')\n",
    "plotting_ROC_curve(X_test,y_test,model=model)"
   ],
   "metadata": {
    "collapsed": false,
    "pycharm": {
     "name": "#%%\n",
     "is_executing": false
    }
   }
  }
 ],
 "metadata": {
  "kernelspec": {
   "display_name": "Python 3",
   "language": "python",
   "name": "python3"
  },
  "language_info": {
   "codemirror_mode": {
    "name": "ipython",
    "version": 3
   },
   "file_extension": ".py",
   "mimetype": "text/x-python",
   "name": "python",
   "nbconvert_exporter": "python",
   "pygments_lexer": "ipython3",
   "version": "3.7.5"
  },
  "pycharm": {
   "stem_cell": {
    "cell_type": "raw",
    "source": [],
    "metadata": {
     "collapsed": false
    }
   }
  }
 },
 "nbformat": 4,
 "nbformat_minor": 1
}