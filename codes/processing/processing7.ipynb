{
 "cells": [
  {
   "cell_type": "code",
   "execution_count": 1,
   "metadata": {
    "pycharm": {
     "is_executing": false,
     "name": "#%% IMPORT SECTION\n"
    }
   },
   "outputs": [
    {
     "name": "stderr",
     "output_type": "stream",
     "text": [
      "Using TensorFlow backend.\n"
     ]
    }
   ],
   "source": [
    "import numpy as np\n",
    "import pandas as pd\n",
    "import matplotlib.pyplot as plt\n",
    "import seaborn as sns\n",
    "import sklearn.metrics as metrics\n",
    "\n",
    "\n",
    "from sklearn import preprocessing\n",
    "from xgboost import XGBClassifier\n",
    "\n",
    "# Other Libraries\n",
    "from sklearn.model_selection import train_test_split\n",
    "\n",
    "from imblearn.over_sampling import SMOTE\n",
    "\n",
    "from sklearn.metrics import precision_score, recall_score, f1_score, roc_auc_score, accuracy_score, classification_report\n",
    "from collections import Counter \n",
    "rs = 42\n",
    "def compute_metrics (y_te2,y_p,string):\n",
    "    print('\\n %s'%string)\n",
    "    print('CONFUSION MATRIX')\n",
    "    print(metrics.confusion_matrix(y_te2,y_p))\n",
    "    print(classification_report(y_te2, y_p))\n",
    "    print('\\nROC CURVE: %2.2f'%roc_auc_score(y_te2,y_p))\n",
    "\n",
    "def plotting_ROC_curve(X_te,y_te,model):\n",
    "    plt.figure()\n",
    "    metrics.plot_roc_curve(model,X_te,y_te)\n",
    "    plt.plot([0,1],[0,1],label='baseline',c='red')\n",
    "    plt.legend(loc='lower right')\n",
    "    plt.show()\n",
    "    \n",
    "def Ratio10(y,string):\n",
    "    suma = Counter(y)[0]+Counter(y)[1]\n",
    "    print('\\n'+string)  \n",
    "    print(Counter(y))\n",
    "    print('0: %3.2f%%\\n1: %3.2f%%' % (100*Counter(y)[0]/suma,100*Counter(y)[1]/suma))\n",
    "\n",
    "def histo(data,var):\n",
    "    fig=plt.figure()\n",
    "    colors = np.array(['#0101DF','#DF0101','#01DF01'])\n",
    "    sns.countplot(var,data=data,palette=colors)\n",
    "    plt.title('0/1 Distribution (0: No Stalling || 1: Stalling Event',fontsize=14)\n",
    "    plt.show()\n",
    "    \n",
    "def featImp(model,features):\n",
    "    print('Features: %s' %features)\n",
    "    feat_imp = pd.Series(model.feature_importances_, features).sort_values(ascending=False)\n",
    "    feat_imp.plot(kind='bar', title='Feature Importances')\n",
    "    plt.ylabel('Feature Importance Score')\n",
    "    plt.show()"
   ]
  },
  {
   "cell_type": "code",
   "execution_count": 2,
   "metadata": {
    "pycharm": {
     "is_executing": false,
     "name": "#%%\n"
    }
   },
   "outputs": [
    {
     "name": "stdout",
     "output_type": "stream",
     "text": [
      "Index(['No.', 'Time', '∆t', 'Protocol', 'pkt_len', 'ip_len', 'tcp_hea_len',\n",
      "       'tcp_flag_ack', 'tcp_flag_cwr', 'tcp_flag_ecn', 'tcp_flag_urg',\n",
      "       'tcp_flag_psh', 'tcp_flag_rst', 'tcp_flag_syn', 'tcp_flag_fin',\n",
      "       'tcp_win_si2', 'delay', 'capture', 'prebuffering', 'stalling_event'],\n",
      "      dtype='object')\n",
      "\n",
      "dataset[stalling_event]\n",
      "Counter({0: 1426743, 1: 113031})\n",
      "0: 92.66%\n",
      "1: 7.34%\n",
      "\n",
      "y (SMOTE)\n",
      "Counter({0: 1426743, 1: 1426743})\n",
      "0: 50.00%\n",
      "1: 50.00%\n"
     ]
    },
    {
     "data": {
      "image/png": "[encoded data removed]",
      "text/plain": [
       "<Figure size 432x288 with 1 Axes>"
      ]
     },
     "metadata": {
      "needs_background": "light"
     },
     "output_type": "display_data"
    }
   ],
   "source": [
    "dataset = pd.read_csv('../../output/df_general.csv', sep=',')\n",
    "dataset = dataset.dropna()\n",
    "\n",
    "print(dataset.columns)\n",
    "Ratio10(dataset['stalling_event'],'dataset[stalling_event]')\n",
    "histo(dataset,'stalling_event')\n",
    "\n",
    "y = dataset['stalling_event']\n",
    "X = dataset.drop(['No.','Protocol','prebuffering','Time','delay','capture','stalling_event'],axis=1)\n",
    "\n",
    "smote = SMOTE(sampling_strategy='minority',random_state=rs,n_jobs=-1)\n",
    "X, y = smote.fit_sample(X.values, y.values)\n",
    "Ratio10(y,'y (SMOTE)')\n",
    "X_train, X_test, y_train, y_test = train_test_split(X, y,\n",
    "                                                    test_size=0.2,\n",
    "                                                    random_state=42,\n",
    "                                                    shuffle=True)\n",
    "\n",
    "norm = preprocessing.MinMaxScaler()\n",
    "X = norm.fit_transform(X)"
   ]
  },
  {
   "cell_type": "code",
   "execution_count": null,
   "metadata": {
    "collapsed": false,
    "pycharm": {
     "name": "#%%\n",
     "is_executing": true
    }
   },
   "outputs": [],
   "source": [
    "'''model = XGBClassifier( learning_rate =0.1, n_estimators=200, max_depth=5,\n",
    "                       min_child_weight=1, gamma=0, subsample=0.8, colsample_bytree=0.8,objective= 'binary:logistic', \n",
    "                       nthread=4, scale_pos_weight=1, seed=rs)\n",
    "model.fit(X_train,y_train)'''"
   ]
  },
  {
   "cell_type": "code",
   "execution_count": null,
   "metadata": {
    "collapsed": false,
    "pycharm": {
     "name": "#%%\n",
     "is_executing": true
    }
   },
   "outputs": [],
   "source": [
    "'''featImp(model,['∆t', 'pkt_len', 'ip_len', 'tcp_hea_len', 'tcp_flag_ack',\n",
    "       'tcp_flag_cwr', 'tcp_flag_ecn', 'tcp_flag_urg', 'tcp_flag_psh',\n",
    "       'tcp_flag_rst', 'tcp_flag_syn', 'tcp_flag_fin', 'tcp_win_si2'])'''\n"
   ]
  },
  {
   "cell_type": "code",
   "execution_count": 3,
   "metadata": {
    "collapsed": false,
    "pycharm": {
     "name": "#%%\n",
     "is_executing": false
    }
   },
   "outputs": [
    {
     "name": "stdout",
     "output_type": "stream",
     "text": [
      "Fitting 3 folds for each of 4 candidates, totalling 12 fits\n"
     ]
    },
    {
     "name": "stderr",
     "output_type": "stream",
     "text": [
      "[Parallel(n_jobs=4)]: Using backend LokyBackend with 4 concurrent workers.\n",
      "[Parallel(n_jobs=4)]: Done  12 out of  12 | elapsed: 103.7min finished\n",
      "c:\\users\\usuario\\pycharmprojects\\stallingevents\\venv\\lib\\site-packages\\sklearn\\model_selection\\_search.py:825: FutureWarning: The parameter 'iid' is deprecated in 0.22 and will be removed in 0.24.\n",
      "  \"removed in 0.24.\", FutureWarning\n"
     ]
    },
    {
     "data": {
      "text/plain": [
       "GridSearchCV(cv=3, error_score=nan,\n             estimator=XGBClassifier(base_score=0.5, booster='gbtree',\n                                     colsample_bylevel=1, colsample_bynode=1,\n                                     colsample_bytree=0.8, gamma=0,\n                                     learning_rate=0.1, max_delta_step=0,\n                                     max_depth=8, max_features='sqrt',\n                                     min_child_weight=1, missing=None,\n                                     n_estimators=100, n_jobs=1, nthread=4,\n                                     objective='binary:logistic',\n                                     random_state=0, reg_alpha=0, reg_lambda=1,\n                                     scale_pos_weight=1, seed=42, silent=None,\n                                     subsample=0.8, verbosity=1),\n             iid=False, n_jobs=4,\n             param_grid={'n_estimators': range(100, 1700, 500)},\n             pre_dispatch='2*n_jobs', refit=True, return_train_score=False,\n             scoring='roc_auc', verbose=1)"
      ]
     },
     "execution_count": 3,
     "metadata": {},
     "output_type": "execute_result"
    }
   ],
   "source": [
    "from sklearn.model_selection import GridSearchCV   #Perforing grid search\n",
    "param_test1 = {\n",
    "    'n_estimators':range(1000,5100,1000),\n",
    "    'learning_rate':[0.001,0.01,0.1],\n",
    "    'max_depth':range(5,10,1),\n",
    "    'gamma':[0.01,0.1,0.2],\n",
    "    'subsample':[0.6,0.7,0.8,0.9],\n",
    "    'colsample_bytree':[0.6,0.7,0.8,0.9]\n",
    "    \n",
    "}\n",
    "gsearch1 = GridSearchCV(estimator= XGBClassifier( max_features='sqrt',\n",
    "                                                  min_child_weight=1,\n",
    "                                                  objective= 'binary:logistic', \n",
    "                                                  seed=rs,\n",
    "                                                  scale_pos_weight=1\n",
    "                                                  ), \n",
    "                        param_grid = param_test1, scoring='roc_auc',n_jobs=4,iid=False, cv=3,verbose=1) #probar scoring 'roc_auc'\n",
    "gsearch1.fit(X_train,y_train)"
   ]
  },
  {
   "cell_type": "code",
   "execution_count": null,
   "metadata": {
    "collapsed": false,
    "pycharm": {
     "name": "#%%\n",
     "is_executing": false
    }
   },
   "outputs": [],
   "source": [
    "print(gsearch1.cv_results_)\n",
    "print(gsearch1.best_params_)\n",
    "print(gsearch1.best_score_)\n",
    "\n",
    "\n",
    "\n",
    "\n",
    "\n",
    "\n"
   ]
  },
  {
   "cell_type": "code",
   "execution_count": 11,
   "metadata": {
    "collapsed": false,
    "pycharm": {
     "name": "#%%\n",
     "is_executing": false
    }
   },
   "outputs": [
    {
     "name": "stdout",
     "output_type": "stream",
     "text": [
      "[0.00838422 0.00362707 0.00420873 0.00317106 0.0100402  0.\n",
      " 0.         0.         0.00742942 0.01928242 0.0075601  0.00237014\n",
      " 0.93392664]\n",
      "\n",
      " XGBoost\n",
      "CONFUSION MATRIX\n",
      "[[209811  74927]\n",
      " [100472 185488]]\n",
      "              precision    recall  f1-score   support\n",
      "\n",
      "           0       0.68      0.74      0.71    284738\n",
      "           1       0.71      0.65      0.68    285960\n",
      "\n",
      "    accuracy                           0.69    570698\n",
      "   macro avg       0.69      0.69      0.69    570698\n",
      "weighted avg       0.69      0.69      0.69    570698\n",
      "\n",
      "\n",
      "ROC CURVE: 0.69\n"
     ]
    },
    {
     "data": {
      "text/plain": [
       "<Figure size 432x288 with 0 Axes>"
      ]
     },
     "metadata": {},
     "output_type": "display_data"
    },
    {
     "data": {
      "image/png": "[encoded data removed]",
      "text/plain": [
       "<Figure size 432x288 with 1 Axes>"
      ]
     },
     "metadata": {
      "needs_background": "light"
     },
     "output_type": "display_data"
    }
   ],
   "source": [
    "'''y_pred = model.predict(X_test)\n",
    "print(model.feature_importances_)\n",
    "compute_metrics(y_test,y_pred,'XGBoost')\n",
    "plotting_ROC_curve(X_test,y_test,model=model)'''"
   ]
  }
 ],
 "metadata": {
  "kernelspec": {
   "display_name": "Python 3",
   "language": "python",
   "name": "python3"
  },
  "language_info": {
   "codemirror_mode": {
    "name": "ipython",
    "version": 3
   },
   "file_extension": ".py",
   "mimetype": "text/x-python",
   "name": "python",
   "nbconvert_exporter": "python",
   "pygments_lexer": "ipython3",
   "version": "3.7.5"
  },
  "pycharm": {
   "stem_cell": {
    "cell_type": "raw",
    "source": [],
    "metadata": {
     "collapsed": false
    }
   }
  }
 },
 "nbformat": 4,
 "nbformat_minor": 1
}
