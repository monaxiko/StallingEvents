{
 "cells": [
  {
   "cell_type": "code",
   "execution_count": 1,
   "outputs": [
    {
     "name": "stderr",
     "text": [
      "Using TensorFlow backend.\n"
     ],
     "output_type": "stream"
    }
   ],
   "source": [
    "import numpy as np\n",
    "import pandas as pd\n",
    "from sklearn import preprocessing\n",
    "from keras.models import Sequential\n",
    "from keras.layers import LSTM\n",
    "import matplotlib.pyplot as plt\n",
    "from sklearn.ensemble import RandomForestClassifier"
   ],
   "metadata": {
    "collapsed": false,
    "pycharm": {
     "name": "#%% IMPORTING LIBRARIES\n",
     "is_executing": false
    }
   }
  },
  {
   "cell_type": "code",
   "execution_count": 2,
   "outputs": [
    {
     "name": "stdout",
     "text": [
      "Index(['∆t', 'pkt_len', 'tcp_hea_len', 'tcp_flag_ack', 'tcp_flag_rst',\n",
      "       'tcp_flag_syn', 'tcp_win_si2', 'delay', 'capture', 'stalling_event'],\n",
      "      dtype='object')\n"
     ],
     "output_type": "stream"
    }
   ],
   "source": [
    "dataset = pd.read_csv('../../output/df_general.csv', sep=',')\n",
    "split = 0.8\n",
    "del dataset['No.']\n",
    "del dataset['Protocol']\n",
    "del dataset['tcp_flag_cwr']\n",
    "del dataset['tcp_flag_ecn']\n",
    "del dataset['tcp_flag_urg']\n",
    "del dataset['ip_len']\n",
    "del dataset['tcp_flag_psh']\n",
    "del dataset['tcp_flag_fin']\n",
    "del dataset['prebuffering']\n",
    "del dataset['Time']\n",
    "\n",
    "print(dataset.columns)"
   ],
   "metadata": {
    "collapsed": false,
    "pycharm": {
     "name": "#%% LOAD DATASET REMOVING NOISE\n",
     "is_executing": false
    }
   }
  },
  {
   "cell_type": "code",
   "execution_count": 3,
   "outputs": [
    {
     "name": "stdout",
     "text": [
      "Index(['∆t', 'pkt_len', 'tcp_hea_len', 'tcp_flag_ack', 'tcp_flag_rst',\n",
      "       'tcp_flag_syn', 'tcp_win_si2'],\n",
      "      dtype='object')\n"
     ],
     "output_type": "stream"
    }
   ],
   "source": [
    "X_train = [None] * (len(dataset.columns)-1)\n",
    "X_test = [None] * (len(dataset.columns)-1)\n",
    "y_train = [None] \n",
    "y_test = [None] \n",
    "\n",
    "len_rate = 0.02\n",
    "\n",
    "grouped = dataset.groupby(['delay','capture']) \n",
    "#print(grouped.mean())\n",
    "\n",
    "for id, data in grouped:\n",
    "    spl = int(data.shape[0] * split);\n",
    "    X_train = np.vstack((X_train,data.values[0:spl,:-1]))\n",
    "    X_test = np.vstack((X_test,data.values[spl:,:-1]))\n",
    "    y_train = np.vstack((y_train,np.reshape(data.values[0:spl,-1],(-1,1))))\n",
    "    y_test = np.vstack((y_test,np.reshape(data.values[spl:,-1],(-1,1))))\n",
    "\n",
    "X_train = X_train[1:]\n",
    "X_test = X_test[1:]\n",
    "y_train = y_train[1:]\n",
    "y_test = y_test[1:]    \n",
    "\n",
    "X_train = pd.DataFrame(X_train,columns=dataset.columns[:-1])\n",
    "X_test = pd.DataFrame(X_test,columns=dataset.columns[:-1])\n",
    "y_train = pd.DataFrame(y_train,columns=['y'])\n",
    "y_test = pd.DataFrame(y_test,columns=['y'])\n",
    "\n",
    "del X_train['delay']\n",
    "del X_train['capture']\n",
    "del dataset['delay']\n",
    "del dataset['capture']\n",
    "\n",
    "del X_test['delay']\n",
    "del X_test['capture']\n",
    "\n",
    "#print('X_train: '+str(len(X_train))+' | X_test: '+str(len(X_test)) + ' | y_train: '+str(len(y_train)) + '| y_test: '+str(len(y_test)))\n",
    "print(X_train.columns)\n",
    "#print(X_train)"
   ],
   "metadata": {
    "collapsed": false,
    "pycharm": {
     "name": "#%% SPLIT TRAIN/TEST\n",
     "is_executing": false
    }
   }
  },
  {
   "cell_type": "code",
   "execution_count": 4,
   "outputs": [
    {
     "name": "stdout",
     "text": [
      "[[0.00000000e+00 1.63043478e-02 3.33333333e-01 ... 0.00000000e+00\n",
      "  1.00000000e+00 1.25384557e-01]\n",
      " [3.27000000e-02 1.63043478e-02 3.33333333e-01 ... 0.00000000e+00\n",
      "  1.00000000e+00 9.94872580e-01]\n",
      " [2.00000000e-04 8.15217391e-03 0.00000000e+00 ... 0.00000000e+00\n",
      "  0.00000000e+00 3.91826739e-03]\n",
      " ...\n",
      " [1.00000000e-04 1.63043478e-02 3.33333333e-01 ... 0.00000000e+00\n",
      "  0.00000000e+00 3.91826739e-03]\n",
      " [2.90000000e-03 9.72826087e-01 0.00000000e+00 ... 0.00000000e+00\n",
      "  0.00000000e+00 9.83163695e-01]\n",
      " [1.00000000e-04 1.63043478e-02 3.33333333e-01 ... 0.00000000e+00\n",
      "  0.00000000e+00 3.91826739e-03]]\n"
     ],
     "output_type": "stream"
    }
   ],
   "source": [
    "norm = preprocessing.MinMaxScaler()\n",
    "X_train = X_train.fillna(X_train.mean())\n",
    "X_test = X_test.fillna(X_test.mean())\n",
    "X_train2 = X_train[['pkt_len','tcp_hea_len','tcp_win_si2']].values\n",
    "X_test2 = X_test[['pkt_len','tcp_hea_len','tcp_win_si2']].values\n",
    "#print(X_test2)\n",
    "\n",
    "X_train_norm2 = norm.fit_transform(X_train2)\n",
    "X_test_norm2 = norm.transform(X_test2)\n",
    "#print(X_test_std2)\n",
    "\n",
    "X_train_norm = X_train\n",
    "X_train_norm[['pkt_len','tcp_hea_len','tcp_win_si2']] = X_train_norm2\n",
    "print(X_train_norm.values)\n",
    "\n",
    "X_test_norm = X_test\n",
    "X_test_norm[['pkt_len','tcp_hea_len','tcp_win_si2']] = X_test_norm2\n",
    "\n",
    "#print(X_test_std)"
   ],
   "metadata": {
    "collapsed": false,
    "pycharm": {
     "name": "#%% NORMALIZATION\n",
     "is_executing": false
    }
   }
  },
  {
   "cell_type": "code",
   "execution_count": 5,
   "outputs": [],
   "source": [
    "std = preprocessing.StandardScaler()\n",
    "X_train_std2 = std.fit_transform(X_train2)\n",
    "X_test_std2 = std.transform(X_test2)\n",
    "\n",
    "X_train_std = X_train\n",
    "X_train_std[['pkt_len','tcp_hea_len','tcp_win_si2']] = X_train_std2\n",
    "\n",
    "X_test_std = X_test\n",
    "X_test_std[['pkt_len','tcp_hea_len','tcp_win_si2']] = X_test_std2\n"
   ],
   "metadata": {
    "collapsed": false,
    "pycharm": {
     "name": "#%% STANDARIZATION\n",
     "is_executing": false
    }
   }
  },
  {
   "cell_type": "code",
   "execution_count": 6,
   "outputs": [],
   "source": [
    "import sklearn.metrics as metrics\n",
    "def compute_metrics (y_test2,y_pred):\n",
    "    accuracy = metrics.accuracy_score(y_test2.astype('int'),y_pred.astype('int'))\n",
    "    print(\"Accuracy: %.2f%%\" % (accuracy * 100.0))\n",
    "    \n",
    "    precision = metrics.precision_score(y_test2.astype('int'),y_pred.astype('int'))\n",
    "    print(\"Precision: %.2f%%\" % (precision * 100.0))\n",
    "    \n",
    "    recall = metrics.recall_score(y_test2.astype('int'),y_pred.astype('int'))\n",
    "    print(\"Recall: %.2f%%\" % (recall * 100.0))\n",
    "    \n",
    "    F1Score = metrics.f1_score(y_test2.astype('int'),y_pred.astype('int'))\n",
    "    print(\"F1 Score: %.2f%%\" % (F1Score * 100.0))\n",
    "    \n",
    "    print('CONFUSION MATRIX:')\n",
    "    conf_m = metrics.confusion_matrix(y_test2.astype('int'),y_pred.astype('int'))\n",
    "    print(conf_m)\n",
    "    print()\n",
    "\n",
    "def plot_2d_space(X, y, label='Classes'):   \n",
    "    colors = ['#1F77B4', '#FF7F0E']\n",
    "    markers = ['o', 's']\n",
    "    for l, c, m in zip(np.unique(y), colors, markers):\n",
    "        plt.scatter(\n",
    "            X[y==l, 0],\n",
    "            X[y==l, 1],\n",
    "            c=c, label=l, marker=m\n",
    "        )\n",
    "    plt.title(label)\n",
    "    plt.legend(loc='upper right')\n",
    "    plt.show()\n",
    "\n",
    "def RandomForest (X_train,y_train,X_test,y_test):\n",
    "    for i in range(1,5):\n",
    "        print('dep: '+str(i))\n",
    "        rfc = RandomForestClassifier(max_depth=i, random_state=0)\n",
    "        rfc.fit(X_train,y_train)\n",
    "        y_pred = rfc.predict(X_test)\n",
    "        compute_metrics(y_test,y_pred)\n"
   ],
   "metadata": {
    "collapsed": false,
    "pycharm": {
     "name": "#%%\n",
     "is_executing": false
    }
   }
  },
  {
   "cell_type": "code",
   "execution_count": 7,
   "outputs": [
    {
     "data": {
      "text/plain": "<Figure size 432x288 with 1 Axes>",
      "image/png": "[encoded data removed]"
     },
     "metadata": {
      "needs_background": "light"
     },
     "output_type": "display_data"
    },
    {
     "data": {
      "text/plain": "<Figure size 432x288 with 1 Axes>",
      "image/png": "[encoded data removed]"
     },
     "metadata": {
      "needs_background": "light"
     },
     "output_type": "display_data"
    },
    {
     "name": "stdout",
     "text": [
      "\n",
      "\n",
      " RANDOM FOREST FOR 2 COMPONENTS\n",
      "dep: 1\n",
      "Accuracy: 97.86%\n",
      "Precision: 0.00%\n",
      "Recall: 0.00%\n",
      "F1 Score: 0.00%\n",
      "CONFUSION MATRIX:\n",
      "[[301412      0]\n",
      " [  6600      0]]\n",
      "\n",
      "dep: 2\n",
      "Accuracy: 97.86%\n",
      "Precision: 0.00%\n",
      "Recall: 0.00%\n",
      "F1 Score: 0.00%\n",
      "CONFUSION MATRIX:\n",
      "[[301412      0]\n",
      " [  6600      0]]\n",
      "\n",
      "dep: 3\n",
      "Accuracy: 97.86%\n",
      "Precision: 0.00%\n",
      "Recall: 0.00%\n",
      "F1 Score: 0.00%\n",
      "CONFUSION MATRIX:\n",
      "[[301412      0]\n",
      " [  6600      0]]\n",
      "\n",
      "dep: 4\n",
      "Accuracy: 97.86%\n",
      "Precision: 0.00%\n",
      "Recall: 0.00%\n",
      "F1 Score: 0.00%\n",
      "CONFUSION MATRIX:\n",
      "[[301412      0]\n",
      " [  6600      0]]\n",
      "\n"
     ],
     "output_type": "stream"
    },
    {
     "name": "stderr",
     "text": [
      "c:\\users\\usuario\\pycharmprojects\\stallingevents\\venv\\lib\\site-packages\\sklearn\\metrics\\_classification.py:1268: UndefinedMetricWarning: Precision is ill-defined and being set to 0.0 due to no predicted samples. Use `zero_division` parameter to control this behavior.\n",
      "  _warn_prf(average, modifier, msg_start, len(result))\n",
      "c:\\users\\usuario\\pycharmprojects\\stallingevents\\venv\\lib\\site-packages\\sklearn\\metrics\\_classification.py:1268: UndefinedMetricWarning: Precision is ill-defined and being set to 0.0 due to no predicted samples. Use `zero_division` parameter to control this behavior.\n",
      "  _warn_prf(average, modifier, msg_start, len(result))\n",
      "c:\\users\\usuario\\pycharmprojects\\stallingevents\\venv\\lib\\site-packages\\sklearn\\metrics\\_classification.py:1268: UndefinedMetricWarning: Precision is ill-defined and being set to 0.0 due to no predicted samples. Use `zero_division` parameter to control this behavior.\n",
      "  _warn_prf(average, modifier, msg_start, len(result))\n",
      "c:\\users\\usuario\\pycharmprojects\\stallingevents\\venv\\lib\\site-packages\\sklearn\\metrics\\_classification.py:1268: UndefinedMetricWarning: Precision is ill-defined and being set to 0.0 due to no predicted samples. Use `zero_division` parameter to control this behavior.\n",
      "  _warn_prf(average, modifier, msg_start, len(result))\n"
     ],
     "output_type": "stream"
    }
   ],
   "source": [
    "Train_std = pd.concat([X_train_std,y_train],axis=1) \n",
    "Test_std = pd.concat([X_test_std,y_test],axis=1) \n",
    "\n",
    "from sklearn.decomposition import PCA\n",
    "pca = PCA(n_components=2)\n",
    "X_train_2c = pca.fit_transform(X_train_std.values)\n",
    "X_test_2c = pca.transform(X_test_std.values)\n",
    "plot_2d_space(X_train_2c, y_train.values.astype('int').T.ravel(), 'Imbalanced dataset (2 PCA components) - Trainset')\n",
    "plot_2d_space(X_test_2c, y_test.values.astype('int').T.ravel(), 'Imbalanced dataset (2 PCA components) - Testset')\n",
    "\n",
    "print('\\n\\n RANDOM FOREST FOR 2 COMPONENTS')\n",
    "RandomForest(X_train_2c,y_train.values.astype('int').T.ravel(),X_test_2c,y_test.values.astype('int').T.ravel())"
   ],
   "metadata": {
    "collapsed": false,
    "pycharm": {
     "name": "#%%\n",
     "is_executing": false
    }
   }
  },
  {
   "cell_type": "code",
   "execution_count": 8,
   "outputs": [
    {
     "name": "stdout",
     "text": [
      "dep: 1\n",
      "Accuracy: 59.24%\n",
      "Precision: 2.37%\n",
      "Recall: 44.85%\n",
      "F1 Score: 4.50%\n",
      "CONFUSION MATRIX:\n",
      "[[179497 121915]\n",
      " [  3640   2960]]\n",
      "\n",
      "dep: 2\n",
      "Accuracy: 59.45%\n",
      "Precision: 2.38%\n",
      "Recall: 44.82%\n",
      "F1 Score: 4.52%\n",
      "CONFUSION MATRIX:\n",
      "[[180140 121272]\n",
      " [  3642   2958]]\n",
      "\n",
      "dep: 3\n",
      "Accuracy: 73.15%\n",
      "Precision: 1.76%\n",
      "Recall: 21.06%\n",
      "F1 Score: 3.25%\n",
      "CONFUSION MATRIX:\n",
      "[[223910  77502]\n",
      " [  5210   1390]]\n",
      "\n",
      "dep: 4\n",
      "Accuracy: 73.25%\n",
      "Precision: 1.76%\n",
      "Recall: 20.92%\n",
      "F1 Score: 3.24%\n",
      "CONFUSION MATRIX:\n",
      "[[224245  77167]\n",
      " [  5219   1381]]\n",
      "\n",
      "\n",
      "\n",
      " RANDOM FOREST FOR 2 COMPONENTS\n",
      "dep: 1\n",
      "Accuracy: 94.28%\n",
      "Precision: 4.43%\n",
      "Recall: 8.12%\n",
      "F1 Score: 5.74%\n",
      "CONFUSION MATRIX:\n",
      "[[289858  11554]\n",
      " [  6064    536]]\n",
      "\n",
      "dep: 2\n",
      "Accuracy: 76.62%\n",
      "Precision: 1.03%\n",
      "Recall: 10.47%\n",
      "F1 Score: 1.88%\n",
      "CONFUSION MATRIX:\n",
      "[[235304  66108]\n",
      " [  5909    691]]\n",
      "\n",
      "dep: 3\n",
      "Accuracy: 83.06%\n",
      "Precision: 1.47%\n",
      "Recall: 10.47%\n",
      "F1 Score: 2.58%\n",
      "CONFUSION MATRIX:\n",
      "[[255130  46282]\n",
      " [  5909    691]]\n",
      "\n",
      "dep: 4\n",
      "Accuracy: 83.33%\n",
      "Precision: 1.49%\n",
      "Recall: 10.38%\n",
      "F1 Score: 2.60%\n",
      "CONFUSION MATRIX:\n",
      "[[255978  45434]\n",
      " [  5915    685]]\n",
      "\n"
     ],
     "output_type": "stream"
    }
   ],
   "source": [
    "from imblearn.over_sampling import RandomOverSampler\n",
    "ros = RandomOverSampler()\n",
    "X_ros,y_ros = ros.fit_sample(X_train_std.values,y_train.values.astype('int').T.ravel())\n",
    "RandomForest(X_ros,y_ros,X_test_std.values,y_test.values.astype('int').T.ravel())\n",
    "\n",
    "print('\\n\\n RANDOM FOREST FOR 2 COMPONENTS')\n",
    "X_ros_2c,y_ros_2c = ros.fit_sample(X_train_2c,y_train.values.astype('int').T.ravel())\n",
    "RandomForest(X_ros_2c,y_ros,X_test_2c,y_test.values.astype('int').T.ravel())\n"
   ],
   "metadata": {
    "collapsed": false,
    "pycharm": {
     "name": "#%%\n",
     "is_executing": false
    }
   }
  },
  {
   "cell_type": "code",
   "execution_count": 9,
   "outputs": [
    {
     "name": "stdout",
     "text": [
      "dep: 1\n",
      "Accuracy: 60.63%\n",
      "Precision: 2.42%\n",
      "Recall: 44.24%\n",
      "F1 Score: 4.59%\n",
      "CONFUSION MATRIX:\n",
      "[[183825 117587]\n",
      " [  3680   2920]]\n",
      "\n",
      "dep: 2\n",
      "Accuracy: 59.59%\n",
      "Precision: 2.38%\n",
      "Recall: 44.71%\n",
      "F1 Score: 4.53%\n",
      "CONFUSION MATRIX:\n",
      "[[180603 120809]\n",
      " [  3649   2951]]\n",
      "\n",
      "dep: 3\n",
      "Accuracy: 73.20%\n",
      "Precision: 1.76%\n",
      "Recall: 21.02%\n",
      "F1 Score: 3.25%\n",
      "CONFUSION MATRIX:\n",
      "[[224069  77343]\n",
      " [  5213   1387]]\n",
      "\n",
      "dep: 4\n",
      "Accuracy: 74.93%\n",
      "Precision: 1.94%\n",
      "Recall: 21.64%\n",
      "F1 Score: 3.57%\n",
      "CONFUSION MATRIX:\n",
      "[[229364  72048]\n",
      " [  5172   1428]]\n",
      "\n",
      "\n",
      "\n",
      " RANDOM FOREST FOR 2 COMPONENTS\n",
      "\n",
      "dep: 1\n",
      "Accuracy: 94.28%\n",
      "Precision: 4.43%\n",
      "Recall: 8.12%\n",
      "F1 Score: 5.74%\n",
      "CONFUSION MATRIX:\n",
      "[[289857  11555]\n",
      " [  6064    536]]\n",
      "\n",
      "dep: 2\n",
      "Accuracy: 82.94%\n",
      "Precision: 1.46%\n",
      "Recall: 10.47%\n",
      "F1 Score: 2.56%\n",
      "CONFUSION MATRIX:\n",
      "[[254769  46643]\n",
      " [  5909    691]]\n",
      "\n",
      "dep: 3\n",
      "Accuracy: 82.94%\n",
      "Precision: 1.46%\n",
      "Recall: 10.47%\n",
      "F1 Score: 2.56%\n",
      "CONFUSION MATRIX:\n",
      "[[254780  46632]\n",
      " [  5909    691]]\n",
      "\n",
      "dep: 4\n",
      "Accuracy: 82.00%\n",
      "Precision: 2.58%\n",
      "Recall: 20.17%\n",
      "F1 Score: 4.58%\n",
      "CONFUSION MATRIX:\n",
      "[[251238  50174]\n",
      " [  5269   1331]]\n",
      "\n"
     ],
     "output_type": "stream"
    }
   ],
   "source": [
    "from imblearn.under_sampling import RandomUnderSampler\n",
    "rus = RandomUnderSampler()\n",
    "X_rus,y_rus = rus.fit_sample(X_train_std.values,y_train.values.astype('int').T.ravel())\n",
    "RandomForest(X_rus,y_rus,X_test_std.values,y_test.values.astype('int').T.ravel())\n",
    "print('\\n\\n RANDOM FOREST FOR 2 COMPONENTS\\n')\n",
    "X_rus_2c,y_rus_2c = rus.fit_sample(X_train_2c,y_train.values.astype('int').T.ravel())\n",
    "RandomForest(X_rus_2c,y_rus,X_test_2c,y_test.values.astype('int').T.ravel())"
   ],
   "metadata": {
    "collapsed": false,
    "pycharm": {
     "name": "#%%\n",
     "is_executing": false
    }
   }
  },
  {
   "cell_type": "code",
   "execution_count": 10,
   "outputs": [
    {
     "data": {
      "text/plain": "\"from imblearn.under_sampling import TomekLinks\\ntl = TomekLinks(str='majority')\\nX_tl, y_tl = tl.fit_sample(X_train_std.values, y_train.values.astype('int').T.ravel())\\nRandomForest(X_tl, y_tl,X_test_std.values,y_test.values.astype('int').T.ravel())\\n\""
     },
     "metadata": {},
     "output_type": "execute_result",
     "execution_count": 10
    }
   ],
   "source": [
    "'''from imblearn.under_sampling import TomekLinks\n",
    "tl = TomekLinks(str='majority')\n",
    "X_tl, y_tl = tl.fit_sample(X_train_std.values, y_train.values.astype('int').T.ravel())\n",
    "RandomForest(X_tl, y_tl,X_test_std.values,y_test.values.astype('int').T.ravel())\n",
    "'''"
   ],
   "metadata": {
    "collapsed": false,
    "pycharm": {
     "name": "#%%\n",
     "is_executing": false
    }
   }
  },
  {
   "cell_type": "code",
   "execution_count": 11,
   "outputs": [
    {
     "traceback": [
      "\u001b[1;31m---------------------------------------------------------------------------\u001b[0m",
      "\u001b[1;31mMemoryError\u001b[0m                               Traceback (most recent call last)",
      "\u001b[1;32m<ipython-input-11-a77801ae16e4>\u001b[0m in \u001b[0;36m<module>\u001b[1;34m\u001b[0m\n\u001b[0;32m      2\u001b[0m \u001b[1;33m\u001b[0m\u001b[0m\n\u001b[0;32m      3\u001b[0m \u001b[0mcc\u001b[0m \u001b[1;33m=\u001b[0m \u001b[0mClusterCentroids\u001b[0m\u001b[1;33m(\u001b[0m\u001b[1;33m)\u001b[0m\u001b[1;33m\u001b[0m\u001b[1;33m\u001b[0m\u001b[0m\n\u001b[1;32m----> 4\u001b[1;33m \u001b[0mX_cc\u001b[0m\u001b[1;33m,\u001b[0m \u001b[0my_cc\u001b[0m \u001b[1;33m=\u001b[0m \u001b[0mcc\u001b[0m\u001b[1;33m.\u001b[0m\u001b[0mfit_sample\u001b[0m\u001b[1;33m(\u001b[0m\u001b[0mX_train_std\u001b[0m\u001b[1;33m.\u001b[0m\u001b[0mvalues\u001b[0m\u001b[1;33m,\u001b[0m \u001b[0my_train\u001b[0m\u001b[1;33m.\u001b[0m\u001b[0mvalues\u001b[0m\u001b[1;33m.\u001b[0m\u001b[0mastype\u001b[0m\u001b[1;33m(\u001b[0m\u001b[1;34m'int'\u001b[0m\u001b[1;33m)\u001b[0m\u001b[1;33m.\u001b[0m\u001b[0mT\u001b[0m\u001b[1;33m.\u001b[0m\u001b[0mravel\u001b[0m\u001b[1;33m(\u001b[0m\u001b[1;33m)\u001b[0m\u001b[1;33m)\u001b[0m\u001b[1;33m\u001b[0m\u001b[1;33m\u001b[0m\u001b[0m\n\u001b[0m\u001b[0;32m      5\u001b[0m \u001b[0mRandomForest\u001b[0m\u001b[1;33m(\u001b[0m\u001b[0mX_cc\u001b[0m\u001b[1;33m,\u001b[0m \u001b[0my_cc\u001b[0m\u001b[1;33m,\u001b[0m\u001b[0mX_test_std\u001b[0m\u001b[1;33m.\u001b[0m\u001b[0mvalues\u001b[0m\u001b[1;33m,\u001b[0m\u001b[0my_test\u001b[0m\u001b[1;33m.\u001b[0m\u001b[0mvalues\u001b[0m\u001b[1;33m.\u001b[0m\u001b[0mastype\u001b[0m\u001b[1;33m(\u001b[0m\u001b[1;34m'int'\u001b[0m\u001b[1;33m)\u001b[0m\u001b[1;33m.\u001b[0m\u001b[0mT\u001b[0m\u001b[1;33m.\u001b[0m\u001b[0mravel\u001b[0m\u001b[1;33m(\u001b[0m\u001b[1;33m)\u001b[0m\u001b[1;33m)\u001b[0m\u001b[1;33m\u001b[0m\u001b[1;33m\u001b[0m\u001b[0m\n\u001b[0;32m      6\u001b[0m \u001b[0mprint\u001b[0m\u001b[1;33m(\u001b[0m\u001b[1;34m'\\n\\n RANDOM FOREST FOR 2 COMPONENTS'\u001b[0m\u001b[1;33m)\u001b[0m\u001b[1;33m\u001b[0m\u001b[1;33m\u001b[0m\u001b[0m\n",
      "\u001b[1;32mc:\\users\\usuario\\pycharmprojects\\stallingevents\\venv\\lib\\site-packages\\imblearn\\base.py\u001b[0m in \u001b[0;36mfit_resample\u001b[1;34m(self, X, y)\u001b[0m\n\u001b[0;32m     79\u001b[0m         )\n\u001b[0;32m     80\u001b[0m \u001b[1;33m\u001b[0m\u001b[0m\n\u001b[1;32m---> 81\u001b[1;33m         \u001b[0moutput\u001b[0m \u001b[1;33m=\u001b[0m \u001b[0mself\u001b[0m\u001b[1;33m.\u001b[0m\u001b[0m_fit_resample\u001b[0m\u001b[1;33m(\u001b[0m\u001b[0mX\u001b[0m\u001b[1;33m,\u001b[0m \u001b[0my\u001b[0m\u001b[1;33m)\u001b[0m\u001b[1;33m\u001b[0m\u001b[1;33m\u001b[0m\u001b[0m\n\u001b[0m\u001b[0;32m     82\u001b[0m \u001b[1;33m\u001b[0m\u001b[0m\n\u001b[0;32m     83\u001b[0m         \u001b[1;32mif\u001b[0m \u001b[0mself\u001b[0m\u001b[1;33m.\u001b[0m\u001b[0m_X_columns\u001b[0m \u001b[1;32mis\u001b[0m \u001b[1;32mnot\u001b[0m \u001b[1;32mNone\u001b[0m \u001b[1;32mor\u001b[0m \u001b[0mself\u001b[0m\u001b[1;33m.\u001b[0m\u001b[0m_y_name\u001b[0m \u001b[1;32mis\u001b[0m \u001b[1;32mnot\u001b[0m \u001b[1;32mNone\u001b[0m\u001b[1;33m:\u001b[0m\u001b[1;33m\u001b[0m\u001b[1;33m\u001b[0m\u001b[0m\n",
      "\u001b[1;32mc:\\users\\usuario\\pycharmprojects\\stallingevents\\venv\\lib\\site-packages\\imblearn\\under_sampling\\_prototype_generation\\_cluster_centroids.py\u001b[0m in \u001b[0;36m_fit_resample\u001b[1;34m(self, X, y)\u001b[0m\n\u001b[0;32m    159\u001b[0m                 \u001b[0mn_samples\u001b[0m \u001b[1;33m=\u001b[0m \u001b[0mself\u001b[0m\u001b[1;33m.\u001b[0m\u001b[0msampling_strategy_\u001b[0m\u001b[1;33m[\u001b[0m\u001b[0mtarget_class\u001b[0m\u001b[1;33m]\u001b[0m\u001b[1;33m\u001b[0m\u001b[1;33m\u001b[0m\u001b[0m\n\u001b[0;32m    160\u001b[0m                 \u001b[0mself\u001b[0m\u001b[1;33m.\u001b[0m\u001b[0mestimator_\u001b[0m\u001b[1;33m.\u001b[0m\u001b[0mset_params\u001b[0m\u001b[1;33m(\u001b[0m\u001b[1;33m**\u001b[0m\u001b[1;33m{\u001b[0m\u001b[1;34m\"n_clusters\"\u001b[0m\u001b[1;33m:\u001b[0m \u001b[0mn_samples\u001b[0m\u001b[1;33m}\u001b[0m\u001b[1;33m)\u001b[0m\u001b[1;33m\u001b[0m\u001b[1;33m\u001b[0m\u001b[0m\n\u001b[1;32m--> 161\u001b[1;33m                 \u001b[0mself\u001b[0m\u001b[1;33m.\u001b[0m\u001b[0mestimator_\u001b[0m\u001b[1;33m.\u001b[0m\u001b[0mfit\u001b[0m\u001b[1;33m(\u001b[0m\u001b[0mX\u001b[0m\u001b[1;33m[\u001b[0m\u001b[0my\u001b[0m \u001b[1;33m==\u001b[0m \u001b[0mtarget_class\u001b[0m\u001b[1;33m]\u001b[0m\u001b[1;33m)\u001b[0m\u001b[1;33m\u001b[0m\u001b[1;33m\u001b[0m\u001b[0m\n\u001b[0m\u001b[0;32m    162\u001b[0m                 X_new, y_new = self._generate_sample(\n\u001b[0;32m    163\u001b[0m                     \u001b[0mX\u001b[0m\u001b[1;33m,\u001b[0m \u001b[0my\u001b[0m\u001b[1;33m,\u001b[0m \u001b[0mself\u001b[0m\u001b[1;33m.\u001b[0m\u001b[0mestimator_\u001b[0m\u001b[1;33m.\u001b[0m\u001b[0mcluster_centers_\u001b[0m\u001b[1;33m,\u001b[0m \u001b[0mtarget_class\u001b[0m\u001b[1;33m\u001b[0m\u001b[1;33m\u001b[0m\u001b[0m\n",
      "\u001b[1;32mc:\\users\\usuario\\pycharmprojects\\stallingevents\\venv\\lib\\site-packages\\sklearn\\cluster\\_k_means.py\u001b[0m in \u001b[0;36mfit\u001b[1;34m(self, X, y, sample_weight)\u001b[0m\n\u001b[0;32m    934\u001b[0m                     \u001b[0mmax_iter\u001b[0m\u001b[1;33m=\u001b[0m\u001b[0mself\u001b[0m\u001b[1;33m.\u001b[0m\u001b[0mmax_iter\u001b[0m\u001b[1;33m,\u001b[0m \u001b[0minit\u001b[0m\u001b[1;33m=\u001b[0m\u001b[0minit\u001b[0m\u001b[1;33m,\u001b[0m \u001b[0mverbose\u001b[0m\u001b[1;33m=\u001b[0m\u001b[0mself\u001b[0m\u001b[1;33m.\u001b[0m\u001b[0mverbose\u001b[0m\u001b[1;33m,\u001b[0m\u001b[1;33m\u001b[0m\u001b[1;33m\u001b[0m\u001b[0m\n\u001b[0;32m    935\u001b[0m                     \u001b[0mprecompute_distances\u001b[0m\u001b[1;33m=\u001b[0m\u001b[0mprecompute_distances\u001b[0m\u001b[1;33m,\u001b[0m \u001b[0mtol\u001b[0m\u001b[1;33m=\u001b[0m\u001b[0mtol\u001b[0m\u001b[1;33m,\u001b[0m\u001b[1;33m\u001b[0m\u001b[1;33m\u001b[0m\u001b[0m\n\u001b[1;32m--> 936\u001b[1;33m                     x_squared_norms=x_squared_norms, random_state=seed)\n\u001b[0m\u001b[0;32m    937\u001b[0m                 \u001b[1;31m# determine if these results are the best so far\u001b[0m\u001b[1;33m\u001b[0m\u001b[1;33m\u001b[0m\u001b[1;33m\u001b[0m\u001b[0m\n\u001b[0;32m    938\u001b[0m                 \u001b[1;32mif\u001b[0m \u001b[0mbest_inertia\u001b[0m \u001b[1;32mis\u001b[0m \u001b[1;32mNone\u001b[0m \u001b[1;32mor\u001b[0m \u001b[0minertia\u001b[0m \u001b[1;33m<\u001b[0m \u001b[0mbest_inertia\u001b[0m\u001b[1;33m:\u001b[0m\u001b[1;33m\u001b[0m\u001b[1;33m\u001b[0m\u001b[0m\n",
      "\u001b[1;32mc:\\users\\usuario\\pycharmprojects\\stallingevents\\venv\\lib\\site-packages\\sklearn\\cluster\\_k_means.py\u001b[0m in \u001b[0;36m_kmeans_single_elkan\u001b[1;34m(X, sample_weight, n_clusters, max_iter, init, verbose, x_squared_norms, random_state, tol, precompute_distances)\u001b[0m\n\u001b[0;32m    320\u001b[0m     centers, labels, n_iter = k_means_elkan(X, checked_sample_weight,\n\u001b[0;32m    321\u001b[0m                                             \u001b[0mn_clusters\u001b[0m\u001b[1;33m,\u001b[0m \u001b[0mcenters\u001b[0m\u001b[1;33m,\u001b[0m \u001b[0mtol\u001b[0m\u001b[1;33m=\u001b[0m\u001b[0mtol\u001b[0m\u001b[1;33m,\u001b[0m\u001b[1;33m\u001b[0m\u001b[1;33m\u001b[0m\u001b[0m\n\u001b[1;32m--> 322\u001b[1;33m                                             max_iter=max_iter, verbose=verbose)\n\u001b[0m\u001b[0;32m    323\u001b[0m     \u001b[1;32mif\u001b[0m \u001b[0msample_weight\u001b[0m \u001b[1;32mis\u001b[0m \u001b[1;32mNone\u001b[0m\u001b[1;33m:\u001b[0m\u001b[1;33m\u001b[0m\u001b[1;33m\u001b[0m\u001b[0m\n\u001b[0;32m    324\u001b[0m         \u001b[0minertia\u001b[0m \u001b[1;33m=\u001b[0m \u001b[0mnp\u001b[0m\u001b[1;33m.\u001b[0m\u001b[0msum\u001b[0m\u001b[1;33m(\u001b[0m\u001b[1;33m(\u001b[0m\u001b[0mX\u001b[0m \u001b[1;33m-\u001b[0m \u001b[0mcenters\u001b[0m\u001b[1;33m[\u001b[0m\u001b[0mlabels\u001b[0m\u001b[1;33m]\u001b[0m\u001b[1;33m)\u001b[0m \u001b[1;33m**\u001b[0m \u001b[1;36m2\u001b[0m\u001b[1;33m,\u001b[0m \u001b[0mdtype\u001b[0m\u001b[1;33m=\u001b[0m\u001b[0mnp\u001b[0m\u001b[1;33m.\u001b[0m\u001b[0mfloat64\u001b[0m\u001b[1;33m)\u001b[0m\u001b[1;33m\u001b[0m\u001b[1;33m\u001b[0m\u001b[0m\n",
      "\u001b[1;32msklearn\\cluster\\_k_means_elkan.pyx\u001b[0m in \u001b[0;36msklearn.cluster._k_means_elkan.k_means_elkan\u001b[1;34m()\u001b[0m\n",
      "\u001b[1;32mc:\\users\\usuario\\pycharmprojects\\stallingevents\\venv\\lib\\site-packages\\sklearn\\metrics\\pairwise.py\u001b[0m in \u001b[0;36meuclidean_distances\u001b[1;34m(X, Y, Y_norm_squared, squared, X_norm_squared)\u001b[0m\n\u001b[0;32m    301\u001b[0m     \u001b[1;32melse\u001b[0m\u001b[1;33m:\u001b[0m\u001b[1;33m\u001b[0m\u001b[1;33m\u001b[0m\u001b[0m\n\u001b[0;32m    302\u001b[0m         \u001b[1;31m# if dtype is already float64, no need to chunk and upcast\u001b[0m\u001b[1;33m\u001b[0m\u001b[1;33m\u001b[0m\u001b[1;33m\u001b[0m\u001b[0m\n\u001b[1;32m--> 303\u001b[1;33m         \u001b[0mdistances\u001b[0m \u001b[1;33m=\u001b[0m \u001b[1;33m-\u001b[0m \u001b[1;36m2\u001b[0m \u001b[1;33m*\u001b[0m \u001b[0msafe_sparse_dot\u001b[0m\u001b[1;33m(\u001b[0m\u001b[0mX\u001b[0m\u001b[1;33m,\u001b[0m \u001b[0mY\u001b[0m\u001b[1;33m.\u001b[0m\u001b[0mT\u001b[0m\u001b[1;33m,\u001b[0m \u001b[0mdense_output\u001b[0m\u001b[1;33m=\u001b[0m\u001b[1;32mTrue\u001b[0m\u001b[1;33m)\u001b[0m\u001b[1;33m\u001b[0m\u001b[1;33m\u001b[0m\u001b[0m\n\u001b[0m\u001b[0;32m    304\u001b[0m         \u001b[0mdistances\u001b[0m \u001b[1;33m+=\u001b[0m \u001b[0mXX\u001b[0m\u001b[1;33m\u001b[0m\u001b[1;33m\u001b[0m\u001b[0m\n\u001b[0;32m    305\u001b[0m         \u001b[0mdistances\u001b[0m \u001b[1;33m+=\u001b[0m \u001b[0mYY\u001b[0m\u001b[1;33m\u001b[0m\u001b[1;33m\u001b[0m\u001b[0m\n",
      "\u001b[1;32mc:\\users\\usuario\\pycharmprojects\\stallingevents\\venv\\lib\\site-packages\\sklearn\\utils\\extmath.py\u001b[0m in \u001b[0;36msafe_sparse_dot\u001b[1;34m(a, b, dense_output)\u001b[0m\n\u001b[0;32m    149\u001b[0m             \u001b[0mret\u001b[0m \u001b[1;33m=\u001b[0m \u001b[0mnp\u001b[0m\u001b[1;33m.\u001b[0m\u001b[0mdot\u001b[0m\u001b[1;33m(\u001b[0m\u001b[0ma\u001b[0m\u001b[1;33m,\u001b[0m \u001b[0mb\u001b[0m\u001b[1;33m)\u001b[0m\u001b[1;33m\u001b[0m\u001b[1;33m\u001b[0m\u001b[0m\n\u001b[0;32m    150\u001b[0m     \u001b[1;32melse\u001b[0m\u001b[1;33m:\u001b[0m\u001b[1;33m\u001b[0m\u001b[1;33m\u001b[0m\u001b[0m\n\u001b[1;32m--> 151\u001b[1;33m         \u001b[0mret\u001b[0m \u001b[1;33m=\u001b[0m \u001b[0ma\u001b[0m \u001b[1;33m@\u001b[0m \u001b[0mb\u001b[0m\u001b[1;33m\u001b[0m\u001b[1;33m\u001b[0m\u001b[0m\n\u001b[0m\u001b[0;32m    152\u001b[0m \u001b[1;33m\u001b[0m\u001b[0m\n\u001b[0;32m    153\u001b[0m     if (sparse.issparse(a) and sparse.issparse(b)\n",
      "\u001b[1;31mMemoryError\u001b[0m: Unable to allocate array with shape (106431, 106431) and data type float64"
     ],
     "ename": "MemoryError",
     "evalue": "Unable to allocate array with shape (106431, 106431) and data type float64",
     "output_type": "error"
    }
   ],
   "source": [
    "from imblearn.under_sampling import ClusterCentroids\n",
    "\n",
    "cc = ClusterCentroids()\n",
    "X_cc, y_cc = cc.fit_sample(X_train_std.values, y_train.values.astype('int').T.ravel())\n",
    "RandomForest(X_cc, y_cc,X_test_std.values,y_test.values.astype('int').T.ravel())\n",
    "print('\\n\\n RANDOM FOREST FOR 2 COMPONENTS')\n",
    "X_cc_2c,y_cc_2c = cc.fit_sample(X_train_2c,y_train.values.astype('int').T.ravel())\n",
    "RandomForest(X_cc_2c,y_cc,X_test_2c,y_test.values.astype('int').T.ravel())"
   ],
   "metadata": {
    "collapsed": false,
    "pycharm": {
     "name": "#%%\n",
     "is_executing": false
    }
   }
  },
  {
   "cell_type": "code",
   "execution_count": null,
   "outputs": [],
   "source": [
    "from imblearn.over_sampling import SMOTE\n",
    "smote = SMOTE(str='minority')\n",
    "X_sm, y_sm = smote.fit_sample(X_train_std.values, y_train.values.astype('int').T.ravel())\n",
    "RandomForest(X_sm, y_sm,X_test_std.values,y_test.values.astype('int').T.ravel())"
   ],
   "metadata": {
    "collapsed": false,
    "pycharm": {
     "name": "#%%\n",
     "is_executing": false
    }
   }
  },
  {
   "cell_type": "code",
   "execution_count": null,
   "outputs": [],
   "source": [
    "from imblearn.combine import SMOTETomek\n",
    "\n",
    "smt = SMOTETomek(str='auto')\n",
    "X_smt, y_smt = smt.fit_sample(X_train_std.values, y_train.values.astype('int').T.ravel())\n",
    "RandomForest(X_smt, y_smt,X_test_std.values,y_test.values.astype('int').T.ravel())\n"
   ],
   "metadata": {
    "collapsed": false,
    "pycharm": {
     "name": "#%%\n",
     "is_executing": false
    }
   }
  }
 ],
 "metadata": {
  "kernelspec": {
   "display_name": "Python 3",
   "language": "python",
   "name": "python3"
  },
  "language_info": {
   "codemirror_mode": {
    "name": "ipython",
    "version": 2
   },
   "file_extension": ".py",
   "mimetype": "text/x-python",
   "name": "python",
   "nbconvert_exporter": "python",
   "pygments_lexer": "ipython2",
   "version": "2.7.6"
  },
  "pycharm": {
   "stem_cell": {
    "cell_type": "raw",
    "source": [],
    "metadata": {
     "collapsed": false
    }
   }
  }
 },
 "nbformat": 4,
 "nbformat_minor": 0
}