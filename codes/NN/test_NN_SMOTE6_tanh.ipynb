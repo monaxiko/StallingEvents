{
 "cells": [
  {
   "cell_type": "code",
   "execution_count": 1,
   "metadata": {
    "pycharm": {
     "is_executing": false,
     "name": "#%% IMPORT SECTION\n"
    }
   },
   "outputs": [
    {
     "name": "stderr",
     "output_type": "stream",
     "text": [
      "Using TensorFlow backend.\n"
     ]
    }
   ],
   "source": [
    "import numpy as np\n",
    "import pandas as pd\n",
    "import matplotlib.pyplot as plt\n",
    "import seaborn as sns\n",
    "import os\n",
    "import tempfile \n",
    "\n",
    "\n",
    "from sklearn import preprocessing\n",
    "from sklearn import metrics\n",
    "from sklearn.metrics import roc_auc_score, classification_report\n",
    "from collections import Counter\n",
    "\n",
    "from imblearn.over_sampling import SMOTE\n",
    "\n",
    "import tensorflow as tf\n",
    "import keras\n",
    "\n",
    "colors = np.array(['#0101DF','#DF0101','#01DF01','#DFDFDF'])\n",
    "\n",
    "rs = 42\n",
    "def compute_metrics (y_te2,y_p,string):\n",
    "    print('\\n %s'%string)\n",
    "    print('CONFUSION MATRIX')\n",
    "    print(metrics.confusion_matrix(y_te2,y_p))\n",
    "    print(classification_report(y_te2, y_p))\n",
    "    print('\\nROC CURVE: %2.2f'%roc_auc_score(y_te2,y_p))\n",
    "\n",
    "def Ratio10(y,string):\n",
    "    suma = Counter(y)[0]+Counter(y)[1]\n",
    "    print('\\n'+string)  \n",
    "    print(Counter(y))\n",
    "    print('0: %3.2f%%\\n1: %3.2f%%' % (100*Counter(y)[0]/suma,100*Counter(y)[1]/suma))\n",
    "\n",
    "def histo(data,var):\n",
    "    fig=plt.figure()\n",
    "    sns.countplot(var,data=data,palette=colors)\n",
    "    plt.title('0/1 Distribution (0: No Stalling || 1: Stalling Event',fontsize=14)\n",
    "    plt.show()\n",
    "    \n",
    "def plot_loss(history, label, n):\n",
    "    # Use a log scale to show the wide range of values.\n",
    "    plt.semilogy(history.epoch,  \n",
    "                 history.history['loss'],\n",
    "                 color=colors[n], \n",
    "                 label='Train '+label\n",
    "                 )\n",
    "    plt.semilogy(history.epoch,\n",
    "                 history.history['val_loss'],\n",
    "                 color=colors[n], \n",
    "                 label='Val '+label,\n",
    "                 linestyle=\"--\")\n",
    "    plt.xlabel('Epoch')\n",
    "    plt.ylabel('Loss')\n",
    "    plt.legend()\n",
    "\n",
    "def plot_metrics(history):\n",
    "    metrics =  ['loss', 'auc', 'precision', 'recall']\n",
    "    for n, metric in enumerate(metrics):\n",
    "        name = metric.replace(\"_\",\" \").capitalize()\n",
    "        plt.subplot(2,2,n+1)\n",
    "        plt.plot(history.epoch,  history.history[metric], color=colors[0], label='Train')\n",
    "        plt.plot(history.epoch, history.history['val_'+metric],\n",
    "             color=colors[0], linestyle=\"--\", label='Val')\n",
    "        plt.xlabel('Epoch')\n",
    "        plt.ylabel(name)\n",
    "        if metric == 'loss':\n",
    "            plt.ylim([0, plt.ylim()[1]])\n",
    "        elif metric == 'auc':\n",
    "            plt.ylim([0.5,1])\n",
    "        else:\n",
    "            plt.ylim([0,1])\n",
    "\n",
    "    plt.legend()\n",
    "\n",
    "def plot_cm(labels, predictions, p=0.5):\n",
    "  cm = metrics.confusion_matrix(labels, predictions > p)\n",
    "  plt.figure(figsize=(5,5))\n",
    "  sns.heatmap(cm, annot=True, fmt=\"d\")\n",
    "  plt.title('Confusion matrix @{:.2f}'.format(p))\n",
    "  plt.ylabel('Actual label')\n",
    "  plt.xlabel('Predicted label')\n",
    "\n",
    "  print('Legitimate Transactions Detected (True Negatives): ', cm[0][0])\n",
    "  print('Legitimate Transactions Incorrectly Detected (False Positives): ', cm[0][1])\n",
    "  print('Fraudulent Transactions Missed (False Negatives): ', cm[1][0])\n",
    "  print('Fraudulent Transactions Detected (True Positives): ', cm[1][1])\n",
    "  print('Total Fraudulent Transactions: ', np.sum(cm[1]))\n",
    "  \n",
    "\n",
    "def plot_roc(name, labels, predictions, **kwargs):\n",
    "    fp, tp, _ = metrics.roc_curve(labels, predictions)\n",
    "\n",
    "    plt.plot(100*fp, 100*tp, label=name, linewidth=2, **kwargs)\n",
    "    plt.xlabel('False positives [%]')\n",
    "    plt.ylabel('True positives [%]')\n",
    "    plt.xlim([-0.5,100.5])\n",
    "    plt.ylim([-0.5,100.5])\n",
    "    plt.grid(True)\n",
    "    ax = plt.gca()\n",
    "    ax.set_aspect('equal')\n",
    "  "
   ]
  },
  {
   "cell_type": "code",
   "execution_count": 2,
   "metadata": {
    "pycharm": {
     "is_executing": false,
     "name": "#%% LOAD DATASET REMOVING NOISE\n"
    }
   },
   "outputs": [
    {
     "name": "stdout",
     "output_type": "stream",
     "text": [
      "Index(['∆t', 'pkt_len', 'tcp_hea_len', 'tcp_flag_ack', 'tcp_flag_cwr',\n",
      "       'tcp_flag_ecn', 'tcp_flag_urg', 'tcp_flag_psh', 'tcp_flag_rst',\n",
      "       'tcp_flag_syn', 'tcp_flag_fin', 'tcp_win_si2', 'delay', 'capture',\n",
      "       'stalling_event'],\n",
      "      dtype='object')\n",
      "\n",
      "dataset[stalling_event]\n",
      "Counter({0: 1426905, 1: 113031})\n",
      "0: 92.66%\n",
      "1: 7.34%\n"
     ]
    },
    {
     "data": {
      "image/png": "[encoded data removed]",
      "text/plain": [
       "<Figure size 432x288 with 1 Axes>"
      ]
     },
     "metadata": {
      "needs_background": "light"
     },
     "output_type": "display_data"
    }
   ],
   "source": [
    "dataset = pd.read_csv('../../output/df_general.csv', sep=',')\n",
    "split = 0.8\n",
    "del dataset['No.']\n",
    "del dataset['Protocol']\n",
    "del dataset['ip_len']\n",
    "del dataset['prebuffering']\n",
    "del dataset['Time']\n",
    "\n",
    "dataset = dataset.fillna(dataset.mean())\n",
    "neg, pos = np.bincount(dataset['stalling_event'])\n",
    "total = neg + pos\n",
    "weight_for_0 = (1 / neg)*(total)/2.0 \n",
    "weight_for_1 = (1 / pos)*(total)/2.0\n",
    "\n",
    "class_weight = {0: weight_for_0, 1: weight_for_1}\n",
    "\n",
    "print(dataset.columns)\n",
    "Ratio10(dataset['stalling_event'],'dataset[stalling_event]')\n",
    "histo(dataset,'stalling_event')"
   ]
  },
  {
   "cell_type": "code",
   "execution_count": 3,
   "metadata": {
    "pycharm": {
     "is_executing": false,
     "name": "#%% SPLIT TRAIN/TEST\n"
    }
   },
   "outputs": [],
   "source": [
    "'''X_train = [None] * (len(dataset.columns)-1)\n",
    "X_test = [None] * (len(dataset.columns)-1)'''\n",
    "\n",
    "X_train = np.array([None]*12)\n",
    "X_test = np.array([None]*12)\n",
    "y_train = list()\n",
    "y_test = list()\n",
    "\n",
    "grouped = dataset.groupby(['delay','capture']) \n",
    "#print(grouped.mean())\n",
    "\n",
    "for id, data in grouped:\n",
    "    spl = int(data.shape[0] * split)\n",
    "    restspl = int(data.shape[0] * (1-split))\n",
    "    randnum = np.random.randint(0,restspl)\n",
    "    \n",
    "    X_train = np.vstack((X_train,data.values[randnum:randnum+spl,:-3]))\n",
    "    X_test = np.vstack((X_test,data.values[0:randnum-1,:-3]))\n",
    "    X_test = np.vstack((X_test,data.values[randnum+spl:,:-3]))\n",
    "    \n",
    "    y_train.extend(data.values[randnum:randnum+spl,-1])\n",
    "    y_test.extend(data.values[0:randnum-1,-1])\n",
    "    y_test.extend(data.values[randnum+spl:,-1])\n",
    "\n",
    "X_train = X_train[1:]\n",
    "X_test = X_test[1:]"
   ]
  },
  {
   "cell_type": "code",
   "execution_count": 4,
   "metadata": {
    "pycharm": {
     "is_executing": false,
     "name": "#%%\n"
    }
   },
   "outputs": [],
   "source": [
    "mms = preprocessing.MinMaxScaler()\n",
    "X_train = mms.fit_transform(X_train)\n",
    "X_test = mms.transform(X_test)"
   ]
  },
  {
   "cell_type": "code",
   "execution_count": 5,
   "metadata": {
    "pycharm": {
     "is_executing": false,
     "name": "#%%\n"
    }
   },
   "outputs": [
    {
     "name": "stdout",
     "output_type": "stream",
     "text": [
      "\n",
      "y_test\n",
      "Counter({0: 303967, 1: 3985})\n",
      "0: 98.71%\n",
      "1: 1.29%\n",
      "\n",
      "y_train\n",
      "Counter({0: 1122879, 1: 109045})\n",
      "0: 91.15%\n",
      "1: 8.85%\n"
     ]
    }
   ],
   "source": [
    "y_test = list(map(int,y_test))\n",
    "y_train = list(map(int,y_train))\n",
    "Ratio10(y_test,'y_test')\n",
    "Ratio10(y_train,'y_train')\n",
    "\n",
    "X_train = pd.DataFrame(data=X_train,columns=dataset.columns[:-3])\n",
    "X_test= pd.DataFrame(data=X_test,columns=dataset.columns[:-3])\n",
    "y_train = pd.DataFrame(data=y_train,columns=['y_train'])\n",
    "y_test= pd.DataFrame(data=y_test,columns=['y_test'])\n",
    "del dataset['delay']\n",
    "del dataset['capture']"
   ]
  },
  {
   "cell_type": "code",
   "execution_count": 6,
   "metadata": {
    "pycharm": {
     "is_executing": false,
     "name": "#%%\n"
    }
   },
   "outputs": [
    {
     "name": "stderr",
     "output_type": "stream",
     "text": [
      "C:\\Users\\Usuario\\Anaconda3\\lib\\site-packages\\sklearn\\utils\\validation.py:760: DataConversionWarning: A column-vector y was passed when a 1d array was expected. Please change the shape of y to (n_samples, ), for example using ravel().\n",
      "  y = column_or_1d(y, warn=True)\n",
      "C:\\Users\\Usuario\\Anaconda3\\lib\\site-packages\\sklearn\\utils\\validation.py:760: DataConversionWarning: A column-vector y was passed when a 1d array was expected. Please change the shape of y to (n_samples, ), for example using ravel().\n",
      "  y = column_or_1d(y, warn=True)\n"
     ]
    }
   ],
   "source": [
    "smote = SMOTE(random_state = rs)\n",
    "X_train_smote,y_train_smote = smote.fit_resample(X_train.values,y_train.values)\n",
    "X_test_smote,y_test_smote = smote.fit_resample(X_test.values,y_test.values)"
   ]
  },
  {
   "cell_type": "code",
   "execution_count": 7,
   "metadata": {
    "pycharm": {
     "is_executing": false,
     "name": "#%%\n"
    }
   },
   "outputs": [
    {
     "name": "stdout",
     "output_type": "stream",
     "text": [
      "1394.0\n"
     ]
    }
   ],
   "source": [
    "EPOCHS = 100\n",
    "BATCH_SIZE = 2048\n",
    "\n",
    "resampled_steps_per_epoch = np.ceil(2.0*neg/BATCH_SIZE)\n",
    "print(resampled_steps_per_epoch)"
   ]
  },
  {
   "cell_type": "code",
   "execution_count": 8,
   "metadata": {
    "pycharm": {
     "is_executing": false,
     "name": "#%%\n"
    }
   },
   "outputs": [],
   "source": [
    "METRICS = [\n",
    "    tf.keras.metrics.TruePositives(name='tp'),\n",
    "    tf.keras.metrics.FalsePositives(name='fp'),\n",
    "    tf.keras.metrics.TrueNegatives(name='tn'),\n",
    "    tf.keras.metrics.FalseNegatives(name='fn'),\n",
    "    tf.keras.metrics.BinaryAccuracy(name='accuracy'),\n",
    "    tf.keras.metrics.Precision(name='precision'),\n",
    "    tf.keras.metrics.Recall(name='recall'),\n",
    "    tf.keras.metrics.AUC(name='auc'),\n",
    "]\n",
    "\n",
    "\n",
    "early_stopping = tf.keras.callbacks.EarlyStopping(monitor='val_auc', \n",
    "                                                  verbose=1,\n",
    "                                                  patience=10,\n",
    "                                                  mode='max',\n",
    "                                                  restore_best_weights=True)\n",
    "\n"
   ]
  },
  {
   "cell_type": "code",
   "execution_count": 9,
   "metadata": {
    "pycharm": {
     "is_executing": false,
     "name": "#%%\n"
    }
   },
   "outputs": [
    {
     "name": "stdout",
     "output_type": "stream",
     "text": [
      "[-2.53560092]\n"
     ]
    }
   ],
   "source": [
    "n_features = X_train.shape[1]\n",
    "\n",
    "initial_bias = np.log([pos/neg])\n",
    "print(initial_bias)"
   ]
  },
  {
   "cell_type": "code",
   "execution_count": 10,
   "metadata": {
    "pycharm": {
     "is_executing": true,
     "name": "#%% Resampled\n"
    }
   },
   "outputs": [
    {
     "name": "stdout",
     "output_type": "stream",
     "text": [
      "Built NN...\n",
      "Model: \"sequential_1\"\n",
      "_________________________________________________________________\n",
      "Layer (type)                 Output Shape              Param #   \n",
      "=================================================================\n",
      "dense_1 (Dense)              (None, 512)               6656      \n",
      "_________________________________________________________________\n",
      "dropout_1 (Dropout)          (None, 512)               0         \n",
      "_________________________________________________________________\n",
      "dense_2 (Dense)              (None, 512)               262656    \n",
      "_________________________________________________________________\n",
      "dropout_2 (Dropout)          (None, 512)               0         \n",
      "_________________________________________________________________\n",
      "dense_3 (Dense)              (None, 512)               262656    \n",
      "_________________________________________________________________\n",
      "dropout_3 (Dropout)          (None, 512)               0         \n",
      "_________________________________________________________________\n",
      "dense_4 (Dense)              (None, 1)                 513       \n",
      "=================================================================\n",
      "Total params: 532,481\n",
      "Trainable params: 532,481\n",
      "Non-trainable params: 0\n",
      "_________________________________________________________________\n",
      "Compiled NN...\n",
      "Train on 1796606 samples, validate on 449152 samples\n",
      "Epoch 1/100\n",
      "1796606/1796606 [==============================] - 148s 83us/step - loss: 0.6573 - tp: 26040.2598 - fp: 21180.0449 - tn: 541013.4375 - fn: 311860.4062 - accuracy: 0.6271 - precision: 0.5349 - recall: 0.0838 - auc: 0.5388 - val_loss: 0.9935 - val_tp: 65359.5000 - val_fp: 37471.0000 - val_tn: 1085408.0000 - val_fn: 834664.7500 - val_accuracy: 0.5709 - val_precision: 0.6328 - val_recall: 0.0727 - val_auc: 0.5254\n",
      "Epoch 2/100\n",
      "1796606/1796606 [==============================] - 275s 153us/step - loss: 0.6535 - tp: 220874.5156 - fp: 90862.7734 - tn: 2717425.5000 - fn: 2362447.0000 - accuracy: 0.5441 - precision: 0.7097 - recall: 0.0854 - auc: 0.5278 - val_loss: 0.9729 - val_tp: 284362.3750 - val_fp: 113575.3281 - val_tn: 3255059.2500 - val_fn: 2861419.0000 - val_accuracy: 0.5435 - val_precision: 0.7141 - val_recall: 0.0903 - val_auc: 0.5304\n",
      "Epoch 4/100\n",
      "1796606/1796606 [==============================] - 270s 150us/step - loss: 0.6525 - tp: 483000.8125 - fp: 188505.7344 - tn: 4865537.0000 - fn: 4346081.0000 - accuracy: 0.5409 - precision: 0.7197 - recall: 0.1000 - auc: 0.5599 - val_loss: 0.8662 - val_tp: 550965.8125 - val_fp: 214543.6406 - val_tn: 5399854.5000 - val_fn: 4840575.0000 - val_accuracy: 0.5407 - val_precision: 0.7196 - val_recall: 0.1022 - val_auc: 0.5719\n",
      "Epoch 6/100\n",
      "1796606/1796606 [==============================] - 232s 129us/step - loss: 0.6514 - tp: 757764.5000 - fp: 295475.9688 - tn: 7004097.5000 - fn: 6317305.5000 - accuracy: 0.5398 - precision: 0.7196 - recall: 0.1071 - auc: 0.5799 - val_loss: 0.9917 - val_tp: 827408.3125 - val_fp: 322739.7812 - val_tn: 7537408.5000 - val_fn: 6809890.5000 - val_accuracy: 0.5398 - val_precision: 0.7193 - val_recall: 0.1083 - val_auc: 0.5751\n",
      "Epoch 8/100\n",
      "1796606/1796606 [==============================] - 217s 121us/step - loss: 0.6511 - tp: 897321.3750 - fp: 350799.3438 - tn: 8071451.5000 - fn: 7300821.5000 - accuracy: 0.5395 - precision: 0.7191 - recall: 0.1094 - auc: 0.5708 - val_loss: 0.9029 - val_tp: 967350.2500 - val_fp: 378595.0312 - val_tn: 8604424.0000 - val_fn: 7792827.5000 - val_accuracy: 0.5395 - val_precision: 0.7187 - val_recall: 0.1104 - val_auc: 0.5750\n",
      "Epoch 9/100\n",
      "1796606/1796606 [==============================] - 207s 115us/step - loss: 0.6498 - tp: 1751581.6250 - fp: 696264.8125 - tn: 14464026.0000 - fn: 13183088.0000 - accuracy: 0.5388 - precision: 0.7156 - recall: 0.1173 - auc: 0.5626 - val_loss: 0.9355 - val_tp: 1823790.1250 - val_fp: 725758.3125 - val_tn: 14994515.0000 - val_fn: 13673664.0000 - val_accuracy: 0.5387 - val_precision: 0.7153 - val_recall: 0.1177 - val_auc: 0.5638\n",
      "Epoch 15/100\n",
      "1796606/1796606 [==============================] - 208s 116us/step - loss: 0.6497 - tp: 1895813.2500 - fp: 755318.5000 - tn: 15527594.0000 - fn: 14161981.0000 - accuracy: 0.5387 - precision: 0.7151 - recall: 0.1181 - auc: 0.5649 - val_loss: 0.9035 - val_tp: 1967728.1250 - val_fp: 784825.7500 - val_tn: 16058367.0000 - val_fn: 14652600.0000 - val_accuracy: 0.5387 - val_precision: 0.7149 - val_recall: 0.1184 - val_auc: 0.5670\n",
      "Epoch 16/100\n",
      " 423936/1796606 [======>.......................] - ETA: 2:25 - loss: 0.6500 - tp: 2007298.0000 - fp: 791916.1250 - tn: 16184069.0000 - fn: 14916080.0000 - accuracy: 0.5366 - precision: 0.7171 - recall: 0.1186 - auc: 0.5690"
     ]
    }
   ],
   "source": [
    "resampled_model = keras.Sequential()\n",
    "resampled_model.add(keras.layers.Dense(512,activation='tanh',input_shape=(n_features,)))\n",
    "resampled_model.add(keras.layers.Dropout(0.5))\n",
    "resampled_model.add(keras.layers.Dense(512,activation='tanh'))\n",
    "resampled_model.add(keras.layers.Dropout(0.5))\n",
    "resampled_model.add(keras.layers.Dense(512,activation='tanh'))\n",
    "resampled_model.add(keras.layers.Dropout(0.5))\n",
    "resampled_model.add(keras.layers.Dense(1,activation='sigmoid'))\n",
    "print('Built NN...')\n",
    "resampled_model.compile(optimizer=keras.optimizers.Adam(lr=1e-3),loss=keras.losses.BinaryCrossentropy(),metrics=METRICS)\n",
    "resampled_model.summary()\n",
    "print('Compiled NN...')\n",
    "\n",
    "initial_weights = os.path.join(tempfile.mkdtemp(),'initial_weights')\n",
    "resampled_model.save_weights(initial_weights)\n",
    "\n",
    "\n",
    "resampled_model.load_weights(initial_weights)\n",
    "output_layer = resampled_model.layers[-1] \n",
    "output_layer.bias.assign([0])\n",
    "\n",
    "resampled_history = resampled_model.fit(X_train_smote,\n",
    "                                        y_train_smote,\n",
    "                                        batch_size=BATCH_SIZE,\n",
    "                                        epochs=EPOCHS,\n",
    "                                        callbacks = [early_stopping],\n",
    "                                        validation_split=0.2\n",
    "                                        )"
   ]
  },
  {
   "cell_type": "code",
   "execution_count": 11,
   "metadata": {
    "pycharm": {
     "is_executing": true,
     "name": "#%% USING test_smote\n"
    }
   },
   "outputs": [
    {
     "data": {
      "image/png": "[encoded data removed]",
      "text/plain": [
       "<Figure size 432x288 with 4 Axes>"
      ]
     },
     "metadata": {
      "needs_background": "light"
     },
     "output_type": "display_data"
    }
   ],
   "source": [
    "plot_metrics(resampled_history)\n",
    "plt.show()"
   ]
  },
  {
   "cell_type": "code",
   "execution_count": 12,
   "metadata": {
    "pycharm": {
     "is_executing": true,
     "name": "#%%\n"
    }
   },
   "outputs": [],
   "source": [
    "train_predictions_resampled = resampled_model.predict(X_train_smote, batch_size=BATCH_SIZE)\n",
    "test_predictions_resampled = resampled_model.predict(X_test_smote, batch_size=BATCH_SIZE)"
   ]
  },
  {
   "cell_type": "code",
   "execution_count": 13,
   "metadata": {
    "pycharm": {
     "is_executing": true,
     "name": "#%%\n"
    }
   },
   "outputs": [
    {
     "name": "stdout",
     "output_type": "stream",
     "text": [
      "607934/607934 [==============================] - 14s 23us/step\n"
     ]
    }
   ],
   "source": [
    "resampled_results = resampled_model.evaluate(X_test_smote,\n",
    "                                             y_test_smote,\n",
    "                                             batch_size=BATCH_SIZE, \n",
    "                                             verbose=1)"
   ]
  },
  {
   "cell_type": "code",
   "execution_count": 14,
   "metadata": {
    "pycharm": {
     "is_executing": true,
     "name": "#%%\n"
    }
   },
   "outputs": [
    {
     "name": "stdout",
     "output_type": "stream",
     "text": [
      "loss :  0.7165146894469655\n",
      "tp :  2149595.0\n",
      "fp :  851991.875\n",
      "tn :  17340810.0\n",
      "fn :  15894837.0\n",
      "accuracy :  0.5378565192222595\n",
      "precision :  0.716153621673584\n",
      "recall :  0.11912847310304642\n",
      "auc :  0.5667900443077087\n",
      "\n",
      "Legitimate Transactions Detected (True Negatives):  291896\n",
      "Legitimate Transactions Incorrectly Detected (False Positives):  12071\n",
      "Fraudulent Transactions Missed (False Negatives):  273955\n",
      "Fraudulent Transactions Detected (True Positives):  30012\n",
      "Total Fraudulent Transactions:  303967\n"
     ]
    },
    {
     "data": {
      "image/png": "[encoded data removed]",
      "text/plain": [
       "<Figure size 360x360 with 2 Axes>"
      ]
     },
     "metadata": {
      "needs_background": "light"
     },
     "output_type": "display_data"
    }
   ],
   "source": [
    "for name, value in zip(resampled_model.metrics_names, resampled_results):\n",
    "  print(name, ': ', value)\n",
    "print()\n",
    "\n",
    "plot_cm(y_test_smote, test_predictions_resampled)\n",
    "\n",
    "\n"
   ]
  },
  {
   "cell_type": "code",
   "execution_count": 15,
   "metadata": {
    "pycharm": {
     "is_executing": true,
     "name": "#%%\n"
    }
   },
   "outputs": [
    {
     "data": {
      "text/plain": [
       "<matplotlib.legend.Legend at 0x22880497388>"
      ]
     },
     "execution_count": 15,
     "metadata": {},
     "output_type": "execute_result"
    },
    {
     "data": {
      "image/png": "[encoded data removed]",
      "text/plain": [
       "<Figure size 432x288 with 1 Axes>"
      ]
     },
     "metadata": {
      "needs_background": "light"
     },
     "output_type": "display_data"
    }
   ],
   "source": [
    "\n",
    "\n",
    "plot_roc(\"Train Resampled Smote\", y_train_smote, train_predictions_resampled,  color=colors[2])\n",
    "plot_roc(\"Test Resampled Smote\", y_test_smote, test_predictions_resampled,  color=colors[2], linestyle='--')\n",
    "\n",
    "plt.legend(loc='lower right')\n"
   ]
  }
 ],
 "metadata": {
  "kernelspec": {
   "display_name": "Python 3",
   "language": "python",
   "name": "python3"
  },
  "language_info": {
   "codemirror_mode": {
    "name": "ipython",
    "version": 3
   },
   "file_extension": ".py",
   "mimetype": "text/x-python",
   "name": "python",
   "nbconvert_exporter": "python",
   "pygments_lexer": "ipython3",
   "version": "3.7.5"
  },
  "pycharm": {
   "stem_cell": {
    "cell_type": "raw",
    "metadata": {
     "collapsed": false
    },
    "source": []
   }
  }
 },
 "nbformat": 4,
 "nbformat_minor": 1
}
