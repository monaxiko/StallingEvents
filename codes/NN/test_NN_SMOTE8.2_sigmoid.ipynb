{
 "cells": [
  {
   "cell_type": "code",
   "execution_count": 1,
   "metadata": {
    "pycharm": {
     "is_executing": false,
     "name": "#%% IMPORT SECTION\n"
    }
   },
   "outputs": [
    {
     "name": "stderr",
     "output_type": "stream",
     "text": [
      "Using TensorFlow backend.\n"
     ]
    }
   ],
   "source": [
    "import numpy as np\n",
    "import pandas as pd\n",
    "import matplotlib.pyplot as plt\n",
    "import seaborn as sns\n",
    "import sklearn.metrics as metrics\n",
    "import os\n",
    "import tempfile \n",
    "\n",
    "\n",
    "from sklearn import preprocessing\n",
    "from sklearn.utils.class_weight import compute_class_weight\n",
    "from sklearn.metrics import roc_auc_score, classification_report\n",
    "from collections import Counter\n",
    "\n",
    "from imblearn.over_sampling import SMOTE\n",
    "\n",
    "import tensorflow as tf\n",
    "import keras\n",
    "\n",
    "\n",
    "import warnings\n",
    "warnings.filterwarnings(\"ignore\")\n",
    "colors = np.array(['#0101DF','#DF0101','#01DF01','#DFDFDF'])\n",
    "\n",
    "rs = 42\n",
    "def compute_metrics (y_te2,y_p,string):\n",
    "    print('\\n %s'%string)\n",
    "    print('CONFUSION MATRIX')\n",
    "    print(metrics.confusion_matrix(y_te2,y_p))\n",
    "    print(classification_report(y_te2, y_p))\n",
    "    print('\\nROC CURVE: %2.2f'%roc_auc_score(y_te2,y_p))\n",
    "\n",
    "def Ratio10(y,string):\n",
    "    suma = Counter(y)[0]+Counter(y)[1]\n",
    "    print('\\n'+string)  \n",
    "    print(Counter(y))\n",
    "    print('0: %3.2f%%\\n1: %3.2f%%' % (100*Counter(y)[0]/suma,100*Counter(y)[1]/suma))\n",
    "\n",
    "def histo(data,var):\n",
    "    fig=plt.figure()\n",
    "    sns.countplot(var,data=data,palette=colors)\n",
    "    plt.title('0/1 Distribution (0: No Stalling || 1: Stalling Event',fontsize=14)\n",
    "    plt.show()\n",
    "    \n",
    "def plot_loss(history, label, n):\n",
    "    # Use a log scale to show the wide range of values.\n",
    "    plt.semilogy(history.epoch,  \n",
    "                 history.history['loss'],\n",
    "                 color=colors[n], \n",
    "                 label='Train '+label\n",
    "                 )\n",
    "    plt.semilogy(history.epoch,\n",
    "                 history.history['val_loss'],\n",
    "                 color=colors[n], \n",
    "                 label='Val '+label,\n",
    "                 linestyle=\"--\")\n",
    "    plt.xlabel('Epoch')\n",
    "    plt.ylabel('Loss')\n",
    "    plt.legend()\n",
    "\n",
    "def plot_metrics(history):\n",
    "    metrics =  ['loss', 'auc', 'precision', 'recall']\n",
    "    for n, metric in enumerate(metrics):\n",
    "        name = metric.replace(\"_\",\" \").capitalize()\n",
    "        plt.subplot(2,2,n+1)\n",
    "        plt.plot(history.epoch,  history.history[metric], color=colors[0], label='Train')\n",
    "        plt.plot(history.epoch, history.history['val_'+metric],\n",
    "             color=colors[0], linestyle=\"--\", label='Val')\n",
    "        plt.xlabel('Epoch')\n",
    "        plt.ylabel(name)\n",
    "        if metric == 'loss':\n",
    "            plt.ylim([0, plt.ylim()[1]])\n",
    "        elif metric == 'auc':\n",
    "            plt.ylim([0.5,1])\n",
    "        else:\n",
    "            plt.ylim([0,1])\n",
    "\n",
    "    plt.legend()\n",
    "\n",
    "def plot_cm(labels, predictions, p=0.5):\n",
    "  cm = metrics.confusion_matrix(labels, predictions > p)\n",
    "  plt.figure(figsize=(5,5))\n",
    "  sns.heatmap(cm, annot=True, fmt=\"d\")\n",
    "  plt.title('Confusion matrix @{:.2f}'.format(p))\n",
    "  plt.ylabel('Actual label')\n",
    "  plt.xlabel('Predicted label')\n",
    "\n",
    "  print('Legitimate Transactions Detected (True Negatives): ', cm[0][0])\n",
    "  print('Legitimate Transactions Incorrectly Detected (False Positives): ', cm[0][1])\n",
    "  print('Fraudulent Transactions Missed (False Negatives): ', cm[1][0])\n",
    "  print('Fraudulent Transactions Detected (True Positives): ', cm[1][1])\n",
    "  print('Total Fraudulent Transactions: ', np.sum(cm[1]))\n",
    "  \n",
    "\n",
    "def plot_roc(name, labels, predictions, **kwargs):\n",
    "    fp, tp, _ = metrics.roc_curve(labels, predictions)\n",
    "\n",
    "    plt.plot(100*fp, 100*tp, label=name, linewidth=2, **kwargs)\n",
    "    plt.xlabel('False positives [%]')\n",
    "    plt.ylabel('True positives [%]')\n",
    "    plt.xlim([-0.5,100.5])\n",
    "    plt.ylim([-0.5,100.5])\n",
    "    plt.grid(True)\n",
    "    ax = plt.gca()\n",
    "    ax.set_aspect('equal')\n",
    "  "
   ]
  },
  {
   "cell_type": "code",
   "execution_count": 2,
   "metadata": {
    "pycharm": {
     "is_executing": false,
     "name": "#%% LOAD DATASET REMOVING NOISE\n"
    }
   },
   "outputs": [
    {
     "name": "stdout",
     "output_type": "stream",
     "text": [
      "Index(['∆t', 'pkt_len', 'tcp_hea_len', 'tcp_flag_ack', 'tcp_flag_cwr',\n",
      "       'tcp_flag_ecn', 'tcp_flag_urg', 'tcp_flag_psh', 'tcp_flag_rst',\n",
      "       'tcp_flag_syn', 'tcp_flag_fin', 'tcp_win_si2', 'delay', 'capture',\n",
      "       'stalling_event'],\n",
      "      dtype='object')\n",
      "\n",
      "dataset[stalling_event]\n",
      "Counter({0: 1426905, 1: 113031})\n",
      "0: 92.66%\n",
      "1: 7.34%\n"
     ]
    },
    {
     "data": {
      "image/png": "[encoded data removed]",
      "text/plain": [
       "<Figure size 432x288 with 1 Axes>"
      ]
     },
     "metadata": {
      "needs_background": "light"
     },
     "output_type": "display_data"
    }
   ],
   "source": [
    "dataset = pd.read_csv('../../output/df_general.csv', sep=',')\n",
    "split = 0.8\n",
    "del dataset['No.']\n",
    "del dataset['Protocol']\n",
    "del dataset['ip_len']\n",
    "del dataset['prebuffering']\n",
    "del dataset['Time']\n",
    "\n",
    "dataset = dataset.fillna(dataset.mean())\n",
    "neg, pos = np.bincount(dataset['stalling_event'])\n",
    "total = neg + pos\n",
    "weight_for_0 = (1 / neg)*(total)/2.0 \n",
    "weight_for_1 = (1 / pos)*(total)/2.0\n",
    "\n",
    "class_weight = {0: weight_for_0, 1: weight_for_1}\n",
    "\n",
    "print(dataset.columns)\n",
    "Ratio10(dataset['stalling_event'],'dataset[stalling_event]')\n",
    "histo(dataset,'stalling_event')"
   ]
  },
  {
   "cell_type": "code",
   "execution_count": 3,
   "metadata": {
    "pycharm": {
     "is_executing": false,
     "name": "#%% SPLIT TRAIN/TEST\n"
    }
   },
   "outputs": [],
   "source": [
    "from random import randint\n",
    "'''X_train = [None] * (len(dataset.columns)-1)\n",
    "X_test = [None] * (len(dataset.columns)-1)'''\n",
    "\n",
    "X_train = np.array([None]*12)\n",
    "X_test = np.array([None]*12)\n",
    "y_train = list()\n",
    "y_test = list()\n",
    "\n",
    "grouped = dataset.groupby(['delay','capture']) \n",
    "#print(grouped.mean())\n",
    "\n",
    "for id, data in grouped:\n",
    "    spl = int(data.shape[0] * split)\n",
    "    restspl = int(data.shape[0] * (1-split))\n",
    "    randnum = randint(0,restspl)\n",
    "    \n",
    "    X_train = np.vstack((X_train,data.values[randnum:randnum+spl,:-3]))\n",
    "    X_test = np.vstack((X_test,data.values[0:randnum-1,:-3]))\n",
    "    X_test = np.vstack((X_test,data.values[randnum+spl:,:-3]))\n",
    "    \n",
    "    y_train.extend(data.values[randnum:randnum+spl,-1])\n",
    "    y_test.extend(data.values[0:randnum-1,-1])\n",
    "    y_test.extend(data.values[randnum+spl:,-1])\n",
    "\n",
    "X_train = X_train[1:]\n",
    "X_test = X_test[1:]"
   ]
  },
  {
   "cell_type": "code",
   "execution_count": 4,
   "metadata": {
    "pycharm": {
     "is_executing": false,
     "name": "#%%\n"
    }
   },
   "outputs": [],
   "source": [
    "mms = preprocessing.MinMaxScaler()\n",
    "X_train = mms.fit_transform(X_train)\n",
    "X_test = mms.transform(X_test)"
   ]
  },
  {
   "cell_type": "code",
   "execution_count": 5,
   "metadata": {
    "pycharm": {
     "is_executing": false,
     "name": "#%%\n"
    }
   },
   "outputs": [
    {
     "name": "stdout",
     "output_type": "stream",
     "text": [
      "\n",
      "y_test\n",
      "Counter({0: 302513, 1: 5439})\n",
      "0: 98.23%\n",
      "1: 1.77%\n",
      "\n",
      "y_train\n",
      "Counter({0: 1124333, 1: 107591})\n",
      "0: 91.27%\n",
      "1: 8.73%\n"
     ]
    }
   ],
   "source": [
    "y_test = list(map(int,y_test))\n",
    "y_train = list(map(int,y_train))\n",
    "Ratio10(y_test,'y_test')\n",
    "Ratio10(y_train,'y_train')\n",
    "\n",
    "X_train = pd.DataFrame(data=X_train,columns=dataset.columns[:-3])\n",
    "X_test= pd.DataFrame(data=X_test,columns=dataset.columns[:-3])\n",
    "y_train = pd.DataFrame(data=y_train,columns=['y_train'])\n",
    "y_test= pd.DataFrame(data=y_test,columns=['y_test'])\n",
    "del dataset['delay']\n",
    "del dataset['capture']"
   ]
  },
  {
   "cell_type": "code",
   "execution_count": 6,
   "metadata": {
    "pycharm": {
     "is_executing": false,
     "name": "#%%\n"
    }
   },
   "outputs": [],
   "source": [
    "smote = SMOTE(random_state = rs)\n",
    "X_train_smote,y_train_smote = smote.fit_resample(X_train.values,y_train.values)\n",
    "X_test_smote,y_test_smote = smote.fit_resample(X_test.values,y_test.values)"
   ]
  },
  {
   "cell_type": "code",
   "execution_count": 7,
   "metadata": {
    "pycharm": {
     "is_executing": false,
     "name": "#%%\n"
    }
   },
   "outputs": [
    {
     "name": "stdout",
     "output_type": "stream",
     "text": [
      "1394.0\n"
     ]
    }
   ],
   "source": [
    "EPOCHS = 100\n",
    "BATCH_SIZE = 2048\n",
    "\n",
    "resampled_steps_per_epoch = np.ceil(2.0*neg/BATCH_SIZE)\n",
    "print(resampled_steps_per_epoch)"
   ]
  },
  {
   "cell_type": "code",
   "execution_count": 8,
   "metadata": {
    "pycharm": {
     "is_executing": false,
     "name": "#%%\n"
    }
   },
   "outputs": [],
   "source": [
    "METRICS = [\n",
    "    tf.keras.metrics.TruePositives(name='tp'),\n",
    "    tf.keras.metrics.FalsePositives(name='fp'),\n",
    "    tf.keras.metrics.TrueNegatives(name='tn'),\n",
    "    tf.keras.metrics.FalseNegatives(name='fn'),\n",
    "    tf.keras.metrics.BinaryAccuracy(name='accuracy'),\n",
    "    tf.keras.metrics.Precision(name='precision'),\n",
    "    tf.keras.metrics.Recall(name='recall'),\n",
    "    tf.keras.metrics.AUC(name='auc'),\n",
    "]\n",
    "\n",
    "\n",
    "early_stopping = tf.keras.callbacks.EarlyStopping(monitor='val_auc', \n",
    "                                                  verbose=1,\n",
    "                                                  patience=10,\n",
    "                                                  mode='max',\n",
    "                                                  restore_best_weights=True)\n",
    "\n"
   ]
  },
  {
   "cell_type": "code",
   "execution_count": 9,
   "metadata": {
    "pycharm": {
     "is_executing": false,
     "name": "#%%\n"
    }
   },
   "outputs": [
    {
     "name": "stdout",
     "output_type": "stream",
     "text": [
      "[-2.53560092]\n"
     ]
    }
   ],
   "source": [
    "n_features = X_train.shape[1]\n",
    "\n",
    "initial_bias = np.log([pos/neg])\n",
    "print(initial_bias)"
   ]
  },
  {
   "cell_type": "code",
   "execution_count": 10,
   "metadata": {
    "pycharm": {
     "is_executing": true,
     "name": "#%% Resampled\n"
    }
   },
   "outputs": [
    {
     "name": "stdout",
     "output_type": "stream",
     "text": [
      "Built NN...\n",
      "Model: \"sequential_1\"\n",
      "_________________________________________________________________\n",
      "Layer (type)                 Output Shape              Param #   \n",
      "=================================================================\n",
      "dense_1 (Dense)              (None, 2048)              26624     \n",
      "_________________________________________________________________\n",
      "dropout_1 (Dropout)          (None, 2048)              0         \n",
      "_________________________________________________________________\n",
      "dense_2 (Dense)              (None, 2048)              4196352   \n",
      "_________________________________________________________________\n",
      "dropout_2 (Dropout)          (None, 2048)              0         \n",
      "_________________________________________________________________\n",
      "dense_3 (Dense)              (None, 2048)              4196352   \n",
      "_________________________________________________________________\n",
      "dropout_3 (Dropout)          (None, 2048)              0         \n",
      "_________________________________________________________________\n",
      "dense_4 (Dense)              (None, 2048)              4196352   \n",
      "_________________________________________________________________\n",
      "dropout_4 (Dropout)          (None, 2048)              0         \n",
      "_________________________________________________________________\n",
      "dense_5 (Dense)              (None, 1)                 2049      \n",
      "=================================================================\n",
      "Total params: 12,617,729\n",
      "Trainable params: 12,617,729\n",
      "Non-trainable params: 0\n",
      "_________________________________________________________________\n",
      "Compiled NN...\n",
      "Train on 1798932 samples, validate on 449734 samples\n",
      "Epoch 1/100\n",
      "1798932/1798932 [==============================] - 1176s 653us/step - loss: 0.6928 - tp: 39410.7383 - fp: 65870.4688 - tn: 497246.5000 - fn: 298590.9688 - accuracy: 0.5868 - precision: 0.3740 - recall: 0.1507 - auc: 0.4997 - val_loss: 1.0224 - val_tp: 49920.0000 - val_fp: 83314.0000 - val_tn: 1041020.4375 - val_fn: 850978.2500 - val_accuracy: 0.5409 - val_precision: 0.3747 - val_recall: 0.0566 - val_auc: 0.4805\n",
      "Epoch 2/100\n",
      "1798932/1798932 [==============================] - 1161s 645us/step - loss: 0.6628 - tp: 49933.2500 - fp: 83330.7422 - tn: 1604232.7500 - fn: 1412291.2500 - accuracy: 0.5223 - precision: 0.3747 - recall: 0.0348 - auc: 0.4605 - val_loss: 0.9812 - val_tp: 49934.0000 - val_fp: 83332.9297 - val_tn: 2165336.7500 - val_fn: 1975294.7500 - val_accuracy: 0.5188 - val_precision: 0.3747 - val_recall: 0.0248 - val_auc: 0.4609\n",
      "Epoch 3/100\n",
      "1798932/1798932 [==============================] - 1153s 641us/step - loss: 0.6621 - tp: 49934.4727 - fp: 83332.5703 - tn: 2728525.0000 - fn: 2536656.7500 - accuracy: 0.5136 - precision: 0.3747 - recall: 0.0194 - auc: 0.4629 - val_loss: 0.9973 - val_tp: 49934.0000 - val_fp: 83332.9297 - val_tn: 3289664.2500 - val_fn: 3099638.0000 - val_accuracy: 0.5122 - val_precision: 0.3747 - val_recall: 0.0159 - val_auc: 0.4583\n",
      "Epoch 4/100\n",
      "1798932/1798932 [==============================] - 1161s 645us/step - loss: 0.6621 - tp: 49934.4727 - fp: 83332.5703 - tn: 3853014.7500 - fn: 3660837.5000 - accuracy: 0.5098 - precision: 0.3747 - recall: 0.0135 - auc: 0.4550 - val_loss: 0.9720 - val_tp: 49934.0000 - val_fp: 83332.9297 - val_tn: 4414002.5000 - val_fn: 4223977.0000 - val_accuracy: 0.5090 - val_precision: 0.3747 - val_recall: 0.0117 - val_auc: 0.4613\n",
      "Epoch 5/100\n",
      "1798932/1798932 [==============================] - 1154s 641us/step - loss: 0.6620 - tp: 49934.4727 - fp: 83332.5703 - tn: 4977267.5000 - fn: 4785253.5000 - accuracy: 0.5077 - precision: 0.3747 - recall: 0.0103 - auc: 0.4672 - val_loss: 0.9808 - val_tp: 49934.0000 - val_fp: 83332.9297 - val_tn: 5538318.0000 - val_fn: 5348292.5000 - val_accuracy: 0.5072 - val_precision: 0.3747 - val_recall: 0.0093 - val_auc: 0.4676\n",
      "Epoch 6/100\n",
      "1798932/1798932 [==============================] - 1151s 640us/step - loss: 0.6620 - tp: 49934.4727 - fp: 83332.5703 - tn: 6101377.5000 - fn: 5909821.5000 - accuracy: 0.5063 - precision: 0.3747 - recall: 0.0084 - auc: 0.4680 - val_loss: 0.9829 - val_tp: 49934.0000 - val_fp: 83332.9297 - val_tn: 6662658.5000 - val_fn: 6472620.0000 - val_accuracy: 0.5060 - val_precision: 0.3747 - val_recall: 0.0077 - val_auc: 0.4684\n",
      "Epoch 7/100\n",
      "1798932/1798932 [==============================] - 1158s 644us/step - loss: 0.6619 - tp: 49934.4727 - fp: 83332.5703 - tn: 7226119.5000 - fn: 7033733.0000 - accuracy: 0.5054 - precision: 0.3747 - recall: 0.0071 - auc: 0.4687 - val_loss: 0.9547 - val_tp: 49934.0000 - val_fp: 83332.9297 - val_tn: 7787005.5000 - val_fn: 7596956.0000 - val_accuracy: 0.5051 - val_precision: 0.3747 - val_recall: 0.0065 - val_auc: 0.4754\n",
      "Epoch 8/100\n",
      "1798932/1798932 [==============================] - 1149s 639us/step - loss: 0.6618 - tp: 49934.4727 - fp: 83332.5703 - tn: 8350102.0000 - fn: 8158410.0000 - accuracy: 0.5046 - precision: 0.3747 - recall: 0.0061 - auc: 0.4813 - val_loss: 0.9875 - val_tp: 49934.0000 - val_fp: 83332.9297 - val_tn: 8911351.0000 - val_fn: 8721283.0000 - val_accuracy: 0.5044 - val_precision: 0.3747 - val_recall: 0.0057 - val_auc: 0.4807\n",
      "Epoch 9/100\n",
      "1798932/1798932 [==============================] - 1148s 638us/step - loss: 0.6617 - tp: 49934.4727 - fp: 83332.5703 - tn: 9474725.0000 - fn: 9282459.0000 - accuracy: 0.5041 - precision: 0.3747 - recall: 0.0054 - auc: 0.4803 - val_loss: 0.9552 - val_tp: 49934.0000 - val_fp: 83332.9297 - val_tn: 10035683.0000 - val_fn: 9845629.0000 - val_accuracy: 0.5039 - val_precision: 0.3747 - val_recall: 0.0050 - val_auc: 0.4856\n",
      "Epoch 10/100\n",
      "1798932/1798932 [==============================] - 1152s 641us/step - loss: 0.6617 - tp: 49934.4727 - fp: 83332.5703 - tn: 10599010.0000 - fn: 10406832.0000 - accuracy: 0.5037 - precision: 0.3747 - recall: 0.0048 - auc: 0.4911 - val_loss: 0.9795 - val_tp: 49934.0000 - val_fp: 83332.9297 - val_tn: 11159980.0000 - val_fn: 10969961.0000 - val_accuracy: 0.5035 - val_precision: 0.3747 - val_recall: 0.0045 - val_auc: 0.4902\n",
      "Epoch 11/100\n",
      "1798932/1798932 [==============================] - 1147s 637us/step - loss: 0.6616 - tp: 49934.4727 - fp: 83332.5703 - tn: 11723098.0000 - fn: 11531407.0000 - accuracy: 0.5033 - precision: 0.3747 - recall: 0.0043 - auc: 0.4896 - val_loss: 0.9705 - val_tp: 49934.0000 - val_fp: 83332.9297 - val_tn: 12284335.0000 - val_fn: 12094288.0000 - val_accuracy: 0.5032 - val_precision: 0.3747 - val_recall: 0.0041 - val_auc: 0.4926\n",
      "Epoch 12/100\n",
      "1798932/1798932 [==============================] - 1147s 638us/step - loss: 0.6616 - tp: 49934.4727 - fp: 83332.5703 - tn: 12846983.0000 - fn: 12656196.0000 - accuracy: 0.5030 - precision: 0.3747 - recall: 0.0039 - auc: 0.4951 - val_loss: 0.9807 - val_tp: 49934.0000 - val_fp: 83332.9297 - val_tn: 13408680.0000 - val_fn: 13218629.0000 - val_accuracy: 0.5029 - val_precision: 0.3747 - val_recall: 0.0038 - val_auc: 0.4957\n",
      "Epoch 13/100\n",
      "1798932/1798932 [==============================] - 1162s 646us/step - loss: 0.6616 - tp: 49934.4727 - fp: 83332.5703 - tn: 13971553.0000 - fn: 13780324.0000 - accuracy: 0.5028 - precision: 0.3747 - recall: 0.0036 - auc: 0.4956 - val_loss: 0.9840 - val_tp: 49934.0000 - val_fp: 83332.9297 - val_tn: 14533035.0000 - val_fn: 14342929.0000 - val_accuracy: 0.5027 - val_precision: 0.3747 - val_recall: 0.0035 - val_auc: 0.4958\n",
      "Epoch 14/100\n",
      "1798932/1798932 [==============================] - 1161s 645us/step - loss: 0.6616 - tp: 49934.4727 - fp: 83332.5703 - tn: 15096312.0000 - fn: 14904180.0000 - accuracy: 0.5026 - precision: 0.3747 - recall: 0.0033 - auc: 0.4960 - val_loss: 0.9771 - val_tp: 49934.0000 - val_fp: 83332.9297 - val_tn: 15657295.0000 - val_fn: 15467277.0000 - val_accuracy: 0.5025 - val_precision: 0.3747 - val_recall: 0.0032 - val_auc: 0.4962\n",
      "Epoch 15/100\n",
      "1798932/1798932 [==============================] - 1160s 645us/step - loss: 0.6616 - tp: 49934.4727 - fp: 83332.5703 - tn: 16220556.0000 - fn: 16028641.0000 - accuracy: 0.5024 - precision: 0.3747 - recall: 0.0031 - auc: 0.4961 - val_loss: 0.9756 - val_tp: 49934.0000 - val_fp: 83332.9297 - val_tn: 16781628.0000 - val_fn: 16591614.0000 - val_accuracy: 0.5023 - val_precision: 0.3747 - val_recall: 0.0030 - val_auc: 0.4995\n",
      "Epoch 16/100\n",
      "1798932/1798932 [==============================] - 1159s 644us/step - loss: 0.6616 - tp: 49934.4727 - fp: 83332.5703 - tn: 17344958.0000 - fn: 17152878.0000 - accuracy: 0.5023 - precision: 0.3747 - recall: 0.0029 - auc: 0.5027 - val_loss: 0.9771 - val_tp: 49934.0000 - val_fp: 83332.9297 - val_tn: 17905934.0000 - val_fn: 17715978.0000 - val_accuracy: 0.5022 - val_precision: 0.3747 - val_recall: 0.0028 - val_auc: 0.5027\n",
      "Epoch 17/100\n",
      "1798932/1798932 [==============================] - 1160s 645us/step - loss: 0.6616 - tp: 49934.4727 - fp: 83332.5703 - tn: 18469222.0000 - fn: 18277294.0000 - accuracy: 0.5021 - precision: 0.3747 - recall: 0.0027 - auc: 0.5027 - val_loss: 0.9813 - val_tp: 49934.0000 - val_fp: 83332.9297 - val_tn: 19030276.0000 - val_fn: 18840318.0000 - val_accuracy: 0.5021 - val_precision: 0.3747 - val_recall: 0.0026 - val_auc: 0.5027\n",
      "Epoch 18/100\n",
      "1798932/1798932 [==============================] - 1164s 647us/step - loss: 0.6616 - tp: 49934.4727 - fp: 83332.5703 - tn: 19593342.0000 - fn: 19401840.0000 - accuracy: 0.5020 - precision: 0.3747 - recall: 0.0026 - auc: 0.5025 - val_loss: 0.9814 - val_tp: 49934.0000 - val_fp: 83332.9297 - val_tn: 20154648.0000 - val_fn: 19964648.0000 - val_accuracy: 0.5020 - val_precision: 0.3747 - val_recall: 0.0025 - val_auc: 0.5025\n",
      "Epoch 19/100\n",
      "1798932/1798932 [==============================] - 1180s 656us/step - loss: 0.6616 - tp: 49934.4727 - fp: 83332.5703 - tn: 20717782.0000 - fn: 20526062.0000 - accuracy: 0.5019 - precision: 0.3747 - recall: 0.0024 - auc: 0.5021 - val_loss: 0.9854 - val_tp: 49934.0000 - val_fp: 83332.9297 - val_tn: 21279014.0000 - val_fn: 21088948.0000 - val_accuracy: 0.5018 - val_precision: 0.3747 - val_recall: 0.0024 - val_auc: 0.5019\n",
      "Epoch 20/100\n",
      "1798932/1798932 [==============================] - 1156s 643us/step - loss: 0.6616 - tp: 49934.4727 - fp: 83332.5703 - tn: 21842180.0000 - fn: 21650342.0000 - accuracy: 0.5018 - precision: 0.3747 - recall: 0.0023 - auc: 0.5018 - val_loss: 0.9834 - val_tp: 49934.0000 - val_fp: 83332.9297 - val_tn: 22403372.0000 - val_fn: 22213288.0000 - val_accuracy: 0.5018 - val_precision: 0.3747 - val_recall: 0.0022 - val_auc: 0.5017\n",
      "Epoch 21/100\n",
      "1798932/1798932 [==============================] - 1159s 644us/step - loss: 0.6616 - tp: 49934.4727 - fp: 83332.5703 - tn: 22966370.0000 - fn: 22774774.0000 - accuracy: 0.5017 - precision: 0.3747 - recall: 0.0022 - auc: 0.5017 - val_loss: 0.9829 - val_tp: 49934.0000 - val_fp: 83332.9297 - val_tn: 23527726.0000 - val_fn: 23337524.0000 - val_accuracy: 0.5017 - val_precision: 0.3747 - val_recall: 0.0021 - val_auc: 0.5016\n",
      "Epoch 22/100\n",
      "1798932/1798932 [==============================] - 1156s 642us/step - loss: 0.6616 - tp: 49934.4727 - fp: 83332.5703 - tn: 24091090.0000 - fn: 23898778.0000 - accuracy: 0.5016 - precision: 0.3747 - recall: 0.0021 - auc: 0.5016 - val_loss: 0.9762 - val_tp: 49934.0000 - val_fp: 83332.9297 - val_tn: 24652088.0000 - val_fn: 24461864.0000 - val_accuracy: 0.5016 - val_precision: 0.3747 - val_recall: 0.0020 - val_auc: 0.5017\n",
      "Epoch 23/100\n",
      "1798932/1798932 [==============================] - 1157s 643us/step - loss: 0.6616 - tp: 49934.4727 - fp: 83332.5703 - tn: 25214948.0000 - fn: 25023560.0000 - accuracy: 0.5016 - precision: 0.3747 - recall: 0.0020 - auc: 0.5011 - val_loss: 0.9843 - val_tp: 49934.0000 - val_fp: 83332.9297 - val_tn: 25776446.0000 - val_fn: 25586188.0000 - val_accuracy: 0.5015 - val_precision: 0.3747 - val_recall: 0.0019 - val_auc: 0.5010\n",
      "Epoch 24/100\n",
      "1798932/1798932 [==============================] - 1177s 654us/step - loss: 0.6616 - tp: 49934.4727 - fp: 83332.5703 - tn: 26339086.0000 - fn: 26148092.0000 - accuracy: 0.5015 - precision: 0.3747 - recall: 0.0019 - auc: 0.5008 - val_loss: 0.9837 - val_tp: 49934.0000 - val_fp: 83332.9297 - val_tn: 26900664.0000 - val_fn: 26710532.0000 - val_accuracy: 0.5015 - val_precision: 0.3747 - val_recall: 0.0019 - val_auc: 0.5009\n",
      "Epoch 25/100\n",
      "1798932/1798932 [==============================] - 1161s 645us/step - loss: 0.6616 - tp: 49934.4727 - fp: 83332.5703 - tn: 27463728.0000 - fn: 27272118.0000 - accuracy: 0.5014 - precision: 0.3747 - recall: 0.0018 - auc: 0.5008 - val_loss: 0.9825 - val_tp: 49934.0000 - val_fp: 83332.9297 - val_tn: 28025008.0000 - val_fn: 27834878.0000 - val_accuracy: 0.5014 - val_precision: 0.3747 - val_recall: 0.0018 - val_auc: 0.5008\n",
      "Epoch 26/100\n",
      "1798932/1798932 [==============================] - 1151s 640us/step - loss: 0.6616 - tp: 49934.4727 - fp: 83332.5703 - tn: 28588440.0000 - fn: 28396086.0000 - accuracy: 0.5014 - precision: 0.3747 - recall: 0.0018 - auc: 0.5008 - val_loss: 0.9819 - val_tp: 49934.0000 - val_fp: 83332.9297 - val_tn: 29149346.0000 - val_fn: 28959230.0000 - val_accuracy: 0.5013 - val_precision: 0.3747 - val_recall: 0.0017 - val_auc: 0.5005\n",
      "Epoch 27/100\n",
      "1798932/1798932 [==============================] - 1157s 643us/step - loss: 0.6616 - tp: 49934.4727 - fp: 83332.5703 - tn: 29712896.0000 - fn: 29520290.0000 - accuracy: 0.5013 - precision: 0.3747 - recall: 0.0017 - auc: 0.5004 - val_loss: 0.9794 - val_tp: 49934.0000 - val_fp: 83332.9297 - val_tn: 30273690.0000 - val_fn: 30083578.0000 - val_accuracy: 0.5013 - val_precision: 0.3747 - val_recall: 0.0017 - val_auc: 0.5003\n",
      "Restoring model weights from the end of the best epoch.\n",
      "Epoch 00027: early stopping\n"
     ]
    }
   ],
   "source": [
    "\n",
    "resampled_model = keras.Sequential()\n",
    "resampled_model.add(keras.layers.Dense(2048,activation='sigmoid',input_shape=(n_features,)))\n",
    "resampled_model.add(keras.layers.Dropout(0.5))\n",
    "resampled_model.add(keras.layers.Dense(2048,activation='sigmoid'))\n",
    "resampled_model.add(keras.layers.Dropout(0.5))\n",
    "resampled_model.add(keras.layers.Dense(2048,activation='sigmoid'))\n",
    "resampled_model.add(keras.layers.Dropout(0.5))\n",
    "resampled_model.add(keras.layers.Dense(2048,activation='sigmoid'))\n",
    "resampled_model.add(keras.layers.Dropout(0.5))\n",
    "resampled_model.add(keras.layers.Dense(1,activation='sigmoid'))\n",
    "print('Built NN...')\n",
    "resampled_model.compile(optimizer=keras.optimizers.Adam(lr=1e-3),loss=keras.losses.BinaryCrossentropy(),metrics=METRICS)\n",
    "resampled_model.summary()\n",
    "print('Compiled NN...')\n",
    "\n",
    "initial_weights = os.path.join(tempfile.mkdtemp(),'initial_weights')\n",
    "resampled_model.save_weights(initial_weights)\n",
    "\n",
    "resampled_model.load_weights(initial_weights)\n",
    "output_layer = resampled_model.layers[-1] \n",
    "output_layer.bias.assign([0])\n",
    "\n",
    "resampled_history = resampled_model.fit(X_train_smote,\n",
    "                                        y_train_smote,\n",
    "                                        batch_size=BATCH_SIZE,\n",
    "                                        epochs=EPOCHS,\n",
    "                                        callbacks = [early_stopping],\n",
    "                                        validation_split=0.2\n",
    "                                        )"
   ]
  },
  {
   "cell_type": "code",
   "execution_count": 11,
   "metadata": {
    "pycharm": {
     "is_executing": true,
     "name": "#%% USING test_smote\n"
    }
   },
   "outputs": [
    {
     "data": {
      "image/png": "[encoded data removed]",
      "text/plain": [
       "<Figure size 432x288 with 4 Axes>"
      ]
     },
     "metadata": {
      "needs_background": "light"
     },
     "output_type": "display_data"
    }
   ],
   "source": [
    "plot_metrics(resampled_history)\n",
    "plt.show()"
   ]
  },
  {
   "cell_type": "code",
   "execution_count": 12,
   "metadata": {
    "pycharm": {
     "is_executing": true,
     "name": "#%%\n"
    }
   },
   "outputs": [],
   "source": [
    "train_predictions_resampled = resampled_model.predict(X_train_smote, batch_size=BATCH_SIZE)\n",
    "test_predictions_resampled = resampled_model.predict(X_test_smote, batch_size=BATCH_SIZE)"
   ]
  },
  {
   "cell_type": "code",
   "execution_count": 13,
   "metadata": {
    "pycharm": {
     "is_executing": true,
     "name": "#%%\n"
    }
   },
   "outputs": [
    {
     "name": "stdout",
     "output_type": "stream",
     "text": [
      "605026/605026 [==============================] - 86s 142us/step\n"
     ]
    }
   ],
   "source": [
    "resampled_results = resampled_model.evaluate(X_test_smote,\n",
    "                                             y_test_smote,\n",
    "                                             batch_size=BATCH_SIZE, \n",
    "                                             verbose=1)"
   ]
  },
  {
   "cell_type": "code",
   "execution_count": 14,
   "metadata": {
    "pycharm": {
     "is_executing": true,
     "name": "#%%\n"
    }
   },
   "outputs": [
    {
     "name": "stdout",
     "output_type": "stream",
     "text": [
      "loss :  0.7255165391579231\n",
      "tp :  49934.0\n",
      "fp :  83332.6875\n",
      "tn :  30499156.0\n",
      "fn :  30385748.0\n",
      "accuracy :  0.5006568431854248\n",
      "precision :  0.3746926486492157\n",
      "recall :  0.0016406619688495994\n",
      "auc :  0.5001897811889648\n",
      "\n",
      "Legitimate Transactions Detected (True Negatives):  302513\n",
      "Legitimate Transactions Incorrectly Detected (False Positives):  0\n",
      "Fraudulent Transactions Missed (False Negatives):  302513\n",
      "Fraudulent Transactions Detected (True Positives):  0\n",
      "Total Fraudulent Transactions:  302513\n"
     ]
    },
    {
     "data": {
      "image/png": "[encoded data removed]",
      "text/plain": [
       "<Figure size 360x360 with 2 Axes>"
      ]
     },
     "metadata": {
      "needs_background": "light"
     },
     "output_type": "display_data"
    }
   ],
   "source": [
    "for name, value in zip(resampled_model.metrics_names, resampled_results):\n",
    "  print(name, ': ', value)\n",
    "print()\n",
    "\n",
    "plot_cm(y_test_smote, test_predictions_resampled)"
   ]
  },
  {
   "cell_type": "code",
   "execution_count": 15,
   "metadata": {
    "pycharm": {
     "is_executing": true,
     "name": "#%%\n"
    }
   },
   "outputs": [
    {
     "data": {
      "text/plain": [
       "<matplotlib.legend.Legend at 0x1bd33a3abc8>"
      ]
     },
     "execution_count": 15,
     "metadata": {},
     "output_type": "execute_result"
    },
    {
     "data": {
      "image/png": "[encoded data removed]",
      "text/plain": [
       "<Figure size 432x288 with 1 Axes>"
      ]
     },
     "metadata": {
      "needs_background": "light"
     },
     "output_type": "display_data"
    }
   ],
   "source": [
    "\n",
    "plot_roc(\"Train Resampled Smote\", y_train_smote, train_predictions_resampled,  color=colors[2])\n",
    "plot_roc(\"Test Resampled Smote\", y_test_smote, test_predictions_resampled,  color=colors[2], linestyle='--')\n",
    "\n",
    "plt.legend(loc='lower right')\n"
   ]
  }
 ],
 "metadata": {
  "kernelspec": {
   "display_name": "Python 3",
   "language": "python",
   "name": "python3"
  },
  "language_info": {
   "codemirror_mode": {
    "name": "ipython",
    "version": 3
   },
   "file_extension": ".py",
   "mimetype": "text/x-python",
   "name": "python",
   "nbconvert_exporter": "python",
   "pygments_lexer": "ipython3",
   "version": "3.7.5"
  },
  "pycharm": {
   "stem_cell": {
    "cell_type": "raw",
    "metadata": {
     "collapsed": false
    },
    "source": []
   }
  }
 },
 "nbformat": 4,
 "nbformat_minor": 1
}
