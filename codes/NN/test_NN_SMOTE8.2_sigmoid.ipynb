{
 "cells": [
  {
   "cell_type": "code",
   "execution_count": 1,
   "metadata": {
    "pycharm": {
     "is_executing": false,
     "name": "#%% IMPORT SECTION\n"
    }
   },
   "outputs": [
    {
     "name": "stderr",
     "output_type": "stream",
     "text": [
      "Using TensorFlow backend.\n"
     ]
    }
   ],
   "source": [
    "import numpy as np\n",
    "import pandas as pd\n",
    "import matplotlib.pyplot as plt\n",
    "import seaborn as sns\n",
    "import sklearn.metrics as metrics\n",
    "import os\n",
    "import tempfile \n",
    "\n",
    "\n",
    "from sklearn import preprocessing\n",
    "from sklearn.utils.class_weight import compute_class_weight\n",
    "from sklearn.metrics import roc_auc_score, classification_report\n",
    "from collections import Counter\n",
    "\n",
    "from imblearn.over_sampling import SMOTE\n",
    "\n",
    "import tensorflow as tf\n",
    "import keras\n",
    "\n",
    "\n",
    "import warnings\n",
    "warnings.filterwarnings(\"ignore\")\n",
    "colors = np.array(['#0101DF','#DF0101','#01DF01','#DFDFDF'])\n",
    "\n",
    "rs = 42\n",
    "def compute_metrics (y_te2,y_p,string):\n",
    "    print('\\n %s'%string)\n",
    "    print('CONFUSION MATRIX')\n",
    "    print(metrics.confusion_matrix(y_te2,y_p))\n",
    "    print(classification_report(y_te2, y_p))\n",
    "    print('\\nROC CURVE: %2.2f'%roc_auc_score(y_te2,y_p))\n",
    "\n",
    "def Ratio10(y,string):\n",
    "    suma = Counter(y)[0]+Counter(y)[1]\n",
    "    print('\\n'+string)  \n",
    "    print(Counter(y))\n",
    "    print('0: %3.2f%%\\n1: %3.2f%%' % (100*Counter(y)[0]/suma,100*Counter(y)[1]/suma))\n",
    "\n",
    "def histo(data,var):\n",
    "    fig=plt.figure()\n",
    "    sns.countplot(var,data=data,palette=colors)\n",
    "    plt.title('0/1 Distribution (0: No Stalling || 1: Stalling Event',fontsize=14)\n",
    "    plt.show()\n",
    "    \n",
    "def plot_loss(history, label, n):\n",
    "    # Use a log scale to show the wide range of values.\n",
    "    plt.semilogy(history.epoch,  \n",
    "                 history.history['loss'],\n",
    "                 color=colors[n], \n",
    "                 label='Train '+label\n",
    "                 )\n",
    "    plt.semilogy(history.epoch,\n",
    "                 history.history['val_loss'],\n",
    "                 color=colors[n], \n",
    "                 label='Val '+label,\n",
    "                 linestyle=\"--\")\n",
    "    plt.xlabel('Epoch')\n",
    "    plt.ylabel('Loss')\n",
    "    plt.legend()\n",
    "\n",
    "def plot_metrics(history):\n",
    "    metrics =  ['loss', 'auc', 'precision', 'recall']\n",
    "    for n, metric in enumerate(metrics):\n",
    "        name = metric.replace(\"_\",\" \").capitalize()\n",
    "        plt.subplot(2,2,n+1)\n",
    "        plt.plot(history.epoch,  history.history[metric], color=colors[0], label='Train')\n",
    "        plt.plot(history.epoch, history.history['val_'+metric],\n",
    "             color=colors[0], linestyle=\"--\", label='Val')\n",
    "        plt.xlabel('Epoch')\n",
    "        plt.ylabel(name)\n",
    "        if metric == 'loss':\n",
    "            plt.ylim([0, plt.ylim()[1]])\n",
    "        elif metric == 'auc':\n",
    "            plt.ylim([0.5,1])\n",
    "        else:\n",
    "            plt.ylim([0,1])\n",
    "\n",
    "    plt.legend()\n",
    "\n",
    "def plot_cm(labels, predictions, p=0.5):\n",
    "  cm = metrics.confusion_matrix(labels, predictions > p)\n",
    "  plt.figure(figsize=(5,5))\n",
    "  sns.heatmap(cm, annot=True, fmt=\"d\")\n",
    "  plt.title('Confusion matrix @{:.2f}'.format(p))\n",
    "  plt.ylabel('Actual label')\n",
    "  plt.xlabel('Predicted label')\n",
    "\n",
    "  print('Legitimate Transactions Detected (True Negatives): ', cm[0][0])\n",
    "  print('Legitimate Transactions Incorrectly Detected (False Positives): ', cm[0][1])\n",
    "  print('Fraudulent Transactions Missed (False Negatives): ', cm[1][0])\n",
    "  print('Fraudulent Transactions Detected (True Positives): ', cm[1][1])\n",
    "  print('Total Fraudulent Transactions: ', np.sum(cm[1]))\n",
    "  \n",
    "\n",
    "def plot_roc(name, labels, predictions, **kwargs):\n",
    "    fp, tp, _ = metrics.roc_curve(labels, predictions)\n",
    "\n",
    "    plt.plot(100*fp, 100*tp, label=name, linewidth=2, **kwargs)\n",
    "    plt.xlabel('False positives [%]')\n",
    "    plt.ylabel('True positives [%]')\n",
    "    plt.xlim([-0.5,100.5])\n",
    "    plt.ylim([-0.5,100.5])\n",
    "    plt.grid(True)\n",
    "    ax = plt.gca()\n",
    "    ax.set_aspect('equal')\n",
    "  "
   ]
  },
  {
   "cell_type": "code",
   "execution_count": 2,
   "metadata": {
    "pycharm": {
     "is_executing": false,
     "name": "#%% LOAD DATASET REMOVING NOISE\n"
    }
   },
   "outputs": [
    {
     "name": "stdout",
     "output_type": "stream",
     "text": [
      "Index(['∆t', 'pkt_len', 'tcp_hea_len', 'tcp_flag_ack', 'tcp_flag_cwr',\n",
      "       'tcp_flag_ecn', 'tcp_flag_urg', 'tcp_flag_psh', 'tcp_flag_rst',\n",
      "       'tcp_flag_syn', 'tcp_flag_fin', 'tcp_win_si2', 'delay', 'capture',\n",
      "       'stalling_event'],\n",
      "      dtype='object')\n",
      "\n",
      "dataset[stalling_event]\n",
      "Counter({0: 1426905, 1: 113031})\n",
      "0: 92.66%\n",
      "1: 7.34%\n"
     ]
    },
    {
     "data": {
      "image/png": "[encoded data removed]",
      "text/plain": [
       "<Figure size 432x288 with 1 Axes>"
      ]
     },
     "metadata": {
      "needs_background": "light"
     },
     "output_type": "display_data"
    }
   ],
   "source": [
    "dataset = pd.read_csv('../../output/df_general.csv', sep=',')\n",
    "split = 0.8\n",
    "del dataset['No.']\n",
    "del dataset['Protocol']\n",
    "del dataset['ip_len']\n",
    "del dataset['prebuffering']\n",
    "del dataset['Time']\n",
    "\n",
    "dataset = dataset.fillna(dataset.mean())\n",
    "neg, pos = np.bincount(dataset['stalling_event'])\n",
    "total = neg + pos\n",
    "weight_for_0 = (1 / neg)*(total)/2.0 \n",
    "weight_for_1 = (1 / pos)*(total)/2.0\n",
    "\n",
    "class_weight = {0: weight_for_0, 1: weight_for_1}\n",
    "\n",
    "print(dataset.columns)\n",
    "Ratio10(dataset['stalling_event'],'dataset[stalling_event]')\n",
    "histo(dataset,'stalling_event')"
   ]
  },
  {
   "cell_type": "code",
   "execution_count": 3,
   "metadata": {
    "pycharm": {
     "is_executing": false,
     "name": "#%% SPLIT TRAIN/TEST\n"
    }
   },
   "outputs": [],
   "source": [
    "from random import randint\n",
    "'''X_train = [None] * (len(dataset.columns)-1)\n",
    "X_test = [None] * (len(dataset.columns)-1)'''\n",
    "\n",
    "X_train = np.array([None]*12)\n",
    "X_test = np.array([None]*12)\n",
    "y_train = list()\n",
    "y_test = list()\n",
    "\n",
    "grouped = dataset.groupby(['delay','capture']) \n",
    "#print(grouped.mean())\n",
    "\n",
    "for id, data in grouped:\n",
    "    spl = int(data.shape[0] * split)\n",
    "    restspl = int(data.shape[0] * (1-split))\n",
    "    randnum = randint(0,restspl)\n",
    "    \n",
    "    X_train = np.vstack((X_train,data.values[randnum:randnum+spl,:-3]))\n",
    "    X_test = np.vstack((X_test,data.values[0:randnum-1,:-3]))\n",
    "    X_test = np.vstack((X_test,data.values[randnum+spl:,:-3]))\n",
    "    \n",
    "    y_train.extend(data.values[randnum:randnum+spl,-1])\n",
    "    y_test.extend(data.values[0:randnum-1,-1])\n",
    "    y_test.extend(data.values[randnum+spl:,-1])\n",
    "\n",
    "X_train = X_train[1:]\n",
    "X_test = X_test[1:]"
   ]
  },
  {
   "cell_type": "code",
   "execution_count": 4,
   "metadata": {
    "pycharm": {
     "is_executing": false,
     "name": "#%%\n"
    }
   },
   "outputs": [],
   "source": [
    "mms = preprocessing.MinMaxScaler()\n",
    "X_train = mms.fit_transform(X_train)\n",
    "X_test = mms.transform(X_test)"
   ]
  },
  {
   "cell_type": "code",
   "execution_count": 5,
   "metadata": {
    "pycharm": {
     "is_executing": false,
     "name": "#%%\n"
    }
   },
   "outputs": [
    {
     "name": "stdout",
     "output_type": "stream",
     "text": [
      "\n",
      "y_test\n",
      "Counter({0: 303898, 1: 4054})\n",
      "0: 98.68%\n",
      "1: 1.32%\n",
      "\n",
      "y_train\n",
      "Counter({0: 1122947, 1: 108977})\n",
      "0: 91.15%\n",
      "1: 8.85%\n"
     ]
    }
   ],
   "source": [
    "y_test = list(map(int,y_test))\n",
    "y_train = list(map(int,y_train))\n",
    "Ratio10(y_test,'y_test')\n",
    "Ratio10(y_train,'y_train')\n",
    "\n",
    "X_train = pd.DataFrame(data=X_train,columns=dataset.columns[:-3])\n",
    "X_test= pd.DataFrame(data=X_test,columns=dataset.columns[:-3])\n",
    "y_train = pd.DataFrame(data=y_train,columns=['y_train'])\n",
    "y_test= pd.DataFrame(data=y_test,columns=['y_test'])\n",
    "del dataset['delay']\n",
    "del dataset['capture']"
   ]
  },
  {
   "cell_type": "code",
   "execution_count": 6,
   "metadata": {
    "pycharm": {
     "is_executing": false,
     "name": "#%%\n"
    }
   },
   "outputs": [],
   "source": [
    "smote = SMOTE(random_state = rs)\n",
    "X_train_smote,y_train_smote = smote.fit_resample(X_train.values,y_train.values)\n",
    "X_test_smote,y_test_smote = smote.fit_resample(X_test.values,y_test.values)"
   ]
  },
  {
   "cell_type": "code",
   "execution_count": 7,
   "metadata": {
    "pycharm": {
     "is_executing": false,
     "name": "#%%\n"
    }
   },
   "outputs": [
    {
     "name": "stdout",
     "output_type": "stream",
     "text": [
      "1394.0\n"
     ]
    }
   ],
   "source": [
    "EPOCHS = 100\n",
    "BATCH_SIZE = 2048\n",
    "\n",
    "resampled_steps_per_epoch = np.ceil(2.0*neg/BATCH_SIZE)\n",
    "print(resampled_steps_per_epoch)"
   ]
  },
  {
   "cell_type": "code",
   "execution_count": 8,
   "metadata": {
    "pycharm": {
     "is_executing": false,
     "name": "#%%\n"
    }
   },
   "outputs": [],
   "source": [
    "METRICS = [\n",
    "    tf.keras.metrics.TruePositives(name='tp'),\n",
    "    tf.keras.metrics.FalsePositives(name='fp'),\n",
    "    tf.keras.metrics.TrueNegatives(name='tn'),\n",
    "    tf.keras.metrics.FalseNegatives(name='fn'),\n",
    "    tf.keras.metrics.BinaryAccuracy(name='accuracy'),\n",
    "    tf.keras.metrics.Precision(name='precision'),\n",
    "    tf.keras.metrics.Recall(name='recall'),\n",
    "    tf.keras.metrics.AUC(name='auc'),\n",
    "]\n",
    "\n",
    "\n",
    "early_stopping = tf.keras.callbacks.EarlyStopping(monitor='val_auc', \n",
    "                                                  verbose=1,\n",
    "                                                  patience=10,\n",
    "                                                  mode='max',\n",
    "                                                  restore_best_weights=True)\n",
    "\n"
   ]
  },
  {
   "cell_type": "code",
   "execution_count": 9,
   "metadata": {
    "pycharm": {
     "is_executing": false,
     "name": "#%%\n"
    }
   },
   "outputs": [
    {
     "name": "stdout",
     "output_type": "stream",
     "text": [
      "[-2.53560092]\n"
     ]
    }
   ],
   "source": [
    "n_features = X_train.shape[1]\n",
    "\n",
    "initial_bias = np.log([pos/neg])\n",
    "print(initial_bias)"
   ]
  },
  {
   "cell_type": "code",
   "execution_count": 10,
   "metadata": {
    "pycharm": {
     "is_executing": true,
     "name": "#%% Resampled\n"
    }
   },
   "outputs": [
    {
     "name": "stdout",
     "output_type": "stream",
     "text": [
      "Built NN...\n",
      "Model: \"sequential_1\"\n",
      "_________________________________________________________________\n",
      "Layer (type)                 Output Shape              Param #   \n",
      "=================================================================\n",
      "dense_1 (Dense)              (None, 2048)              26624     \n",
      "_________________________________________________________________\n",
      "dropout_1 (Dropout)          (None, 2048)              0         \n",
      "_________________________________________________________________\n",
      "dense_2 (Dense)              (None, 2048)              4196352   \n",
      "_________________________________________________________________\n",
      "dropout_2 (Dropout)          (None, 2048)              0         \n",
      "_________________________________________________________________\n",
      "dense_3 (Dense)              (None, 2048)              4196352   \n",
      "_________________________________________________________________\n",
      "dropout_3 (Dropout)          (None, 2048)              0         \n",
      "_________________________________________________________________\n",
      "dense_4 (Dense)              (None, 2048)              4196352   \n",
      "_________________________________________________________________\n",
      "dropout_4 (Dropout)          (None, 2048)              0         \n",
      "_________________________________________________________________\n",
      "dense_5 (Dense)              (None, 1)                 2049      \n",
      "=================================================================\n",
      "Total params: 12,617,729\n",
      "Trainable params: 12,617,729\n",
      "Non-trainable params: 0\n",
      "_________________________________________________________________\n",
      "Compiled NN...\n",
      "Train on 1796715 samples, validate on 449179 samples\n",
      "Epoch 1/100\n",
      "1796715/1796715 [==============================] - 1505s 838us/step - loss: 0.6949 - tp: 47025.6602 - fp: 77834.8047 - tn: 484652.9688 - fn: 290580.6250 - accuracy: 0.5839 - precision: 0.3767 - recall: 0.1676 - auc: 0.5011 - val_loss: 1.0265 - val_tp: 64062.0000 - val_fp: 106100.0000 - val_tn: 1016847.9375 - val_fn: 836003.9375 - val_accuracy: 0.5365 - val_precision: 0.3765 - val_recall: 0.0727 - val_auc: 0.4859\n",
      "Epoch 2/100\n",
      "1796715/1796715 [==============================] - 1507s 839us/step - loss: 0.6636 - tp: 64077.7070 - fp: 106137.7109 - tn: 1579490.8750 - fn: 1396280.0000 - accuracy: 0.5195 - precision: 0.3765 - recall: 0.0447 - auc: 0.4698 - val_loss: 0.9556 - val_tp: 64084.0000 - val_fp: 106155.2734 - val_tn: 2139742.2500 - val_fn: 1958930.0000 - val_accuracy: 0.5167 - val_precision: 0.3764 - val_recall: 0.0318 - val_auc: 0.4826\n",
      "Epoch 3/100\n",
      "1796715/1796715 [==============================] - 1504s 837us/step - loss: 0.6637 - tp: 64089.2852 - fp: 106171.7188 - tn: 2702206.2500 - fn: 2519416.2500 - accuracy: 0.5120 - precision: 0.3764 - recall: 0.0249 - auc: 0.4938 - val_loss: 0.9742 - val_tp: 64098.0000 - val_fp: 106188.0000 - val_tn: 3262655.5000 - val_fn: 3081856.2500 - val_accuracy: 0.5108 - val_precision: 0.3764 - val_recall: 0.0204 - val_auc: 0.4980\n",
      "Epoch 4/100\n",
      "1796715/1796715 [==============================] - 1500s 835us/step - loss: 0.6632 - tp: 64099.4414 - fp: 106189.1172 - tn: 3825172.0000 - fn: 3642323.7500 - accuracy: 0.5087 - precision: 0.3764 - recall: 0.0173 - auc: 0.5010 - val_loss: 0.9811 - val_tp: 64099.0000 - val_fp: 106188.7266 - val_tn: 4385599.5000 - val_fn: 4204799.0000 - val_accuracy: 0.5080 - val_precision: 0.3764 - val_recall: 0.0150 - val_auc: 0.5004\n",
      "Epoch 5/100\n",
      "1796715/1796715 [==============================] - 1504s 837us/step - loss: 0.6631 - tp: 64099.6992 - fp: 106194.8828 - tn: 4948283.5000 - fn: 4765088.5000 - accuracy: 0.5068 - precision: 0.3764 - recall: 0.0133 - auc: 0.5001 - val_loss: 0.9135 - val_tp: 64100.0000 - val_fp: 106200.7266 - val_tn: 5508533.5000 - val_fn: 5327741.5000 - val_accuracy: 0.5064 - val_precision: 0.3764 - val_recall: 0.0119 - val_auc: 0.5108\n",
      "Epoch 6/100\n",
      "1796715/1796715 [==============================] - 1500s 835us/step - loss: 0.6628 - tp: 64100.3086 - fp: 106200.4766 - tn: 6071081.0000 - fn: 5888179.5000 - accuracy: 0.5056 - precision: 0.3764 - recall: 0.0108 - auc: 0.5201 - val_loss: 0.9258 - val_tp: 64103.0000 - val_fp: 106203.2734 - val_tn: 6631469.0000 - val_fn: 6450685.0000 - val_accuracy: 0.5053 - val_precision: 0.3764 - val_recall: 0.0098 - val_auc: 0.5266\n",
      "Epoch 7/100\n",
      "1796715/1796715 [==============================] - 1501s 835us/step - loss: 0.6627 - tp: 64105.8516 - fp: 106206.3203 - tn: 7193941.0000 - fn: 7011204.0000 - accuracy: 0.5047 - precision: 0.3764 - recall: 0.0091 - auc: 0.5324 - val_loss: 0.9511 - val_tp: 64108.0000 - val_fp: 106208.7266 - val_tn: 7754406.0000 - val_fn: 7573628.5000 - val_accuracy: 0.5045 - val_precision: 0.3764 - val_recall: 0.0084 - val_auc: 0.5342\n",
      "Epoch 8/100\n",
      "1796715/1796715 [==============================] - 1503s 837us/step - loss: 0.6625 - tp: 64113.7500 - fp: 106220.2656 - tn: 8316646.5000 - fn: 8134364.0000 - accuracy: 0.5041 - precision: 0.3764 - recall: 0.0078 - auc: 0.5356 - val_loss: 0.9841 - val_tp: 64118.0000 - val_fp: 106236.0000 - val_tn: 8877321.0000 - val_fn: 8696570.0000 - val_accuracy: 0.5039 - val_precision: 0.3764 - val_recall: 0.0073 - val_auc: 0.5336\n",
      "Epoch 9/100\n",
      "1796715/1796715 [==============================] - 1506s 838us/step - loss: 0.6624 - tp: 64124.5586 - fp: 106249.9141 - tn: 9439991.0000 - fn: 9256901.0000 - accuracy: 0.5036 - precision: 0.3764 - recall: 0.0069 - auc: 0.5318 - val_loss: 1.0169 - val_tp: 64133.0000 - val_fp: 106262.0000 - val_tn: 10000259.0000 - val_fn: 9819513.0000 - val_accuracy: 0.5035 - val_precision: 0.3764 - val_recall: 0.0065 - val_auc: 0.5254\n",
      "Epoch 10/100\n",
      "1796715/1796715 [==============================] - 1625s 905us/step - loss: 0.6623 - tp: 64147.9180 - fp: 106292.2422 - tn: 10562757.0000 - fn: 10379956.0000 - accuracy: 0.5033 - precision: 0.3764 - recall: 0.0061 - auc: 0.5193 - val_loss: 0.9307 - val_tp: 64161.0000 - val_fp: 106320.7266 - val_tn: 11123173.0000 - val_fn: 10942450.0000 - val_accuracy: 0.5031 - val_precision: 0.3764 - val_recall: 0.0058 - val_auc: 0.5240\n",
      "Epoch 11/100\n",
      "1796715/1796715 [==============================] - 1505s 838us/step - loss: 0.6622 - tp: 64163.6172 - fp: 106325.8438 - tn: 11685808.0000 - fn: 11502727.0000 - accuracy: 0.5030 - precision: 0.3763 - recall: 0.0055 - auc: 0.5283 - val_loss: 1.0249 - val_tp: 64181.0000 - val_fp: 106344.0000 - val_tn: 12246042.0000 - val_fn: 12065357.0000 - val_accuracy: 0.5028 - val_precision: 0.3764 - val_recall: 0.0053 - val_auc: 0.5227\n",
      "Epoch 12/100\n",
      "1796715/1796715 [==============================] - 1508s 839us/step - loss: 0.6621 - tp: 64189.3633 - fp: 106357.0859 - tn: 12808657.0000 - fn: 12625724.0000 - accuracy: 0.5027 - precision: 0.3764 - recall: 0.0051 - auc: 0.5176 - val_loss: 0.9899 - val_tp: 64204.0000 - val_fp: 106382.0000 - val_tn: 13369000.0000 - val_fn: 13188274.0000 - val_accuracy: 0.5026 - val_precision: 0.3764 - val_recall: 0.0048 - val_auc: 0.5151\n",
      "Epoch 13/100\n",
      "1796715/1796715 [==============================] - 1502s 836us/step - loss: 0.6621 - tp: 64215.8984 - fp: 106399.7422 - tn: 13931789.0000 - fn: 13748427.0000 - accuracy: 0.5025 - precision: 0.3764 - recall: 0.0046 - auc: 0.5129 - val_loss: 0.9255 - val_tp: 64224.0000 - val_fp: 106420.0000 - val_tn: 14491902.0000 - val_fn: 14311180.0000 - val_accuracy: 0.5024 - val_precision: 0.3764 - val_recall: 0.0045 - val_auc: 0.5170\n",
      "Epoch 14/100\n",
      "1796715/1796715 [==============================] - 1533s 853us/step - loss: 0.6620 - tp: 64234.4883 - fp: 106442.2344 - tn: 15054523.0000 - fn: 14871501.0000 - accuracy: 0.5023 - precision: 0.3764 - recall: 0.0043 - auc: 0.5210 - val_loss: 0.9534 - val_tp: 64240.0000 - val_fp: 106456.7266 - val_tn: 15614784.0000 - val_fn: 15434157.0000 - val_accuracy: 0.5022 - val_precision: 0.3763 - val_recall: 0.0041 - val_auc: 0.5227\n",
      "Epoch 15/100\n",
      "1796715/1796715 [==============================] - 1506s 838us/step - loss: 0.6619 - tp: 64245.4688 - fp: 106463.0156 - tn: 16177215.0000 - fn: 15994683.0000 - accuracy: 0.5021 - precision: 0.3763 - recall: 0.0040 - auc: 0.5244 - val_loss: 1.0047 - val_tp: 64246.0000 - val_fp: 106468.0000 - val_tn: 16737773.0000 - val_fn: 16557055.0000 - val_accuracy: 0.5021 - val_precision: 0.3763 - val_recall: 0.0039 - val_auc: 0.5210\n",
      "Epoch 16/100\n",
      "1796715/1796715 [==============================] - 1498s 834us/step - loss: 0.6618 - tp: 64251.3516 - fp: 106469.1328 - tn: 17300184.0000 - fn: 17117592.0000 - accuracy: 0.5020 - precision: 0.3764 - recall: 0.0037 - auc: 0.5179 - val_loss: 0.9663 - val_tp: 64256.0000 - val_fp: 106475.2734 - val_tn: 17860660.0000 - val_fn: 17680054.0000 - val_accuracy: 0.5019 - val_precision: 0.3764 - val_recall: 0.0036 - val_auc: 0.5185\n",
      "Epoch 17/100\n",
      "1796715/1796715 [==============================] - 1500s 835us/step - loss: 0.6618 - tp: 64256.0000 - fp: 106480.4297 - tn: 18423334.0000 - fn: 18240328.0000 - accuracy: 0.5019 - precision: 0.3764 - recall: 0.0035 - auc: 0.5192 - val_loss: 0.9799 - val_tp: 64257.0000 - val_fp: 106487.2734 - val_tn: 18983676.0000 - val_fn: 18802934.0000 - val_accuracy: 0.5018 - val_precision: 0.3763 - val_recall: 0.0034 - val_auc: 0.5185\n",
      "Restoring model weights from the end of the best epoch.\n",
      "Epoch 00017: early stopping\n"
     ]
    }
   ],
   "source": [
    "\n",
    "resampled_model = keras.Sequential()\n",
    "resampled_model.add(keras.layers.Dense(2048,activation='sigmoid',input_shape=(n_features,)))\n",
    "resampled_model.add(keras.layers.Dropout(0.5))\n",
    "resampled_model.add(keras.layers.Dense(2048,activation='sigmoid'))\n",
    "resampled_model.add(keras.layers.Dropout(0.5))\n",
    "resampled_model.add(keras.layers.Dense(2048,activation='sigmoid'))\n",
    "resampled_model.add(keras.layers.Dropout(0.5))\n",
    "resampled_model.add(keras.layers.Dense(2048,activation='sigmoid'))\n",
    "resampled_model.add(keras.layers.Dropout(0.5))\n",
    "resampled_model.add(keras.layers.Dense(1,activation='sigmoid'))\n",
    "print('Built NN...')\n",
    "resampled_model.compile(optimizer=keras.optimizers.Adam(lr=1e-3),loss=keras.losses.BinaryCrossentropy(),metrics=METRICS)\n",
    "resampled_model.summary()\n",
    "print('Compiled NN...')\n",
    "\n",
    "initial_weights = os.path.join(tempfile.mkdtemp(),'initial_weights')\n",
    "resampled_model.save_weights(initial_weights)\n",
    "\n",
    "resampled_model.load_weights(initial_weights)\n",
    "output_layer = resampled_model.layers[-1] \n",
    "output_layer.bias.assign([0])\n",
    "\n",
    "resampled_history = resampled_model.fit(X_train_smote,\n",
    "                                        y_train_smote,\n",
    "                                        batch_size=BATCH_SIZE,\n",
    "                                        epochs=EPOCHS,\n",
    "                                        callbacks = [early_stopping],\n",
    "                                        validation_split=0.2\n",
    "                                        )"
   ]
  },
  {
   "cell_type": "code",
   "execution_count": 11,
   "metadata": {
    "pycharm": {
     "is_executing": true,
     "name": "#%% USING test_smote\n"
    }
   },
   "outputs": [
    {
     "data": {
      "image/png": "[encoded data removed]",
      "text/plain": [
       "<Figure size 432x288 with 4 Axes>"
      ]
     },
     "metadata": {
      "needs_background": "light"
     },
     "output_type": "display_data"
    }
   ],
   "source": [
    "plot_metrics(resampled_history)\n",
    "plt.show()"
   ]
  },
  {
   "cell_type": "code",
   "execution_count": 12,
   "metadata": {
    "pycharm": {
     "is_executing": true,
     "name": "#%%\n"
    }
   },
   "outputs": [],
   "source": [
    "train_predictions_resampled = resampled_model.predict(X_train_smote, batch_size=BATCH_SIZE)\n",
    "test_predictions_resampled = resampled_model.predict(X_test_smote, batch_size=BATCH_SIZE)"
   ]
  },
  {
   "cell_type": "code",
   "execution_count": 13,
   "metadata": {
    "pycharm": {
     "is_executing": true,
     "name": "#%%\n"
    }
   },
   "outputs": [
    {
     "name": "stdout",
     "output_type": "stream",
     "text": [
      "607796/607796 [==============================] - 110s 181us/step\n"
     ]
    }
   ],
   "source": [
    "resampled_results = resampled_model.evaluate(X_test_smote,\n",
    "                                             y_test_smote,\n",
    "                                             batch_size=BATCH_SIZE, \n",
    "                                             verbose=1)"
   ]
  },
  {
   "cell_type": "code",
   "execution_count": 14,
   "metadata": {
    "pycharm": {
     "is_executing": true,
     "name": "#%%\n"
    }
   },
   "outputs": [
    {
     "name": "stdout",
     "output_type": "stream",
     "text": [
      "loss :  0.7196891296121628\n",
      "tp :  64256.890625\n",
      "fp :  106487.4609375\n",
      "tn :  19210696.0\n",
      "fn :  19103834.0\n",
      "accuracy :  0.5008389353752136\n",
      "precision :  0.37633517384529114\n",
      "recall :  0.003352363593876362\n",
      "auc :  0.5161969065666199\n",
      "\n",
      "Legitimate Transactions Detected (True Negatives):  303898\n",
      "Legitimate Transactions Incorrectly Detected (False Positives):  0\n",
      "Fraudulent Transactions Missed (False Negatives):  303898\n",
      "Fraudulent Transactions Detected (True Positives):  0\n",
      "Total Fraudulent Transactions:  303898\n"
     ]
    },
    {
     "data": {
      "image/png": "[encoded data removed]",
      "text/plain": [
       "<Figure size 360x360 with 2 Axes>"
      ]
     },
     "metadata": {
      "needs_background": "light"
     },
     "output_type": "display_data"
    }
   ],
   "source": [
    "for name, value in zip(resampled_model.metrics_names, resampled_results):\n",
    "  print(name, ': ', value)\n",
    "print()\n",
    "\n",
    "plot_cm(y_test_smote, test_predictions_resampled)\n",
    "\n",
    "\n"
   ]
  },
  {
   "cell_type": "code",
   "execution_count": 15,
   "metadata": {
    "pycharm": {
     "is_executing": true,
     "name": "#%%\n"
    }
   },
   "outputs": [
    {
     "data": {
      "text/plain": [
       "<matplotlib.legend.Legend at 0x1ad82e9fac8>"
      ]
     },
     "execution_count": 15,
     "metadata": {},
     "output_type": "execute_result"
    },
    {
     "data": {
      "image/png": "[encoded data removed]",
      "text/plain": [
       "<Figure size 432x288 with 1 Axes>"
      ]
     },
     "metadata": {
      "needs_background": "light"
     },
     "output_type": "display_data"
    }
   ],
   "source": [
    "\n",
    "\n",
    "plot_roc(\"Train Resampled Smote\", y_train_smote, train_predictions_resampled,  color=colors[2])\n",
    "plot_roc(\"Test Resampled Smote\", y_test_smote, test_predictions_resampled,  color=colors[2], linestyle='--')\n",
    "\n",
    "plt.legend(loc='lower right')\n"
   ]
  }
 ],
 "metadata": {
  "kernelspec": {
   "display_name": "Python 3",
   "language": "python",
   "name": "python3"
  },
  "language_info": {
   "codemirror_mode": {
    "name": "ipython",
    "version": 3
   },
   "file_extension": ".py",
   "mimetype": "text/x-python",
   "name": "python",
   "nbconvert_exporter": "python",
   "pygments_lexer": "ipython3",
   "version": "3.7.5"
  },
  "pycharm": {
   "stem_cell": {
    "cell_type": "raw",
    "metadata": {
     "collapsed": false
    },
    "source": []
   }
  }
 },
 "nbformat": 4,
 "nbformat_minor": 1
}
