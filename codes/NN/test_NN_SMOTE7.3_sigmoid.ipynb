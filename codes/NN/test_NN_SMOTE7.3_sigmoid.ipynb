{
 "cells": [
  {
   "cell_type": "code",
   "execution_count": null,
   "metadata": {
    "pycharm": {
     "is_executing": false,
     "name": "#%% IMPORT SECTION\n"
    }
   },
   "outputs": [
    {
     "name": "stderr",
     "output_type": "stream",
     "text": [
      "Using TensorFlow backend.\n"
     ]
    }
   ],
   "source": [
    "import numpy as np\n",
    "import pandas as pd\n",
    "import matplotlib.pyplot as plt\n",
    "import seaborn as sns\n",
    "import sklearn.metrics as metrics\n",
    "import os\n",
    "import tempfile \n",
    "\n",
    "\n",
    "from sklearn import preprocessing\n",
    "from sklearn.utils.class_weight import compute_class_weight\n",
    "from sklearn.metrics import roc_auc_score, classification_report\n",
    "from collections import Counter\n",
    "\n",
    "from imblearn.over_sampling import SMOTE\n",
    "\n",
    "import tensorflow as tf\n",
    "import keras\n",
    "\n",
    "\n",
    "import warnings\n",
    "warnings.filterwarnings(\"ignore\")\n",
    "colors = np.array(['#0101DF','#DF0101','#01DF01','#DFDFDF'])\n",
    "\n",
    "rs = 42\n",
    "def compute_metrics (y_te2,y_p,string):\n",
    "    print('\\n %s'%string)\n",
    "    print('CONFUSION MATRIX')\n",
    "    print(metrics.confusion_matrix(y_te2,y_p))\n",
    "    print(classification_report(y_te2, y_p))\n",
    "    print('\\nROC CURVE: %2.2f'%roc_auc_score(y_te2,y_p))\n",
    "\n",
    "def Ratio10(y,string):\n",
    "    suma = Counter(y)[0]+Counter(y)[1]\n",
    "    print('\\n'+string)  \n",
    "    print(Counter(y))\n",
    "    print('0: %3.2f%%\\n1: %3.2f%%' % (100*Counter(y)[0]/suma,100*Counter(y)[1]/suma))\n",
    "\n",
    "def histo(data,var):\n",
    "    fig=plt.figure()\n",
    "    sns.countplot(var,data=data,palette=colors)\n",
    "    plt.title('0/1 Distribution (0: No Stalling || 1: Stalling Event',fontsize=14)\n",
    "    plt.show()\n",
    "    \n",
    "def plot_loss(history, label, n):\n",
    "    # Use a log scale to show the wide range of values.\n",
    "    plt.semilogy(history.epoch,  \n",
    "                 history.history['loss'],\n",
    "                 color=colors[n], \n",
    "                 label='Train '+label\n",
    "                 )\n",
    "    plt.semilogy(history.epoch,\n",
    "                 history.history['val_loss'],\n",
    "                 color=colors[n], \n",
    "                 label='Val '+label,\n",
    "                 linestyle=\"--\")\n",
    "    plt.xlabel('Epoch')\n",
    "    plt.ylabel('Loss')\n",
    "    plt.legend()\n",
    "\n",
    "def plot_metrics(history):\n",
    "    metrics =  ['loss', 'auc', 'precision', 'recall']\n",
    "    for n, metric in enumerate(metrics):\n",
    "        name = metric.replace(\"_\",\" \").capitalize()\n",
    "        plt.subplot(2,2,n+1)\n",
    "        plt.plot(history.epoch,  history.history[metric], color=colors[0], label='Train')\n",
    "        plt.plot(history.epoch, history.history['val_'+metric],\n",
    "             color=colors[0], linestyle=\"--\", label='Val')\n",
    "        plt.xlabel('Epoch')\n",
    "        plt.ylabel(name)\n",
    "        if metric == 'loss':\n",
    "            plt.ylim([0, plt.ylim()[1]])\n",
    "        elif metric == 'auc':\n",
    "            plt.ylim([0.5,1])\n",
    "        else:\n",
    "            plt.ylim([0,1])\n",
    "\n",
    "    plt.legend()\n",
    "\n",
    "def plot_cm(labels, predictions, p=0.5):\n",
    "  cm = metrics.confusion_matrix(labels, predictions > p)\n",
    "  plt.figure(figsize=(5,5))\n",
    "  sns.heatmap(cm, annot=True, fmt=\"d\")\n",
    "  plt.title('Confusion matrix @{:.2f}'.format(p))\n",
    "  plt.ylabel('Actual label')\n",
    "  plt.xlabel('Predicted label')\n",
    "\n",
    "  print('Legitimate Transactions Detected (True Negatives): ', cm[0][0])\n",
    "  print('Legitimate Transactions Incorrectly Detected (False Positives): ', cm[0][1])\n",
    "  print('Fraudulent Transactions Missed (False Negatives): ', cm[1][0])\n",
    "  print('Fraudulent Transactions Detected (True Positives): ', cm[1][1])\n",
    "  print('Total Fraudulent Transactions: ', np.sum(cm[1]))\n",
    "  \n",
    "\n",
    "def plot_roc(name, labels, predictions, **kwargs):\n",
    "    fp, tp, _ = metrics.roc_curve(labels, predictions)\n",
    "\n",
    "    plt.plot(100*fp, 100*tp, label=name, linewidth=2, **kwargs)\n",
    "    plt.xlabel('False positives [%]')\n",
    "    plt.ylabel('True positives [%]')\n",
    "    plt.xlim([-0.5,100.5])\n",
    "    plt.ylim([-0.5,100.5])\n",
    "    plt.grid(True)\n",
    "    ax = plt.gca()\n",
    "    ax.set_aspect('equal')\n",
    "  "
   ]
  },
  {
   "cell_type": "code",
   "execution_count": 2,
   "metadata": {
    "pycharm": {
     "is_executing": false,
     "name": "#%% LOAD DATASET REMOVING NOISE\n"
    }
   },
   "outputs": [
    {
     "name": "stdout",
     "output_type": "stream",
     "text": [
      "Index(['∆t', 'pkt_len', 'tcp_hea_len', 'tcp_flag_ack', 'tcp_flag_cwr',\n",
      "       'tcp_flag_ecn', 'tcp_flag_urg', 'tcp_flag_psh', 'tcp_flag_rst',\n",
      "       'tcp_flag_syn', 'tcp_flag_fin', 'tcp_win_si2', 'delay', 'capture',\n",
      "       'stalling_event'],\n",
      "      dtype='object')\n",
      "\n",
      "dataset[stalling_event]\n",
      "Counter({0: 1426905, 1: 113031})\n",
      "0: 92.66%\n",
      "1: 7.34%\n"
     ]
    },
    {
     "data": {
      "image/png": "[encoded data removed]",
      "text/plain": [
       "<Figure size 432x288 with 1 Axes>"
      ]
     },
     "metadata": {
      "needs_background": "light"
     },
     "output_type": "display_data"
    }
   ],
   "source": [
    "dataset = pd.read_csv('../../output/df_general.csv', sep=',')\n",
    "split = 0.8\n",
    "del dataset['No.']\n",
    "del dataset['Protocol']\n",
    "del dataset['ip_len']\n",
    "del dataset['prebuffering']\n",
    "del dataset['Time']\n",
    "\n",
    "dataset = dataset.fillna(dataset.mean())\n",
    "neg, pos = np.bincount(dataset['stalling_event'])\n",
    "total = neg + pos\n",
    "weight_for_0 = (1 / neg)*(total)/2.0 \n",
    "weight_for_1 = (1 / pos)*(total)/2.0\n",
    "\n",
    "class_weight = {0: weight_for_0, 1: weight_for_1}\n",
    "\n",
    "print(dataset.columns)\n",
    "Ratio10(dataset['stalling_event'],'dataset[stalling_event]')\n",
    "histo(dataset,'stalling_event')"
   ]
  },
  {
   "cell_type": "code",
   "execution_count": 3,
   "metadata": {
    "pycharm": {
     "is_executing": false,
     "name": "#%% SPLIT TRAIN/TEST\n"
    }
   },
   "outputs": [],
   "source": [
    "from random import randint\n",
    "'''X_train = [None] * (len(dataset.columns)-1)\n",
    "X_test = [None] * (len(dataset.columns)-1)'''\n",
    "\n",
    "X_train = np.array([None]*12)\n",
    "X_test = np.array([None]*12)\n",
    "y_train = list()\n",
    "y_test = list()\n",
    "\n",
    "grouped = dataset.groupby(['delay','capture']) \n",
    "#print(grouped.mean())\n",
    "\n",
    "for id, data in grouped:\n",
    "    spl = int(data.shape[0] * split)\n",
    "    restspl = int(data.shape[0] * (1-split))\n",
    "    randnum = randint(0,restspl)\n",
    "    \n",
    "    X_train = np.vstack((X_train,data.values[randnum:randnum+spl,:-3]))\n",
    "    X_test = np.vstack((X_test,data.values[0:randnum-1,:-3]))\n",
    "    X_test = np.vstack((X_test,data.values[randnum+spl:,:-3]))\n",
    "    \n",
    "    y_train.extend(data.values[randnum:randnum+spl,-1])\n",
    "    y_test.extend(data.values[0:randnum-1,-1])\n",
    "    y_test.extend(data.values[randnum+spl:,-1])\n",
    "\n",
    "X_train = X_train[1:]\n",
    "X_test = X_test[1:]"
   ]
  },
  {
   "cell_type": "code",
   "execution_count": 4,
   "metadata": {
    "pycharm": {
     "is_executing": false,
     "name": "#%%\n"
    }
   },
   "outputs": [],
   "source": [
    "mms = preprocessing.MinMaxScaler()\n",
    "X_train = mms.fit_transform(X_train)\n",
    "X_test = mms.transform(X_test)"
   ]
  },
  {
   "cell_type": "code",
   "execution_count": 5,
   "metadata": {
    "pycharm": {
     "is_executing": false,
     "name": "#%%\n"
    }
   },
   "outputs": [
    {
     "name": "stdout",
     "output_type": "stream",
     "text": [
      "\n",
      "y_test\n",
      "Counter({0: 301752, 1: 6200})\n",
      "0: 97.99%\n",
      "1: 2.01%\n",
      "\n",
      "y_train\n",
      "Counter({0: 1125094, 1: 106830})\n",
      "0: 91.33%\n",
      "1: 8.67%\n"
     ]
    }
   ],
   "source": [
    "y_test = list(map(int,y_test))\n",
    "y_train = list(map(int,y_train))\n",
    "Ratio10(y_test,'y_test')\n",
    "Ratio10(y_train,'y_train')\n",
    "\n",
    "X_train = pd.DataFrame(data=X_train,columns=dataset.columns[:-3])\n",
    "X_test= pd.DataFrame(data=X_test,columns=dataset.columns[:-3])\n",
    "y_train = pd.DataFrame(data=y_train,columns=['y_train'])\n",
    "y_test= pd.DataFrame(data=y_test,columns=['y_test'])\n",
    "del dataset['delay']\n",
    "del dataset['capture']"
   ]
  },
  {
   "cell_type": "code",
   "execution_count": 6,
   "metadata": {
    "pycharm": {
     "is_executing": false,
     "name": "#%%\n"
    }
   },
   "outputs": [],
   "source": [
    "smote = SMOTE(random_state = rs)\n",
    "X_train_smote,y_train_smote = smote.fit_resample(X_train.values,y_train.values)\n",
    "X_test_smote,y_test_smote = smote.fit_resample(X_test.values,y_test.values)"
   ]
  },
  {
   "cell_type": "code",
   "execution_count": 7,
   "metadata": {
    "pycharm": {
     "is_executing": false,
     "name": "#%%\n"
    }
   },
   "outputs": [
    {
     "name": "stdout",
     "output_type": "stream",
     "text": [
      "1394.0\n"
     ]
    }
   ],
   "source": [
    "EPOCHS = 100\n",
    "BATCH_SIZE = 2048\n",
    "\n",
    "resampled_steps_per_epoch = np.ceil(2.0*neg/BATCH_SIZE)\n",
    "print(resampled_steps_per_epoch)"
   ]
  },
  {
   "cell_type": "code",
   "execution_count": 8,
   "metadata": {
    "pycharm": {
     "is_executing": false,
     "name": "#%%\n"
    }
   },
   "outputs": [],
   "source": [
    "METRICS = [\n",
    "    tf.keras.metrics.TruePositives(name='tp'),\n",
    "    tf.keras.metrics.FalsePositives(name='fp'),\n",
    "    tf.keras.metrics.TrueNegatives(name='tn'),\n",
    "    tf.keras.metrics.FalseNegatives(name='fn'),\n",
    "    tf.keras.metrics.BinaryAccuracy(name='accuracy'),\n",
    "    tf.keras.metrics.Precision(name='precision'),\n",
    "    tf.keras.metrics.Recall(name='recall'),\n",
    "    tf.keras.metrics.AUC(name='auc'),\n",
    "]\n",
    "\n",
    "\n",
    "early_stopping = tf.keras.callbacks.EarlyStopping(monitor='val_auc', \n",
    "                                                  verbose=1,\n",
    "                                                  patience=10,\n",
    "                                                  mode='max',\n",
    "                                                  restore_best_weights=True)\n",
    "\n"
   ]
  },
  {
   "cell_type": "code",
   "execution_count": 9,
   "metadata": {
    "pycharm": {
     "is_executing": false,
     "name": "#%%\n"
    }
   },
   "outputs": [
    {
     "name": "stdout",
     "output_type": "stream",
     "text": [
      "[-2.53560092]\n"
     ]
    }
   ],
   "source": [
    "n_features = X_train.shape[1]\n",
    "\n",
    "initial_bias = np.log([pos/neg])\n",
    "print(initial_bias)"
   ]
  },
  {
   "cell_type": "code",
   "execution_count": 10,
   "metadata": {
    "pycharm": {
     "is_executing": true,
     "name": "#%% Resampled\n"
    }
   },
   "outputs": [
    {
     "name": "stdout",
     "output_type": "stream",
     "text": [
      "Built NN...\n",
      "Model: \"sequential_1\"\n",
      "_________________________________________________________________\n",
      "Layer (type)                 Output Shape              Param #   \n",
      "=================================================================\n",
      "dense_1 (Dense)              (None, 5120)              66560     \n",
      "_________________________________________________________________\n",
      "dropout_1 (Dropout)          (None, 5120)              0         \n",
      "_________________________________________________________________\n",
      "dense_2 (Dense)              (None, 2048)              10487808  \n",
      "_________________________________________________________________\n",
      "dropout_2 (Dropout)          (None, 2048)              0         \n",
      "_________________________________________________________________\n",
      "dense_3 (Dense)              (None, 2048)              4196352   \n",
      "_________________________________________________________________\n",
      "dropout_3 (Dropout)          (None, 2048)              0         \n",
      "_________________________________________________________________\n",
      "dense_4 (Dense)              (None, 1)                 2049      \n",
      "=================================================================\n",
      "Total params: 14,752,769\n",
      "Trainable params: 14,752,769\n",
      "Non-trainable params: 0\n",
      "_________________________________________________________________\n",
      "Compiled NN...\n",
      "Train on 1800150 samples, validate on 450038 samples\n",
      "Epoch 1/100\n",
      "1800150/1800150 [==============================] - 1374s 764us/step - loss: 0.6836 - tp: 18792.9531 - fp: 31041.3203 - tn: 531928.0000 - fn: 319357.6250 - accuracy: 0.6035 - precision: 0.3771 - recall: 0.0862 - auc: 0.5002 - val_loss: 0.9994 - val_tp: 22437.0000 - val_fp: 37089.0000 - val_tn: 1088003.3750 - val_fn: 878921.1875 - val_accuracy: 0.5502 - val_precision: 0.3769 - val_recall: 0.0254 - val_auc: 0.4930\n",
      "Epoch 2/100\n",
      "1800150/1800150 [==============================] - 1375s 764us/step - loss: 0.6630 - tp: 22447.9844 - fp: 37122.1797 - tn: 1651085.8750 - fn: 1440651.6250 - accuracy: 0.5284 - precision: 0.3768 - recall: 0.0156 - auc: 0.4863 - val_loss: 0.9629 - val_tp: 22450.0000 - val_fp: 37127.0000 - val_tn: 2213057.7500 - val_fn: 2003998.3750 - val_accuracy: 0.5232 - val_precision: 0.3768 - val_recall: 0.0111 - val_auc: 0.4934\n",
      "Epoch 3/100\n",
      "1800150/1800150 [==============================] - 1376s 764us/step - loss: 0.6621 - tp: 22450.0000 - fp: 37127.4844 - tn: 2776240.7500 - fn: 2565681.2500 - accuracy: 0.5171 - precision: 0.3768 - recall: 0.0087 - auc: 0.4989 - val_loss: 0.9257 - val_tp: 22450.0000 - val_fp: 37127.0000 - val_tn: 3338157.5000 - val_fn: 3129090.5000 - val_accuracy: 0.5151 - val_precision: 0.3768 - val_recall: 0.0071 - val_auc: 0.5176\n",
      "Epoch 4/100\n",
      "1800150/1800150 [==============================] - 1372s 762us/step - loss: 0.6620 - tp: 22450.0000 - fp: 37127.4844 - tn: 3901194.5000 - fn: 3690919.5000 - accuracy: 0.5123 - precision: 0.3768 - recall: 0.0061 - auc: 0.5333 - val_loss: 0.9991 - val_tp: 22450.0000 - val_fp: 37127.0000 - val_tn: 4463245.0000 - val_fn: 4254200.5000 - val_accuracy: 0.5112 - val_precision: 0.3768 - val_recall: 0.0053 - val_auc: 0.5246\n",
      "Epoch 5/100\n",
      "1800150/1800150 [==============================] - 1375s 764us/step - loss: 0.6619 - tp: 22450.0000 - fp: 37127.4844 - tn: 5026534.5000 - fn: 4815765.5000 - accuracy: 0.5096 - precision: 0.3768 - recall: 0.0046 - auc: 0.5165 - val_loss: 0.9633 - val_tp: 22450.0000 - val_fp: 37127.0000 - val_tn: 5588349.0000 - val_fn: 5379279.0000 - val_accuracy: 0.5089 - val_precision: 0.3768 - val_recall: 0.0042 - val_auc: 0.5182\n",
      "Epoch 6/100\n",
      "1800150/1800150 [==============================] - 1380s 767us/step - loss: 0.6619 - tp: 22450.0000 - fp: 37127.4844 - tn: 6151577.5000 - fn: 5940896.0000 - accuracy: 0.5079 - precision: 0.3768 - recall: 0.0038 - auc: 0.5200 - val_loss: 0.9943 - val_tp: 22450.0000 - val_fp: 37127.0000 - val_tn: 6713437.0000 - val_fn: 6504366.0000 - val_accuracy: 0.5074 - val_precision: 0.3768 - val_recall: 0.0034 - val_auc: 0.5135\n",
      "Epoch 7/100\n",
      "1800150/1800150 [==============================] - 1374s 764us/step - loss: 0.6619 - tp: 22450.0000 - fp: 37127.4844 - tn: 7276776.5000 - fn: 7065893.0000 - accuracy: 0.5067 - precision: 0.3768 - recall: 0.0032 - auc: 0.5076 - val_loss: 0.9658 - val_tp: 22450.0000 - val_fp: 37127.0000 - val_tn: 7838552.5000 - val_fn: 7629469.0000 - val_accuracy: 0.5063 - val_precision: 0.3768 - val_recall: 0.0029 - val_auc: 0.5093\n",
      "Epoch 8/100\n",
      "1800150/1800150 [==============================] - 1376s 764us/step - loss: 0.6618 - tp: 22450.0000 - fp: 37127.4844 - tn: 8401769.0000 - fn: 8191092.5000 - accuracy: 0.5058 - precision: 0.3768 - recall: 0.0027 - auc: 0.5112 - val_loss: 0.9857 - val_tp: 22450.0000 - val_fp: 37127.0000 - val_tn: 8963612.0000 - val_fn: 8754558.0000 - val_accuracy: 0.5055 - val_precision: 0.3768 - val_recall: 0.0026 - val_auc: 0.5094\n",
      "Epoch 9/100\n",
      "1800150/1800150 [==============================] - 1380s 767us/step - loss: 0.6618 - tp: 22450.0000 - fp: 37127.4844 - tn: 9526762.0000 - fn: 9316283.0000 - accuracy: 0.5051 - precision: 0.3768 - recall: 0.0024 - auc: 0.5078 - val_loss: 0.9739 - val_tp: 22450.0000 - val_fp: 37127.0000 - val_tn: 10088706.0000 - val_fn: 9879670.0000 - val_accuracy: 0.5049 - val_precision: 0.3768 - val_recall: 0.0023 - val_auc: 0.5096\n",
      "Epoch 10/100\n",
      "1800150/1800150 [==============================] - 1383s 768us/step - loss: 0.6617 - tp: 22450.0000 - fp: 37127.4844 - tn: 10651695.0000 - fn: 10441557.0000 - accuracy: 0.5045 - precision: 0.3768 - recall: 0.0021 - auc: 0.5111 - val_loss: 0.9708 - val_tp: 22450.0000 - val_fp: 37127.0000 - val_tn: 11213822.0000 - val_fn: 11004760.0000 - val_accuracy: 0.5044 - val_precision: 0.3768 - val_recall: 0.0020 - val_auc: 0.5128\n",
      "Epoch 11/100\n",
      "1800150/1800150 [==============================] - 1384s 769us/step - loss: 0.6617 - tp: 22450.0000 - fp: 37127.4844 - tn: 11777208.0000 - fn: 11566212.0000 - accuracy: 0.5041 - precision: 0.3768 - recall: 0.0019 - auc: 0.5145 - val_loss: 0.9946 - val_tp: 22450.0000 - val_fp: 37127.0000 - val_tn: 12338924.0000 - val_fn: 12129815.0000 - val_accuracy: 0.5040 - val_precision: 0.3768 - val_recall: 0.0018 - val_auc: 0.5101\n",
      "Epoch 12/100\n",
      "1800150/1800150 [==============================] - 1495s 831us/step - loss: 0.6617 - tp: 22450.0000 - fp: 37127.4844 - tn: 12901849.0000 - fn: 12691760.0000 - accuracy: 0.5038 - precision: 0.3768 - recall: 0.0018 - auc: 0.5060 - val_loss: 1.0007 - val_tp: 22450.0000 - val_fp: 37127.0000 - val_tn: 13464041.0000 - val_fn: 13254917.0000 - val_accuracy: 0.5036 - val_precision: 0.3768 - val_recall: 0.0017 - val_auc: 0.5025\n",
      "Epoch 13/100\n",
      "1800150/1800150 [==============================] - 1368s 760us/step - loss: 0.6616 - tp: 22450.0000 - fp: 37127.4844 - tn: 14027206.0000 - fn: 13816603.0000 - accuracy: 0.5035 - precision: 0.3768 - recall: 0.0016 - auc: 0.4989 - val_loss: 0.9642 - val_tp: 22450.0000 - val_fp: 37127.0000 - val_tn: 14589114.0000 - val_fn: 14380031.0000 - val_accuracy: 0.5034 - val_precision: 0.3768 - val_recall: 0.0016 - val_auc: 0.5009\n",
      "Epoch 14/100\n",
      "1800150/1800150 [==============================] - 1368s 760us/step - loss: 0.6616 - tp: 22450.0000 - fp: 37127.4844 - tn: 15152229.0000 - fn: 14941755.0000 - accuracy: 0.5032 - precision: 0.3768 - recall: 0.0015 - auc: 0.5027 - val_loss: 0.9735 - val_tp: 22450.0000 - val_fp: 37127.0000 - val_tn: 15714226.0000 - val_fn: 15505145.0000 - val_accuracy: 0.5031 - val_precision: 0.3768 - val_recall: 0.0014 - val_auc: 0.5050\n",
      "Restoring model weights from the end of the best epoch.\n",
      "Epoch 00014: early stopping\n"
     ]
    }
   ],
   "source": [
    "\n",
    "resampled_model = keras.Sequential()\n",
    "resampled_model.add(keras.layers.Dense(5120,activation='sigmoid',input_shape=(n_features,)))\n",
    "resampled_model.add(keras.layers.Dropout(0.25))\n",
    "resampled_model.add(keras.layers.Dense(2048,activation='sigmoid'))\n",
    "resampled_model.add(keras.layers.Dropout(0.25))\n",
    "resampled_model.add(keras.layers.Dense(2048,activation='sigmoid'))\n",
    "resampled_model.add(keras.layers.Dropout(0.25))\n",
    "resampled_model.add(keras.layers.Dense(1,activation='sigmoid'))\n",
    "print('Built NN...')\n",
    "resampled_model.compile(optimizer=keras.optimizers.Adam(lr=1e-3),loss=keras.losses.BinaryCrossentropy(),metrics=METRICS)\n",
    "resampled_model.summary()\n",
    "print('Compiled NN...')\n",
    "\n",
    "initial_weights = os.path.join(tempfile.mkdtemp(),'initial_weights')\n",
    "resampled_model.save_weights(initial_weights)\n",
    "\n",
    "resampled_model.load_weights(initial_weights)\n",
    "output_layer = resampled_model.layers[-1] \n",
    "output_layer.bias.assign([0])\n",
    "\n",
    "resampled_history = resampled_model.fit(X_train_smote,\n",
    "                                        y_train_smote,\n",
    "                                        batch_size=BATCH_SIZE,\n",
    "                                        epochs=EPOCHS,\n",
    "                                        callbacks = [early_stopping],\n",
    "                                        validation_split=0.2\n",
    "                                        )"
   ]
  },
  {
   "cell_type": "code",
   "execution_count": 11,
   "metadata": {
    "pycharm": {
     "is_executing": true,
     "name": "#%% USING test_smote\n"
    }
   },
   "outputs": [
    {
     "data": {
      "image/png": "[encoded data removed]",
      "text/plain": [
       "<Figure size 432x288 with 4 Axes>"
      ]
     },
     "metadata": {
      "needs_background": "light"
     },
     "output_type": "display_data"
    }
   ],
   "source": [
    "plot_metrics(resampled_history)\n",
    "plt.show()"
   ]
  },
  {
   "cell_type": "code",
   "execution_count": 12,
   "metadata": {
    "pycharm": {
     "is_executing": true,
     "name": "#%%\n"
    }
   },
   "outputs": [],
   "source": [
    "train_predictions_resampled = resampled_model.predict(X_train_smote, batch_size=BATCH_SIZE)\n",
    "test_predictions_resampled = resampled_model.predict(X_test_smote, batch_size=BATCH_SIZE)"
   ]
  },
  {
   "cell_type": "code",
   "execution_count": 13,
   "metadata": {
    "pycharm": {
     "is_executing": true,
     "name": "#%%\n"
    }
   },
   "outputs": [
    {
     "name": "stdout",
     "output_type": "stream",
     "text": [
      "603504/603504 [==============================] - 102s 169us/step\n"
     ]
    }
   ],
   "source": [
    "resampled_results = resampled_model.evaluate(X_test_smote,\n",
    "                                             y_test_smote,\n",
    "                                             batch_size=BATCH_SIZE, \n",
    "                                             verbose=1)"
   ]
  },
  {
   "cell_type": "code",
   "execution_count": 14,
   "metadata": {
    "pycharm": {
     "is_executing": true,
     "name": "#%%\n"
    }
   },
   "outputs": [
    {
     "name": "stdout",
     "output_type": "stream",
     "text": [
      "loss :  0.7291482081721476\n",
      "tp :  22450.0\n",
      "fp :  37127.0\n",
      "tn :  15938331.0\n",
      "fn :  15807766.0\n",
      "accuracy :  0.5018218159675598\n",
      "precision :  0.37682339549064636\n",
      "recall :  0.001418222556822002\n",
      "auc :  0.5094543695449829\n",
      "\n",
      "Legitimate Transactions Detected (True Negatives):  301752\n",
      "Legitimate Transactions Incorrectly Detected (False Positives):  0\n",
      "Fraudulent Transactions Missed (False Negatives):  301752\n",
      "Fraudulent Transactions Detected (True Positives):  0\n",
      "Total Fraudulent Transactions:  301752\n"
     ]
    },
    {
     "data": {
      "image/png": "[encoded data removed]",
      "text/plain": [
       "<Figure size 360x360 with 2 Axes>"
      ]
     },
     "metadata": {
      "needs_background": "light"
     },
     "output_type": "display_data"
    }
   ],
   "source": [
    "for name, value in zip(resampled_model.metrics_names, resampled_results):\n",
    "  print(name, ': ', value)\n",
    "print()\n",
    "\n",
    "plot_cm(y_test_smote, test_predictions_resampled)"
   ]
  },
  {
   "cell_type": "code",
   "execution_count": 15,
   "metadata": {
    "pycharm": {
     "is_executing": true,
     "name": "#%%\n"
    }
   },
   "outputs": [
    {
     "data": {
      "text/plain": [
       "<matplotlib.legend.Legend at 0x13414b0afc8>"
      ]
     },
     "execution_count": 15,
     "metadata": {},
     "output_type": "execute_result"
    },
    {
     "data": {
      "image/png": "[encoded data removed]",
      "text/plain": [
       "<Figure size 432x288 with 1 Axes>"
      ]
     },
     "metadata": {
      "needs_background": "light"
     },
     "output_type": "display_data"
    }
   ],
   "source": [
    "\n",
    "plot_roc(\"Train Resampled Smote\", y_train_smote, train_predictions_resampled,  color=colors[2])\n",
    "plot_roc(\"Test Resampled Smote\", y_test_smote, test_predictions_resampled,  color=colors[2], linestyle='--')\n",
    "\n",
    "plt.legend(loc='lower right')\n"
   ]
  }
 ],
 "metadata": {
  "kernelspec": {
   "display_name": "Python 3",
   "language": "python",
   "name": "python3"
  },
  "language_info": {
   "codemirror_mode": {
    "name": "ipython",
    "version": 3
   },
   "file_extension": ".py",
   "mimetype": "text/x-python",
   "name": "python",
   "nbconvert_exporter": "python",
   "pygments_lexer": "ipython3",
   "version": "3.7.5"
  },
  "pycharm": {
   "stem_cell": {
    "cell_type": "raw",
    "metadata": {
     "collapsed": false
    },
    "source": []
   }
  }
 },
 "nbformat": 4,
 "nbformat_minor": 1
}
