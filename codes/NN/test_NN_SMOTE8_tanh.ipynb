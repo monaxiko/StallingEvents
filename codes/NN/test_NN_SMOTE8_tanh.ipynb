{
 "cells": [
  {
   "cell_type": "code",
   "execution_count": 1,
   "metadata": {
    "pycharm": {
     "is_executing": false,
     "name": "#%% IMPORT SECTION\n"
    }
   },
   "outputs": [
    {
     "name": "stderr",
     "output_type": "stream",
     "text": [
      "Using TensorFlow backend.\n"
     ]
    }
   ],
   "source": [
    "import numpy as np\n",
    "import pandas as pd\n",
    "import matplotlib.pyplot as plt\n",
    "import seaborn as sns\n",
    "import sklearn.metrics as metrics\n",
    "import os\n",
    "import tempfile \n",
    "\n",
    "\n",
    "from sklearn import preprocessing\n",
    "from sklearn.utils.class_weight import compute_class_weight\n",
    "from sklearn.metrics import roc_auc_score, classification_report\n",
    "from collections import Counter\n",
    "\n",
    "from imblearn.over_sampling import SMOTE\n",
    "\n",
    "import tensorflow as tf\n",
    "import keras\n",
    "\n",
    "\n",
    "import warnings\n",
    "warnings.filterwarnings(\"ignore\")\n",
    "colors = np.array(['#0101DF','#DF0101','#01DF01','#DFDFDF'])\n",
    "\n",
    "rs = 42\n",
    "def compute_metrics (y_te2,y_p,string):\n",
    "    print('\\n %s'%string)\n",
    "    print('CONFUSION MATRIX')\n",
    "    print(metrics.confusion_matrix(y_te2,y_p))\n",
    "    print(classification_report(y_te2, y_p))\n",
    "    print('\\nROC CURVE: %2.2f'%roc_auc_score(y_te2,y_p))\n",
    "\n",
    "def Ratio10(y,string):\n",
    "    suma = Counter(y)[0]+Counter(y)[1]\n",
    "    print('\\n'+string)  \n",
    "    print(Counter(y))\n",
    "    print('0: %3.2f%%\\n1: %3.2f%%' % (100*Counter(y)[0]/suma,100*Counter(y)[1]/suma))\n",
    "\n",
    "def histo(data,var):\n",
    "    fig=plt.figure()\n",
    "    sns.countplot(var,data=data,palette=colors)\n",
    "    plt.title('0/1 Distribution (0: No Stalling || 1: Stalling Event',fontsize=14)\n",
    "    plt.show()\n",
    "    \n",
    "def plot_loss(history, label, n):\n",
    "    # Use a log scale to show the wide range of values.\n",
    "    plt.semilogy(history.epoch,  \n",
    "                 history.history['loss'],\n",
    "                 color=colors[n], \n",
    "                 label='Train '+label\n",
    "                 )\n",
    "    plt.semilogy(history.epoch,\n",
    "                 history.history['val_loss'],\n",
    "                 color=colors[n], \n",
    "                 label='Val '+label,\n",
    "                 linestyle=\"--\")\n",
    "    plt.xlabel('Epoch')\n",
    "    plt.ylabel('Loss')\n",
    "    plt.legend()\n",
    "\n",
    "def plot_metrics(history):\n",
    "    metrics =  ['loss', 'auc', 'precision', 'recall']\n",
    "    for n, metric in enumerate(metrics):\n",
    "        name = metric.replace(\"_\",\" \").capitalize()\n",
    "        plt.subplot(2,2,n+1)\n",
    "        plt.plot(history.epoch,  history.history[metric], color=colors[0], label='Train')\n",
    "        plt.plot(history.epoch, history.history['val_'+metric],\n",
    "             color=colors[0], linestyle=\"--\", label='Val')\n",
    "        plt.xlabel('Epoch')\n",
    "        plt.ylabel(name)\n",
    "        if metric == 'loss':\n",
    "            plt.ylim([0, plt.ylim()[1]])\n",
    "        elif metric == 'auc':\n",
    "            plt.ylim([0.5,1])\n",
    "        else:\n",
    "            plt.ylim([0,1])\n",
    "\n",
    "    plt.legend()\n",
    "\n",
    "def plot_cm(labels, predictions, p=0.5):\n",
    "  cm = metrics.confusion_matrix(labels, predictions > p)\n",
    "  plt.figure(figsize=(5,5))\n",
    "  sns.heatmap(cm, annot=True, fmt=\"d\")\n",
    "  plt.title('Confusion matrix @{:.2f}'.format(p))\n",
    "  plt.ylabel('Actual label')\n",
    "  plt.xlabel('Predicted label')\n",
    "\n",
    "  print('Legitimate Transactions Detected (True Negatives): ', cm[0][0])\n",
    "  print('Legitimate Transactions Incorrectly Detected (False Positives): ', cm[0][1])\n",
    "  print('Fraudulent Transactions Missed (False Negatives): ', cm[1][0])\n",
    "  print('Fraudulent Transactions Detected (True Positives): ', cm[1][1])\n",
    "  print('Total Fraudulent Transactions: ', np.sum(cm[1]))\n",
    "  \n",
    "\n",
    "def plot_roc(name, labels, predictions, **kwargs):\n",
    "    fp, tp, _ = metrics.roc_curve(labels, predictions)\n",
    "\n",
    "    plt.plot(100*fp, 100*tp, label=name, linewidth=2, **kwargs)\n",
    "    plt.xlabel('False positives [%]')\n",
    "    plt.ylabel('True positives [%]')\n",
    "    plt.xlim([-0.5,100.5])\n",
    "    plt.ylim([-0.5,100.5])\n",
    "    plt.grid(True)\n",
    "    ax = plt.gca()\n",
    "    ax.set_aspect('equal')\n",
    "  "
   ]
  },
  {
   "cell_type": "code",
   "execution_count": 2,
   "metadata": {
    "pycharm": {
     "is_executing": false,
     "name": "#%% LOAD DATASET REMOVING NOISE\n"
    }
   },
   "outputs": [
    {
     "name": "stdout",
     "output_type": "stream",
     "text": [
      "Index(['∆t', 'pkt_len', 'tcp_hea_len', 'tcp_flag_ack', 'tcp_flag_cwr',\n",
      "       'tcp_flag_ecn', 'tcp_flag_urg', 'tcp_flag_psh', 'tcp_flag_rst',\n",
      "       'tcp_flag_syn', 'tcp_flag_fin', 'tcp_win_si2', 'delay', 'capture',\n",
      "       'stalling_event'],\n",
      "      dtype='object')\n",
      "\n",
      "dataset[stalling_event]\n",
      "Counter({0: 1426905, 1: 113031})\n",
      "0: 92.66%\n",
      "1: 7.34%\n"
     ]
    },
    {
     "data": {
      "image/png": "[encoded data removed]",
      "text/plain": [
       "<Figure size 432x288 with 1 Axes>"
      ]
     },
     "metadata": {
      "needs_background": "light"
     },
     "output_type": "display_data"
    }
   ],
   "source": [
    "dataset = pd.read_csv('../../output/df_general.csv', sep=',')\n",
    "split = 0.8\n",
    "del dataset['No.']\n",
    "del dataset['Protocol']\n",
    "del dataset['ip_len']\n",
    "del dataset['prebuffering']\n",
    "del dataset['Time']\n",
    "\n",
    "dataset = dataset.fillna(dataset.mean())\n",
    "neg, pos = np.bincount(dataset['stalling_event'])\n",
    "total = neg + pos\n",
    "weight_for_0 = (1 / neg)*(total)/2.0 \n",
    "weight_for_1 = (1 / pos)*(total)/2.0\n",
    "\n",
    "class_weight = {0: weight_for_0, 1: weight_for_1}\n",
    "\n",
    "print(dataset.columns)\n",
    "Ratio10(dataset['stalling_event'],'dataset[stalling_event]')\n",
    "histo(dataset,'stalling_event')"
   ]
  },
  {
   "cell_type": "code",
   "execution_count": 3,
   "metadata": {
    "pycharm": {
     "is_executing": false,
     "name": "#%% SPLIT TRAIN/TEST\n"
    }
   },
   "outputs": [],
   "source": [
    "from random import randint\n",
    "'''X_train = [None] * (len(dataset.columns)-1)\n",
    "X_test = [None] * (len(dataset.columns)-1)'''\n",
    "\n",
    "X_train = np.array([None]*12)\n",
    "X_test = np.array([None]*12)\n",
    "y_train = list()\n",
    "y_test = list()\n",
    "\n",
    "grouped = dataset.groupby(['delay','capture']) \n",
    "#print(grouped.mean())\n",
    "\n",
    "for id, data in grouped:\n",
    "    spl = int(data.shape[0] * split)\n",
    "    restspl = int(data.shape[0] * (1-split))\n",
    "    randnum = randint(0,restspl)\n",
    "    \n",
    "    X_train = np.vstack((X_train,data.values[randnum:randnum+spl,:-3]))\n",
    "    X_test = np.vstack((X_test,data.values[0:randnum-1,:-3]))\n",
    "    X_test = np.vstack((X_test,data.values[randnum+spl:,:-3]))\n",
    "    \n",
    "    y_train.extend(data.values[randnum:randnum+spl,-1])\n",
    "    y_test.extend(data.values[0:randnum-1,-1])\n",
    "    y_test.extend(data.values[randnum+spl:,-1])\n",
    "\n",
    "X_train = X_train[1:]\n",
    "X_test = X_test[1:]"
   ]
  },
  {
   "cell_type": "code",
   "execution_count": 4,
   "metadata": {
    "pycharm": {
     "is_executing": false,
     "name": "#%%\n"
    }
   },
   "outputs": [],
   "source": [
    "mms = preprocessing.MinMaxScaler()\n",
    "X_train = mms.fit_transform(X_train)\n",
    "X_test = mms.transform(X_test)"
   ]
  },
  {
   "cell_type": "code",
   "execution_count": 5,
   "metadata": {
    "pycharm": {
     "is_executing": false,
     "name": "#%%\n"
    }
   },
   "outputs": [
    {
     "name": "stdout",
     "output_type": "stream",
     "text": [
      "\n",
      "y_test\n",
      "Counter({0: 304931, 1: 3021})\n",
      "0: 99.02%\n",
      "1: 0.98%\n",
      "\n",
      "y_train\n",
      "Counter({0: 1121915, 1: 110009})\n",
      "0: 91.07%\n",
      "1: 8.93%\n"
     ]
    }
   ],
   "source": [
    "y_test = list(map(int,y_test))\n",
    "y_train = list(map(int,y_train))\n",
    "Ratio10(y_test,'y_test')\n",
    "Ratio10(y_train,'y_train')\n",
    "\n",
    "X_train = pd.DataFrame(data=X_train,columns=dataset.columns[:-3])\n",
    "X_test= pd.DataFrame(data=X_test,columns=dataset.columns[:-3])\n",
    "y_train = pd.DataFrame(data=y_train,columns=['y_train'])\n",
    "y_test= pd.DataFrame(data=y_test,columns=['y_test'])\n",
    "del dataset['delay']\n",
    "del dataset['capture']"
   ]
  },
  {
   "cell_type": "code",
   "execution_count": 6,
   "metadata": {
    "pycharm": {
     "is_executing": false,
     "name": "#%%\n"
    }
   },
   "outputs": [],
   "source": [
    "smote = SMOTE(random_state = rs)\n",
    "X_train_smote,y_train_smote = smote.fit_resample(X_train.values,y_train.values)\n",
    "X_test_smote,y_test_smote = smote.fit_resample(X_test.values,y_test.values)"
   ]
  },
  {
   "cell_type": "code",
   "execution_count": 7,
   "metadata": {
    "pycharm": {
     "is_executing": false,
     "name": "#%%\n"
    }
   },
   "outputs": [
    {
     "name": "stdout",
     "output_type": "stream",
     "text": [
      "1394.0\n"
     ]
    }
   ],
   "source": [
    "EPOCHS = 100\n",
    "BATCH_SIZE = 2048\n",
    "\n",
    "resampled_steps_per_epoch = np.ceil(2.0*neg/BATCH_SIZE)\n",
    "print(resampled_steps_per_epoch)"
   ]
  },
  {
   "cell_type": "code",
   "execution_count": 8,
   "metadata": {
    "pycharm": {
     "is_executing": false,
     "name": "#%%\n"
    }
   },
   "outputs": [],
   "source": [
    "METRICS = [\n",
    "    tf.keras.metrics.TruePositives(name='tp'),\n",
    "    tf.keras.metrics.FalsePositives(name='fp'),\n",
    "    tf.keras.metrics.TrueNegatives(name='tn'),\n",
    "    tf.keras.metrics.FalseNegatives(name='fn'),\n",
    "    tf.keras.metrics.BinaryAccuracy(name='accuracy'),\n",
    "    tf.keras.metrics.Precision(name='precision'),\n",
    "    tf.keras.metrics.Recall(name='recall'),\n",
    "    tf.keras.metrics.AUC(name='auc'),\n",
    "]\n",
    "\n",
    "\n",
    "early_stopping = tf.keras.callbacks.EarlyStopping(monitor='val_auc', \n",
    "                                                  verbose=1,\n",
    "                                                  patience=10,\n",
    "                                                  mode='max',\n",
    "                                                  restore_best_weights=True)\n",
    "\n"
   ]
  },
  {
   "cell_type": "code",
   "execution_count": 9,
   "metadata": {
    "pycharm": {
     "is_executing": false,
     "name": "#%%\n"
    }
   },
   "outputs": [
    {
     "name": "stdout",
     "output_type": "stream",
     "text": [
      "[-2.53560092]\n"
     ]
    }
   ],
   "source": [
    "n_features = X_train.shape[1]\n",
    "\n",
    "initial_bias = np.log([pos/neg])\n",
    "print(initial_bias)"
   ]
  },
  {
   "cell_type": "code",
   "execution_count": 10,
   "metadata": {
    "pycharm": {
     "is_executing": true,
     "name": "#%% Resampled\n"
    }
   },
   "outputs": [
    {
     "name": "stdout",
     "output_type": "stream",
     "text": [
      "Built NN...\n",
      "Model: \"sequential_1\"\n",
      "_________________________________________________________________\n",
      "Layer (type)                 Output Shape              Param #   \n",
      "=================================================================\n",
      "dense_1 (Dense)              (None, 1024)              13312     \n",
      "_________________________________________________________________\n",
      "dropout_1 (Dropout)          (None, 1024)              0         \n",
      "_________________________________________________________________\n",
      "dense_2 (Dense)              (None, 1024)              1049600   \n",
      "_________________________________________________________________\n",
      "dropout_2 (Dropout)          (None, 1024)              0         \n",
      "_________________________________________________________________\n",
      "dense_3 (Dense)              (None, 1024)              1049600   \n",
      "_________________________________________________________________\n",
      "dropout_3 (Dropout)          (None, 1024)              0         \n",
      "_________________________________________________________________\n",
      "dense_4 (Dense)              (None, 1024)              1049600   \n",
      "_________________________________________________________________\n",
      "dropout_4 (Dropout)          (None, 1024)              0         \n",
      "_________________________________________________________________\n",
      "dense_5 (Dense)              (None, 1)                 1025      \n",
      "=================================================================\n",
      "Total params: 3,163,137\n",
      "Trainable params: 3,163,137\n",
      "Non-trainable params: 0\n",
      "_________________________________________________________________\n",
      "Compiled NN...\n",
      "Train on 1795064 samples, validate on 448766 samples\n",
      "Epoch 1/100\n",
      "1795064/1795064 [==============================] - 952s 531us/step - loss: 0.6593 - tp: 31361.5098 - fp: 28106.5000 - tn: 533624.0625 - fn: 305978.7812 - accuracy: 0.6238 - precision: 0.5096 - recall: 0.1051 - auc: 0.5384 - val_loss: 0.9706 - val_tp: 89521.4375 - val_fp: 48324.0000 - val_tn: 1073588.5000 - val_fn: 809923.6250 - val_accuracy: 0.5773 - val_precision: 0.6438 - val_recall: 0.0988 - val_auc: 0.5412\n",
      "Epoch 2/100\n",
      "1795064/1795064 [==============================] - 795s 443us/step - loss: 0.6536 - tp: 152881.7812 - fp: 70995.3828 - tn: 1613189.3750 - fn: 1305834.8750 - accuracy: 0.5597 - precision: 0.6850 - recall: 0.1048 - auc: 0.5446 - val_loss: 0.9329 - val_tp: 219810.1406 - val_fp: 96072.7969 - val_tn: 2147752.5000 - val_fn: 1801549.3750 - val_accuracy: 0.5555 - val_precision: 0.6949 - val_recall: 0.1086 - val_auc: 0.5566\n",
      "Epoch 3/100\n",
      "1795064/1795064 [==============================] - 710s 395us/step - loss: 0.6531 - tp: 288111.3750 - fp: 122590.4688 - tn: 2683199.0000 - fn: 2292829.7500 - accuracy: 0.5508 - precision: 0.7025 - recall: 0.1116 - auc: 0.5641 - val_loss: 0.9927 - val_tp: 342480.7188 - val_fp: 149556.0000 - val_tn: 3216191.5000 - val_fn: 2800794.2500 - val_accuracy: 0.5469 - val_precision: 0.6959 - val_recall: 0.1090 - val_auc: 0.5575\n",
      "Epoch 4/100\n",
      "1795064/1795064 [==============================] - 713s 397us/step - loss: 0.6525 - tp: 398539.8438 - fp: 177968.6250 - tn: 3749241.5000 - fn: 3304810.2500 - accuracy: 0.5431 - precision: 0.6918 - recall: 0.1076 - auc: 0.5527 - val_loss: 0.9494 - val_tp: 469149.4062 - val_fp: 205985.4844 - val_tn: 4281667.5000 - val_fn: 3796039.5000 - val_accuracy: 0.5429 - val_precision: 0.6947 - val_recall: 0.1100 - val_auc: 0.5556\n",
      "Epoch 5/100\n",
      "1795064/1795064 [==============================] - 506s 282us/step - loss: 0.6521 - tp: 539827.3125 - fp: 234432.3281 - tn: 4815109.5000 - fn: 4285022.5000 - accuracy: 0.5420 - precision: 0.6975 - recall: 0.1119 - auc: 0.5576 - val_loss: 1.0457 - val_tp: 611411.5625 - val_fp: 263539.7188 - val_tn: 5346044.5000 - val_fn: 4775693.0000 - val_accuracy: 0.5418 - val_precision: 0.6987 - val_recall: 0.1135 - val_auc: 0.5501\n",
      "Epoch 6/100\n",
      "1795064/1795064 [==============================] - 468s 261us/step - loss: 0.6510 - tp: 683752.0000 - fp: 293605.4375 - tn: 5878029.5000 - fn: 5262835.0000 - accuracy: 0.5413 - precision: 0.6998 - recall: 0.1150 - auc: 0.5441 - val_loss: 0.9911 - val_tp: 756603.8750 - val_fp: 323284.4688 - val_tn: 6408195.0000 - val_fn: 5752417.0000 - val_accuracy: 0.5412 - val_precision: 0.7006 - val_recall: 0.1162 - val_auc: 0.5427\n",
      "Epoch 7/100\n",
      "1795064/1795064 [==============================] - 466s 260us/step - loss: 0.6505 - tp: 829249.2500 - fp: 353287.1875 - tn: 6939836.0000 - fn: 6239675.0000 - accuracy: 0.5408 - precision: 0.7014 - recall: 0.1173 - auc: 0.5415 - val_loss: 1.0593 - val_tp: 902050.1250 - val_fp: 383258.9688 - val_tn: 7470166.5000 - val_fn: 6728885.5000 - val_accuracy: 0.5407 - val_precision: 0.7018 - val_recall: 0.1182 - val_auc: 0.5362\n",
      "Epoch 8/100\n",
      "1795064/1795064 [==============================] - 471s 263us/step - loss: 0.6500 - tp: 974619.0625 - fp: 413265.9062 - tn: 8002028.5000 - fn: 7215967.0000 - accuracy: 0.5405 - precision: 0.7023 - recall: 0.1190 - auc: 0.5317 - val_loss: 0.9442 - val_tp: 1047830.5000 - val_fp: 443354.5938 - val_tn: 8531967.0000 - val_fn: 7705019.5000 - val_accuracy: 0.5404 - val_precision: 0.7026 - val_recall: 0.1197 - val_auc: 0.5347\n",
      "Epoch 9/100\n",
      "1795064/1795064 [==============================] - 472s 263us/step - loss: 0.6496 - tp: 1121136.1250 - fp: 473679.7188 - tn: 9063583.0000 - fn: 8191312.5000 - accuracy: 0.5402 - precision: 0.7031 - recall: 0.1204 - auc: 0.5374 - val_loss: 0.9824 - val_tp: 1194805.0000 - val_fp: 504088.1875 - val_tn: 9593120.0000 - val_fn: 8679960.0000 - val_accuracy: 0.5402 - val_precision: 0.7033 - val_recall: 0.1210 - val_auc: 0.5373\n",
      "Epoch 10/100\n",
      "1795064/1795064 [==============================] - 470s 262us/step - loss: 0.6495 - tp: 1268488.6250 - fp: 534630.2500 - tn: 10124387.0000 - fn: 9166035.0000 - accuracy: 0.5401 - precision: 0.7036 - recall: 0.1216 - auc: 0.5373 - val_loss: 1.0727 - val_tp: 1342479.8750 - val_fp: 565150.0000 - val_tn: 10653980.0000 - val_fn: 9654199.0000 - val_accuracy: 0.5400 - val_precision: 0.7037 - val_recall: 0.1221 - val_auc: 0.5334\n",
      "Epoch 11/100\n",
      "1316864/1795064 [=====================>........] - ETA: 1:58 - loss: 0.6495 - tp: 1700311.3750 - fp: 711655.8125 - tn: 13163594.0000 - fn: 12009855.0000 - accuracy: 0.5388 - precision: 0.7050 - recall: 0.1240 - auc: 0.5278"
     ]
    }
   ],
   "source": [
    "\n",
    "resampled_model = keras.Sequential()\n",
    "resampled_model.add(keras.layers.Dense(1024,activation='tanh',input_shape=(n_features,)))\n",
    "resampled_model.add(keras.layers.Dropout(0.5))\n",
    "resampled_model.add(keras.layers.Dense(1024,activation='tanh'))\n",
    "resampled_model.add(keras.layers.Dropout(0.5))\n",
    "resampled_model.add(keras.layers.Dense(1024,activation='tanh'))\n",
    "resampled_model.add(keras.layers.Dropout(0.5))\n",
    "resampled_model.add(keras.layers.Dense(1024,activation='tanh'))\n",
    "resampled_model.add(keras.layers.Dropout(0.5))\n",
    "resampled_model.add(keras.layers.Dense(1,activation='sigmoid'))\n",
    "print('Built NN...')\n",
    "resampled_model.compile(optimizer=keras.optimizers.Adam(lr=1e-3),loss=keras.losses.BinaryCrossentropy(),metrics=METRICS)\n",
    "resampled_model.summary()\n",
    "print('Compiled NN...')\n",
    "\n",
    "initial_weights = os.path.join(tempfile.mkdtemp(),'initial_weights')\n",
    "resampled_model.save_weights(initial_weights)\n",
    "\n",
    "resampled_model.load_weights(initial_weights)\n",
    "output_layer = resampled_model.layers[-1] \n",
    "output_layer.bias.assign([0])\n",
    "\n",
    "resampled_history = resampled_model.fit(X_train_smote,\n",
    "                                        y_train_smote,\n",
    "                                        batch_size=BATCH_SIZE,\n",
    "                                        epochs=EPOCHS,\n",
    "                                        callbacks = [early_stopping],\n",
    "                                        validation_split=0.2\n",
    "                                        )"
   ]
  },
  {
   "cell_type": "code",
   "execution_count": 11,
   "metadata": {
    "pycharm": {
     "is_executing": true,
     "name": "#%% USING test_smote\n"
    }
   },
   "outputs": [
    {
     "data": {
      "image/png": "[encoded data removed]",
      "text/plain": [
       "<Figure size 432x288 with 4 Axes>"
      ]
     },
     "metadata": {
      "needs_background": "light"
     },
     "output_type": "display_data"
    }
   ],
   "source": [
    "plot_metrics(resampled_history)\n",
    "plt.show()"
   ]
  },
  {
   "cell_type": "code",
   "execution_count": 12,
   "metadata": {
    "pycharm": {
     "is_executing": true,
     "name": "#%%\n"
    }
   },
   "outputs": [],
   "source": [
    "train_predictions_resampled = resampled_model.predict(X_train_smote, batch_size=BATCH_SIZE)\n",
    "test_predictions_resampled = resampled_model.predict(X_test_smote, batch_size=BATCH_SIZE)"
   ]
  },
  {
   "cell_type": "code",
   "execution_count": 13,
   "metadata": {
    "pycharm": {
     "is_executing": true,
     "name": "#%%\n"
    }
   },
   "outputs": [
    {
     "name": "stdout",
     "output_type": "stream",
     "text": [
      "609862/609862 [==============================] - 33s 54us/step\n"
     ]
    }
   ],
   "source": [
    "resampled_results = resampled_model.evaluate(X_test_smote,\n",
    "                                             y_test_smote,\n",
    "                                             batch_size=BATCH_SIZE, \n",
    "                                             verbose=1)"
   ]
  },
  {
   "cell_type": "code",
   "execution_count": 14,
   "metadata": {
    "pycharm": {
     "is_executing": true,
     "name": "#%%\n"
    }
   },
   "outputs": [
    {
     "name": "stdout",
     "output_type": "stream",
     "text": [
      "loss :  0.7417525988806132\n",
      "tp :  1817409.875\n",
      "fp :  754889.6875\n",
      "tn :  14057936.0\n",
      "fn :  12845728.0\n",
      "accuracy :  0.5385878086090088\n",
      "precision :  0.7065324783325195\n",
      "recall :  0.12394901365041733\n",
      "auc :  0.5312743186950684\n",
      "\n",
      "Legitimate Transactions Detected (True Negatives):  298669\n",
      "Legitimate Transactions Incorrectly Detected (False Positives):  6262\n",
      "Fraudulent Transactions Missed (False Negatives):  300132\n",
      "Fraudulent Transactions Detected (True Positives):  4799\n",
      "Total Fraudulent Transactions:  304931\n"
     ]
    },
    {
     "data": {
      "image/png": "[encoded data removed]",
      "text/plain": [
       "<Figure size 360x360 with 2 Axes>"
      ]
     },
     "metadata": {
      "needs_background": "light"
     },
     "output_type": "display_data"
    }
   ],
   "source": [
    "for name, value in zip(resampled_model.metrics_names, resampled_results):\n",
    "  print(name, ': ', value)\n",
    "print()\n",
    "\n",
    "plot_cm(y_test_smote, test_predictions_resampled)\n",
    "\n",
    "\n"
   ]
  },
  {
   "cell_type": "code",
   "execution_count": 15,
   "metadata": {
    "pycharm": {
     "is_executing": true,
     "name": "#%%\n"
    }
   },
   "outputs": [
    {
     "data": {
      "text/plain": [
       "<matplotlib.legend.Legend at 0x22896cdfe48>"
      ]
     },
     "execution_count": 15,
     "metadata": {},
     "output_type": "execute_result"
    },
    {
     "data": {
      "image/png": "[encoded data removed]",
      "text/plain": [
       "<Figure size 432x288 with 1 Axes>"
      ]
     },
     "metadata": {
      "needs_background": "light"
     },
     "output_type": "display_data"
    }
   ],
   "source": [
    "\n",
    "\n",
    "plot_roc(\"Train Resampled Smote\", y_train_smote, train_predictions_resampled,  color=colors[2])\n",
    "plot_roc(\"Test Resampled Smote\", y_test_smote, test_predictions_resampled,  color=colors[2], linestyle='--')\n",
    "\n",
    "plt.legend(loc='lower right')\n"
   ]
  }
 ],
 "metadata": {
  "kernelspec": {
   "display_name": "Python 3",
   "language": "python",
   "name": "python3"
  },
  "language_info": {
   "codemirror_mode": {
    "name": "ipython",
    "version": 3
   },
   "file_extension": ".py",
   "mimetype": "text/x-python",
   "name": "python",
   "nbconvert_exporter": "python",
   "pygments_lexer": "ipython3",
   "version": "3.7.5"
  },
  "pycharm": {
   "stem_cell": {
    "cell_type": "raw",
    "metadata": {
     "collapsed": false
    },
    "source": []
   }
  }
 },
 "nbformat": 4,
 "nbformat_minor": 1
}
