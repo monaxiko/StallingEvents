{
 "cells": [
  {
   "cell_type": "code",
   "execution_count": 1,
   "metadata": {
    "pycharm": {
     "is_executing": false,
     "name": "#%% IMPORT SECTION\n"
    }
   },
   "outputs": [
    {
     "name": "stderr",
     "output_type": "stream",
     "text": [
      "Using TensorFlow backend.\n"
     ]
    }
   ],
   "source": [
    "import numpy as np\n",
    "import pandas as pd\n",
    "import matplotlib.pyplot as plt\n",
    "import seaborn as sns\n",
    "import sklearn.metrics as metrics\n",
    "import os\n",
    "import tempfile \n",
    "\n",
    "\n",
    "from sklearn import preprocessing\n",
    "from sklearn.utils.class_weight import compute_class_weight\n",
    "from sklearn.metrics import roc_auc_score, classification_report\n",
    "from collections import Counter\n",
    "\n",
    "from imblearn.over_sampling import SMOTE\n",
    "\n",
    "import tensorflow as tf\n",
    "import keras\n",
    "\n",
    "\n",
    "import warnings\n",
    "warnings.filterwarnings(\"ignore\")\n",
    "colors = np.array(['#0101DF','#DF0101','#01DF01','#DFDFDF'])\n",
    "\n",
    "rs = 42\n",
    "def compute_metrics (y_te2,y_p,string):\n",
    "    print('\\n %s'%string)\n",
    "    print('CONFUSION MATRIX')\n",
    "    print(metrics.confusion_matrix(y_te2,y_p))\n",
    "    print(classification_report(y_te2, y_p))\n",
    "    print('\\nROC CURVE: %2.2f'%roc_auc_score(y_te2,y_p))\n",
    "\n",
    "def Ratio10(y,string):\n",
    "    suma = Counter(y)[0]+Counter(y)[1]\n",
    "    print('\\n'+string)  \n",
    "    print(Counter(y))\n",
    "    print('0: %3.2f%%\\n1: %3.2f%%' % (100*Counter(y)[0]/suma,100*Counter(y)[1]/suma))\n",
    "\n",
    "def histo(data,var):\n",
    "    fig=plt.figure()\n",
    "    sns.countplot(var,data=data,palette=colors)\n",
    "    plt.title('0/1 Distribution (0: No Stalling || 1: Stalling Event',fontsize=14)\n",
    "    plt.show()\n",
    "    \n",
    "def plot_loss(history, label, n):\n",
    "    # Use a log scale to show the wide range of values.\n",
    "    plt.semilogy(history.epoch,  \n",
    "                 history.history['loss'],\n",
    "                 color=colors[n], \n",
    "                 label='Train '+label\n",
    "                 )\n",
    "    plt.semilogy(history.epoch,\n",
    "                 history.history['val_loss'],\n",
    "                 color=colors[n], \n",
    "                 label='Val '+label,\n",
    "                 linestyle=\"--\")\n",
    "    plt.xlabel('Epoch')\n",
    "    plt.ylabel('Loss')\n",
    "    plt.legend()\n",
    "\n",
    "def plot_metrics(history):\n",
    "    metrics =  ['loss', 'auc', 'precision', 'recall']\n",
    "    for n, metric in enumerate(metrics):\n",
    "        name = metric.replace(\"_\",\" \").capitalize()\n",
    "        plt.subplot(2,2,n+1)\n",
    "        plt.plot(history.epoch,  history.history[metric], color=colors[0], label='Train')\n",
    "        plt.plot(history.epoch, history.history['val_'+metric],\n",
    "             color=colors[0], linestyle=\"--\", label='Val')\n",
    "        plt.xlabel('Epoch')\n",
    "        plt.ylabel(name)\n",
    "        if metric == 'loss':\n",
    "            plt.ylim([0, plt.ylim()[1]])\n",
    "        elif metric == 'auc':\n",
    "            plt.ylim([0.5,1])\n",
    "        else:\n",
    "            plt.ylim([0,1])\n",
    "\n",
    "    plt.legend()\n",
    "\n",
    "def plot_cm(labels, predictions, p=0.5):\n",
    "  cm = metrics.confusion_matrix(labels, predictions > p)\n",
    "  plt.figure(figsize=(5,5))\n",
    "  sns.heatmap(cm, annot=True, fmt=\"d\")\n",
    "  plt.title('Confusion matrix @{:.2f}'.format(p))\n",
    "  plt.ylabel('Actual label')\n",
    "  plt.xlabel('Predicted label')\n",
    "\n",
    "  print('Legitimate Transactions Detected (True Negatives): ', cm[0][0])\n",
    "  print('Legitimate Transactions Incorrectly Detected (False Positives): ', cm[0][1])\n",
    "  print('Fraudulent Transactions Missed (False Negatives): ', cm[1][0])\n",
    "  print('Fraudulent Transactions Detected (True Positives): ', cm[1][1])\n",
    "  print('Total Fraudulent Transactions: ', np.sum(cm[1]))\n",
    "  \n",
    "\n",
    "def plot_roc(name, labels, predictions, **kwargs):\n",
    "    fp, tp, _ = metrics.roc_curve(labels, predictions)\n",
    "\n",
    "    plt.plot(100*fp, 100*tp, label=name, linewidth=2, **kwargs)\n",
    "    plt.xlabel('False positives [%]')\n",
    "    plt.ylabel('True positives [%]')\n",
    "    plt.xlim([-0.5,100.5])\n",
    "    plt.ylim([-0.5,100.5])\n",
    "    plt.grid(True)\n",
    "    ax = plt.gca()\n",
    "    ax.set_aspect('equal')\n",
    "  "
   ]
  },
  {
   "cell_type": "code",
   "execution_count": 2,
   "metadata": {
    "pycharm": {
     "is_executing": false,
     "name": "#%% LOAD DATASET REMOVING NOISE\n"
    }
   },
   "outputs": [
    {
     "name": "stdout",
     "output_type": "stream",
     "text": [
      "Index(['∆t', 'pkt_len', 'tcp_hea_len', 'tcp_flag_ack', 'tcp_flag_cwr',\n",
      "       'tcp_flag_ecn', 'tcp_flag_urg', 'tcp_flag_psh', 'tcp_flag_rst',\n",
      "       'tcp_flag_syn', 'tcp_flag_fin', 'tcp_win_si2', 'delay', 'capture',\n",
      "       'stalling_event'],\n",
      "      dtype='object')\n",
      "\n",
      "dataset[stalling_event]\n",
      "Counter({0: 1426905, 1: 113031})\n",
      "0: 92.66%\n",
      "1: 7.34%\n"
     ]
    },
    {
     "data": {
      "image/png": "[encoded data removed]",
      "text/plain": [
       "<Figure size 432x288 with 1 Axes>"
      ]
     },
     "metadata": {
      "needs_background": "light"
     },
     "output_type": "display_data"
    }
   ],
   "source": [
    "dataset = pd.read_csv('../../output/df_general.csv', sep=',')\n",
    "split = 0.8\n",
    "del dataset['No.']\n",
    "del dataset['Protocol']\n",
    "del dataset['ip_len']\n",
    "del dataset['prebuffering']\n",
    "del dataset['Time']\n",
    "\n",
    "dataset = dataset.fillna(dataset.mean())\n",
    "neg, pos = np.bincount(dataset['stalling_event'])\n",
    "total = neg + pos\n",
    "weight_for_0 = (1 / neg)*(total)/2.0 \n",
    "weight_for_1 = (1 / pos)*(total)/2.0\n",
    "\n",
    "class_weight = {0: weight_for_0, 1: weight_for_1}\n",
    "\n",
    "print(dataset.columns)\n",
    "Ratio10(dataset['stalling_event'],'dataset[stalling_event]')\n",
    "histo(dataset,'stalling_event')"
   ]
  },
  {
   "cell_type": "code",
   "execution_count": 3,
   "metadata": {
    "pycharm": {
     "is_executing": false,
     "name": "#%% SPLIT TRAIN/TEST\n"
    }
   },
   "outputs": [],
   "source": [
    "from random import randint\n",
    "'''X_train = [None] * (len(dataset.columns)-1)\n",
    "X_test = [None] * (len(dataset.columns)-1)'''\n",
    "\n",
    "X_train = np.array([None]*12)\n",
    "X_test = np.array([None]*12)\n",
    "y_train = list()\n",
    "y_test = list()\n",
    "\n",
    "grouped = dataset.groupby(['delay','capture']) \n",
    "#print(grouped.mean())\n",
    "\n",
    "for id, data in grouped:\n",
    "    spl = int(data.shape[0] * split)\n",
    "    restspl = int(data.shape[0] * (1-split))\n",
    "    randnum = randint(0,restspl)\n",
    "    \n",
    "    X_train = np.vstack((X_train,data.values[randnum:randnum+spl,:-3]))\n",
    "    X_test = np.vstack((X_test,data.values[0:randnum-1,:-3]))\n",
    "    X_test = np.vstack((X_test,data.values[randnum+spl:,:-3]))\n",
    "    \n",
    "    y_train.extend(data.values[randnum:randnum+spl,-1])\n",
    "    y_test.extend(data.values[0:randnum-1,-1])\n",
    "    y_test.extend(data.values[randnum+spl:,-1])\n",
    "\n",
    "X_train = X_train[1:]\n",
    "X_test = X_test[1:]"
   ]
  },
  {
   "cell_type": "code",
   "execution_count": 4,
   "metadata": {
    "pycharm": {
     "is_executing": false,
     "name": "#%%\n"
    }
   },
   "outputs": [],
   "source": [
    "mms = preprocessing.MinMaxScaler()\n",
    "X_train = mms.fit_transform(X_train)\n",
    "X_test = mms.transform(X_test)"
   ]
  },
  {
   "cell_type": "code",
   "execution_count": 5,
   "metadata": {
    "pycharm": {
     "is_executing": false,
     "name": "#%%\n"
    }
   },
   "outputs": [
    {
     "name": "stdout",
     "output_type": "stream",
     "text": [
      "\n",
      "y_test\n",
      "Counter({0: 306422, 1: 1530})\n",
      "0: 99.50%\n",
      "1: 0.50%\n",
      "\n",
      "y_train\n",
      "Counter({0: 1120423, 1: 111501})\n",
      "0: 90.95%\n",
      "1: 9.05%\n"
     ]
    }
   ],
   "source": [
    "y_test = list(map(int,y_test))\n",
    "y_train = list(map(int,y_train))\n",
    "Ratio10(y_test,'y_test')\n",
    "Ratio10(y_train,'y_train')\n",
    "\n",
    "X_train = pd.DataFrame(data=X_train,columns=dataset.columns[:-3])\n",
    "X_test= pd.DataFrame(data=X_test,columns=dataset.columns[:-3])\n",
    "y_train = pd.DataFrame(data=y_train,columns=['y_train'])\n",
    "y_test= pd.DataFrame(data=y_test,columns=['y_test'])\n",
    "del dataset['delay']\n",
    "del dataset['capture']"
   ]
  },
  {
   "cell_type": "code",
   "execution_count": 6,
   "metadata": {
    "pycharm": {
     "is_executing": false,
     "name": "#%%\n"
    }
   },
   "outputs": [],
   "source": [
    "smote = SMOTE(random_state = rs)\n",
    "X_train_smote,y_train_smote = smote.fit_resample(X_train.values,y_train.values)\n",
    "X_test_smote,y_test_smote = smote.fit_resample(X_test.values,y_test.values)"
   ]
  },
  {
   "cell_type": "code",
   "execution_count": 7,
   "metadata": {
    "pycharm": {
     "is_executing": false,
     "name": "#%%\n"
    }
   },
   "outputs": [
    {
     "name": "stdout",
     "output_type": "stream",
     "text": [
      "1394.0\n"
     ]
    }
   ],
   "source": [
    "EPOCHS = 100\n",
    "BATCH_SIZE = 2048\n",
    "\n",
    "resampled_steps_per_epoch = np.ceil(2.0*neg/BATCH_SIZE)\n",
    "print(resampled_steps_per_epoch)"
   ]
  },
  {
   "cell_type": "code",
   "execution_count": 8,
   "metadata": {
    "pycharm": {
     "is_executing": false,
     "name": "#%%\n"
    }
   },
   "outputs": [],
   "source": [
    "METRICS = [\n",
    "    tf.keras.metrics.TruePositives(name='tp'),\n",
    "    tf.keras.metrics.FalsePositives(name='fp'),\n",
    "    tf.keras.metrics.TrueNegatives(name='tn'),\n",
    "    tf.keras.metrics.FalseNegatives(name='fn'),\n",
    "    tf.keras.metrics.BinaryAccuracy(name='accuracy'),\n",
    "    tf.keras.metrics.Precision(name='precision'),\n",
    "    tf.keras.metrics.Recall(name='recall'),\n",
    "    tf.keras.metrics.AUC(name='auc'),\n",
    "]\n",
    "\n",
    "\n",
    "early_stopping = tf.keras.callbacks.EarlyStopping(monitor='val_auc', \n",
    "                                                  verbose=1,\n",
    "                                                  patience=10,\n",
    "                                                  mode='max',\n",
    "                                                  restore_best_weights=True)\n",
    "\n"
   ]
  },
  {
   "cell_type": "code",
   "execution_count": 9,
   "metadata": {
    "pycharm": {
     "is_executing": false,
     "name": "#%%\n"
    }
   },
   "outputs": [
    {
     "name": "stdout",
     "output_type": "stream",
     "text": [
      "[-2.53560092]\n"
     ]
    }
   ],
   "source": [
    "n_features = X_train.shape[1]\n",
    "\n",
    "initial_bias = np.log([pos/neg])\n",
    "print(initial_bias)"
   ]
  },
  {
   "cell_type": "code",
   "execution_count": 10,
   "metadata": {
    "pycharm": {
     "is_executing": true,
     "name": "#%% Resampled\n"
    }
   },
   "outputs": [
    {
     "name": "stdout",
     "output_type": "stream",
     "text": [
      "WARNING:tensorflow:Large dropout rate: 0.75 (>0.5). In TensorFlow 2.x, dropout() uses dropout rate instead of keep_prob. Please ensure that this is intended.\n",
      "WARNING:tensorflow:Large dropout rate: 0.75 (>0.5). In TensorFlow 2.x, dropout() uses dropout rate instead of keep_prob. Please ensure that this is intended.\n",
      "WARNING:tensorflow:Large dropout rate: 0.75 (>0.5). In TensorFlow 2.x, dropout() uses dropout rate instead of keep_prob. Please ensure that this is intended.\n",
      "Built NN...\n",
      "Model: \"sequential_1\"\n",
      "_________________________________________________________________\n",
      "Layer (type)                 Output Shape              Param #   \n",
      "=================================================================\n",
      "dense_1 (Dense)              (None, 5120)              66560     \n",
      "_________________________________________________________________\n",
      "dropout_1 (Dropout)          (None, 5120)              0         \n",
      "_________________________________________________________________\n",
      "dense_2 (Dense)              (None, 5120)              26219520  \n",
      "_________________________________________________________________\n",
      "dropout_2 (Dropout)          (None, 5120)              0         \n",
      "_________________________________________________________________\n",
      "dense_3 (Dense)              (None, 5120)              26219520  \n",
      "_________________________________________________________________\n",
      "dropout_3 (Dropout)          (None, 5120)              0         \n",
      "_________________________________________________________________\n",
      "dense_4 (Dense)              (None, 1)                 5121      \n",
      "=================================================================\n",
      "Total params: 52,510,721\n",
      "Trainable params: 52,510,721\n",
      "Non-trainable params: 0\n",
      "_________________________________________________________________\n",
      "Compiled NN...\n",
      "Train on 1792676 samples, validate on 448170 samples\n",
      "Epoch 1/100\n",
      "1792676/1792676 [==============================] - 4270s 2ms/step - loss: 0.7010 - tp: 33697.1289 - fp: 55883.6719 - tn: 505430.8438 - fn: 303034.5938 - accuracy: 0.5890 - precision: 0.3764 - recall: 0.1454 - auc: 0.5003 - val_loss: 0.9267 - val_tp: 38635.0000 - val_fp: 64110.0000 - val_tn: 1056315.3750 - val_fn: 858894.8750 - val_accuracy: 0.5449 - val_precision: 0.3760 - val_recall: 0.0440 - val_auc: 0.5386\n",
      "Epoch 2/100\n",
      "1792676/1792676 [==============================] - 4248s 2ms/step - loss: 0.6628 - tp: 38640.4297 - fp: 64115.3164 - tn: 1617614.5000 - fn: 1418520.8750 - accuracy: 0.5249 - precision: 0.3760 - recall: 0.0270 - auc: 0.5602 - val_loss: 1.0008 - val_tp: 38642.0000 - val_fp: 64116.0000 - val_tn: 2176733.7500 - val_fn: 1979316.2500 - val_accuracy: 0.5207 - val_precision: 0.3760 - val_recall: 0.0192 - val_auc: 0.5392\n",
      "Epoch 3/100\n",
      "1792676/1792676 [==============================] - 4382s 2ms/step - loss: 0.6626 - tp: 38641.9805 - fp: 64116.0742 - tn: 2738072.5000 - fn: 2538904.2500 - accuracy: 0.5151 - precision: 0.3760 - recall: 0.0151 - auc: 0.5237 - val_loss: 0.9577 - val_tp: 38642.0000 - val_fp: 64117.0000 - val_tn: 3297152.0000 - val_fn: 3099734.5000 - val_accuracy: 0.5134 - val_precision: 0.3760 - val_recall: 0.0123 - val_auc: 0.5272\n",
      "Epoch 4/100\n",
      "1792676/1792676 [==============================] - 4198s 2ms/step - loss: 0.6625 - tp: 38641.9805 - fp: 64116.3008 - tn: 3858243.5000 - fn: 3659572.0000 - accuracy: 0.5108 - precision: 0.3760 - recall: 0.0105 - auc: 0.5301 - val_loss: 0.9711 - val_tp: 38642.0000 - val_fp: 64117.0000 - val_tn: 4417583.5000 - val_fn: 4220158.5000 - val_accuracy: 0.5099 - val_precision: 0.3760 - val_recall: 0.0091 - val_auc: 0.5285\n",
      "Epoch 5/100\n",
      "1792676/1792676 [==============================] - 4197s 2ms/step - loss: 0.6622 - tp: 38641.9805 - fp: 64116.3008 - tn: 4978706.0000 - fn: 4779960.0000 - accuracy: 0.5085 - precision: 0.3760 - recall: 0.0080 - auc: 0.5271 - val_loss: 0.9644 - val_tp: 38642.0000 - val_fp: 64117.0000 - val_tn: 5537995.0000 - val_fn: 5340588.0000 - val_accuracy: 0.5079 - val_precision: 0.3760 - val_recall: 0.0072 - val_auc: 0.5264\n",
      "Epoch 6/100\n",
      "1792676/1792676 [==============================] - 4159s 2ms/step - loss: 0.6619 - tp: 38641.9805 - fp: 64116.3008 - tn: 6099386.5000 - fn: 5900128.5000 - accuracy: 0.5070 - precision: 0.3760 - recall: 0.0065 - auc: 0.5265 - val_loss: 0.9618 - val_tp: 38642.0000 - val_fp: 64117.0000 - val_tn: 6658429.5000 - val_fn: 6461008.5000 - val_accuracy: 0.5066 - val_precision: 0.3760 - val_recall: 0.0059 - val_auc: 0.5301\n",
      "Epoch 7/100\n",
      "1792676/1792676 [==============================] - 4199s 2ms/step - loss: 0.6618 - tp: 38641.9805 - fp: 64116.3008 - tn: 7219887.5000 - fn: 7020454.0000 - accuracy: 0.5059 - precision: 0.3760 - recall: 0.0055 - auc: 0.5348 - val_loss: 0.9635 - val_tp: 38642.0000 - val_fp: 64117.0000 - val_tn: 7778826.0000 - val_fn: 7581436.0000 - val_accuracy: 0.5056 - val_precision: 0.3760 - val_recall: 0.0051 - val_auc: 0.5366\n",
      "Epoch 8/100\n",
      "1792676/1792676 [==============================] - 4165s 2ms/step - loss: 0.6617 - tp: 38641.9805 - fp: 64116.3008 - tn: 8339975.0000 - fn: 8141226.0000 - accuracy: 0.5051 - precision: 0.3760 - recall: 0.0047 - auc: 0.5390 - val_loss: 0.9953 - val_tp: 38642.0000 - val_fp: 64117.0000 - val_tn: 8899293.0000 - val_fn: 8701832.0000 - val_accuracy: 0.5049 - val_precision: 0.3760 - val_recall: 0.0044 - val_auc: 0.5353\n",
      "Epoch 9/100\n",
      "1792676/1792676 [==============================] - 4068s 2ms/step - loss: 0.6616 - tp: 38641.9805 - fp: 64116.3008 - tn: 9460551.0000 - fn: 9261511.0000 - accuracy: 0.5045 - precision: 0.3760 - recall: 0.0042 - auc: 0.5313 - val_loss: 0.9858 - val_tp: 38642.0000 - val_fp: 64117.0000 - val_tn: 10019703.0000 - val_fn: 9822302.0000 - val_accuracy: 0.5043 - val_precision: 0.3760 - val_recall: 0.0039 - val_auc: 0.5303\n",
      "Epoch 10/100\n",
      "1792676/1792676 [==============================] - 4138s 2ms/step - loss: 0.6616 - tp: 38641.9805 - fp: 64116.3008 - tn: 10580789.0000 - fn: 10382103.0000 - accuracy: 0.5040 - precision: 0.3760 - recall: 0.0037 - auc: 0.5292 - val_loss: 0.9820 - val_tp: 38642.0000 - val_fp: 64117.0000 - val_tn: 11140102.0000 - val_fn: 10942713.0000 - val_accuracy: 0.5039 - val_precision: 0.3760 - val_recall: 0.0035 - val_auc: 0.5282\n",
      "Epoch 11/100\n",
      "1792676/1792676 [==============================] - 4042s 2ms/step - loss: 0.6616 - tp: 38641.9805 - fp: 64116.3008 - tn: 11701754.0000 - fn: 11501999.0000 - accuracy: 0.5037 - precision: 0.3760 - recall: 0.0033 - auc: 0.5275 - val_loss: 0.9784 - val_tp: 38642.0000 - val_fp: 64117.0000 - val_tn: 12260531.0000 - val_fn: 12063130.0000 - val_accuracy: 0.5035 - val_precision: 0.3760 - val_recall: 0.0032 - val_auc: 0.5263\n",
      "Epoch 12/100\n",
      "1792676/1792676 [==============================] - 4043s 2ms/step - loss: 0.6616 - tp: 38641.9805 - fp: 64116.3008 - tn: 12821330.0000 - fn: 12623265.0000 - accuracy: 0.5033 - precision: 0.3760 - recall: 0.0031 - auc: 0.5250 - val_loss: 0.9821 - val_tp: 38642.0000 - val_fp: 64117.0000 - val_tn: 13380940.0000 - val_fn: 13183510.0000 - val_accuracy: 0.5032 - val_precision: 0.3760 - val_recall: 0.0029 - val_auc: 0.5242\n",
      "Restoring model weights from the end of the best epoch.\n",
      "Epoch 00012: early stopping\n"
     ]
    }
   ],
   "source": [
    "\n",
    "resampled_model = keras.Sequential()\n",
    "resampled_model.add(keras.layers.Dense(5120,activation='sigmoid',input_shape=(n_features,)))\n",
    "resampled_model.add(keras.layers.Dropout(0.75))\n",
    "resampled_model.add(keras.layers.Dense(5120,activation='sigmoid'))\n",
    "resampled_model.add(keras.layers.Dropout(0.75))\n",
    "resampled_model.add(keras.layers.Dense(5120,activation='sigmoid'))\n",
    "resampled_model.add(keras.layers.Dropout(0.75))\n",
    "resampled_model.add(keras.layers.Dense(1,activation='sigmoid'))\n",
    "print('Built NN...')\n",
    "resampled_model.compile(optimizer=keras.optimizers.Adam(lr=1e-3),loss=keras.losses.BinaryCrossentropy(),metrics=METRICS)\n",
    "resampled_model.summary()\n",
    "print('Compiled NN...')\n",
    "\n",
    "initial_weights = os.path.join(tempfile.mkdtemp(),'initial_weights')\n",
    "resampled_model.save_weights(initial_weights)\n",
    "\n",
    "resampled_model.load_weights(initial_weights)\n",
    "output_layer = resampled_model.layers[-1] \n",
    "output_layer.bias.assign([0])\n",
    "\n",
    "resampled_history = resampled_model.fit(X_train_smote,\n",
    "                                        y_train_smote,\n",
    "                                        batch_size=BATCH_SIZE,\n",
    "                                        epochs=EPOCHS,\n",
    "                                        callbacks = [early_stopping],\n",
    "                                        validation_split=0.2\n",
    "                                        )"
   ]
  },
  {
   "cell_type": "code",
   "execution_count": 11,
   "metadata": {
    "pycharm": {
     "is_executing": true,
     "name": "#%% USING test_smote\n"
    }
   },
   "outputs": [
    {
     "data": {
      "image/png": "[encoded data removed]",
      "text/plain": [
       "<Figure size 432x288 with 4 Axes>"
      ]
     },
     "metadata": {
      "needs_background": "light"
     },
     "output_type": "display_data"
    }
   ],
   "source": [
    "plot_metrics(resampled_history)\n",
    "plt.show()"
   ]
  },
  {
   "cell_type": "code",
   "execution_count": 12,
   "metadata": {
    "pycharm": {
     "is_executing": true,
     "name": "#%%\n"
    }
   },
   "outputs": [],
   "source": [
    "train_predictions_resampled = resampled_model.predict(X_train_smote, batch_size=BATCH_SIZE)\n",
    "test_predictions_resampled = resampled_model.predict(X_test_smote, batch_size=BATCH_SIZE)"
   ]
  },
  {
   "cell_type": "code",
   "execution_count": 13,
   "metadata": {
    "pycharm": {
     "is_executing": true,
     "name": "#%%\n"
    }
   },
   "outputs": [
    {
     "name": "stdout",
     "output_type": "stream",
     "text": [
      "612844/612844 [==============================] - 315s 513us/step\n"
     ]
    }
   ],
   "source": [
    "resampled_results = resampled_model.evaluate(X_test_smote,\n",
    "                                             y_test_smote,\n",
    "                                             batch_size=BATCH_SIZE, \n",
    "                                             verbose=1)"
   ]
  },
  {
   "cell_type": "code",
   "execution_count": 14,
   "metadata": {
    "pycharm": {
     "is_executing": true,
     "name": "#%%\n"
    }
   },
   "outputs": [
    {
     "name": "stdout",
     "output_type": "stream",
     "text": [
      "loss :  0.7294999184796971\n",
      "tp :  38642.0\n",
      "fp :  64116.87890625\n",
      "tn :  13610865.0\n",
      "fn :  13484725.0\n",
      "accuracy :  0.501851499080658\n",
      "precision :  0.37604519724845886\n",
      "recall :  0.0028575833421200514\n",
      "auc :  0.5261538624763489\n",
      "\n",
      "Legitimate Transactions Detected (True Negatives):  306422\n",
      "Legitimate Transactions Incorrectly Detected (False Positives):  0\n",
      "Fraudulent Transactions Missed (False Negatives):  306422\n",
      "Fraudulent Transactions Detected (True Positives):  0\n",
      "Total Fraudulent Transactions:  306422\n"
     ]
    },
    {
     "data": {
      "image/png": "[encoded data removed]",
      "text/plain": [
       "<Figure size 360x360 with 2 Axes>"
      ]
     },
     "metadata": {
      "needs_background": "light"
     },
     "output_type": "display_data"
    }
   ],
   "source": [
    "for name, value in zip(resampled_model.metrics_names, resampled_results):\n",
    "  print(name, ': ', value)\n",
    "print()\n",
    "\n",
    "plot_cm(y_test_smote, test_predictions_resampled)"
   ]
  },
  {
   "cell_type": "code",
   "execution_count": 15,
   "metadata": {
    "pycharm": {
     "is_executing": true,
     "name": "#%%\n"
    }
   },
   "outputs": [
    {
     "data": {
      "text/plain": [
       "<matplotlib.legend.Legend at 0x16cd4008c48>"
      ]
     },
     "execution_count": 15,
     "metadata": {},
     "output_type": "execute_result"
    },
    {
     "data": {
      "image/png": "[encoded data removed]",
      "text/plain": [
       "<Figure size 432x288 with 1 Axes>"
      ]
     },
     "metadata": {
      "needs_background": "light"
     },
     "output_type": "display_data"
    }
   ],
   "source": [
    "\n",
    "plot_roc(\"Train Resampled Smote\", y_train_smote, train_predictions_resampled,  color=colors[2])\n",
    "plot_roc(\"Test Resampled Smote\", y_test_smote, test_predictions_resampled,  color=colors[2], linestyle='--')\n",
    "\n",
    "plt.legend(loc='lower right')\n"
   ]
  }
 ],
 "metadata": {
  "kernelspec": {
   "display_name": "Python 3",
   "language": "python",
   "name": "python3"
  },
  "language_info": {
   "codemirror_mode": {
    "name": "ipython",
    "version": 3
   },
   "file_extension": ".py",
   "mimetype": "text/x-python",
   "name": "python",
   "nbconvert_exporter": "python",
   "pygments_lexer": "ipython3",
   "version": "3.7.5"
  },
  "pycharm": {
   "stem_cell": {
    "cell_type": "raw",
    "metadata": {
     "collapsed": false
    },
    "source": []
   }
  }
 },
 "nbformat": 4,
 "nbformat_minor": 1
}
