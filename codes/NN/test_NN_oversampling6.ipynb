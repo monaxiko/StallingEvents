{
 "cells": [
  {
   "cell_type": "code",
   "execution_count": 1,
   "metadata": {
    "pycharm": {
     "is_executing": false,
     "name": "#%% IMPORT SECTION\n"
    }
   },
   "outputs": [
    {
     "name": "stderr",
     "output_type": "stream",
     "text": [
      "Using TensorFlow backend.\n"
     ]
    }
   ],
   "source": [
    "import numpy as np\n",
    "import pandas as pd\n",
    "import matplotlib.pyplot as plt\n",
    "import seaborn as sns\n",
    "import os\n",
    "import tempfile \n",
    "\n",
    "\n",
    "from sklearn import preprocessing\n",
    "from sklearn import metrics\n",
    "from sklearn.metrics import roc_auc_score, classification_report\n",
    "from collections import Counter\n",
    "\n",
    "from imblearn.over_sampling import SMOTE\n",
    "\n",
    "import tensorflow as tf\n",
    "import keras\n",
    "\n",
    "colors = np.array(['#0101DF','#DF0101','#01DF01','#DFDFDF'])\n",
    "\n",
    "rs = 42\n",
    "def compute_metrics (y_te2,y_p,string):\n",
    "    print('\\n %s'%string)\n",
    "    print('CONFUSION MATRIX')\n",
    "    print(metrics.confusion_matrix(y_te2,y_p))\n",
    "    print(classification_report(y_te2, y_p))\n",
    "    print('\\nROC CURVE: %2.2f'%roc_auc_score(y_te2,y_p))\n",
    "\n",
    "def Ratio10(y,string):\n",
    "    suma = Counter(y)[0]+Counter(y)[1]\n",
    "    print('\\n'+string)  \n",
    "    print(Counter(y))\n",
    "    print('0: %3.2f%%\\n1: %3.2f%%' % (100*Counter(y)[0]/suma,100*Counter(y)[1]/suma))\n",
    "\n",
    "def histo(data,var):\n",
    "    fig=plt.figure()\n",
    "    sns.countplot(var,data=data,palette=colors)\n",
    "    plt.title('0/1 Distribution (0: No Stalling || 1: Stalling Event',fontsize=14)\n",
    "    plt.show()\n",
    "    \n",
    "def plot_loss(history, label, n):\n",
    "    # Use a log scale to show the wide range of values.\n",
    "    plt.semilogy(history.epoch,  \n",
    "                 history.history['loss'],\n",
    "                 color=colors[n], \n",
    "                 label='Train '+label\n",
    "                 )\n",
    "    plt.semilogy(history.epoch,\n",
    "                 history.history['val_loss'],\n",
    "                 color=colors[n], \n",
    "                 label='Val '+label,\n",
    "                 linestyle=\"--\")\n",
    "    plt.xlabel('Epoch')\n",
    "    plt.ylabel('Loss')\n",
    "    plt.legend()\n",
    "\n",
    "def plot_metrics(history):\n",
    "    metrics =  ['loss', 'auc', 'precision', 'recall']\n",
    "    for n, metric in enumerate(metrics):\n",
    "        name = metric.replace(\"_\",\" \").capitalize()\n",
    "        plt.subplot(2,2,n+1)\n",
    "        plt.plot(history.epoch,  history.history[metric], color=colors[0], label='Train')\n",
    "        plt.plot(history.epoch, history.history['val_'+metric],\n",
    "             color=colors[0], linestyle=\"--\", label='Val')\n",
    "        plt.xlabel('Epoch')\n",
    "        plt.ylabel(name)\n",
    "        if metric == 'loss':\n",
    "            plt.ylim([0, plt.ylim()[1]])\n",
    "        elif metric == 'auc':\n",
    "            plt.ylim([0.5,1])\n",
    "        else:\n",
    "            plt.ylim([0,1])\n",
    "\n",
    "    plt.legend()\n",
    "\n",
    "def plot_cm(labels, predictions, p=0.5):\n",
    "  cm = metrics.confusion_matrix(labels, predictions > p)\n",
    "  plt.figure(figsize=(5,5))\n",
    "  sns.heatmap(cm, annot=True, fmt=\"d\")\n",
    "  plt.title('Confusion matrix @{:.2f}'.format(p))\n",
    "  plt.ylabel('Actual label')\n",
    "  plt.xlabel('Predicted label')\n",
    "\n",
    "  print('Legitimate Transactions Detected (True Negatives): ', cm[0][0])\n",
    "  print('Legitimate Transactions Incorrectly Detected (False Positives): ', cm[0][1])\n",
    "  print('Fraudulent Transactions Missed (False Negatives): ', cm[1][0])\n",
    "  print('Fraudulent Transactions Detected (True Positives): ', cm[1][1])\n",
    "  print('Total Fraudulent Transactions: ', np.sum(cm[1]))\n",
    "  \n",
    "\n",
    "def plot_roc(name, labels, predictions, **kwargs):\n",
    "    fp, tp, _ = metrics.roc_curve(labels, predictions)\n",
    "\n",
    "    plt.plot(100*fp, 100*tp, label=name, linewidth=2, **kwargs)\n",
    "    plt.xlabel('False positives [%]')\n",
    "    plt.ylabel('True positives [%]')\n",
    "    plt.xlim([-0.5,100.5])\n",
    "    plt.ylim([-0.5,100.5])\n",
    "    plt.grid(True)\n",
    "    ax = plt.gca()\n",
    "    ax.set_aspect('equal')\n",
    "  "
   ]
  },
  {
   "cell_type": "code",
   "execution_count": 2,
   "metadata": {
    "pycharm": {
     "is_executing": false,
     "name": "#%% LOAD DATASET REMOVING NOISE\n"
    }
   },
   "outputs": [
    {
     "name": "stdout",
     "output_type": "stream",
     "text": [
      "Index(['∆t', 'pkt_len', 'tcp_hea_len', 'tcp_flag_ack', 'tcp_flag_cwr',\n",
      "       'tcp_flag_ecn', 'tcp_flag_urg', 'tcp_flag_psh', 'tcp_flag_rst',\n",
      "       'tcp_flag_syn', 'tcp_flag_fin', 'tcp_win_si2', 'delay', 'capture',\n",
      "       'stalling_event'],\n",
      "      dtype='object')\n",
      "\n",
      "dataset[stalling_event]\n",
      "Counter({0: 1426905, 1: 113031})\n",
      "0: 92.66%\n",
      "1: 7.34%\n"
     ]
    },
    {
     "data": {
      "image/png": "[encoded data removed]",
      "text/plain": [
       "<Figure size 432x288 with 1 Axes>"
      ]
     },
     "metadata": {
      "needs_background": "light"
     },
     "output_type": "display_data"
    }
   ],
   "source": [
    "dataset = pd.read_csv('../../output/df_general.csv', sep=',')\n",
    "split = 0.8\n",
    "del dataset['No.']\n",
    "del dataset['Protocol']\n",
    "del dataset['ip_len']\n",
    "del dataset['prebuffering']\n",
    "del dataset['Time']\n",
    "\n",
    "dataset = dataset.fillna(dataset.mean())\n",
    "neg, pos = np.bincount(dataset['stalling_event'])\n",
    "total = neg + pos\n",
    "weight_for_0 = (1 / neg)*(total)/2.0 \n",
    "weight_for_1 = (1 / pos)*(total)/2.0\n",
    "\n",
    "class_weight = {0: weight_for_0, 1: weight_for_1}\n",
    "\n",
    "print(dataset.columns)\n",
    "Ratio10(dataset['stalling_event'],'dataset[stalling_event]')\n",
    "histo(dataset,'stalling_event')"
   ]
  },
  {
   "cell_type": "code",
   "execution_count": 3,
   "metadata": {
    "pycharm": {
     "is_executing": false,
     "name": "#%% SPLIT TRAIN/TEST\n"
    }
   },
   "outputs": [],
   "source": [
    "'''X_train = [None] * (len(dataset.columns)-1)\n",
    "X_test = [None] * (len(dataset.columns)-1)'''\n",
    "\n",
    "X_train = np.array([None]*12)\n",
    "X_test = np.array([None]*12)\n",
    "y_train = list()\n",
    "y_test = list()\n",
    "\n",
    "grouped = dataset.groupby(['delay','capture']) \n",
    "#print(grouped.mean())\n",
    "\n",
    "for id, data in grouped:\n",
    "    spl = int(data.shape[0] * split)\n",
    "    restspl = int(data.shape[0] * (1-split))\n",
    "    randnum = np.random.randint(0,restspl)\n",
    "    \n",
    "    X_train = np.vstack((X_train,data.values[randnum:randnum+spl,:-3]))\n",
    "    X_test = np.vstack((X_test,data.values[0:randnum-1,:-3]))\n",
    "    X_test = np.vstack((X_test,data.values[randnum+spl:,:-3]))\n",
    "    \n",
    "    y_train.extend(data.values[randnum:randnum+spl,-1])\n",
    "    y_test.extend(data.values[0:randnum-1,-1])\n",
    "    y_test.extend(data.values[randnum+spl:,-1])\n",
    "\n",
    "X_train = X_train[1:]\n",
    "X_test = X_test[1:]"
   ]
  },
  {
   "cell_type": "code",
   "execution_count": 4,
   "metadata": {
    "pycharm": {
     "is_executing": false,
     "name": "#%%\n"
    }
   },
   "outputs": [],
   "source": [
    "mms = preprocessing.MinMaxScaler()\n",
    "X_train = mms.fit_transform(X_train)\n",
    "X_test = mms.transform(X_test)"
   ]
  },
  {
   "cell_type": "code",
   "execution_count": 5,
   "metadata": {
    "pycharm": {
     "is_executing": false,
     "name": "#%%\n"
    }
   },
   "outputs": [
    {
     "name": "stdout",
     "output_type": "stream",
     "text": [
      "\n",
      "y_test\n",
      "Counter({0: 305478, 1: 2474})\n",
      "0: 99.20%\n",
      "1: 0.80%\n",
      "\n",
      "y_train\n",
      "Counter({0: 1121368, 1: 110556})\n",
      "0: 91.03%\n",
      "1: 8.97%\n"
     ]
    }
   ],
   "source": [
    "y_test = list(map(int,y_test))\n",
    "y_train = list(map(int,y_train))\n",
    "Ratio10(y_test,'y_test')\n",
    "Ratio10(y_train,'y_train')\n",
    "\n",
    "X_train = pd.DataFrame(data=X_train,columns=dataset.columns[:-3])\n",
    "X_test= pd.DataFrame(data=X_test,columns=dataset.columns[:-3])\n",
    "y_train = pd.DataFrame(data=y_train,columns=['y_train'])\n",
    "y_test= pd.DataFrame(data=y_test,columns=['y_test'])\n",
    "del dataset['delay']\n",
    "del dataset['capture']"
   ]
  },
  {
   "cell_type": "code",
   "execution_count": 6,
   "metadata": {
    "pycharm": {
     "is_executing": false,
     "name": "#%%\n"
    }
   },
   "outputs": [
    {
     "name": "stderr",
     "output_type": "stream",
     "text": [
      "C:\\Users\\Usuario\\Anaconda3\\lib\\site-packages\\sklearn\\utils\\validation.py:760: DataConversionWarning: A column-vector y was passed when a 1d array was expected. Please change the shape of y to (n_samples, ), for example using ravel().\n",
      "  y = column_or_1d(y, warn=True)\n",
      "C:\\Users\\Usuario\\Anaconda3\\lib\\site-packages\\sklearn\\utils\\validation.py:760: DataConversionWarning: A column-vector y was passed when a 1d array was expected. Please change the shape of y to (n_samples, ), for example using ravel().\n",
      "  y = column_or_1d(y, warn=True)\n"
     ]
    }
   ],
   "source": [
    "smote = SMOTE(random_state = rs)\n",
    "X_train_smote,y_train_smote = smote.fit_resample(X_train.values,y_train.values)\n",
    "X_test_smote,y_test_smote = smote.fit_resample(X_test.values,y_test.values)"
   ]
  },
  {
   "cell_type": "code",
   "execution_count": 7,
   "metadata": {
    "pycharm": {
     "is_executing": false,
     "name": "#%%\n"
    }
   },
   "outputs": [
    {
     "name": "stdout",
     "output_type": "stream",
     "text": [
      "1394.0\n"
     ]
    }
   ],
   "source": [
    "EPOCHS = 100\n",
    "BATCH_SIZE = 2048\n",
    "\n",
    "resampled_steps_per_epoch = np.ceil(2.0*neg/BATCH_SIZE)\n",
    "print(resampled_steps_per_epoch)"
   ]
  },
  {
   "cell_type": "code",
   "execution_count": 8,
   "metadata": {
    "pycharm": {
     "is_executing": false,
     "name": "#%%\n"
    }
   },
   "outputs": [],
   "source": [
    "METRICS = [\n",
    "    tf.keras.metrics.TruePositives(name='tp'),\n",
    "    tf.keras.metrics.FalsePositives(name='fp'),\n",
    "    tf.keras.metrics.TrueNegatives(name='tn'),\n",
    "    tf.keras.metrics.FalseNegatives(name='fn'),\n",
    "    tf.keras.metrics.BinaryAccuracy(name='accuracy'),\n",
    "    tf.keras.metrics.Precision(name='precision'),\n",
    "    tf.keras.metrics.Recall(name='recall'),\n",
    "    tf.keras.metrics.AUC(name='auc'),\n",
    "]\n",
    "\n",
    "\n",
    "early_stopping = tf.keras.callbacks.EarlyStopping(monitor='val_auc', \n",
    "                                                  verbose=1,\n",
    "                                                  patience=10,\n",
    "                                                  mode='max',\n",
    "                                                  restore_best_weights=True)\n",
    "\n"
   ]
  },
  {
   "cell_type": "code",
   "execution_count": 9,
   "metadata": {
    "pycharm": {
     "is_executing": false,
     "name": "#%%\n"
    }
   },
   "outputs": [
    {
     "name": "stdout",
     "output_type": "stream",
     "text": [
      "[-2.53560092]\n"
     ]
    }
   ],
   "source": [
    "n_features = X_train.shape[1]\n",
    "\n",
    "initial_bias = np.log([pos/neg])\n",
    "print(initial_bias)"
   ]
  },
  {
   "cell_type": "code",
   "execution_count": 10,
   "metadata": {
    "pycharm": {
     "is_executing": true,
     "name": "#%% Resampled\n"
    }
   },
   "outputs": [
    {
     "name": "stdout",
     "output_type": "stream",
     "text": [
      "Built NN...\n",
      "Model: \"sequential_1\"\n",
      "_________________________________________________________________\n",
      "Layer (type)                 Output Shape              Param #   \n",
      "=================================================================\n",
      "dense_1 (Dense)              (None, 512)               6656      \n",
      "_________________________________________________________________\n",
      "dropout_1 (Dropout)          (None, 512)               0         \n",
      "_________________________________________________________________\n",
      "dense_2 (Dense)              (None, 512)               262656    \n",
      "_________________________________________________________________\n",
      "dropout_2 (Dropout)          (None, 512)               0         \n",
      "_________________________________________________________________\n",
      "dense_3 (Dense)              (None, 512)               262656    \n",
      "_________________________________________________________________\n",
      "dropout_3 (Dropout)          (None, 512)               0         \n",
      "_________________________________________________________________\n",
      "dense_4 (Dense)              (None, 1)                 513       \n",
      "=================================================================\n",
      "Total params: 532,481\n",
      "Trainable params: 532,481\n",
      "Non-trainable params: 0\n",
      "_________________________________________________________________\n",
      "Compiled NN...\n",
      "Train on 1794188 samples, validate on 448548 samples\n",
      "Epoch 1/100\n",
      "1794188/1794188 [==============================] - 72s 40us/step - loss: 0.6516 - tp: 31052.9629 - fp: 21809.8691 - tn: 540186.8750 - fn: 306020.1250 - accuracy: 0.6335 - precision: 0.5747 - recall: 0.0816 - auc: 0.5502 - val_loss: 0.9495 - val_tp: 100188.6484 - val_fp: 49381.0000 - val_tn: 1071985.1250 - val_fn: 798925.9375 - val_accuracy: 0.5820 - val_precision: 0.6653 - val_recall: 0.1110 - val_auc: 0.5616\n",
      "Epoch 2/100\n",
      "1794188/1794188 [==============================] - 79s 44us/step - loss: 0.6476 - tp: 172954.1250 - fp: 80199.0078 - tn: 1603391.2500 - fn: 1285260.7500 - accuracy: 0.5633 - precision: 0.6862 - recall: 0.1184 - auc: 0.5673 - val_loss: 0.9578 - val_tp: 246544.4219 - val_fp: 111280.6875 - val_tn: 2131455.7500 - val_fn: 1773939.0000 - val_accuracy: 0.5582 - val_precision: 0.6883 - val_recall: 0.1220 - val_auc: 0.5616\n",
      "Epoch 3/100\n",
      "1794188/1794188 [==============================] - 70s 39us/step - loss: 0.6472 - tp: 768987.5625 - fp: 334218.2500 - tn: 5834436.5000 - fn: 5175110.0000 - accuracy: 0.5450 - precision: 0.6972 - recall: 0.1294 - auc: 0.5603 - val_loss: 0.9619 - val_tp: 843923.8750 - val_fp: 366096.8438 - val_tn: 6362111.5000 - val_fn: 5662030.5000 - val_accuracy: 0.5445 - val_precision: 0.6974 - val_recall: 0.1297 - val_auc: 0.5594\n",
      "Epoch 7/100\n",
      "1794188/1794188 [==============================] - 70s 39us/step - loss: 0.6470 - tp: 918454.8750 - fp: 398183.2188 - tn: 6892045.5000 - fn: 6146802.5000 - accuracy: 0.5440 - precision: 0.6977 - recall: 0.1300 - auc: 0.5587 - val_loss: 0.9519 - val_tp: 993834.6875 - val_fp: 430207.8125 - val_tn: 7419383.5000 - val_fn: 6633491.0000 - val_accuracy: 0.5436 - val_precision: 0.6979 - val_recall: 0.1303 - val_auc: 0.5592\n",
      "Epoch 8/100\n",
      "1794188/1794188 [==============================] - 70s 39us/step - loss: 0.6465 - tp: 1968882.2500 - fp: 849044.4375 - tn: 14290868.0000 - fn: 12945840.0000 - accuracy: 0.5410 - precision: 0.6987 - recall: 0.1320 - auc: 0.5654 - val_loss: 0.9469 - val_tp: 2044358.1250 - val_fp: 881338.5625 - val_tn: 14817797.0000 - val_fn: 13432545.0000 - val_accuracy: 0.5409 - val_precision: 0.6987 - val_recall: 0.1321 - val_auc: 0.5655\n",
      "Epoch 15/100\n",
      "1794188/1794188 [==============================] - 70s 39us/step - loss: 0.6466 - tp: 2119132.0000 - fp: 913513.0625 - tn: 15347379.0000 - fn: 13917350.0000 - accuracy: 0.5408 - precision: 0.6988 - recall: 0.1321 - auc: 0.5654 - val_loss: 0.9502 - val_tp: 2193966.5000 - val_fp: 945633.3125 - val_tn: 15874875.0000 - val_fn: 14404298.0000 - val_accuracy: 0.5407 - val_precision: 0.6988 - val_recall: 0.1322 - val_auc: 0.5657\n",
      "Epoch 16/100\n",
      "1794188/1794188 [==============================] - 70s 39us/step - loss: 0.6464 - tp: 2268604.5000 - fp: 977750.9375 - tn: 16404731.0000 - fn: 14889018.0000 - accuracy: 0.5406 - precision: 0.6988 - recall: 0.1322 - auc: 0.5660 - val_loss: 0.9544 - val_tp: 2343586.2500 - val_fp: 1009617.2500 - val_tn: 16932296.0000 - val_fn: 15376048.0000 - val_accuracy: 0.5405 - val_precision: 0.6989 - val_recall: 0.1323 - val_auc: 0.5659\n",
      "Epoch 17/100\n",
      "1794188/1794188 [==============================] - 70s 39us/step - loss: 0.6464 - tp: 3016407.2500 - fp: 1298167.1250 - tn: 21690748.0000 - fn: 19748400.0000 - accuracy: 0.5400 - precision: 0.6991 - recall: 0.1325 - auc: 0.5670 - val_loss: 0.9487 - val_tp: 3091279.2500 - val_fp: 1330140.3750 - val_tn: 22218528.0000 - val_fn: 20235222.0000 - val_accuracy: 0.5399 - val_precision: 0.6992 - val_recall: 0.1325 - val_auc: 0.5675\n",
      "Epoch 22/100\n",
      "1794188/1794188 [==============================] - 70s 39us/step - loss: 0.6463 - tp: 3166535.0000 - fp: 1362561.1250 - tn: 22747680.0000 - fn: 20719670.0000 - accuracy: 0.5399 - precision: 0.6992 - recall: 0.1326 - auc: 0.5679 - val_loss: 0.9584 - val_tp: 3241477.7500 - val_fp: 1394559.8750 - val_tn: 23275476.0000 - val_fn: 21206376.0000 - val_accuracy: 0.5399 - val_precision: 0.6992 - val_recall: 0.1326 - val_auc: 0.5678\n",
      "Epoch 23/100\n",
      "1794188/1794188 [==============================] - 70s 39us/step - loss: 0.6462 - tp: 3316430.5000 - fp: 1426735.1250 - tn: 23805330.0000 - fn: 21690672.0000 - accuracy: 0.5398 - precision: 0.6992 - recall: 0.1326 - auc: 0.5677 - val_loss: 0.9498 - val_tp: 3391584.0000 - val_fp: 1458914.6250 - val_tn: 24332456.0000 - val_fn: 22177612.0000 - val_accuracy: 0.5398 - val_precision: 0.6992 - val_recall: 0.1326 - val_auc: 0.5681\n",
      "Epoch 24/100\n",
      "1794188/1794188 [==============================] - 70s 39us/step - loss: 0.6463 - tp: 3466523.7500 - fp: 1491153.5000 - tn: 24862162.0000 - fn: 22662076.0000 - accuracy: 0.5398 - precision: 0.6992 - recall: 0.1327 - auc: 0.5686 - val_loss: 0.9379 - val_tp: 3542121.0000 - val_fp: 1523222.1250 - val_tn: 25389564.0000 - val_fn: 23148426.0000 - val_accuracy: 0.5397 - val_precision: 0.6993 - val_recall: 0.1327 - val_auc: 0.5690\n",
      "Epoch 25/100\n",
      "1794188/1794188 [==============================] - 70s 39us/step - loss: 0.6459 - tp: 8443558.0000 - fp: 3637924.0000 - tn: 59720444.0000 - fn: 54690064.0000 - accuracy: 0.5389 - precision: 0.6989 - recall: 0.1337 - auc: 0.5754 - val_loss: 0.9519 - val_tp: 8519415.0000 - val_fp: 3670703.2500 - val_tn: 60247032.0000 - val_fn: 55176300.0000 - val_accuracy: 0.5389 - val_precision: 0.6989 - val_recall: 0.1338 - val_auc: 0.5753\n",
      "Epoch 58/100\n",
      "1794188/1794188 [==============================] - 70s 39us/step - loss: 0.6460 - tp: 8594840.0000 - fp: 3703401.5000 - tn: 60776052.0000 - fn: 55660332.0000 - accuracy: 0.5389 - precision: 0.6989 - recall: 0.1338 - auc: 0.5753 - val_loss: 0.9652 - val_tp: 8671586.0000 - val_fp: 3736133.2500 - val_tn: 61302804.0000 - val_fn: 56145416.0000 - val_accuracy: 0.5389 - val_precision: 0.6989 - val_recall: 0.1338 - val_auc: 0.5749\n",
      "Epoch 59/100\n",
      "1794188/1794188 [==============================] - 70s 39us/step - loss: 0.6460 - tp: 8747923.0000 - fp: 3768788.2500 - tn: 61831956.0000 - fn: 56628644.0000 - accuracy: 0.5389 - precision: 0.6989 - recall: 0.1338 - auc: 0.5747 - val_loss: 0.9539 - val_tp: 8823529.0000 - val_fp: 3801391.5000 - val_tn: 62358844.0000 - val_fn: 57114824.0000 - val_accuracy: 0.5389 - val_precision: 0.6989 - val_recall: 0.1338 - val_auc: 0.5747\n",
      "Epoch 60/100\n",
      "1794188/1794188 [==============================] - 70s 39us/step - loss: 0.6461 - tp: 8898763.0000 - fp: 3834032.0000 - tn: 62888348.0000 - fn: 57598924.0000 - accuracy: 0.5389 - precision: 0.6989 - recall: 0.1338 - auc: 0.5747 - val_loss: 0.9490 - val_tp: 8974552.0000 - val_fp: 3866559.5000 - val_tn: 63415276.0000 - val_fn: 58085128.0000 - val_accuracy: 0.5388 - val_precision: 0.6989 - val_recall: 0.1338 - val_auc: 0.5747\n",
      "Epoch 61/100\n",
      "1191936/1794188 [==================>...........] - ETA: 22s - loss: 0.6459 - tp: 9034681.0000 - fp: 3888041.0000 - tn: 63766720.0000 - fn: 58471236.0000 - accuracy: 0.5386 - precision: 0.6991 - recall: 0.1338 - auc: 0.5746"
     ]
    }
   ],
   "source": [
    "resampled_model = keras.Sequential()\n",
    "resampled_model.add(keras.layers.Dense(512,activation='relu',input_shape=(n_features,)))\n",
    "resampled_model.add(keras.layers.Dropout(0.5))\n",
    "resampled_model.add(keras.layers.Dense(512,activation='relu'))\n",
    "resampled_model.add(keras.layers.Dropout(0.5))\n",
    "resampled_model.add(keras.layers.Dense(512,activation='relu'))\n",
    "resampled_model.add(keras.layers.Dropout(0.5))\n",
    "resampled_model.add(keras.layers.Dense(1,activation='sigmoid'))\n",
    "print('Built NN...')\n",
    "resampled_model.compile(optimizer=keras.optimizers.Adam(lr=1e-3),loss=keras.losses.BinaryCrossentropy(),metrics=METRICS)\n",
    "resampled_model.summary()\n",
    "print('Compiled NN...')\n",
    "\n",
    "initial_weights = os.path.join(tempfile.mkdtemp(),'initial_weights')\n",
    "resampled_model.save_weights(initial_weights)\n",
    "\n",
    "\n",
    "resampled_model.load_weights(initial_weights)\n",
    "output_layer = resampled_model.layers[-1] \n",
    "output_layer.bias.assign([0])\n",
    "\n",
    "resampled_history = resampled_model.fit(X_train_smote,\n",
    "                                        y_train_smote,\n",
    "                                        batch_size=BATCH_SIZE,\n",
    "                                        epochs=EPOCHS,\n",
    "                                        callbacks = [early_stopping],\n",
    "                                        validation_split=0.2\n",
    "                                        )"
   ]
  },
  {
   "cell_type": "code",
   "execution_count": 11,
   "metadata": {
    "pycharm": {
     "is_executing": true,
     "name": "#%% USING test_smote\n"
    }
   },
   "outputs": [
    {
     "data": {
      "image/png": "[encoded data removed]",
      "text/plain": [
       "<Figure size 432x288 with 4 Axes>"
      ]
     },
     "metadata": {
      "needs_background": "light"
     },
     "output_type": "display_data"
    }
   ],
   "source": [
    "plot_metrics(resampled_history)\n",
    "plt.show()"
   ]
  },
  {
   "cell_type": "code",
   "execution_count": 12,
   "metadata": {
    "pycharm": {
     "is_executing": true,
     "name": "#%%\n"
    }
   },
   "outputs": [],
   "source": [
    "train_predictions_resampled = resampled_model.predict(X_train_smote, batch_size=BATCH_SIZE)\n",
    "test_predictions_resampled = resampled_model.predict(X_test_smote, batch_size=BATCH_SIZE)"
   ]
  },
  {
   "cell_type": "code",
   "execution_count": 13,
   "metadata": {
    "pycharm": {
     "is_executing": true,
     "name": "#%%\n"
    }
   },
   "outputs": [
    {
     "name": "stdout",
     "output_type": "stream",
     "text": [
      "610956/610956 [==============================] - 5s 8us/step\n"
     ]
    }
   ],
   "source": [
    "resampled_results = resampled_model.evaluate(X_test_smote,\n",
    "                                             y_test_smote,\n",
    "                                             batch_size=BATCH_SIZE, \n",
    "                                             verbose=1)"
   ]
  },
  {
   "cell_type": "code",
   "execution_count": 14,
   "metadata": {
    "pycharm": {
     "is_executing": true,
     "name": "#%%\n"
    }
   },
   "outputs": [
    {
     "name": "stdout",
     "output_type": "stream",
     "text": [
      "loss :  0.7281126874262386\n",
      "tp :  9610779.0\n",
      "fp :  4133716.25\n",
      "tn :  67862352.0\n",
      "fn :  62235048.0\n",
      "accuracy :  0.5385973453521729\n",
      "precision :  0.6992460489273071\n",
      "recall :  0.1337696760892868\n",
      "auc :  0.5752995610237122\n",
      "\n",
      "Legitimate Transactions Detected (True Negatives):  294849\n",
      "Legitimate Transactions Incorrectly Detected (False Positives):  10629\n",
      "Fraudulent Transactions Missed (False Negatives):  290913\n",
      "Fraudulent Transactions Detected (True Positives):  14565\n",
      "Total Fraudulent Transactions:  305478\n"
     ]
    },
    {
     "data": {
      "image/png": "[encoded data removed]",
      "text/plain": [
       "<Figure size 360x360 with 2 Axes>"
      ]
     },
     "metadata": {
      "needs_background": "light"
     },
     "output_type": "display_data"
    }
   ],
   "source": [
    "for name, value in zip(resampled_model.metrics_names, resampled_results):\n",
    "  print(name, ': ', value)\n",
    "print()\n",
    "\n",
    "plot_cm(y_test_smote, test_predictions_resampled)\n",
    "\n",
    "\n"
   ]
  },
  {
   "cell_type": "code",
   "execution_count": 15,
   "metadata": {
    "pycharm": {
     "is_executing": true,
     "name": "#%%\n"
    }
   },
   "outputs": [
    {
     "data": {
      "text/plain": [
       "<matplotlib.legend.Legend at 0x1e861fc5648>"
      ]
     },
     "execution_count": 15,
     "metadata": {},
     "output_type": "execute_result"
    },
    {
     "data": {
      "image/png": "[encoded data removed]",
      "text/plain": [
       "<Figure size 432x288 with 1 Axes>"
      ]
     },
     "metadata": {
      "needs_background": "light"
     },
     "output_type": "display_data"
    }
   ],
   "source": [
    "\n",
    "\n",
    "plot_roc(\"Train Resampled Smote\", y_train_smote, train_predictions_resampled,  color=colors[2])\n",
    "plot_roc(\"Test Resampled Smote\", y_test_smote, test_predictions_resampled,  color=colors[2], linestyle='--')\n",
    "\n",
    "plt.legend(loc='lower right')\n"
   ]
  }
 ],
 "metadata": {
  "kernelspec": {
   "display_name": "Python 3",
   "language": "python",
   "name": "python3"
  },
  "language_info": {
   "codemirror_mode": {
    "name": "ipython",
    "version": 3
   },
   "file_extension": ".py",
   "mimetype": "text/x-python",
   "name": "python",
   "nbconvert_exporter": "python",
   "pygments_lexer": "ipython3",
   "version": "3.7.5"
  },
  "pycharm": {
   "stem_cell": {
    "cell_type": "raw",
    "metadata": {
     "collapsed": false
    },
    "source": []
   }
  }
 },
 "nbformat": 4,
 "nbformat_minor": 1
}
