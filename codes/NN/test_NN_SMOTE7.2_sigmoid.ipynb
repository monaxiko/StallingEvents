{
 "cells": [
  {
   "cell_type": "code",
   "execution_count": 1,
   "metadata": {
    "pycharm": {
     "is_executing": false,
     "name": "#%% IMPORT SECTION\n"
    }
   },
   "outputs": [
    {
     "name": "stderr",
     "output_type": "stream",
     "text": [
      "Using TensorFlow backend.\n"
     ]
    }
   ],
   "source": [
    "import numpy as np\n",
    "import pandas as pd\n",
    "import matplotlib.pyplot as plt\n",
    "import seaborn as sns\n",
    "import sklearn.metrics as metrics\n",
    "import os\n",
    "import tempfile \n",
    "\n",
    "\n",
    "from sklearn import preprocessing\n",
    "from sklearn.utils.class_weight import compute_class_weight\n",
    "from sklearn.metrics import roc_auc_score, classification_report\n",
    "from collections import Counter\n",
    "\n",
    "from imblearn.over_sampling import SMOTE\n",
    "\n",
    "import tensorflow as tf\n",
    "import keras\n",
    "\n",
    "\n",
    "import warnings\n",
    "warnings.filterwarnings(\"ignore\")\n",
    "colors = np.array(['#0101DF','#DF0101','#01DF01','#DFDFDF'])\n",
    "\n",
    "rs = 42\n",
    "def compute_metrics (y_te2,y_p,string):\n",
    "    print('\\n %s'%string)\n",
    "    print('CONFUSION MATRIX')\n",
    "    print(metrics.confusion_matrix(y_te2,y_p))\n",
    "    print(classification_report(y_te2, y_p))\n",
    "    print('\\nROC CURVE: %2.2f'%roc_auc_score(y_te2,y_p))\n",
    "\n",
    "def Ratio10(y,string):\n",
    "    suma = Counter(y)[0]+Counter(y)[1]\n",
    "    print('\\n'+string)  \n",
    "    print(Counter(y))\n",
    "    print('0: %3.2f%%\\n1: %3.2f%%' % (100*Counter(y)[0]/suma,100*Counter(y)[1]/suma))\n",
    "\n",
    "def histo(data,var):\n",
    "    fig=plt.figure()\n",
    "    sns.countplot(var,data=data,palette=colors)\n",
    "    plt.title('0/1 Distribution (0: No Stalling || 1: Stalling Event',fontsize=14)\n",
    "    plt.show()\n",
    "    \n",
    "def plot_loss(history, label, n):\n",
    "    # Use a log scale to show the wide range of values.\n",
    "    plt.semilogy(history.epoch,  \n",
    "                 history.history['loss'],\n",
    "                 color=colors[n], \n",
    "                 label='Train '+label\n",
    "                 )\n",
    "    plt.semilogy(history.epoch,\n",
    "                 history.history['val_loss'],\n",
    "                 color=colors[n], \n",
    "                 label='Val '+label,\n",
    "                 linestyle=\"--\")\n",
    "    plt.xlabel('Epoch')\n",
    "    plt.ylabel('Loss')\n",
    "    plt.legend()\n",
    "\n",
    "def plot_metrics(history):\n",
    "    metrics =  ['loss', 'auc', 'precision', 'recall']\n",
    "    for n, metric in enumerate(metrics):\n",
    "        name = metric.replace(\"_\",\" \").capitalize()\n",
    "        plt.subplot(2,2,n+1)\n",
    "        plt.plot(history.epoch,  history.history[metric], color=colors[0], label='Train')\n",
    "        plt.plot(history.epoch, history.history['val_'+metric],\n",
    "             color=colors[0], linestyle=\"--\", label='Val')\n",
    "        plt.xlabel('Epoch')\n",
    "        plt.ylabel(name)\n",
    "        if metric == 'loss':\n",
    "            plt.ylim([0, plt.ylim()[1]])\n",
    "        elif metric == 'auc':\n",
    "            plt.ylim([0.5,1])\n",
    "        else:\n",
    "            plt.ylim([0,1])\n",
    "\n",
    "    plt.legend()\n",
    "\n",
    "def plot_cm(labels, predictions, p=0.5):\n",
    "  cm = metrics.confusion_matrix(labels, predictions > p)\n",
    "  plt.figure(figsize=(5,5))\n",
    "  sns.heatmap(cm, annot=True, fmt=\"d\")\n",
    "  plt.title('Confusion matrix @{:.2f}'.format(p))\n",
    "  plt.ylabel('Actual label')\n",
    "  plt.xlabel('Predicted label')\n",
    "\n",
    "  print('Legitimate Transactions Detected (True Negatives): ', cm[0][0])\n",
    "  print('Legitimate Transactions Incorrectly Detected (False Positives): ', cm[0][1])\n",
    "  print('Fraudulent Transactions Missed (False Negatives): ', cm[1][0])\n",
    "  print('Fraudulent Transactions Detected (True Positives): ', cm[1][1])\n",
    "  print('Total Fraudulent Transactions: ', np.sum(cm[1]))\n",
    "  \n",
    "\n",
    "def plot_roc(name, labels, predictions, **kwargs):\n",
    "    fp, tp, _ = metrics.roc_curve(labels, predictions)\n",
    "\n",
    "    plt.plot(100*fp, 100*tp, label=name, linewidth=2, **kwargs)\n",
    "    plt.xlabel('False positives [%]')\n",
    "    plt.ylabel('True positives [%]')\n",
    "    plt.xlim([-0.5,100.5])\n",
    "    plt.ylim([-0.5,100.5])\n",
    "    plt.grid(True)\n",
    "    ax = plt.gca()\n",
    "    ax.set_aspect('equal')\n",
    "  "
   ]
  },
  {
   "cell_type": "code",
   "execution_count": 2,
   "metadata": {
    "pycharm": {
     "is_executing": false,
     "name": "#%% LOAD DATASET REMOVING NOISE\n"
    }
   },
   "outputs": [
    {
     "name": "stdout",
     "output_type": "stream",
     "text": [
      "Index(['∆t', 'pkt_len', 'tcp_hea_len', 'tcp_flag_ack', 'tcp_flag_cwr',\n",
      "       'tcp_flag_ecn', 'tcp_flag_urg', 'tcp_flag_psh', 'tcp_flag_rst',\n",
      "       'tcp_flag_syn', 'tcp_flag_fin', 'tcp_win_si2', 'delay', 'capture',\n",
      "       'stalling_event'],\n",
      "      dtype='object')\n",
      "\n",
      "dataset[stalling_event]\n",
      "Counter({0: 1426905, 1: 113031})\n",
      "0: 92.66%\n",
      "1: 7.34%\n"
     ]
    },
    {
     "data": {
      "image/png": "[encoded data removed]",
      "text/plain": [
       "<Figure size 432x288 with 1 Axes>"
      ]
     },
     "metadata": {
      "needs_background": "light"
     },
     "output_type": "display_data"
    }
   ],
   "source": [
    "dataset = pd.read_csv('../../output/df_general.csv', sep=',')\n",
    "split = 0.8\n",
    "del dataset['No.']\n",
    "del dataset['Protocol']\n",
    "del dataset['ip_len']\n",
    "del dataset['prebuffering']\n",
    "del dataset['Time']\n",
    "\n",
    "dataset = dataset.fillna(dataset.mean())\n",
    "neg, pos = np.bincount(dataset['stalling_event'])\n",
    "total = neg + pos\n",
    "weight_for_0 = (1 / neg)*(total)/2.0 \n",
    "weight_for_1 = (1 / pos)*(total)/2.0\n",
    "\n",
    "class_weight = {0: weight_for_0, 1: weight_for_1}\n",
    "\n",
    "print(dataset.columns)\n",
    "Ratio10(dataset['stalling_event'],'dataset[stalling_event]')\n",
    "histo(dataset,'stalling_event')"
   ]
  },
  {
   "cell_type": "code",
   "execution_count": 3,
   "metadata": {
    "pycharm": {
     "is_executing": false,
     "name": "#%% SPLIT TRAIN/TEST\n"
    }
   },
   "outputs": [],
   "source": [
    "from random import randint\n",
    "'''X_train = [None] * (len(dataset.columns)-1)\n",
    "X_test = [None] * (len(dataset.columns)-1)'''\n",
    "\n",
    "X_train = np.array([None]*12)\n",
    "X_test = np.array([None]*12)\n",
    "y_train = list()\n",
    "y_test = list()\n",
    "\n",
    "grouped = dataset.groupby(['delay','capture']) \n",
    "#print(grouped.mean())\n",
    "\n",
    "for id, data in grouped:\n",
    "    spl = int(data.shape[0] * split)\n",
    "    restspl = int(data.shape[0] * (1-split))\n",
    "    randnum = randint(0,restspl)\n",
    "    \n",
    "    X_train = np.vstack((X_train,data.values[randnum:randnum+spl,:-3]))\n",
    "    X_test = np.vstack((X_test,data.values[0:randnum-1,:-3]))\n",
    "    X_test = np.vstack((X_test,data.values[randnum+spl:,:-3]))\n",
    "    \n",
    "    y_train.extend(data.values[randnum:randnum+spl,-1])\n",
    "    y_test.extend(data.values[0:randnum-1,-1])\n",
    "    y_test.extend(data.values[randnum+spl:,-1])\n",
    "\n",
    "X_train = X_train[1:]\n",
    "X_test = X_test[1:]"
   ]
  },
  {
   "cell_type": "code",
   "execution_count": 4,
   "metadata": {
    "pycharm": {
     "is_executing": false,
     "name": "#%%\n"
    }
   },
   "outputs": [],
   "source": [
    "mms = preprocessing.MinMaxScaler()\n",
    "X_train = mms.fit_transform(X_train)\n",
    "X_test = mms.transform(X_test)"
   ]
  },
  {
   "cell_type": "code",
   "execution_count": 5,
   "metadata": {
    "pycharm": {
     "is_executing": false,
     "name": "#%%\n"
    }
   },
   "outputs": [
    {
     "name": "stdout",
     "output_type": "stream",
     "text": [
      "\n",
      "y_test\n",
      "Counter({0: 306514, 1: 1438})\n",
      "0: 99.53%\n",
      "1: 0.47%\n",
      "\n",
      "y_train\n",
      "Counter({0: 1120333, 1: 111591})\n",
      "0: 90.94%\n",
      "1: 9.06%\n"
     ]
    }
   ],
   "source": [
    "y_test = list(map(int,y_test))\n",
    "y_train = list(map(int,y_train))\n",
    "Ratio10(y_test,'y_test')\n",
    "Ratio10(y_train,'y_train')\n",
    "\n",
    "X_train = pd.DataFrame(data=X_train,columns=dataset.columns[:-3])\n",
    "X_test= pd.DataFrame(data=X_test,columns=dataset.columns[:-3])\n",
    "y_train = pd.DataFrame(data=y_train,columns=['y_train'])\n",
    "y_test= pd.DataFrame(data=y_test,columns=['y_test'])\n",
    "del dataset['delay']\n",
    "del dataset['capture']"
   ]
  },
  {
   "cell_type": "code",
   "execution_count": 6,
   "metadata": {
    "pycharm": {
     "is_executing": false,
     "name": "#%%\n"
    }
   },
   "outputs": [],
   "source": [
    "smote = SMOTE(random_state = rs)\n",
    "X_train_smote,y_train_smote = smote.fit_resample(X_train.values,y_train.values)\n",
    "X_test_smote,y_test_smote = smote.fit_resample(X_test.values,y_test.values)"
   ]
  },
  {
   "cell_type": "code",
   "execution_count": 7,
   "metadata": {
    "pycharm": {
     "is_executing": false,
     "name": "#%%\n"
    }
   },
   "outputs": [
    {
     "name": "stdout",
     "output_type": "stream",
     "text": [
      "1394.0\n"
     ]
    }
   ],
   "source": [
    "EPOCHS = 100\n",
    "BATCH_SIZE = 2048\n",
    "\n",
    "resampled_steps_per_epoch = np.ceil(2.0*neg/BATCH_SIZE)\n",
    "print(resampled_steps_per_epoch)"
   ]
  },
  {
   "cell_type": "code",
   "execution_count": 8,
   "metadata": {
    "pycharm": {
     "is_executing": false,
     "name": "#%%\n"
    }
   },
   "outputs": [],
   "source": [
    "METRICS = [\n",
    "    tf.keras.metrics.TruePositives(name='tp'),\n",
    "    tf.keras.metrics.FalsePositives(name='fp'),\n",
    "    tf.keras.metrics.TrueNegatives(name='tn'),\n",
    "    tf.keras.metrics.FalseNegatives(name='fn'),\n",
    "    tf.keras.metrics.BinaryAccuracy(name='accuracy'),\n",
    "    tf.keras.metrics.Precision(name='precision'),\n",
    "    tf.keras.metrics.Recall(name='recall'),\n",
    "    tf.keras.metrics.AUC(name='auc'),\n",
    "]\n",
    "\n",
    "\n",
    "early_stopping = tf.keras.callbacks.EarlyStopping(monitor='val_auc', \n",
    "                                                  verbose=1,\n",
    "                                                  patience=10,\n",
    "                                                  mode='max',\n",
    "                                                  restore_best_weights=True)\n",
    "\n"
   ]
  },
  {
   "cell_type": "code",
   "execution_count": 9,
   "metadata": {
    "pycharm": {
     "is_executing": false,
     "name": "#%%\n"
    }
   },
   "outputs": [
    {
     "name": "stdout",
     "output_type": "stream",
     "text": [
      "[-2.53560092]\n"
     ]
    }
   ],
   "source": [
    "n_features = X_train.shape[1]\n",
    "\n",
    "initial_bias = np.log([pos/neg])\n",
    "print(initial_bias)"
   ]
  },
  {
   "cell_type": "code",
   "execution_count": 10,
   "metadata": {
    "pycharm": {
     "is_executing": true,
     "name": "#%% Resampled\n"
    }
   },
   "outputs": [
    {
     "name": "stdout",
     "output_type": "stream",
     "text": [
      "Built NN...\n",
      "Model: \"sequential_1\"\n",
      "_________________________________________________________________\n",
      "Layer (type)                 Output Shape              Param #   \n",
      "=================================================================\n",
      "dense_1 (Dense)              (None, 2048)              26624     \n",
      "_________________________________________________________________\n",
      "dropout_1 (Dropout)          (None, 2048)              0         \n",
      "_________________________________________________________________\n",
      "dense_2 (Dense)              (None, 2048)              4196352   \n",
      "_________________________________________________________________\n",
      "dropout_2 (Dropout)          (None, 2048)              0         \n",
      "_________________________________________________________________\n",
      "dense_3 (Dense)              (None, 2048)              4196352   \n",
      "_________________________________________________________________\n",
      "dropout_3 (Dropout)          (None, 2048)              0         \n",
      "_________________________________________________________________\n",
      "dense_4 (Dense)              (None, 1)                 2049      \n",
      "=================================================================\n",
      "Total params: 8,421,377\n",
      "Trainable params: 8,421,377\n",
      "Non-trainable params: 0\n",
      "_________________________________________________________________\n",
      "Compiled NN...\n",
      "Train on 1792532 samples, validate on 448134 samples\n",
      "Epoch 1/100\n",
      "1792532/1792532 [==============================] - 1032s 576us/step - loss: 0.6893 - tp: 39933.6758 - fp: 67118.3125 - tn: 494375.3438 - fn: 296619.0938 - accuracy: 0.5873 - precision: 0.3728 - recall: 0.1494 - auc: 0.4999 - val_loss: 0.9653 - val_tp: 51356.0000 - val_fp: 86104.0000 - val_tn: 1034227.6250 - val_fn: 846121.6250 - val_accuracy: 0.5402 - val_precision: 0.3736 - val_recall: 0.0585 - val_auc: 0.5105\n",
      "Epoch 2/100\n",
      "1792532/1792532 [==============================] - 1043s 582us/step - loss: 0.6627 - tp: 51361.1602 - fp: 86118.3359 - tn: 1595712.0000 - fn: 1405521.2500 - accuracy: 0.5219 - precision: 0.3736 - recall: 0.0359 - auc: 0.5158 - val_loss: 0.9640 - val_tp: 51362.0000 - val_fp: 86118.0000 - val_tn: 2154551.5000 - val_fn: 1966452.0000 - val_accuracy: 0.5185 - val_precision: 0.3736 - val_recall: 0.0256 - val_auc: 0.5184\n",
      "Epoch 3/100\n",
      "1792532/1792532 [==============================] - 1043s 582us/step - loss: 0.6621 - tp: 51361.4961 - fp: 86119.1016 - tn: 2715706.2500 - fn: 2526199.0000 - accuracy: 0.5133 - precision: 0.3736 - recall: 0.0200 - auc: 0.5208 - val_loss: 0.9945 - val_tp: 51362.0000 - val_fp: 86118.0000 - val_tn: 3274880.2500 - val_fn: 3086782.0000 - val_accuracy: 0.5120 - val_precision: 0.3736 - val_recall: 0.0164 - val_auc: 0.5132\n",
      "Epoch 4/100\n",
      "1792532/1792532 [==============================] - 1045s 583us/step - loss: 0.6583 - tp: 57872.8633 - fp: 90827.4688 - tn: 3831590.0000 - fn: 3639752.0000 - accuracy: 0.5099 - precision: 0.3876 - recall: 0.0156 - auc: 0.5120 - val_loss: 0.9647 - val_tp: 92134.5078 - val_fp: 104178.0000 - val_tn: 4377152.5000 - val_fn: 4166342.5000 - val_accuracy: 0.5115 - val_precision: 0.4683 - val_recall: 0.0216 - val_auc: 0.5168\n",
      "Epoch 5/100\n",
      "1792532/1792532 [==============================] - 1040s 580us/step - loss: 0.6545 - tp: 136823.9219 - fp: 124245.3203 - tn: 4918697.5000 - fn: 4680944.0000 - accuracy: 0.5124 - precision: 0.5231 - recall: 0.0283 - auc: 0.5221 - val_loss: 1.0032 - val_tp: 183203.5000 - val_fp: 145268.5312 - val_tn: 5456387.5000 - val_fn: 5195607.0000 - val_accuracy: 0.5137 - val_precision: 0.5574 - val_recall: 0.0340 - val_auc: 0.5221\n",
      "Epoch 6/100\n",
      "1792532/1792532 [==============================] - 1040s 580us/step - loss: 0.6537 - tp: 231445.9531 - fp: 168206.0312 - tn: 5994649.5000 - fn: 5707076.0000 - accuracy: 0.5143 - precision: 0.5790 - recall: 0.0389 - auc: 0.5215 - val_loss: 0.9700 - val_tp: 295515.6562 - val_fp: 191799.5938 - val_tn: 6530186.0000 - val_fn: 6203628.5000 - val_accuracy: 0.5163 - val_precision: 0.6059 - val_recall: 0.0454 - val_auc: 0.5241\n",
      "Epoch 7/100\n",
      "1792532/1792532 [==============================] - 1046s 583us/step - loss: 0.6533 - tp: 361246.9062 - fp: 217022.5312 - tn: 7066218.0000 - fn: 6697554.0000 - accuracy: 0.5177 - precision: 0.6248 - recall: 0.0511 - auc: 0.5259 - val_loss: 0.9513 - val_tp: 427679.4375 - val_fp: 242303.6719 - val_tn: 7600010.5000 - val_fn: 7191795.5000 - val_accuracy: 0.5192 - val_precision: 0.6381 - val_recall: 0.0561 - val_auc: 0.5292\n",
      "Epoch 8/100\n",
      "1792532/1792532 [==============================] - 1041s 581us/step - loss: 0.6527 - tp: 494198.5312 - fp: 267994.0000 - tn: 8135884.5000 - fn: 7684630.0000 - accuracy: 0.5203 - precision: 0.6485 - recall: 0.0604 - auc: 0.5318 - val_loss: 0.9487 - val_tp: 561774.8750 - val_fp: 294087.7188 - val_tn: 8668571.0000 - val_fn: 8178035.0000 - val_accuracy: 0.5214 - val_precision: 0.6562 - val_recall: 0.0643 - val_auc: 0.5350\n",
      "Epoch 9/100\n",
      "1792532/1792532 [==============================] - 1041s 581us/step - loss: 0.6520 - tp: 629376.9375 - fp: 320569.2500 - tn: 9203500.0000 - fn: 8669932.0000 - accuracy: 0.5223 - precision: 0.6627 - recall: 0.0677 - auc: 0.5377 - val_loss: 0.9537 - val_tp: 697355.2500 - val_fp: 347008.8750 - val_tn: 9735966.0000 - val_fn: 9162785.0000 - val_accuracy: 0.5232 - val_precision: 0.6676 - val_recall: 0.0707 - val_auc: 0.5393\n",
      "Epoch 10/100\n",
      "1792532/1792532 [==============================] - 1042s 581us/step - loss: 0.6505 - tp: 766323.5000 - fp: 374736.6562 - tn: 10269356.0000 - fn: 9653626.0000 - accuracy: 0.5238 - precision: 0.6717 - recall: 0.0735 - auc: 0.5406 - val_loss: 0.9692 - val_tp: 835836.8750 - val_fp: 402560.0000 - val_tn: 10800780.0000 - val_fn: 10144637.0000 - val_accuracy: 0.5246 - val_precision: 0.6749 - val_recall: 0.0761 - val_auc: 0.5409\n",
      "Epoch 11/100\n",
      "1792532/1792532 [==============================] - 1043s 582us/step - loss: 0.6496 - tp: 905530.1250 - fp: 430947.2812 - tn: 11333664.0000 - fn: 10634558.0000 - accuracy: 0.5251 - precision: 0.6776 - recall: 0.0785 - auc: 0.5412 - val_loss: 0.9455 - val_tp: 976499.5000 - val_fp: 459581.2812 - val_tn: 11864070.0000 - val_fn: 11124307.0000 - val_accuracy: 0.5257 - val_precision: 0.6799 - val_recall: 0.0807 - val_auc: 0.5425\n",
      "Epoch 12/100\n",
      "1792532/1792532 [==============================] - 1041s 580us/step - loss: 0.6491 - tp: 1046850.1250 - fp: 488414.4062 - tn: 12396494.0000 - fn: 11613609.0000 - accuracy: 0.5262 - precision: 0.6819 - recall: 0.0827 - auc: 0.5436 - val_loss: 0.9636 - val_tp: 1117954.8750 - val_fp: 516960.0000 - val_tn: 12927001.0000 - val_fn: 12103179.0000 - val_accuracy: 0.5267 - val_precision: 0.6838 - val_recall: 0.0846 - val_auc: 0.5440\n",
      "Epoch 13/100\n",
      "1792532/1792532 [==============================] - 1047s 584us/step - loss: 0.6489 - tp: 1188579.2500 - fp: 545800.5000 - tn: 13459642.0000 - fn: 12592018.0000 - accuracy: 0.5271 - precision: 0.6854 - recall: 0.0862 - auc: 0.5443 - val_loss: 0.9463 - val_tp: 1259673.0000 - val_fp: 574648.0000 - val_tn: 13989653.0000 - val_fn: 13081800.0000 - val_accuracy: 0.5276 - val_precision: 0.6867 - val_recall: 0.0878 - val_auc: 0.5456\n",
      "Epoch 14/100\n",
      "1792532/1792532 [==============================] - 1162s 648us/step - loss: 0.6486 - tp: 1330439.6250 - fp: 603510.5625 - tn: 14521983.0000 - fn: 13570772.0000 - accuracy: 0.5279 - precision: 0.6880 - recall: 0.0893 - auc: 0.5469 - val_loss: 0.9753 - val_tp: 1401574.3750 - val_fp: 632311.2500 - val_tn: 15052309.0000 - val_fn: 14060230.0000 - val_accuracy: 0.5283 - val_precision: 0.6891 - val_recall: 0.0906 - val_auc: 0.5467\n",
      "Epoch 15/100\n",
      "1792532/1792532 [==============================] - 1045s 583us/step - loss: 0.6485 - tp: 1472504.5000 - fp: 661280.3125 - tn: 15584721.0000 - fn: 14548859.0000 - accuracy: 0.5286 - precision: 0.6901 - recall: 0.0919 - auc: 0.5464 - val_loss: 0.9602 - val_tp: 1543321.2500 - val_fp: 690031.8750 - val_tn: 16114949.0000 - val_fn: 15038821.0000 - val_accuracy: 0.5289 - val_precision: 0.6910 - val_recall: 0.0931 - val_auc: 0.5470\n",
      "Epoch 16/100\n",
      "1792532/1792532 [==============================] - 1043s 582us/step - loss: 0.6483 - tp: 1613781.3750 - fp: 718650.1250 - tn: 16647319.0000 - fn: 15528288.0000 - accuracy: 0.5292 - precision: 0.6919 - recall: 0.0941 - auc: 0.5474 - val_loss: 0.9621 - val_tp: 1684908.7500 - val_fp: 747103.8750 - val_tn: 17178184.0000 - val_fn: 16017560.0000 - val_accuracy: 0.5295 - val_precision: 0.6928 - val_recall: 0.0952 - val_auc: 0.5475\n",
      "Epoch 17/100\n",
      "1792532/1792532 [==============================] - 1050s 586us/step - loss: 0.6482 - tp: 1755724.7500 - fp: 775738.1250 - tn: 17711134.0000 - fn: 16506108.0000 - accuracy: 0.5297 - precision: 0.6936 - recall: 0.0961 - auc: 0.5475 - val_loss: 0.9304 - val_tp: 1826386.2500 - val_fp: 803967.5625 - val_tn: 18241728.0000 - val_fn: 16996424.0000 - val_accuracy: 0.5299 - val_precision: 0.6943 - val_recall: 0.0970 - val_auc: 0.5490\n",
      "Epoch 18/100\n",
      "1792532/1792532 [==============================] - 1044s 583us/step - loss: 0.6481 - tp: 1896842.8750 - fp: 832440.8125 - tn: 18774450.0000 - fn: 17485586.0000 - accuracy: 0.5302 - precision: 0.6950 - recall: 0.0979 - auc: 0.5504 - val_loss: 0.9456 - val_tp: 1968008.6250 - val_fp: 860896.0000 - val_tn: 19305156.0000 - val_fn: 17975076.0000 - val_accuracy: 0.5304 - val_precision: 0.6957 - val_recall: 0.0987 - val_auc: 0.5513\n",
      "Epoch 19/100\n",
      "1792532/1792532 [==============================] - 1044s 582us/step - loss: 0.6479 - tp: 2038468.2500 - fp: 889470.4375 - tn: 19838326.0000 - fn: 18463760.0000 - accuracy: 0.5306 - precision: 0.6962 - recall: 0.0994 - auc: 0.5522 - val_loss: 0.8906 - val_tp: 2109749.0000 - val_fp: 917924.0625 - val_tn: 20368386.0000 - val_fn: 18953692.0000 - val_accuracy: 0.5308 - val_precision: 0.6968 - val_recall: 0.1002 - val_auc: 0.5545\n",
      "Epoch 20/100\n",
      "1792532/1792532 [==============================] - 1072s 598us/step - loss: 0.6478 - tp: 2180789.2500 - fp: 946716.5625 - tn: 20900904.0000 - fn: 19442278.0000 - accuracy: 0.5310 - precision: 0.6973 - recall: 0.1009 - auc: 0.5566 - val_loss: 0.9299 - val_tp: 2252115.2500 - val_fp: 975310.7500 - val_tn: 21431308.0000 - val_fn: 19931664.0000 - val_accuracy: 0.5311 - val_precision: 0.6978 - val_recall: 0.1015 - val_auc: 0.5578\n",
      "Epoch 21/100\n",
      "1792532/1792532 [==============================] - 1047s 584us/step - loss: 0.6478 - tp: 2323087.7500 - fp: 1003969.6250 - tn: 21964140.0000 - fn: 20420154.0000 - accuracy: 0.5313 - precision: 0.6983 - recall: 0.1021 - auc: 0.5589 - val_loss: 0.9251 - val_tp: 2394158.7500 - val_fp: 1032590.8125 - val_tn: 22494386.0000 - val_fn: 20909998.0000 - val_accuracy: 0.5315 - val_precision: 0.6987 - val_recall: 0.1027 - val_auc: 0.5598\n",
      "Epoch 22/100\n",
      "1792532/1792532 [==============================] - 1043s 582us/step - loss: 0.6478 - tp: 2464389.2500 - fp: 1060875.6250 - tn: 23027242.0000 - fn: 21399510.0000 - accuracy: 0.5316 - precision: 0.6991 - recall: 0.1033 - auc: 0.5607 - val_loss: 0.9611 - val_tp: 2535159.0000 - val_fp: 1088943.8750 - val_tn: 23558354.0000 - val_fn: 21889318.0000 - val_accuracy: 0.5317 - val_precision: 0.6995 - val_recall: 0.1038 - val_auc: 0.5604\n",
      "Epoch 23/100\n",
      "1792532/1792532 [==============================] - 1040s 580us/step - loss: 0.6477 - tp: 2605680.5000 - fp: 1117130.3750 - tn: 24091422.0000 - fn: 22378456.0000 - accuracy: 0.5319 - precision: 0.6999 - recall: 0.1043 - auc: 0.5603 - val_loss: 0.9824 - val_tp: 2676324.0000 - val_fp: 1145169.1250 - val_tn: 24622540.0000 - val_fn: 22868452.0000 - val_accuracy: 0.5320 - val_precision: 0.7003 - val_recall: 0.1048 - val_auc: 0.5595\n",
      "Epoch 24/100\n",
      "1792532/1792532 [==============================] - 1038s 579us/step - loss: 0.6477 - tp: 2746701.2500 - fp: 1173392.8750 - tn: 25155704.0000 - fn: 23357520.0000 - accuracy: 0.5321 - precision: 0.7007 - recall: 0.1052 - auc: 0.5588 - val_loss: 0.9222 - val_tp: 2817715.5000 - val_fp: 1201587.1250 - val_tn: 25686378.0000 - val_fn: 23847380.0000 - val_accuracy: 0.5323 - val_precision: 0.7010 - val_recall: 0.1057 - val_auc: 0.5599\n",
      "Epoch 25/100\n",
      "1792532/1792532 [==============================] - 1039s 580us/step - loss: 0.6476 - tp: 2888276.2500 - fp: 1229849.1250 - tn: 26219502.0000 - fn: 24336296.0000 - accuracy: 0.5324 - precision: 0.7014 - recall: 0.1061 - auc: 0.5610 - val_loss: 0.9500 - val_tp: 2959182.0000 - val_fp: 1257983.7500 - val_tn: 26750288.0000 - val_fn: 24826240.0000 - val_accuracy: 0.5325 - val_precision: 0.7017 - val_recall: 0.1065 - val_auc: 0.5613\n",
      "Epoch 26/100\n",
      "1792532/1792532 [==============================] - 602s 336us/step - loss: 0.6475 - tp: 3029762.2500 - fp: 1286214.6250 - tn: 27283162.0000 - fn: 25315422.0000 - accuracy: 0.5326 - precision: 0.7020 - recall: 0.1069 - auc: 0.5615 - val_loss: 0.9244 - val_tp: 3100635.0000 - val_fp: 1314304.0000 - val_tn: 27814262.0000 - val_fn: 25805110.0000 - val_accuracy: 0.5327 - val_precision: 0.7023 - val_recall: 0.1073 - val_auc: 0.5623\n",
      "Epoch 27/100\n",
      "1792532/1792532 [==============================] - 530s 295us/step - loss: 0.6474 - tp: 3171212.7500 - fp: 1342523.6250 - tn: 28347464.0000 - fn: 26293984.0000 - accuracy: 0.5328 - precision: 0.7026 - recall: 0.1076 - auc: 0.5631 - val_loss: 1.0053 - val_tp: 3242089.0000 - val_fp: 1370528.8750 - val_tn: 28878334.0000 - val_fn: 26784002.0000 - val_accuracy: 0.5329 - val_precision: 0.7029 - val_recall: 0.1080 - val_auc: 0.5619\n",
      "Epoch 28/100\n",
      "1792532/1792532 [==============================] - 532s 297us/step - loss: 0.6473 - tp: 3312761.5000 - fp: 1398933.6250 - tn: 29411476.0000 - fn: 27272668.0000 - accuracy: 0.5330 - precision: 0.7031 - recall: 0.1083 - auc: 0.5608 - val_loss: 0.9471 - val_tp: 3383649.0000 - val_fp: 1427050.5000 - val_tn: 29942230.0000 - val_fn: 27762788.0000 - val_accuracy: 0.5331 - val_precision: 0.7034 - val_recall: 0.1086 - val_auc: 0.5611\n",
      "Epoch 29/100\n",
      "1792532/1792532 [==============================] - 535s 298us/step - loss: 0.6473 - tp: 3454498.5000 - fp: 1455511.6250 - tn: 30474838.0000 - fn: 28251688.0000 - accuracy: 0.5332 - precision: 0.7036 - recall: 0.1090 - auc: 0.5614 - val_loss: 0.9320 - val_tp: 3525427.5000 - val_fp: 1483756.3750 - val_tn: 31005728.0000 - val_fn: 28741356.0000 - val_accuracy: 0.5333 - val_precision: 0.7038 - val_recall: 0.1093 - val_auc: 0.5621\n",
      "Epoch 30/100\n",
      "1792532/1792532 [==============================] - 530s 296us/step - loss: 0.6473 - tp: 3596061.5000 - fp: 1512186.1250 - tn: 31538602.0000 - fn: 29230410.0000 - accuracy: 0.5333 - precision: 0.7040 - recall: 0.1095 - auc: 0.5627 - val_loss: 0.9521 - val_tp: 3667407.2500 - val_fp: 1540598.2500 - val_tn: 32069246.0000 - val_fn: 29719732.0000 - val_accuracy: 0.5334 - val_precision: 0.7042 - val_recall: 0.1098 - val_auc: 0.5630\n",
      "Epoch 31/100\n",
      "1792532/1792532 [==============================] - 530s 296us/step - loss: 0.6472 - tp: 3738105.7500 - fp: 1568913.6250 - tn: 32602600.0000 - fn: 30208332.0000 - accuracy: 0.5335 - precision: 0.7044 - recall: 0.1101 - auc: 0.5633 - val_loss: 0.9016 - val_tp: 3809486.2500 - val_fp: 1597206.6250 - val_tn: 33133046.0000 - val_fn: 30697996.0000 - val_accuracy: 0.5336 - val_precision: 0.7046 - val_recall: 0.1104 - val_auc: 0.5645\n",
      "Epoch 32/100\n",
      "1792532/1792532 [==============================] - 530s 296us/step - loss: 0.6471 - tp: 3880629.5000 - fp: 1625708.0000 - tn: 33665732.0000 - fn: 31186520.0000 - accuracy: 0.5336 - precision: 0.7048 - recall: 0.1107 - auc: 0.5655 - val_loss: 0.9736 - val_tp: 3952185.5000 - val_fp: 1654304.7500 - val_tn: 34196112.0000 - val_fn: 31675638.0000 - val_accuracy: 0.5337 - val_precision: 0.7049 - val_recall: 0.1109 - val_auc: 0.5652\n",
      "Epoch 33/100\n",
      "1792532/1792532 [==============================] - 529s 295us/step - loss: 0.6470 - tp: 4023649.5000 - fp: 1683114.1250 - tn: 34728524.0000 - fn: 32163948.0000 - accuracy: 0.5338 - precision: 0.7051 - recall: 0.1112 - auc: 0.5648 - val_loss: 0.9646 - val_tp: 4095095.2500 - val_fp: 1711723.2500 - val_tn: 35259252.0000 - val_fn: 32653026.0000 - val_accuracy: 0.5338 - val_precision: 0.7052 - val_recall: 0.1114 - val_auc: 0.5646\n",
      "Epoch 34/100\n",
      "1792532/1792532 [==============================] - 529s 295us/step - loss: 0.6471 - tp: 4166250.7500 - fp: 1740281.6250 - tn: 35791708.0000 - fn: 33141646.0000 - accuracy: 0.5339 - precision: 0.7054 - recall: 0.1117 - auc: 0.5644 - val_loss: 0.9360 - val_tp: 4237484.0000 - val_fp: 1768765.7500 - val_tn: 36322340.0000 - val_fn: 33630972.0000 - val_accuracy: 0.5340 - val_precision: 0.7055 - val_recall: 0.1119 - val_auc: 0.5651\n",
      "Epoch 35/100\n",
      "1792532/1792532 [==============================] - 531s 296us/step - loss: 0.6470 - tp: 4308574.0000 - fp: 1797342.5000 - tn: 36854872.0000 - fn: 34119772.0000 - accuracy: 0.5340 - precision: 0.7056 - recall: 0.1121 - auc: 0.5657 - val_loss: 0.9305 - val_tp: 4379545.0000 - val_fp: 1825495.8750 - val_tn: 37385860.0000 - val_fn: 34609204.0000 - val_accuracy: 0.5341 - val_precision: 0.7058 - val_recall: 0.1123 - val_auc: 0.5662\n",
      "Epoch 36/100\n",
      "1792532/1792532 [==============================] - 529s 295us/step - loss: 0.6468 - tp: 5164226.0000 - fp: 2139077.2500 - tn: 43235228.0000 - fn: 39985888.0000 - accuracy: 0.5347 - precision: 0.7071 - recall: 0.1144 - auc: 0.5685 - val_loss: 0.9878 - val_tp: 5235784.0000 - val_fp: 2167549.7500 - val_tn: 43765764.0000 - val_fn: 40475020.0000 - val_accuracy: 0.5347 - val_precision: 0.7072 - val_recall: 0.1145 - val_auc: 0.5680\n",
      "Epoch 42/100\n",
      "1792532/1792532 [==============================] - 530s 295us/step - loss: 0.6466 - tp: 5450540.5000 - fp: 2253832.5000 - tn: 45361024.0000 - fn: 41940264.0000 - accuracy: 0.5348 - precision: 0.7075 - recall: 0.1150 - auc: 0.5675 - val_loss: 0.9242 - val_tp: 5522200.0000 - val_fp: 2282400.5000 - val_tn: 45891588.0000 - val_fn: 42429192.0000 - val_accuracy: 0.5349 - val_precision: 0.7076 - val_recall: 0.1152 - val_auc: 0.5679\n",
      "Epoch 44/100\n",
      "1792532/1792532 [==============================] - 530s 296us/step - loss: 0.6467 - tp: 5593596.5000 - fp: 2311228.2500 - tn: 46423788.0000 - fn: 42917684.0000 - accuracy: 0.5349 - precision: 0.7076 - recall: 0.1153 - auc: 0.5683 - val_loss: 0.9782 - val_tp: 5665368.5000 - val_fp: 2339959.7500 - val_tn: 46954468.0000 - val_fn: 43406364.0000 - val_accuracy: 0.5349 - val_precision: 0.7077 - val_recall: 0.1155 - val_auc: 0.5679\n",
      "Epoch 45/100\n",
      "1792532/1792532 [==============================] - 530s 295us/step - loss: 0.6466 - tp: 5737106.0000 - fp: 2368879.0000 - tn: 47486948.0000 - fn: 43894044.0000 - accuracy: 0.5350 - precision: 0.7078 - recall: 0.1156 - auc: 0.5675 - val_loss: 0.9656 - val_tp: 5808991.5000 - val_fp: 2397474.0000 - val_tn: 48017308.0000 - val_fn: 44383032.0000 - val_accuracy: 0.5350 - val_precision: 0.7079 - val_recall: 0.1157 - val_auc: 0.5672\n",
      "Epoch 46/100\n",
      "1792532/1792532 [==============================] - 529s 295us/step - loss: 0.6466 - tp: 5880726.0000 - fp: 2426526.2500 - tn: 48549112.0000 - fn: 44871256.0000 - accuracy: 0.5351 - precision: 0.7079 - recall: 0.1159 - auc: 0.5670 - val_loss: 0.9699 - val_tp: 5952478.0000 - val_fp: 2455110.2500 - val_tn: 49079988.0000 - val_fn: 45359884.0000 - val_accuracy: 0.5351 - val_precision: 0.7080 - val_recall: 0.1160 - val_auc: 0.5670\n",
      "Epoch 47/100\n",
      "1792532/1792532 [==============================] - 530s 295us/step - loss: 0.6465 - tp: 6024255.5000 - fp: 2483900.2500 - tn: 49612348.0000 - fn: 45847800.0000 - accuracy: 0.5351 - precision: 0.7081 - recall: 0.1161 - auc: 0.5669 - val_loss: 0.9355 - val_tp: 6096120.0000 - val_fp: 2512761.7500 - val_tn: 50142536.0000 - val_fn: 46336548.0000 - val_accuracy: 0.5352 - val_precision: 0.7081 - val_recall: 0.1163 - val_auc: 0.5673\n",
      "Epoch 48/100\n",
      "1792532/1792532 [==============================] - 529s 295us/step - loss: 0.6465 - tp: 6167783.5000 - fp: 2541478.2500 - tn: 50674996.0000 - fn: 46824632.0000 - accuracy: 0.5352 - precision: 0.7082 - recall: 0.1164 - auc: 0.5678 - val_loss: 0.9864 - val_tp: 6239695.0000 - val_fp: 2570263.5000 - val_tn: 51205416.0000 - val_fn: 47313304.0000 - val_accuracy: 0.5352 - val_precision: 0.7083 - val_recall: 0.1165 - val_auc: 0.5674\n",
      "Epoch 49/100\n",
      "1792532/1792532 [==============================] - 530s 296us/step - loss: 0.6465 - tp: 6311409.5000 - fp: 2599308.7500 - tn: 51737440.0000 - fn: 47801372.0000 - accuracy: 0.5353 - precision: 0.7083 - recall: 0.1166 - auc: 0.5669 - val_loss: 0.9409 - val_tp: 6383367.0000 - val_fp: 2627975.2500 - val_tn: 52268008.0000 - val_fn: 48290004.0000 - val_accuracy: 0.5353 - val_precision: 0.7084 - val_recall: 0.1168 - val_auc: 0.5672\n",
      "Restoring model weights from the end of the best epoch.\n",
      "Epoch 00049: early stopping\n"
     ]
    }
   ],
   "source": [
    "\n",
    "resampled_model = keras.Sequential()\n",
    "resampled_model.add(keras.layers.Dense(2048,activation='sigmoid',input_shape=(n_features,)))\n",
    "resampled_model.add(keras.layers.Dropout(0.5))\n",
    "resampled_model.add(keras.layers.Dense(2048,activation='sigmoid'))\n",
    "resampled_model.add(keras.layers.Dropout(0.5))\n",
    "resampled_model.add(keras.layers.Dense(2048,activation='sigmoid'))\n",
    "resampled_model.add(keras.layers.Dropout(0.5))\n",
    "resampled_model.add(keras.layers.Dense(1,activation='sigmoid'))\n",
    "print('Built NN...')\n",
    "resampled_model.compile(optimizer=keras.optimizers.Adam(lr=1e-3),loss=keras.losses.BinaryCrossentropy(),metrics=METRICS)\n",
    "resampled_model.summary()\n",
    "print('Compiled NN...')\n",
    "\n",
    "initial_weights = os.path.join(tempfile.mkdtemp(),'initial_weights')\n",
    "resampled_model.save_weights(initial_weights)\n",
    "\n",
    "resampled_model.load_weights(initial_weights)\n",
    "output_layer = resampled_model.layers[-1] \n",
    "output_layer.bias.assign([0])\n",
    "\n",
    "resampled_history = resampled_model.fit(X_train_smote,\n",
    "                                        y_train_smote,\n",
    "                                        batch_size=BATCH_SIZE,\n",
    "                                        epochs=EPOCHS,\n",
    "                                        callbacks = [early_stopping],\n",
    "                                        validation_split=0.2\n",
    "                                        )"
   ]
  },
  {
   "cell_type": "code",
   "execution_count": 11,
   "metadata": {
    "pycharm": {
     "is_executing": true,
     "name": "#%% USING test_smote\n"
    }
   },
   "outputs": [
    {
     "data": {
      "image/png": "[encoded data removed]",
      "text/plain": [
       "<Figure size 432x288 with 4 Axes>"
      ]
     },
     "metadata": {
      "needs_background": "light"
     },
     "output_type": "display_data"
    }
   ],
   "source": [
    "plot_metrics(resampled_history)\n",
    "plt.show()"
   ]
  },
  {
   "cell_type": "code",
   "execution_count": 12,
   "metadata": {
    "pycharm": {
     "is_executing": true,
     "name": "#%%\n"
    }
   },
   "outputs": [],
   "source": [
    "train_predictions_resampled = resampled_model.predict(X_train_smote, batch_size=BATCH_SIZE)\n",
    "test_predictions_resampled = resampled_model.predict(X_test_smote, batch_size=BATCH_SIZE)"
   ]
  },
  {
   "cell_type": "code",
   "execution_count": 13,
   "metadata": {
    "pycharm": {
     "is_executing": true,
     "name": "#%%\n"
    }
   },
   "outputs": [
    {
     "name": "stdout",
     "output_type": "stream",
     "text": [
      "613028/613028 [==============================] - 40s 65us/step\n"
     ]
    }
   ],
   "source": [
    "resampled_results = resampled_model.evaluate(X_test_smote,\n",
    "                                             y_test_smote,\n",
    "                                             batch_size=BATCH_SIZE, \n",
    "                                             verbose=1)"
   ]
  },
  {
   "cell_type": "code",
   "execution_count": 14,
   "metadata": {
    "pycharm": {
     "is_executing": true,
     "name": "#%%\n"
    }
   },
   "outputs": [
    {
     "name": "stdout",
     "output_type": "stream",
     "text": [
      "loss :  0.7427463596995972\n",
      "tp :  6413200.0\n",
      "fp :  2636315.75\n",
      "tn :  52489532.0\n",
      "fn :  48561220.0\n",
      "accuracy :  0.5349921584129333\n",
      "precision :  0.7086786031723022\n",
      "recall :  0.11665810644626617\n",
      "auc :  0.567189633846283\n",
      "\n",
      "Legitimate Transactions Detected (True Negatives):  293133\n",
      "Legitimate Transactions Incorrectly Detected (False Positives):  13381\n",
      "Fraudulent Transactions Missed (False Negatives):  305123\n",
      "Fraudulent Transactions Detected (True Positives):  1391\n",
      "Total Fraudulent Transactions:  306514\n"
     ]
    },
    {
     "data": {
      "image/png": "[encoded data removed]",
      "text/plain": [
       "<Figure size 360x360 with 2 Axes>"
      ]
     },
     "metadata": {
      "needs_background": "light"
     },
     "output_type": "display_data"
    }
   ],
   "source": [
    "for name, value in zip(resampled_model.metrics_names, resampled_results):\n",
    "  print(name, ': ', value)\n",
    "print()\n",
    "\n",
    "plot_cm(y_test_smote, test_predictions_resampled)"
   ]
  },
  {
   "cell_type": "code",
   "execution_count": 15,
   "metadata": {
    "pycharm": {
     "is_executing": true,
     "name": "#%%\n"
    }
   },
   "outputs": [
    {
     "data": {
      "text/plain": [
       "<matplotlib.legend.Legend at 0x25dab661d88>"
      ]
     },
     "execution_count": 15,
     "metadata": {},
     "output_type": "execute_result"
    },
    {
     "data": {
      "image/png": "[encoded data removed]",
      "text/plain": [
       "<Figure size 432x288 with 1 Axes>"
      ]
     },
     "metadata": {
      "needs_background": "light"
     },
     "output_type": "display_data"
    }
   ],
   "source": [
    "\n",
    "plot_roc(\"Train Resampled Smote\", y_train_smote, train_predictions_resampled,  color=colors[2])\n",
    "plot_roc(\"Test Resampled Smote\", y_test_smote, test_predictions_resampled,  color=colors[2], linestyle='--')\n",
    "\n",
    "plt.legend(loc='lower right')\n"
   ]
  }
 ],
 "metadata": {
  "kernelspec": {
   "display_name": "Python 3",
   "language": "python",
   "name": "python3"
  },
  "language_info": {
   "codemirror_mode": {
    "name": "ipython",
    "version": 3
   },
   "file_extension": ".py",
   "mimetype": "text/x-python",
   "name": "python",
   "nbconvert_exporter": "python",
   "pygments_lexer": "ipython3",
   "version": "3.7.5"
  },
  "pycharm": {
   "stem_cell": {
    "cell_type": "raw",
    "metadata": {
     "collapsed": false
    },
    "source": []
   }
  }
 },
 "nbformat": 4,
 "nbformat_minor": 1
}
