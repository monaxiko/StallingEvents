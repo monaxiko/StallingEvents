{
 "cells": [
  {
   "cell_type": "code",
   "execution_count": 1,
   "metadata": {
    "pycharm": {
     "is_executing": false,
     "name": "#%% IMPORT SECTION\n"
    }
   },
   "outputs": [
    {
     "name": "stderr",
     "output_type": "stream",
     "text": [
      "Using TensorFlow backend.\n"
     ]
    }
   ],
   "source": [
    "import numpy as np\n",
    "import pandas as pd\n",
    "import matplotlib.pyplot as plt\n",
    "import seaborn as sns\n",
    "import sklearn.metrics as metrics\n",
    "import os\n",
    "import tempfile \n",
    "\n",
    "\n",
    "from sklearn import preprocessing\n",
    "from sklearn.utils.class_weight import compute_class_weight\n",
    "from sklearn.metrics import roc_auc_score, classification_report\n",
    "from collections import Counter\n",
    "\n",
    "from imblearn.over_sampling import SMOTE\n",
    "\n",
    "import tensorflow as tf\n",
    "import keras\n",
    "\n",
    "\n",
    "import warnings\n",
    "warnings.filterwarnings(\"ignore\")\n",
    "colors = np.array(['#0101DF','#DF0101','#01DF01','#DFDFDF'])\n",
    "\n",
    "rs = 42\n",
    "def compute_metrics (y_te2,y_p,string):\n",
    "    print('\\n %s'%string)\n",
    "    print('CONFUSION MATRIX')\n",
    "    print(metrics.confusion_matrix(y_te2,y_p))\n",
    "    print(classification_report(y_te2, y_p))\n",
    "    print('\\nROC CURVE: %2.2f'%roc_auc_score(y_te2,y_p))\n",
    "\n",
    "def Ratio10(y,string):\n",
    "    suma = Counter(y)[0]+Counter(y)[1]\n",
    "    print('\\n'+string)  \n",
    "    print(Counter(y))\n",
    "    print('0: %3.2f%%\\n1: %3.2f%%' % (100*Counter(y)[0]/suma,100*Counter(y)[1]/suma))\n",
    "\n",
    "def histo(data,var):\n",
    "    fig=plt.figure()\n",
    "    sns.countplot(var,data=data,palette=colors)\n",
    "    plt.title('0/1 Distribution (0: No Stalling || 1: Stalling Event',fontsize=14)\n",
    "    plt.show()\n",
    "    \n",
    "def plot_loss(history, label, n):\n",
    "    # Use a log scale to show the wide range of values.\n",
    "    plt.semilogy(history.epoch,  \n",
    "                 history.history['loss'],\n",
    "                 color=colors[n], \n",
    "                 label='Train '+label\n",
    "                 )\n",
    "    plt.semilogy(history.epoch,\n",
    "                 history.history['val_loss'],\n",
    "                 color=colors[n], \n",
    "                 label='Val '+label,\n",
    "                 linestyle=\"--\")\n",
    "    plt.xlabel('Epoch')\n",
    "    plt.ylabel('Loss')\n",
    "    plt.legend()\n",
    "\n",
    "def plot_metrics(history):\n",
    "    metrics =  ['loss', 'auc', 'precision', 'recall']\n",
    "    for n, metric in enumerate(metrics):\n",
    "        name = metric.replace(\"_\",\" \").capitalize()\n",
    "        plt.subplot(2,2,n+1)\n",
    "        plt.plot(history.epoch,  history.history[metric], color=colors[0], label='Train')\n",
    "        plt.plot(history.epoch, history.history['val_'+metric],\n",
    "             color=colors[0], linestyle=\"--\", label='Val')\n",
    "        plt.xlabel('Epoch')\n",
    "        plt.ylabel(name)\n",
    "        if metric == 'loss':\n",
    "            plt.ylim([0, plt.ylim()[1]])\n",
    "        elif metric == 'auc':\n",
    "            plt.ylim([0.5,1])\n",
    "        else:\n",
    "            plt.ylim([0,1])\n",
    "\n",
    "    plt.legend()\n",
    "\n",
    "def plot_cm(labels, predictions, p=0.5):\n",
    "  cm = metrics.confusion_matrix(labels, predictions > p)\n",
    "  plt.figure(figsize=(5,5))\n",
    "  sns.heatmap(cm, annot=True, fmt=\"d\")\n",
    "  plt.title('Confusion matrix @{:.2f}'.format(p))\n",
    "  plt.ylabel('Actual label')\n",
    "  plt.xlabel('Predicted label')\n",
    "\n",
    "  print('Legitimate Transactions Detected (True Negatives): ', cm[0][0])\n",
    "  print('Legitimate Transactions Incorrectly Detected (False Positives): ', cm[0][1])\n",
    "  print('Fraudulent Transactions Missed (False Negatives): ', cm[1][0])\n",
    "  print('Fraudulent Transactions Detected (True Positives): ', cm[1][1])\n",
    "  print('Total Fraudulent Transactions: ', np.sum(cm[1]))\n",
    "  \n",
    "\n",
    "def plot_roc(name, labels, predictions, **kwargs):\n",
    "    fp, tp, _ = metrics.roc_curve(labels, predictions)\n",
    "\n",
    "    plt.plot(100*fp, 100*tp, label=name, linewidth=2, **kwargs)\n",
    "    plt.xlabel('False positives [%]')\n",
    "    plt.ylabel('True positives [%]')\n",
    "    plt.xlim([-0.5,100.5])\n",
    "    plt.ylim([-0.5,100.5])\n",
    "    plt.grid(True)\n",
    "    ax = plt.gca()\n",
    "    ax.set_aspect('equal')\n",
    "  "
   ]
  },
  {
   "cell_type": "code",
   "execution_count": 2,
   "metadata": {
    "pycharm": {
     "is_executing": false,
     "name": "#%% LOAD DATASET REMOVING NOISE\n"
    }
   },
   "outputs": [
    {
     "name": "stdout",
     "output_type": "stream",
     "text": [
      "Index(['∆t', 'pkt_len', 'tcp_hea_len', 'tcp_flag_ack', 'tcp_flag_cwr',\n",
      "       'tcp_flag_ecn', 'tcp_flag_urg', 'tcp_flag_psh', 'tcp_flag_rst',\n",
      "       'tcp_flag_syn', 'tcp_flag_fin', 'tcp_win_si2', 'delay', 'capture',\n",
      "       'stalling_event'],\n",
      "      dtype='object')\n",
      "\n",
      "dataset[stalling_event]\n",
      "Counter({0: 1426905, 1: 113031})\n",
      "0: 92.66%\n",
      "1: 7.34%\n"
     ]
    },
    {
     "data": {
      "image/png": "[encoded data removed]",
      "text/plain": [
       "<Figure size 432x288 with 1 Axes>"
      ]
     },
     "metadata": {
      "needs_background": "light"
     },
     "output_type": "display_data"
    }
   ],
   "source": [
    "dataset = pd.read_csv('../../output/df_general.csv', sep=',')\n",
    "split = 0.8\n",
    "del dataset['No.']\n",
    "del dataset['Protocol']\n",
    "del dataset['ip_len']\n",
    "del dataset['prebuffering']\n",
    "del dataset['Time']\n",
    "\n",
    "dataset = dataset.fillna(dataset.mean())\n",
    "neg, pos = np.bincount(dataset['stalling_event'])\n",
    "total = neg + pos\n",
    "weight_for_0 = (1 / neg)*(total)/2.0 \n",
    "weight_for_1 = (1 / pos)*(total)/2.0\n",
    "\n",
    "class_weight = {0: weight_for_0, 1: weight_for_1}\n",
    "\n",
    "print(dataset.columns)\n",
    "Ratio10(dataset['stalling_event'],'dataset[stalling_event]')\n",
    "histo(dataset,'stalling_event')"
   ]
  },
  {
   "cell_type": "code",
   "execution_count": 3,
   "metadata": {
    "pycharm": {
     "is_executing": false,
     "name": "#%% SPLIT TRAIN/TEST\n"
    }
   },
   "outputs": [],
   "source": [
    "from random import randint\n",
    "'''X_train = [None] * (len(dataset.columns)-1)\n",
    "X_test = [None] * (len(dataset.columns)-1)'''\n",
    "\n",
    "X_train = np.array([None]*12)\n",
    "X_test = np.array([None]*12)\n",
    "y_train = list()\n",
    "y_test = list()\n",
    "\n",
    "grouped = dataset.groupby(['delay','capture']) \n",
    "#print(grouped.mean())\n",
    "\n",
    "for id, data in grouped:\n",
    "    spl = int(data.shape[0] * split)\n",
    "    restspl = int(data.shape[0] * (1-split))\n",
    "    randnum = randint(0,restspl)\n",
    "    \n",
    "    X_train = np.vstack((X_train,data.values[randnum:randnum+spl,:-3]))\n",
    "    X_test = np.vstack((X_test,data.values[0:randnum-1,:-3]))\n",
    "    X_test = np.vstack((X_test,data.values[randnum+spl:,:-3]))\n",
    "    \n",
    "    y_train.extend(data.values[randnum:randnum+spl,-1])\n",
    "    y_test.extend(data.values[0:randnum-1,-1])\n",
    "    y_test.extend(data.values[randnum+spl:,-1])\n",
    "\n",
    "X_train = X_train[1:]\n",
    "X_test = X_test[1:]"
   ]
  },
  {
   "cell_type": "code",
   "execution_count": 4,
   "metadata": {
    "pycharm": {
     "is_executing": false,
     "name": "#%%\n"
    }
   },
   "outputs": [],
   "source": [
    "mms = preprocessing.MinMaxScaler()\n",
    "X_train = mms.fit_transform(X_train)\n",
    "X_test = mms.transform(X_test)"
   ]
  },
  {
   "cell_type": "code",
   "execution_count": 5,
   "metadata": {
    "pycharm": {
     "is_executing": false,
     "name": "#%%\n"
    }
   },
   "outputs": [
    {
     "name": "stdout",
     "output_type": "stream",
     "text": [
      "\n",
      "y_test\n",
      "Counter({0: 305970, 1: 1982})\n",
      "0: 99.36%\n",
      "1: 0.64%\n",
      "\n",
      "y_train\n",
      "Counter({0: 1120876, 1: 111048})\n",
      "0: 90.99%\n",
      "1: 9.01%\n"
     ]
    }
   ],
   "source": [
    "y_test = list(map(int,y_test))\n",
    "y_train = list(map(int,y_train))\n",
    "Ratio10(y_test,'y_test')\n",
    "Ratio10(y_train,'y_train')\n",
    "\n",
    "X_train = pd.DataFrame(data=X_train,columns=dataset.columns[:-3])\n",
    "X_test= pd.DataFrame(data=X_test,columns=dataset.columns[:-3])\n",
    "y_train = pd.DataFrame(data=y_train,columns=['y_train'])\n",
    "y_test= pd.DataFrame(data=y_test,columns=['y_test'])\n",
    "del dataset['delay']\n",
    "del dataset['capture']"
   ]
  },
  {
   "cell_type": "code",
   "execution_count": 6,
   "metadata": {
    "pycharm": {
     "is_executing": false,
     "name": "#%%\n"
    }
   },
   "outputs": [],
   "source": [
    "smote = SMOTE(random_state = rs)\n",
    "X_train_smote,y_train_smote = smote.fit_resample(X_train.values,y_train.values)\n",
    "X_test_smote,y_test_smote = smote.fit_resample(X_test.values,y_test.values)"
   ]
  },
  {
   "cell_type": "code",
   "execution_count": 7,
   "metadata": {
    "pycharm": {
     "is_executing": false,
     "name": "#%%\n"
    }
   },
   "outputs": [
    {
     "name": "stdout",
     "output_type": "stream",
     "text": [
      "1394.0\n"
     ]
    }
   ],
   "source": [
    "EPOCHS = 100\n",
    "BATCH_SIZE = 2048\n",
    "\n",
    "resampled_steps_per_epoch = np.ceil(2.0*neg/BATCH_SIZE)\n",
    "print(resampled_steps_per_epoch)"
   ]
  },
  {
   "cell_type": "code",
   "execution_count": 8,
   "metadata": {
    "pycharm": {
     "is_executing": false,
     "name": "#%%\n"
    }
   },
   "outputs": [],
   "source": [
    "METRICS = [\n",
    "    tf.keras.metrics.TruePositives(name='tp'),\n",
    "    tf.keras.metrics.FalsePositives(name='fp'),\n",
    "    tf.keras.metrics.TrueNegatives(name='tn'),\n",
    "    tf.keras.metrics.FalseNegatives(name='fn'),\n",
    "    tf.keras.metrics.BinaryAccuracy(name='accuracy'),\n",
    "    tf.keras.metrics.Precision(name='precision'),\n",
    "    tf.keras.metrics.Recall(name='recall'),\n",
    "    tf.keras.metrics.AUC(name='auc'),\n",
    "]\n",
    "\n",
    "\n",
    "early_stopping = tf.keras.callbacks.EarlyStopping(monitor='val_auc', \n",
    "                                                  verbose=1,\n",
    "                                                  patience=10,\n",
    "                                                  mode='max',\n",
    "                                                  restore_best_weights=True)\n",
    "\n"
   ]
  },
  {
   "cell_type": "code",
   "execution_count": 9,
   "metadata": {
    "pycharm": {
     "is_executing": false,
     "name": "#%%\n"
    }
   },
   "outputs": [
    {
     "name": "stdout",
     "output_type": "stream",
     "text": [
      "[-2.53560092]\n"
     ]
    }
   ],
   "source": [
    "n_features = X_train.shape[1]\n",
    "\n",
    "initial_bias = np.log([pos/neg])\n",
    "print(initial_bias)"
   ]
  },
  {
   "cell_type": "code",
   "execution_count": 10,
   "metadata": {
    "pycharm": {
     "is_executing": true,
     "name": "#%% Resampled\n"
    }
   },
   "outputs": [
    {
     "name": "stdout",
     "output_type": "stream",
     "text": [
      "Built NN...\n",
      "Model: \"sequential_1\"\n",
      "_________________________________________________________________\n",
      "Layer (type)                 Output Shape              Param #   \n",
      "=================================================================\n",
      "dense_1 (Dense)              (None, 1024)              13312     \n",
      "_________________________________________________________________\n",
      "dropout_1 (Dropout)          (None, 1024)              0         \n",
      "_________________________________________________________________\n",
      "dense_2 (Dense)              (None, 1024)              1049600   \n",
      "_________________________________________________________________\n",
      "dropout_2 (Dropout)          (None, 1024)              0         \n",
      "_________________________________________________________________\n",
      "dense_3 (Dense)              (None, 1024)              1049600   \n",
      "_________________________________________________________________\n",
      "dropout_3 (Dropout)          (None, 1024)              0         \n",
      "_________________________________________________________________\n",
      "dense_4 (Dense)              (None, 1024)              1049600   \n",
      "_________________________________________________________________\n",
      "dropout_4 (Dropout)          (None, 1024)              0         \n",
      "_________________________________________________________________\n",
      "dense_5 (Dense)              (None, 1)                 1025      \n",
      "=================================================================\n",
      "Total params: 3,163,137\n",
      "Trainable params: 3,163,137\n",
      "Non-trainable params: 0\n",
      "_________________________________________________________________\n",
      "Compiled NN...\n",
      "Train on 1793401 samples, validate on 448351 samples\n",
      "Epoch 1/100\n",
      "1793401/1793401 [==============================] - 245s 136us/step - loss: 0.6498 - tp: 35028.1406 - fp: 24491.8164 - tn: 536712.3125 - fn: 301815.0000 - accuracy: 0.6336 - precision: 0.5718 - recall: 0.0925 - auc: 0.5535 - val_loss: 0.9423 - val_tp: 108040.4844 - val_fp: 53535.0000 - val_tn: 1067342.8750 - val_fn: 789763.8750 - val_accuracy: 0.5841 - val_precision: 0.6646 - val_recall: 0.1200 - val_auc: 0.5620\n",
      "Epoch 2/100\n",
      "1793401/1793401 [==============================] - 243s 135us/step - loss: 0.6469 - tp: 181974.9844 - fp: 83704.2656 - tn: 1598341.1250 - fn: 1275777.7500 - accuracy: 0.5649 - precision: 0.6875 - recall: 0.1248 - auc: 0.5654 - val_loss: 0.9710 - val_tp: 256486.1562 - val_fp: 113996.6797 - val_tn: 2127751.5000 - val_fn: 1762194.0000 - val_accuracy: 0.5600 - val_precision: 0.6916 - val_recall: 0.1270 - val_auc: 0.5588\n",
      "Epoch 3/100\n",
      "1793401/1793401 [==============================] - 244s 136us/step - loss: 0.6465 - tp: 479873.0312 - fp: 205664.6250 - tn: 3718284.0000 - fn: 3219482.2500 - accuracy: 0.5503 - precision: 0.7004 - recall: 0.1297 - auc: 0.5542 - val_loss: 0.9584 - val_tp: 554932.0000 - val_fp: 236308.3281 - val_tn: 4247185.5000 - val_fn: 3705501.2500 - val_accuracy: 0.5493 - val_precision: 0.7012 - val_recall: 0.1302 - val_auc: 0.5567\n",
      "Epoch 5/100\n",
      "1793401/1793401 [==============================] - 244s 136us/step - loss: 0.6466 - tp: 629502.4375 - fp: 267108.6875 - tn: 4777585.5000 - fn: 4190855.5000 - accuracy: 0.5479 - precision: 0.7024 - recall: 0.1306 - auc: 0.5586 - val_loss: 0.9452 - val_tp: 704038.8125 - val_fp: 297507.7500 - val_tn: 5306879.0000 - val_fn: 4677269.5000 - val_accuracy: 0.5472 - val_precision: 0.7029 - val_recall: 0.1308 - val_auc: 0.5611\n",
      "Epoch 6/100\n",
      "1793401/1793401 [==============================] - 243s 135us/step - loss: 0.6464 - tp: 778798.6250 - fp: 328389.5938 - tn: 5837548.5000 - fn: 5162074.5000 - accuracy: 0.5463 - precision: 0.7036 - recall: 0.1311 - auc: 0.5633 - val_loss: 0.9306 - val_tp: 853743.2500 - val_fp: 359080.0000 - val_tn: 6366195.5000 - val_fn: 5648441.5000 - val_accuracy: 0.5459 - val_precision: 0.7039 - val_recall: 0.1313 - val_auc: 0.5670\n",
      "Epoch 7/100\n",
      "1793401/1793401 [==============================] - 246s 137us/step - loss: 0.6461 - tp: 928572.9375 - fp: 390088.1250 - tn: 6896703.0000 - fn: 6133193.0000 - accuracy: 0.5452 - precision: 0.7043 - recall: 0.1315 - auc: 0.5703 - val_loss: 0.9390 - val_tp: 1004006.8750 - val_fp: 420896.0000 - val_tn: 7425246.0000 - val_fn: 6619054.0000 - val_accuracy: 0.5449 - val_precision: 0.7046 - val_recall: 0.1317 - val_auc: 0.5717\n",
      "Epoch 8/100\n",
      "1793401/1793401 [==============================] - 256s 143us/step - loss: 0.6459 - tp: 1379411.8750 - fp: 575034.3125 - tn: 10074388.0000 - fn: 9044982.0000 - accuracy: 0.5434 - precision: 0.7058 - recall: 0.1323 - auc: 0.5762 - val_loss: 0.9689 - val_tp: 1454638.0000 - val_fp: 605858.0625 - val_tn: 10602896.0000 - val_fn: 9531052.0000 - val_accuracy: 0.5433 - val_precision: 0.7059 - val_recall: 0.1324 - val_auc: 0.5746\n",
      "Epoch 11/100\n",
      "1793401/1793401 [==============================] - 295s 165us/step - loss: 0.6461 - tp: 1529489.5000 - fp: 636854.0000 - tn: 11132708.0000 - fn: 10016523.0000 - accuracy: 0.5430 - precision: 0.7061 - recall: 0.1325 - auc: 0.5732 - val_loss: 0.9327 - val_tp: 1604423.6250 - val_fp: 667776.0000 - val_tn: 11661845.0000 - val_fn: 10502142.0000 - val_accuracy: 0.5429 - val_precision: 0.7061 - val_recall: 0.1325 - val_auc: 0.5750\n",
      "Epoch 12/100\n",
      "1793401/1793401 [==============================] - 270s 151us/step - loss: 0.6458 - tp: 1679194.1250 - fp: 698498.6250 - tn: 12192382.0000 - fn: 10987248.0000 - accuracy: 0.5427 - precision: 0.7063 - recall: 0.1326 - auc: 0.5764 - val_loss: 0.9434 - val_tp: 1753930.1250 - val_fp: 729257.6875 - val_tn: 12721244.0000 - val_fn: 11473510.0000 - val_accuracy: 0.5426 - val_precision: 0.7063 - val_recall: 0.1326 - val_auc: 0.5764\n",
      "Epoch 13/100\n",
      "1793401/1793401 [==============================] - 286s 159us/step - loss: 0.6462 - tp: 1978299.5000 - fp: 822311.4375 - tn: 14310477.0000 - fn: 12929736.0000 - accuracy: 0.5422 - precision: 0.7064 - recall: 0.1327 - auc: 0.5760 - val_loss: 0.9549 - val_tp: 2052717.1250 - val_fp: 853284.3750 - val_tn: 14839019.0000 - val_fn: 13416478.0000 - val_accuracy: 0.5421 - val_precision: 0.7064 - val_recall: 0.1327 - val_auc: 0.5752\n",
      "Epoch 15/100\n",
      "1793401/1793401 [==============================] - 450s 251us/step - loss: 0.6458 - tp: 2575561.0000 - fp: 1068110.1250 - tn: 18548022.0000 - fn: 16816130.0000 - accuracy: 0.5415 - precision: 0.7069 - recall: 0.1328 - auc: 0.5739 - val_loss: 0.9522 - val_tp: 2650490.7500 - val_fp: 1098798.8750 - val_tn: 19076926.0000 - val_fn: 17302194.0000 - val_accuracy: 0.5415 - val_precision: 0.7069 - val_recall: 0.1328 - val_auc: 0.5739\n",
      "Epoch 19/100\n",
      "1793401/1793401 [==============================] - 446s 249us/step - loss: 0.6458 - tp: 2872791.0000 - fp: 1190015.3750 - tn: 20668142.0000 - fn: 18760466.0000 - accuracy: 0.5413 - precision: 0.7071 - recall: 0.1328 - auc: 0.5746 - val_loss: 0.9738 - val_tp: 2947732.5000 - val_fp: 1220560.2500 - val_tn: 21196990.0000 - val_fn: 19246806.0000 - val_accuracy: 0.5412 - val_precision: 0.7072 - val_recall: 0.1328 - val_auc: 0.5735\n",
      "Epoch 21/100\n",
      "1793401/1793401 [==============================] - 457s 255us/step - loss: 0.6459 - tp: 3173508.0000 - fp: 1312739.5000 - tn: 22787070.0000 - fn: 20701644.0000 - accuracy: 0.5411 - precision: 0.7074 - recall: 0.1329 - auc: 0.5702 - val_loss: 0.9384 - val_tp: 3248362.7500 - val_fp: 1343314.2500 - val_tn: 23315972.0000 - val_fn: 21187908.0000 - val_accuracy: 0.5411 - val_precision: 0.7074 - val_recall: 0.1329 - val_auc: 0.5707\n",
      "Restoring model weights from the end of the best epoch.\n",
      "Epoch 00022: early stopping\n"
     ]
    }
   ],
   "source": [
    "\n",
    "resampled_model = keras.Sequential()\n",
    "resampled_model.add(keras.layers.Dense(1024,activation='relu',input_shape=(n_features,)))\n",
    "resampled_model.add(keras.layers.Dropout(0.5))\n",
    "resampled_model.add(keras.layers.Dense(1024,activation='relu'))\n",
    "resampled_model.add(keras.layers.Dropout(0.5))\n",
    "resampled_model.add(keras.layers.Dense(1024,activation='relu'))\n",
    "resampled_model.add(keras.layers.Dropout(0.5))\n",
    "resampled_model.add(keras.layers.Dense(1024,activation='relu'))\n",
    "resampled_model.add(keras.layers.Dropout(0.5))\n",
    "resampled_model.add(keras.layers.Dense(1,activation='sigmoid'))\n",
    "print('Built NN...')\n",
    "resampled_model.compile(optimizer=keras.optimizers.Adam(lr=1e-3),loss=keras.losses.BinaryCrossentropy(),metrics=METRICS)\n",
    "resampled_model.summary()\n",
    "print('Compiled NN...')\n",
    "\n",
    "initial_weights = os.path.join(tempfile.mkdtemp(),'initial_weights')\n",
    "resampled_model.save_weights(initial_weights)\n",
    "\n",
    "resampled_model.load_weights(initial_weights)\n",
    "output_layer = resampled_model.layers[-1] \n",
    "output_layer.bias.assign([0])\n",
    "\n",
    "resampled_history = resampled_model.fit(X_train_smote,\n",
    "                                        y_train_smote,\n",
    "                                        batch_size=BATCH_SIZE,\n",
    "                                        epochs=EPOCHS,\n",
    "                                        callbacks = [early_stopping],\n",
    "                                        validation_split=0.2\n",
    "                                        )"
   ]
  },
  {
   "cell_type": "code",
   "execution_count": 11,
   "metadata": {
    "pycharm": {
     "is_executing": true,
     "name": "#%% USING test_smote\n"
    }
   },
   "outputs": [
    {
     "data": {
      "image/png": "[encoded data removed]",
      "text/plain": [
       "<Figure size 432x288 with 4 Axes>"
      ]
     },
     "metadata": {
      "needs_background": "light"
     },
     "output_type": "display_data"
    }
   ],
   "source": [
    "plot_metrics(resampled_history)\n",
    "plt.show()"
   ]
  },
  {
   "cell_type": "code",
   "execution_count": 12,
   "metadata": {
    "pycharm": {
     "is_executing": true,
     "name": "#%%\n"
    }
   },
   "outputs": [],
   "source": [
    "train_predictions_resampled = resampled_model.predict(X_train_smote, batch_size=BATCH_SIZE)\n",
    "test_predictions_resampled = resampled_model.predict(X_test_smote, batch_size=BATCH_SIZE)"
   ]
  },
  {
   "cell_type": "code",
   "execution_count": 13,
   "metadata": {
    "pycharm": {
     "is_executing": true,
     "name": "#%%\n"
    }
   },
   "outputs": [
    {
     "name": "stdout",
     "output_type": "stream",
     "text": [
      "611940/611940 [==============================] - 29s 48us/step\n"
     ]
    }
   ],
   "source": [
    "resampled_results = resampled_model.evaluate(X_test_smote,\n",
    "                                             y_test_smote,\n",
    "                                             batch_size=BATCH_SIZE, \n",
    "                                             verbose=1)"
   ]
  },
  {
   "cell_type": "code",
   "execution_count": 14,
   "metadata": {
    "pycharm": {
     "is_executing": true,
     "name": "#%%\n"
    }
   },
   "outputs": [
    {
     "name": "stdout",
     "output_type": "stream",
     "text": [
      "loss :  0.7494561336997148\n",
      "tp :  3282894.25\n",
      "fp :  1351844.75\n",
      "tn :  23536876.0\n",
      "fn :  21454286.0\n",
      "accuracy :  0.5404384136199951\n",
      "precision :  0.7083241939544678\n",
      "recall :  0.1327122300863266\n",
      "auc :  0.5709872841835022\n",
      "\n",
      "Legitimate Transactions Detected (True Negatives):  292216\n",
      "Legitimate Transactions Incorrectly Detected (False Positives):  13754\n",
      "Fraudulent Transactions Missed (False Negatives):  289087\n",
      "Fraudulent Transactions Detected (True Positives):  16883\n",
      "Total Fraudulent Transactions:  305970\n"
     ]
    },
    {
     "data": {
      "image/png": "[encoded data removed]",
      "text/plain": [
       "<Figure size 360x360 with 2 Axes>"
      ]
     },
     "metadata": {
      "needs_background": "light"
     },
     "output_type": "display_data"
    }
   ],
   "source": [
    "for name, value in zip(resampled_model.metrics_names, resampled_results):\n",
    "  print(name, ': ', value)\n",
    "print()\n",
    "\n",
    "plot_cm(y_test_smote, test_predictions_resampled)\n",
    "\n",
    "\n"
   ]
  },
  {
   "cell_type": "code",
   "execution_count": 15,
   "metadata": {
    "pycharm": {
     "is_executing": true,
     "name": "#%%\n"
    }
   },
   "outputs": [
    {
     "data": {
      "text/plain": [
       "<matplotlib.legend.Legend at 0x1fa949a7448>"
      ]
     },
     "execution_count": 15,
     "metadata": {},
     "output_type": "execute_result"
    },
    {
     "data": {
      "image/png": "[encoded data removed]",
      "text/plain": [
       "<Figure size 432x288 with 1 Axes>"
      ]
     },
     "metadata": {
      "needs_background": "light"
     },
     "output_type": "display_data"
    }
   ],
   "source": [
    "\n",
    "\n",
    "plot_roc(\"Train Resampled Smote\", y_train_smote, train_predictions_resampled,  color=colors[2])\n",
    "plot_roc(\"Test Resampled Smote\", y_test_smote, test_predictions_resampled,  color=colors[2], linestyle='--')\n",
    "\n",
    "plt.legend(loc='lower right')\n"
   ]
  }
 ],
 "metadata": {
  "kernelspec": {
   "display_name": "Python 3",
   "language": "python",
   "name": "python3"
  },
  "language_info": {
   "codemirror_mode": {
    "name": "ipython",
    "version": 3
   },
   "file_extension": ".py",
   "mimetype": "text/x-python",
   "name": "python",
   "nbconvert_exporter": "python",
   "pygments_lexer": "ipython3",
   "version": "3.7.5"
  },
  "pycharm": {
   "stem_cell": {
    "cell_type": "raw",
    "metadata": {
     "collapsed": false
    },
    "source": []
   }
  }
 },
 "nbformat": 4,
 "nbformat_minor": 1
}
