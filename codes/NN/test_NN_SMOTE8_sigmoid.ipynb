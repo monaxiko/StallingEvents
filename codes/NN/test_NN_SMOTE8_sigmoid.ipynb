{
 "cells": [
  {
   "cell_type": "code",
   "execution_count": 1,
   "metadata": {
    "pycharm": {
     "is_executing": false,
     "name": "#%% IMPORT SECTION\n"
    }
   },
   "outputs": [
    {
     "name": "stderr",
     "output_type": "stream",
     "text": [
      "Using TensorFlow backend.\n"
     ]
    }
   ],
   "source": [
    "import numpy as np\n",
    "import pandas as pd\n",
    "import matplotlib.pyplot as plt\n",
    "import seaborn as sns\n",
    "import sklearn.metrics as metrics\n",
    "import os\n",
    "import tempfile \n",
    "\n",
    "\n",
    "from sklearn import preprocessing\n",
    "from sklearn.utils.class_weight import compute_class_weight\n",
    "from sklearn.metrics import roc_auc_score, classification_report\n",
    "from collections import Counter\n",
    "\n",
    "from imblearn.over_sampling import SMOTE\n",
    "\n",
    "import tensorflow as tf\n",
    "import keras\n",
    "\n",
    "\n",
    "import warnings\n",
    "warnings.filterwarnings(\"ignore\")\n",
    "colors = np.array(['#0101DF','#DF0101','#01DF01','#DFDFDF'])\n",
    "\n",
    "rs = 42\n",
    "def compute_metrics (y_te2,y_p,string):\n",
    "    print('\\n %s'%string)\n",
    "    print('CONFUSION MATRIX')\n",
    "    print(metrics.confusion_matrix(y_te2,y_p))\n",
    "    print(classification_report(y_te2, y_p))\n",
    "    print('\\nROC CURVE: %2.2f'%roc_auc_score(y_te2,y_p))\n",
    "\n",
    "def Ratio10(y,string):\n",
    "    suma = Counter(y)[0]+Counter(y)[1]\n",
    "    print('\\n'+string)  \n",
    "    print(Counter(y))\n",
    "    print('0: %3.2f%%\\n1: %3.2f%%' % (100*Counter(y)[0]/suma,100*Counter(y)[1]/suma))\n",
    "\n",
    "def histo(data,var):\n",
    "    fig=plt.figure()\n",
    "    sns.countplot(var,data=data,palette=colors)\n",
    "    plt.title('0/1 Distribution (0: No Stalling || 1: Stalling Event',fontsize=14)\n",
    "    plt.show()\n",
    "    \n",
    "def plot_loss(history, label, n):\n",
    "    # Use a log scale to show the wide range of values.\n",
    "    plt.semilogy(history.epoch,  \n",
    "                 history.history['loss'],\n",
    "                 color=colors[n], \n",
    "                 label='Train '+label\n",
    "                 )\n",
    "    plt.semilogy(history.epoch,\n",
    "                 history.history['val_loss'],\n",
    "                 color=colors[n], \n",
    "                 label='Val '+label,\n",
    "                 linestyle=\"--\")\n",
    "    plt.xlabel('Epoch')\n",
    "    plt.ylabel('Loss')\n",
    "    plt.legend()\n",
    "\n",
    "def plot_metrics(history):\n",
    "    metrics =  ['loss', 'auc', 'precision', 'recall']\n",
    "    for n, metric in enumerate(metrics):\n",
    "        name = metric.replace(\"_\",\" \").capitalize()\n",
    "        plt.subplot(2,2,n+1)\n",
    "        plt.plot(history.epoch,  history.history[metric], color=colors[0], label='Train')\n",
    "        plt.plot(history.epoch, history.history['val_'+metric],\n",
    "             color=colors[0], linestyle=\"--\", label='Val')\n",
    "        plt.xlabel('Epoch')\n",
    "        plt.ylabel(name)\n",
    "        if metric == 'loss':\n",
    "            plt.ylim([0, plt.ylim()[1]])\n",
    "        elif metric == 'auc':\n",
    "            plt.ylim([0.5,1])\n",
    "        else:\n",
    "            plt.ylim([0,1])\n",
    "\n",
    "    plt.legend()\n",
    "\n",
    "def plot_cm(labels, predictions, p=0.5):\n",
    "  cm = metrics.confusion_matrix(labels, predictions > p)\n",
    "  plt.figure(figsize=(5,5))\n",
    "  sns.heatmap(cm, annot=True, fmt=\"d\")\n",
    "  plt.title('Confusion matrix @{:.2f}'.format(p))\n",
    "  plt.ylabel('Actual label')\n",
    "  plt.xlabel('Predicted label')\n",
    "\n",
    "  print('Legitimate Transactions Detected (True Negatives): ', cm[0][0])\n",
    "  print('Legitimate Transactions Incorrectly Detected (False Positives): ', cm[0][1])\n",
    "  print('Fraudulent Transactions Missed (False Negatives): ', cm[1][0])\n",
    "  print('Fraudulent Transactions Detected (True Positives): ', cm[1][1])\n",
    "  print('Total Fraudulent Transactions: ', np.sum(cm[1]))\n",
    "  \n",
    "\n",
    "def plot_roc(name, labels, predictions, **kwargs):\n",
    "    fp, tp, _ = metrics.roc_curve(labels, predictions)\n",
    "\n",
    "    plt.plot(100*fp, 100*tp, label=name, linewidth=2, **kwargs)\n",
    "    plt.xlabel('False positives [%]')\n",
    "    plt.ylabel('True positives [%]')\n",
    "    plt.xlim([-0.5,100.5])\n",
    "    plt.ylim([-0.5,100.5])\n",
    "    plt.grid(True)\n",
    "    ax = plt.gca()\n",
    "    ax.set_aspect('equal')\n",
    "  "
   ]
  },
  {
   "cell_type": "code",
   "execution_count": 2,
   "metadata": {
    "pycharm": {
     "is_executing": false,
     "name": "#%% LOAD DATASET REMOVING NOISE\n"
    }
   },
   "outputs": [
    {
     "name": "stdout",
     "output_type": "stream",
     "text": [
      "Index(['∆t', 'pkt_len', 'tcp_hea_len', 'tcp_flag_ack', 'tcp_flag_cwr',\n",
      "       'tcp_flag_ecn', 'tcp_flag_urg', 'tcp_flag_psh', 'tcp_flag_rst',\n",
      "       'tcp_flag_syn', 'tcp_flag_fin', 'tcp_win_si2', 'delay', 'capture',\n",
      "       'stalling_event'],\n",
      "      dtype='object')\n",
      "\n",
      "dataset[stalling_event]\n",
      "Counter({0: 1426905, 1: 113031})\n",
      "0: 92.66%\n",
      "1: 7.34%\n"
     ]
    },
    {
     "data": {
      "image/png": "[encoded data removed]",
      "text/plain": [
       "<Figure size 432x288 with 1 Axes>"
      ]
     },
     "metadata": {
      "needs_background": "light"
     },
     "output_type": "display_data"
    }
   ],
   "source": [
    "dataset = pd.read_csv('../../output/df_general.csv', sep=',')\n",
    "split = 0.8\n",
    "del dataset['No.']\n",
    "del dataset['Protocol']\n",
    "del dataset['ip_len']\n",
    "del dataset['prebuffering']\n",
    "del dataset['Time']\n",
    "\n",
    "dataset = dataset.fillna(dataset.mean())\n",
    "neg, pos = np.bincount(dataset['stalling_event'])\n",
    "total = neg + pos\n",
    "weight_for_0 = (1 / neg)*(total)/2.0 \n",
    "weight_for_1 = (1 / pos)*(total)/2.0\n",
    "\n",
    "class_weight = {0: weight_for_0, 1: weight_for_1}\n",
    "\n",
    "print(dataset.columns)\n",
    "Ratio10(dataset['stalling_event'],'dataset[stalling_event]')\n",
    "histo(dataset,'stalling_event')"
   ]
  },
  {
   "cell_type": "code",
   "execution_count": 3,
   "metadata": {
    "pycharm": {
     "is_executing": false,
     "name": "#%% SPLIT TRAIN/TEST\n"
    }
   },
   "outputs": [],
   "source": [
    "from random import randint\n",
    "'''X_train = [None] * (len(dataset.columns)-1)\n",
    "X_test = [None] * (len(dataset.columns)-1)'''\n",
    "\n",
    "X_train = np.array([None]*12)\n",
    "X_test = np.array([None]*12)\n",
    "y_train = list()\n",
    "y_test = list()\n",
    "\n",
    "grouped = dataset.groupby(['delay','capture']) \n",
    "#print(grouped.mean())\n",
    "\n",
    "for id, data in grouped:\n",
    "    spl = int(data.shape[0] * split)\n",
    "    restspl = int(data.shape[0] * (1-split))\n",
    "    randnum = randint(0,restspl)\n",
    "    \n",
    "    X_train = np.vstack((X_train,data.values[randnum:randnum+spl,:-3]))\n",
    "    X_test = np.vstack((X_test,data.values[0:randnum-1,:-3]))\n",
    "    X_test = np.vstack((X_test,data.values[randnum+spl:,:-3]))\n",
    "    \n",
    "    y_train.extend(data.values[randnum:randnum+spl,-1])\n",
    "    y_test.extend(data.values[0:randnum-1,-1])\n",
    "    y_test.extend(data.values[randnum+spl:,-1])\n",
    "\n",
    "X_train = X_train[1:]\n",
    "X_test = X_test[1:]"
   ]
  },
  {
   "cell_type": "code",
   "execution_count": 4,
   "metadata": {
    "pycharm": {
     "is_executing": false,
     "name": "#%%\n"
    }
   },
   "outputs": [],
   "source": [
    "mms = preprocessing.MinMaxScaler()\n",
    "X_train = mms.fit_transform(X_train)\n",
    "X_test = mms.transform(X_test)"
   ]
  },
  {
   "cell_type": "code",
   "execution_count": 5,
   "metadata": {
    "pycharm": {
     "is_executing": false,
     "name": "#%%\n"
    }
   },
   "outputs": [
    {
     "name": "stdout",
     "output_type": "stream",
     "text": [
      "\n",
      "y_test\n",
      "Counter({0: 304349, 1: 3603})\n",
      "0: 98.83%\n",
      "1: 1.17%\n",
      "\n",
      "y_train\n",
      "Counter({0: 1122497, 1: 109427})\n",
      "0: 91.12%\n",
      "1: 8.88%\n"
     ]
    }
   ],
   "source": [
    "y_test = list(map(int,y_test))\n",
    "y_train = list(map(int,y_train))\n",
    "Ratio10(y_test,'y_test')\n",
    "Ratio10(y_train,'y_train')\n",
    "\n",
    "X_train = pd.DataFrame(data=X_train,columns=dataset.columns[:-3])\n",
    "X_test= pd.DataFrame(data=X_test,columns=dataset.columns[:-3])\n",
    "y_train = pd.DataFrame(data=y_train,columns=['y_train'])\n",
    "y_test= pd.DataFrame(data=y_test,columns=['y_test'])\n",
    "del dataset['delay']\n",
    "del dataset['capture']"
   ]
  },
  {
   "cell_type": "code",
   "execution_count": 6,
   "metadata": {
    "pycharm": {
     "is_executing": false,
     "name": "#%%\n"
    }
   },
   "outputs": [],
   "source": [
    "smote = SMOTE(random_state = rs)\n",
    "X_train_smote,y_train_smote = smote.fit_resample(X_train.values,y_train.values)\n",
    "X_test_smote,y_test_smote = smote.fit_resample(X_test.values,y_test.values)"
   ]
  },
  {
   "cell_type": "code",
   "execution_count": 7,
   "metadata": {
    "pycharm": {
     "is_executing": false,
     "name": "#%%\n"
    }
   },
   "outputs": [
    {
     "name": "stdout",
     "output_type": "stream",
     "text": [
      "1394.0\n"
     ]
    }
   ],
   "source": [
    "EPOCHS = 100\n",
    "BATCH_SIZE = 2048\n",
    "\n",
    "resampled_steps_per_epoch = np.ceil(2.0*neg/BATCH_SIZE)\n",
    "print(resampled_steps_per_epoch)"
   ]
  },
  {
   "cell_type": "code",
   "execution_count": 8,
   "metadata": {
    "pycharm": {
     "is_executing": false,
     "name": "#%%\n"
    }
   },
   "outputs": [],
   "source": [
    "METRICS = [\n",
    "    tf.keras.metrics.TruePositives(name='tp'),\n",
    "    tf.keras.metrics.FalsePositives(name='fp'),\n",
    "    tf.keras.metrics.TrueNegatives(name='tn'),\n",
    "    tf.keras.metrics.FalseNegatives(name='fn'),\n",
    "    tf.keras.metrics.BinaryAccuracy(name='accuracy'),\n",
    "    tf.keras.metrics.Precision(name='precision'),\n",
    "    tf.keras.metrics.Recall(name='recall'),\n",
    "    tf.keras.metrics.AUC(name='auc'),\n",
    "]\n",
    "\n",
    "\n",
    "early_stopping = tf.keras.callbacks.EarlyStopping(monitor='val_auc', \n",
    "                                                  verbose=1,\n",
    "                                                  patience=10,\n",
    "                                                  mode='max',\n",
    "                                                  restore_best_weights=True)\n",
    "\n"
   ]
  },
  {
   "cell_type": "code",
   "execution_count": 9,
   "metadata": {
    "pycharm": {
     "is_executing": false,
     "name": "#%%\n"
    }
   },
   "outputs": [
    {
     "name": "stdout",
     "output_type": "stream",
     "text": [
      "[-2.53560092]\n"
     ]
    }
   ],
   "source": [
    "n_features = X_train.shape[1]\n",
    "\n",
    "initial_bias = np.log([pos/neg])\n",
    "print(initial_bias)"
   ]
  },
  {
   "cell_type": "code",
   "execution_count": 10,
   "metadata": {
    "pycharm": {
     "is_executing": true,
     "name": "#%% Resampled\n"
    }
   },
   "outputs": [
    {
     "name": "stdout",
     "output_type": "stream",
     "text": [
      "Built NN...\n",
      "Model: \"sequential_1\"\n",
      "_________________________________________________________________\n",
      "Layer (type)                 Output Shape              Param #   \n",
      "=================================================================\n",
      "dense_1 (Dense)              (None, 1024)              13312     \n",
      "_________________________________________________________________\n",
      "dropout_1 (Dropout)          (None, 1024)              0         \n",
      "_________________________________________________________________\n",
      "dense_2 (Dense)              (None, 1024)              1049600   \n",
      "_________________________________________________________________\n",
      "dropout_2 (Dropout)          (None, 1024)              0         \n",
      "_________________________________________________________________\n",
      "dense_3 (Dense)              (None, 1024)              1049600   \n",
      "_________________________________________________________________\n",
      "dropout_3 (Dropout)          (None, 1024)              0         \n",
      "_________________________________________________________________\n",
      "dense_4 (Dense)              (None, 1024)              1049600   \n",
      "_________________________________________________________________\n",
      "dropout_4 (Dropout)          (None, 1024)              0         \n",
      "_________________________________________________________________\n",
      "dense_5 (Dense)              (None, 1)                 1025      \n",
      "=================================================================\n",
      "Total params: 3,163,137\n",
      "Trainable params: 3,163,137\n",
      "Non-trainable params: 0\n",
      "_________________________________________________________________\n",
      "Compiled NN...\n",
      "Train on 1795995 samples, validate on 448999 samples\n",
      "Epoch 1/100\n",
      "1795995/1795995 [==============================] - 710s 395us/step - loss: 0.6715 - tp: 18465.1934 - fp: 30776.4473 - tn: 531115.5625 - fn: 318714.5312 - accuracy: 0.6018 - precision: 0.3750 - recall: 0.0929 - auc: 0.5010 - val_loss: 0.9566 - val_tp: 19802.0000 - val_fp: 33009.0000 - val_tn: 1089488.0000 - val_fn: 879992.8750 - val_accuracy: 0.5508 - val_precision: 0.3750 - val_recall: 0.0225 - val_auc: 0.5294\n",
      "Epoch 2/100\n",
      "1795995/1795995 [==============================] - 706s 393us/step - loss: 0.6621 - tp: 19802.0000 - fp: 33008.5781 - tn: 1651757.2500 - fn: 1439498.2500 - accuracy: 0.5290 - precision: 0.3750 - recall: 0.0138 - auc: 0.5455 - val_loss: 0.9531 - val_tp: 19802.0000 - val_fp: 33009.0000 - val_tn: 2211991.2500 - val_fn: 2002489.0000 - val_accuracy: 0.5235 - val_precision: 0.3750 - val_recall: 0.0098 - val_auc: 0.5515\n",
      "Epoch 3/100\n",
      "1795995/1795995 [==============================] - 709s 395us/step - loss: 0.6621 - tp: 19802.0000 - fp: 33008.5781 - tn: 2773955.0000 - fn: 2562297.5000 - accuracy: 0.5174 - precision: 0.3750 - recall: 0.0077 - auc: 0.5566 - val_loss: 0.9455 - val_tp: 19802.0000 - val_fp: 33009.0000 - val_tn: 3334481.7500 - val_fn: 3124985.2500 - val_accuracy: 0.5153 - val_precision: 0.3750 - val_recall: 0.0063 - val_auc: 0.5665\n",
      "Epoch 4/100\n",
      "1795995/1795995 [==============================] - 733s 408us/step - loss: 0.6593 - tp: 21852.7754 - fp: 34638.5820 - tn: 3894902.0000 - fn: 3682668.2500 - accuracy: 0.5125 - precision: 0.3846 - recall: 0.0059 - auc: 0.5751 - val_loss: 0.9787 - val_tp: 49532.2188 - val_fp: 44111.0000 - val_tn: 4445884.5000 - val_fn: 4217754.0000 - val_accuracy: 0.5134 - val_precision: 0.5248 - val_recall: 0.0116 - val_auc: 0.5619\n",
      "Epoch 5/100\n",
      "1795995/1795995 [==============================] - 701s 390us/step - loss: 0.6547 - tp: 92840.1484 - fp: 63738.9023 - tn: 4988259.5000 - fn: 4734210.5000 - accuracy: 0.5140 - precision: 0.5930 - recall: 0.0191 - auc: 0.5554 - val_loss: 0.9324 - val_tp: 153546.3594 - val_fp: 84862.0000 - val_tn: 5527624.0000 - val_fn: 5236236.0000 - val_accuracy: 0.5164 - val_precision: 0.6422 - val_recall: 0.0284 - val_auc: 0.5582\n",
      "Epoch 6/100\n",
      "1795995/1795995 [==============================] - 654s 364us/step - loss: 0.6535 - tp: 218016.5312 - fp: 109663.2344 - tn: 6064704.0000 - fn: 5731654.5000 - accuracy: 0.5180 - precision: 0.6663 - recall: 0.0366 - auc: 0.5607 - val_loss: 0.9736 - val_tp: 283841.8438 - val_fp: 134974.0000 - val_tn: 6600017.5000 - val_fn: 6228440.5000 - val_accuracy: 0.5197 - val_precision: 0.6772 - val_recall: 0.0436 - val_auc: 0.5588\n",
      "Epoch 7/100\n",
      "1795995/1795995 [==============================] - 469s 261us/step - loss: 0.6522 - tp: 350842.9375 - fp: 161891.4688 - tn: 7135396.0000 - fn: 6720905.0000 - accuracy: 0.5208 - precision: 0.6848 - recall: 0.0496 - auc: 0.5571 - val_loss: 0.9090 - val_tp: 420105.2812 - val_fp: 189998.4062 - val_tn: 7667466.0000 - val_fn: 7214674.0000 - val_accuracy: 0.5221 - val_precision: 0.6883 - val_recall: 0.0550 - val_auc: 0.5624\n",
      "Epoch 8/100\n",
      "1795995/1795995 [==============================] - 467s 260us/step - loss: 0.6505 - tp: 490350.4062 - fp: 219102.7188 - tn: 8200219.5000 - fn: 7704353.5000 - accuracy: 0.5230 - precision: 0.6915 - recall: 0.0598 - auc: 0.5670 - val_loss: 0.9414 - val_tp: 560784.0625 - val_fp: 248272.3125 - val_tn: 8731682.0000 - val_fn: 8196490.0000 - val_accuracy: 0.5239 - val_precision: 0.6930 - val_recall: 0.0640 - val_auc: 0.5675\n",
      "Epoch 9/100\n",
      "1795995/1795995 [==============================] - 469s 261us/step - loss: 0.6496 - tp: 631091.0000 - fp: 277775.5000 - tn: 9264476.0000 - fn: 8685681.0000 - accuracy: 0.5246 - precision: 0.6946 - recall: 0.0677 - auc: 0.5681 - val_loss: 0.9541 - val_tp: 702572.0000 - val_fp: 307207.7500 - val_tn: 9795297.0000 - val_fn: 9177198.0000 - val_accuracy: 0.5254 - val_precision: 0.6957 - val_recall: 0.0711 - val_auc: 0.5677\n",
      "Epoch 10/100\n",
      "1795995/1795995 [==============================] - 470s 262us/step - loss: 0.6490 - tp: 773478.6250 - fp: 336847.6250 - tn: 10327469.0000 - fn: 9666226.0000 - accuracy: 0.5259 - precision: 0.6968 - recall: 0.0741 - auc: 0.5673 - val_loss: 0.9591 - val_tp: 845092.5625 - val_fp: 366388.8750 - val_tn: 10858588.0000 - val_fn: 10157178.0000 - val_accuracy: 0.5266 - val_precision: 0.6975 - val_recall: 0.0768 - val_auc: 0.5667\n",
      "Epoch 11/100\n",
      "1795995/1795995 [==============================] - 468s 261us/step - loss: 0.6487 - tp: 916335.0000 - fp: 396095.0625 - tn: 11390971.0000 - fn: 10645616.0000 - accuracy: 0.5270 - precision: 0.6983 - recall: 0.0792 - auc: 0.5662 - val_loss: 0.9503 - val_tp: 987978.7500 - val_fp: 425759.8125 - val_tn: 11921685.0000 - val_fn: 11136782.0000 - val_accuracy: 0.5275 - val_precision: 0.6988 - val_recall: 0.0815 - val_auc: 0.5659\n",
      "Epoch 12/100\n",
      "1795995/1795995 [==============================] - 469s 261us/step - loss: 0.6485 - tp: 1059194.0000 - fp: 455491.4375 - tn: 12453855.0000 - fn: 11625470.0000 - accuracy: 0.5279 - precision: 0.6994 - recall: 0.0835 - auc: 0.5656 - val_loss: 0.9501 - val_tp: 1131141.6250 - val_fp: 485333.6250 - val_tn: 12984599.0000 - val_fn: 12116122.0000 - val_accuracy: 0.5283 - val_precision: 0.6997 - val_recall: 0.0854 - val_auc: 0.5656\n",
      "Epoch 13/100\n",
      "1795995/1795995 [==============================] - 467s 260us/step - loss: 0.6482 - tp: 1202579.3750 - fp: 514917.9688 - tn: 13516782.0000 - fn: 12604723.0000 - accuracy: 0.5287 - precision: 0.7003 - recall: 0.0871 - auc: 0.5654 - val_loss: 0.9563 - val_tp: 1273951.2500 - val_fp: 544183.4375 - val_tn: 14048261.0000 - val_fn: 13095808.0000 - val_accuracy: 0.5290 - val_precision: 0.7007 - val_recall: 0.0887 - val_auc: 0.5655\n",
      "Epoch 14/100\n",
      "1795995/1795995 [==============================] - 469s 261us/step - loss: 0.6480 - tp: 1345089.3750 - fp: 573731.4375 - tn: 14580834.0000 - fn: 13584336.0000 - accuracy: 0.5293 - precision: 0.7011 - recall: 0.0901 - auc: 0.5656 - val_loss: 0.9693 - val_tp: 1416949.3750 - val_fp: 603496.0000 - val_tn: 15111440.0000 - val_fn: 14075306.0000 - val_accuracy: 0.5296 - val_precision: 0.7013 - val_recall: 0.0915 - val_auc: 0.5647\n",
      "Epoch 15/100\n",
      "1795995/1795995 [==============================] - 468s 260us/step - loss: 0.6478 - tp: 1487893.7500 - fp: 633043.2500 - tn: 15643764.0000 - fn: 14564285.0000 - accuracy: 0.5299 - precision: 0.7016 - recall: 0.0927 - auc: 0.5640 - val_loss: 0.9513 - val_tp: 1560161.5000 - val_fp: 662734.2500 - val_tn: 16174771.0000 - val_fn: 15054586.0000 - val_accuracy: 0.5302 - val_precision: 0.7018 - val_recall: 0.0939 - val_auc: 0.5640\n",
      "Epoch 16/100\n",
      "1795995/1795995 [==============================] - 468s 260us/step - loss: 0.6475 - tp: 1774771.1250 - fp: 751130.0625 - tn: 17770492.0000 - fn: 16522594.0000 - accuracy: 0.5308 - precision: 0.7027 - recall: 0.0970 - auc: 0.5641 - val_loss: 0.9537 - val_tp: 1846883.7500 - val_fp: 780811.1875 - val_tn: 18301678.0000 - val_fn: 17012874.0000 - val_accuracy: 0.5310 - val_precision: 0.7028 - val_recall: 0.0979 - val_auc: 0.5643\n",
      "Epoch 18/100\n",
      "1795995/1795995 [==============================] - 468s 260us/step - loss: 0.6474 - tp: 2061506.8750 - fp: 869316.8750 - tn: 19897588.0000 - fn: 18480572.0000 - accuracy: 0.5316 - precision: 0.7034 - recall: 0.1004 - auc: 0.5641 - val_loss: 0.9501 - val_tp: 2133602.0000 - val_fp: 898894.6875 - val_tn: 20428556.0000 - val_fn: 18971164.0000 - val_accuracy: 0.5317 - val_precision: 0.7036 - val_recall: 0.1011 - val_auc: 0.5642\n",
      "Restoring model weights from the end of the best epoch.\n",
      "Epoch 00019: early stopping\n"
     ]
    }
   ],
   "source": [
    "\n",
    "resampled_model = keras.Sequential()\n",
    "resampled_model.add(keras.layers.Dense(1024,activation='sigmoid',input_shape=(n_features,)))\n",
    "resampled_model.add(keras.layers.Dropout(0.5))\n",
    "resampled_model.add(keras.layers.Dense(1024,activation='sigmoid'))\n",
    "resampled_model.add(keras.layers.Dropout(0.5))\n",
    "resampled_model.add(keras.layers.Dense(1024,activation='sigmoid'))\n",
    "resampled_model.add(keras.layers.Dropout(0.5))\n",
    "resampled_model.add(keras.layers.Dense(1024,activation='sigmoid'))\n",
    "resampled_model.add(keras.layers.Dropout(0.5))\n",
    "resampled_model.add(keras.layers.Dense(1,activation='sigmoid'))\n",
    "print('Built NN...')\n",
    "resampled_model.compile(optimizer=keras.optimizers.Adam(lr=1e-3),loss=keras.losses.BinaryCrossentropy(),metrics=METRICS)\n",
    "resampled_model.summary()\n",
    "print('Compiled NN...')\n",
    "\n",
    "initial_weights = os.path.join(tempfile.mkdtemp(),'initial_weights')\n",
    "resampled_model.save_weights(initial_weights)\n",
    "\n",
    "resampled_model.load_weights(initial_weights)\n",
    "output_layer = resampled_model.layers[-1] \n",
    "output_layer.bias.assign([0])\n",
    "\n",
    "resampled_history = resampled_model.fit(X_train_smote,\n",
    "                                        y_train_smote,\n",
    "                                        batch_size=BATCH_SIZE,\n",
    "                                        epochs=EPOCHS,\n",
    "                                        callbacks = [early_stopping],\n",
    "                                        validation_split=0.2\n",
    "                                        )"
   ]
  },
  {
   "cell_type": "code",
   "execution_count": 11,
   "metadata": {
    "pycharm": {
     "is_executing": true,
     "name": "#%% USING test_smote\n"
    }
   },
   "outputs": [
    {
     "data": {
      "image/png": "[encoded data removed]",
      "text/plain": [
       "<Figure size 432x288 with 4 Axes>"
      ]
     },
     "metadata": {
      "needs_background": "light"
     },
     "output_type": "display_data"
    }
   ],
   "source": [
    "plot_metrics(resampled_history)\n",
    "plt.show()"
   ]
  },
  {
   "cell_type": "code",
   "execution_count": 12,
   "metadata": {
    "pycharm": {
     "is_executing": true,
     "name": "#%%\n"
    }
   },
   "outputs": [],
   "source": [
    "train_predictions_resampled = resampled_model.predict(X_train_smote, batch_size=BATCH_SIZE)\n",
    "test_predictions_resampled = resampled_model.predict(X_test_smote, batch_size=BATCH_SIZE)"
   ]
  },
  {
   "cell_type": "code",
   "execution_count": 13,
   "metadata": {
    "pycharm": {
     "is_executing": true,
     "name": "#%%\n"
    }
   },
   "outputs": [
    {
     "name": "stdout",
     "output_type": "stream",
     "text": [
      "608698/608698 [==============================] - 33s 55us/step\n"
     ]
    }
   ],
   "source": [
    "resampled_results = resampled_model.evaluate(X_test_smote,\n",
    "                                             y_test_smote,\n",
    "                                             batch_size=BATCH_SIZE, \n",
    "                                             verbose=1)"
   ]
  },
  {
   "cell_type": "code",
   "execution_count": 14,
   "metadata": {
    "pycharm": {
     "is_executing": true,
     "name": "#%%\n"
    }
   },
   "outputs": [
    {
     "name": "stdout",
     "output_type": "stream",
     "text": [
      "loss :  0.7262066666630089\n",
      "tp :  2168927.25\n",
      "fp :  907137.625\n",
      "tn :  20647904.0\n",
      "fn :  19237138.0\n",
      "accuracy :  0.5311059951782227\n",
      "precision :  0.7050992250442505\n",
      "recall :  0.10132355988025665\n",
      "auc :  0.5640220046043396\n",
      "\n",
      "Legitimate Transactions Detected (True Negatives):  291543\n",
      "Legitimate Transactions Incorrectly Detected (False Positives):  12806\n",
      "Fraudulent Transactions Missed (False Negatives):  282353\n",
      "Fraudulent Transactions Detected (True Positives):  21996\n",
      "Total Fraudulent Transactions:  304349\n"
     ]
    },
    {
     "data": {
      "image/png": "[encoded data removed]",
      "text/plain": [
       "<Figure size 360x360 with 2 Axes>"
      ]
     },
     "metadata": {
      "needs_background": "light"
     },
     "output_type": "display_data"
    }
   ],
   "source": [
    "for name, value in zip(resampled_model.metrics_names, resampled_results):\n",
    "  print(name, ': ', value)\n",
    "print()\n",
    "\n",
    "plot_cm(y_test_smote, test_predictions_resampled)\n",
    "\n",
    "\n"
   ]
  },
  {
   "cell_type": "code",
   "execution_count": 15,
   "metadata": {
    "pycharm": {
     "is_executing": true,
     "name": "#%%\n"
    }
   },
   "outputs": [
    {
     "data": {
      "text/plain": [
       "<matplotlib.legend.Legend at 0x1cc00c9a648>"
      ]
     },
     "execution_count": 15,
     "metadata": {},
     "output_type": "execute_result"
    },
    {
     "data": {
      "image/png": "[encoded data removed]",
      "text/plain": [
       "<Figure size 432x288 with 1 Axes>"
      ]
     },
     "metadata": {
      "needs_background": "light"
     },
     "output_type": "display_data"
    }
   ],
   "source": [
    "\n",
    "\n",
    "plot_roc(\"Train Resampled Smote\", y_train_smote, train_predictions_resampled,  color=colors[2])\n",
    "plot_roc(\"Test Resampled Smote\", y_test_smote, test_predictions_resampled,  color=colors[2], linestyle='--')\n",
    "\n",
    "plt.legend(loc='lower right')\n"
   ]
  }
 ],
 "metadata": {
  "kernelspec": {
   "display_name": "Python 3",
   "language": "python",
   "name": "python3"
  },
  "language_info": {
   "codemirror_mode": {
    "name": "ipython",
    "version": 3
   },
   "file_extension": ".py",
   "mimetype": "text/x-python",
   "name": "python",
   "nbconvert_exporter": "python",
   "pygments_lexer": "ipython3",
   "version": "3.7.5"
  },
  "pycharm": {
   "stem_cell": {
    "cell_type": "raw",
    "metadata": {
     "collapsed": false
    },
    "source": []
   }
  }
 },
 "nbformat": 4,
 "nbformat_minor": 1
}
