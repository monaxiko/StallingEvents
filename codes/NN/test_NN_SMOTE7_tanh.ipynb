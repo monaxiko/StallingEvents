{
 "cells": [
  {
   "cell_type": "code",
   "execution_count": 1,
   "metadata": {
    "pycharm": {
     "is_executing": false,
     "name": "#%% IMPORT SECTION\n"
    }
   },
   "outputs": [
    {
     "name": "stderr",
     "output_type": "stream",
     "text": [
      "Using TensorFlow backend.\n"
     ]
    }
   ],
   "source": [
    "import numpy as np\n",
    "import pandas as pd\n",
    "import matplotlib.pyplot as plt\n",
    "import seaborn as sns\n",
    "import sklearn.metrics as metrics\n",
    "import os\n",
    "import tempfile \n",
    "\n",
    "\n",
    "from sklearn import preprocessing\n",
    "from sklearn.utils.class_weight import compute_class_weight\n",
    "from sklearn.metrics import roc_auc_score, classification_report\n",
    "from collections import Counter\n",
    "\n",
    "from imblearn.over_sampling import SMOTE\n",
    "\n",
    "import tensorflow as tf\n",
    "import keras\n",
    "\n",
    "\n",
    "import warnings\n",
    "warnings.filterwarnings(\"ignore\")\n",
    "colors = np.array(['#0101DF','#DF0101','#01DF01','#DFDFDF'])\n",
    "\n",
    "rs = 42\n",
    "def compute_metrics (y_te2,y_p,string):\n",
    "    print('\\n %s'%string)\n",
    "    print('CONFUSION MATRIX')\n",
    "    print(metrics.confusion_matrix(y_te2,y_p))\n",
    "    print(classification_report(y_te2, y_p))\n",
    "    print('\\nROC CURVE: %2.2f'%roc_auc_score(y_te2,y_p))\n",
    "\n",
    "def Ratio10(y,string):\n",
    "    suma = Counter(y)[0]+Counter(y)[1]\n",
    "    print('\\n'+string)  \n",
    "    print(Counter(y))\n",
    "    print('0: %3.2f%%\\n1: %3.2f%%' % (100*Counter(y)[0]/suma,100*Counter(y)[1]/suma))\n",
    "\n",
    "def histo(data,var):\n",
    "    fig=plt.figure()\n",
    "    sns.countplot(var,data=data,palette=colors)\n",
    "    plt.title('0/1 Distribution (0: No Stalling || 1: Stalling Event',fontsize=14)\n",
    "    plt.show()\n",
    "    \n",
    "def plot_loss(history, label, n):\n",
    "    # Use a log scale to show the wide range of values.\n",
    "    plt.semilogy(history.epoch,  \n",
    "                 history.history['loss'],\n",
    "                 color=colors[n], \n",
    "                 label='Train '+label\n",
    "                 )\n",
    "    plt.semilogy(history.epoch,\n",
    "                 history.history['val_loss'],\n",
    "                 color=colors[n], \n",
    "                 label='Val '+label,\n",
    "                 linestyle=\"--\")\n",
    "    plt.xlabel('Epoch')\n",
    "    plt.ylabel('Loss')\n",
    "    plt.legend()\n",
    "\n",
    "def plot_metrics(history):\n",
    "    metrics =  ['loss', 'auc', 'precision', 'recall']\n",
    "    for n, metric in enumerate(metrics):\n",
    "        name = metric.replace(\"_\",\" \").capitalize()\n",
    "        plt.subplot(2,2,n+1)\n",
    "        plt.plot(history.epoch,  history.history[metric], color=colors[0], label='Train')\n",
    "        plt.plot(history.epoch, history.history['val_'+metric],\n",
    "             color=colors[0], linestyle=\"--\", label='Val')\n",
    "        plt.xlabel('Epoch')\n",
    "        plt.ylabel(name)\n",
    "        if metric == 'loss':\n",
    "            plt.ylim([0, plt.ylim()[1]])\n",
    "        elif metric == 'auc':\n",
    "            plt.ylim([0.5,1])\n",
    "        else:\n",
    "            plt.ylim([0,1])\n",
    "\n",
    "    plt.legend()\n",
    "\n",
    "def plot_cm(labels, predictions, p=0.5):\n",
    "  cm = metrics.confusion_matrix(labels, predictions > p)\n",
    "  plt.figure(figsize=(5,5))\n",
    "  sns.heatmap(cm, annot=True, fmt=\"d\")\n",
    "  plt.title('Confusion matrix @{:.2f}'.format(p))\n",
    "  plt.ylabel('Actual label')\n",
    "  plt.xlabel('Predicted label')\n",
    "\n",
    "  print('Legitimate Transactions Detected (True Negatives): ', cm[0][0])\n",
    "  print('Legitimate Transactions Incorrectly Detected (False Positives): ', cm[0][1])\n",
    "  print('Fraudulent Transactions Missed (False Negatives): ', cm[1][0])\n",
    "  print('Fraudulent Transactions Detected (True Positives): ', cm[1][1])\n",
    "  print('Total Fraudulent Transactions: ', np.sum(cm[1]))\n",
    "  \n",
    "\n",
    "def plot_roc(name, labels, predictions, **kwargs):\n",
    "    fp, tp, _ = metrics.roc_curve(labels, predictions)\n",
    "\n",
    "    plt.plot(100*fp, 100*tp, label=name, linewidth=2, **kwargs)\n",
    "    plt.xlabel('False positives [%]')\n",
    "    plt.ylabel('True positives [%]')\n",
    "    plt.xlim([-0.5,100.5])\n",
    "    plt.ylim([-0.5,100.5])\n",
    "    plt.grid(True)\n",
    "    ax = plt.gca()\n",
    "    ax.set_aspect('equal')\n",
    "  "
   ]
  },
  {
   "cell_type": "code",
   "execution_count": 2,
   "metadata": {
    "pycharm": {
     "is_executing": false,
     "name": "#%% LOAD DATASET REMOVING NOISE\n"
    }
   },
   "outputs": [
    {
     "name": "stdout",
     "output_type": "stream",
     "text": [
      "Index(['∆t', 'pkt_len', 'tcp_hea_len', 'tcp_flag_ack', 'tcp_flag_cwr',\n",
      "       'tcp_flag_ecn', 'tcp_flag_urg', 'tcp_flag_psh', 'tcp_flag_rst',\n",
      "       'tcp_flag_syn', 'tcp_flag_fin', 'tcp_win_si2', 'delay', 'capture',\n",
      "       'stalling_event'],\n",
      "      dtype='object')\n",
      "\n",
      "dataset[stalling_event]\n",
      "Counter({0: 1426905, 1: 113031})\n",
      "0: 92.66%\n",
      "1: 7.34%\n"
     ]
    },
    {
     "data": {
      "image/png": "[encoded data removed]",
      "text/plain": [
       "<Figure size 432x288 with 1 Axes>"
      ]
     },
     "metadata": {
      "needs_background": "light"
     },
     "output_type": "display_data"
    }
   ],
   "source": [
    "dataset = pd.read_csv('../../output/df_general.csv', sep=',')\n",
    "split = 0.8\n",
    "del dataset['No.']\n",
    "del dataset['Protocol']\n",
    "del dataset['ip_len']\n",
    "del dataset['prebuffering']\n",
    "del dataset['Time']\n",
    "\n",
    "dataset = dataset.fillna(dataset.mean())\n",
    "neg, pos = np.bincount(dataset['stalling_event'])\n",
    "total = neg + pos\n",
    "weight_for_0 = (1 / neg)*(total)/2.0 \n",
    "weight_for_1 = (1 / pos)*(total)/2.0\n",
    "\n",
    "class_weight = {0: weight_for_0, 1: weight_for_1}\n",
    "\n",
    "print(dataset.columns)\n",
    "Ratio10(dataset['stalling_event'],'dataset[stalling_event]')\n",
    "histo(dataset,'stalling_event')"
   ]
  },
  {
   "cell_type": "code",
   "execution_count": 3,
   "metadata": {
    "pycharm": {
     "is_executing": false,
     "name": "#%% SPLIT TRAIN/TEST\n"
    }
   },
   "outputs": [],
   "source": [
    "from random import randint\n",
    "'''X_train = [None] * (len(dataset.columns)-1)\n",
    "X_test = [None] * (len(dataset.columns)-1)'''\n",
    "\n",
    "X_train = np.array([None]*12)\n",
    "X_test = np.array([None]*12)\n",
    "y_train = list()\n",
    "y_test = list()\n",
    "\n",
    "grouped = dataset.groupby(['delay','capture']) \n",
    "#print(grouped.mean())\n",
    "\n",
    "for id, data in grouped:\n",
    "    spl = int(data.shape[0] * split)\n",
    "    restspl = int(data.shape[0] * (1-split))\n",
    "    randnum = randint(0,restspl)\n",
    "    \n",
    "    X_train = np.vstack((X_train,data.values[randnum:randnum+spl,:-3]))\n",
    "    X_test = np.vstack((X_test,data.values[0:randnum-1,:-3]))\n",
    "    X_test = np.vstack((X_test,data.values[randnum+spl:,:-3]))\n",
    "    \n",
    "    y_train.extend(data.values[randnum:randnum+spl,-1])\n",
    "    y_test.extend(data.values[0:randnum-1,-1])\n",
    "    y_test.extend(data.values[randnum+spl:,-1])\n",
    "\n",
    "X_train = X_train[1:]\n",
    "X_test = X_test[1:]"
   ]
  },
  {
   "cell_type": "code",
   "execution_count": 4,
   "metadata": {
    "pycharm": {
     "is_executing": false,
     "name": "#%%\n"
    }
   },
   "outputs": [],
   "source": [
    "mms = preprocessing.MinMaxScaler()\n",
    "X_train = mms.fit_transform(X_train)\n",
    "X_test = mms.transform(X_test)"
   ]
  },
  {
   "cell_type": "code",
   "execution_count": 5,
   "metadata": {
    "pycharm": {
     "is_executing": false,
     "name": "#%%\n"
    }
   },
   "outputs": [
    {
     "name": "stdout",
     "output_type": "stream",
     "text": [
      "\n",
      "y_test\n",
      "Counter({0: 305700, 1: 2252})\n",
      "0: 99.27%\n",
      "1: 0.73%\n",
      "\n",
      "y_train\n",
      "Counter({0: 1121148, 1: 110776})\n",
      "0: 91.01%\n",
      "1: 8.99%\n"
     ]
    }
   ],
   "source": [
    "y_test = list(map(int,y_test))\n",
    "y_train = list(map(int,y_train))\n",
    "Ratio10(y_test,'y_test')\n",
    "Ratio10(y_train,'y_train')\n",
    "\n",
    "X_train = pd.DataFrame(data=X_train,columns=dataset.columns[:-3])\n",
    "X_test= pd.DataFrame(data=X_test,columns=dataset.columns[:-3])\n",
    "y_train = pd.DataFrame(data=y_train,columns=['y_train'])\n",
    "y_test= pd.DataFrame(data=y_test,columns=['y_test'])\n",
    "del dataset['delay']\n",
    "del dataset['capture']"
   ]
  },
  {
   "cell_type": "code",
   "execution_count": 6,
   "metadata": {
    "pycharm": {
     "is_executing": false,
     "name": "#%%\n"
    }
   },
   "outputs": [],
   "source": [
    "smote = SMOTE(random_state = rs)\n",
    "X_train_smote,y_train_smote = smote.fit_resample(X_train.values,y_train.values)\n",
    "X_test_smote,y_test_smote = smote.fit_resample(X_test.values,y_test.values)"
   ]
  },
  {
   "cell_type": "code",
   "execution_count": 7,
   "metadata": {
    "pycharm": {
     "is_executing": false,
     "name": "#%%\n"
    }
   },
   "outputs": [
    {
     "name": "stdout",
     "output_type": "stream",
     "text": [
      "1394.0\n"
     ]
    }
   ],
   "source": [
    "EPOCHS = 100\n",
    "BATCH_SIZE = 2048\n",
    "\n",
    "resampled_steps_per_epoch = np.ceil(2.0*neg/BATCH_SIZE)\n",
    "print(resampled_steps_per_epoch)"
   ]
  },
  {
   "cell_type": "code",
   "execution_count": 8,
   "metadata": {
    "pycharm": {
     "is_executing": false,
     "name": "#%%\n"
    }
   },
   "outputs": [],
   "source": [
    "METRICS = [\n",
    "    tf.keras.metrics.TruePositives(name='tp'),\n",
    "    tf.keras.metrics.FalsePositives(name='fp'),\n",
    "    tf.keras.metrics.TrueNegatives(name='tn'),\n",
    "    tf.keras.metrics.FalseNegatives(name='fn'),\n",
    "    tf.keras.metrics.BinaryAccuracy(name='accuracy'),\n",
    "    tf.keras.metrics.Precision(name='precision'),\n",
    "    tf.keras.metrics.Recall(name='recall'),\n",
    "    tf.keras.metrics.AUC(name='auc'),\n",
    "]\n",
    "\n",
    "\n",
    "early_stopping = tf.keras.callbacks.EarlyStopping(monitor='val_auc', \n",
    "                                                  verbose=1,\n",
    "                                                  patience=10,\n",
    "                                                  mode='max',\n",
    "                                                  restore_best_weights=True)\n",
    "\n"
   ]
  },
  {
   "cell_type": "code",
   "execution_count": 9,
   "metadata": {
    "pycharm": {
     "is_executing": false,
     "name": "#%%\n"
    }
   },
   "outputs": [
    {
     "name": "stdout",
     "output_type": "stream",
     "text": [
      "[-2.53560092]\n"
     ]
    }
   ],
   "source": [
    "n_features = X_train.shape[1]\n",
    "\n",
    "initial_bias = np.log([pos/neg])\n",
    "print(initial_bias)"
   ]
  },
  {
   "cell_type": "code",
   "execution_count": 10,
   "metadata": {
    "pycharm": {
     "is_executing": true,
     "name": "#%% Resampled\n"
    }
   },
   "outputs": [
    {
     "name": "stdout",
     "output_type": "stream",
     "text": [
      "Built NN...\n",
      "Model: \"sequential_1\"\n",
      "_________________________________________________________________\n",
      "Layer (type)                 Output Shape              Param #   \n",
      "=================================================================\n",
      "dense_1 (Dense)              (None, 1024)              13312     \n",
      "_________________________________________________________________\n",
      "dropout_1 (Dropout)          (None, 1024)              0         \n",
      "_________________________________________________________________\n",
      "dense_2 (Dense)              (None, 1024)              1049600   \n",
      "_________________________________________________________________\n",
      "dropout_2 (Dropout)          (None, 1024)              0         \n",
      "_________________________________________________________________\n",
      "dense_3 (Dense)              (None, 1024)              1049600   \n",
      "_________________________________________________________________\n",
      "dropout_3 (Dropout)          (None, 1024)              0         \n",
      "_________________________________________________________________\n",
      "dense_4 (Dense)              (None, 1)                 1025      \n",
      "=================================================================\n",
      "Total params: 2,113,537\n",
      "Trainable params: 2,113,537\n",
      "Non-trainable params: 0\n",
      "_________________________________________________________________\n",
      "Compiled NN...\n",
      "Train on 1793836 samples, validate on 448460 samples\n",
      "Epoch 1/100\n",
      "1793836/1793836 [==============================] - 644s 359us/step - loss: 0.6588 - tp: 29574.7051 - fp: 25586.5312 - tn: 535674.0000 - fn: 307212.5938 - accuracy: 0.6246 - precision: 0.5195 - recall: 0.1032 - auc: 0.5384 - val_loss: 0.9574 - val_tp: 69649.3828 - val_fp: 43276.0000 - val_tn: 1077872.0000 - val_fn: 828318.6875 - val_accuracy: 0.5704 - val_precision: 0.6145 - val_recall: 0.0778 - val_auc: 0.5531\n",
      "Epoch 2/100\n",
      "1793836/1793836 [==============================] - 658s 367us/step - loss: 0.6544 - tp: 111272.6406 - fp: 60841.6602 - tn: 1622029.0000 - fn: 1346200.2500 - accuracy: 0.5495 - precision: 0.6477 - recall: 0.0762 - auc: 0.5595 - val_loss: 0.9313 - val_tp: 157886.1719 - val_fp: 81564.0000 - val_tn: 2160735.5000 - val_fn: 1861229.0000 - val_accuracy: 0.5445 - val_precision: 0.6589 - val_recall: 0.0782 - val_auc: 0.5659\n",
      "Epoch 3/100\n",
      "1793836/1793836 [==============================] - 544s 303us/step - loss: 0.6532 - tp: 208575.5625 - fp: 105721.8281 - tn: 2697776.5000 - fn: 2370568.7500 - accuracy: 0.5390 - precision: 0.6645 - recall: 0.0807 - auc: 0.5711 - val_loss: 0.9385 - val_tp: 274394.3125 - val_fp: 130222.0000 - val_tn: 3233217.5000 - val_fn: 2865870.0000 - val_accuracy: 0.5395 - val_precision: 0.6776 - val_recall: 0.0873 - val_auc: 0.5727\n",
      "Epoch 4/100\n",
      "1793836/1793836 [==============================] - 505s 282us/step - loss: 0.6529 - tp: 341387.6250 - fp: 155567.1094 - tn: 3769254.5000 - fn: 3358726.5000 - accuracy: 0.5386 - precision: 0.6875 - recall: 0.0922 - auc: 0.5742 - val_loss: 0.9824 - val_tp: 408501.5625 - val_fp: 181132.4219 - val_tn: 4303470.0000 - val_fn: 3852909.5000 - val_accuracy: 0.5388 - val_precision: 0.6925 - val_recall: 0.0958 - val_auc: 0.5686\n",
      "Epoch 5/100\n",
      "1793836/1793836 [==============================] - 505s 282us/step - loss: 0.6526 - tp: 476148.0938 - fp: 207267.2344 - tn: 4838625.5000 - fn: 4345189.5000 - accuracy: 0.5384 - precision: 0.6970 - recall: 0.0987 - auc: 0.5643 - val_loss: 0.8998 - val_tp: 544252.3750 - val_fp: 233568.0000 - val_tn: 5372163.5000 - val_fn: 4838307.0000 - val_accuracy: 0.5385 - val_precision: 0.6996 - val_recall: 0.1011 - val_auc: 0.5717\n",
      "Epoch 6/100\n",
      "1793836/1793836 [==============================] - 500s 279us/step - loss: 0.6524 - tp: 612184.0625 - fp: 260050.0625 - tn: 5906927.0000 - fn: 5330361.5000 - accuracy: 0.5382 - precision: 0.7021 - recall: 0.1030 - auc: 0.5776 - val_loss: 0.9222 - val_tp: 680685.3125 - val_fp: 286958.9375 - val_tn: 6439935.0000 - val_fn: 5823022.0000 - val_accuracy: 0.5382 - val_precision: 0.7034 - val_recall: 0.1047 - val_auc: 0.5802\n",
      "Epoch 7/100\n",
      "1793836/1793836 [==============================] - 353s 197us/step - loss: 0.6519 - tp: 749471.3125 - fp: 314400.8750 - tn: 6973767.5000 - fn: 6314184.5000 - accuracy: 0.5380 - precision: 0.7046 - recall: 0.1061 - auc: 0.5824 - val_loss: 0.9337 - val_tp: 818545.7500 - val_fp: 341795.5938 - val_tn: 7506218.0000 - val_fn: 6806309.0000 - val_accuracy: 0.5381 - val_precision: 0.7054 - val_recall: 0.1073 - val_auc: 0.5835\n",
      "Epoch 8/100\n",
      "1793836/1793836 [==============================] - 337s 188us/step - loss: 0.6516 - tp: 887896.9375 - fp: 369760.7812 - tn: 8039555.5000 - fn: 7296912.5000 - accuracy: 0.5379 - precision: 0.7061 - recall: 0.1085 - auc: 0.5845 - val_loss: 0.8887 - val_tp: 957749.4375 - val_fp: 397779.0625 - val_tn: 8571394.0000 - val_fn: 7788254.0000 - val_accuracy: 0.5379 - val_precision: 0.7065 - val_recall: 0.1095 - val_auc: 0.5876\n",
      "Epoch 9/100\n",
      "1793836/1793836 [==============================] - 337s 188us/step - loss: 0.6511 - tp: 1168559.3750 - fp: 483067.6875 - tn: 10168401.0000 - fn: 9258688.0000 - accuracy: 0.5378 - precision: 0.7076 - recall: 0.1121 - auc: 0.5917 - val_loss: 0.9343 - val_tp: 1239392.0000 - val_fp: 511991.3750 - val_tn: 10699512.0000 - val_fn: 9748910.0000 - val_accuracy: 0.5378 - val_precision: 0.7076 - val_recall: 0.1128 - val_auc: 0.5912\n",
      "Epoch 11/100\n",
      "1793836/1793836 [==============================] - 338s 188us/step - loss: 0.6507 - tp: 1595797.3750 - fp: 658131.0625 - tn: 13356930.0000 - fn: 12194742.0000 - accuracy: 0.5377 - precision: 0.7080 - recall: 0.1157 - auc: 0.5892 - val_loss: 0.9255 - val_tp: 1667653.7500 - val_fp: 687454.3125 - val_tn: 13887483.0000 - val_fn: 12684087.0000 - val_accuracy: 0.5378 - val_precision: 0.7081 - val_recall: 0.1162 - val_auc: 0.5893\n",
      "Epoch 14/100\n",
      "1793836/1793836 [==============================] - 340s 189us/step - loss: 0.6504 - tp: 1739394.3750 - fp: 717084.8125 - tn: 14419138.0000 - fn: 13172279.0000 - accuracy: 0.5377 - precision: 0.7081 - recall: 0.1166 - auc: 0.5893 - val_loss: 0.9735 - val_tp: 1811210.5000 - val_fp: 746597.0625 - val_tn: 14949454.0000 - val_fn: 13661680.0000 - val_accuracy: 0.5377 - val_precision: 0.7081 - val_recall: 0.1171 - val_auc: 0.5877\n",
      "Epoch 15/100\n",
      "1793836/1793836 [==============================] - 336s 187us/step - loss: 0.6500 - tp: 2170459.5000 - fp: 894947.7500 - tn: 17604698.0000 - fn: 16104718.0000 - accuracy: 0.5377 - precision: 0.7081 - recall: 0.1188 - auc: 0.5801 - val_loss: 1.0086 - val_tp: 2242296.5000 - val_fp: 924548.0625 - val_tn: 18135036.0000 - val_fn: 16594038.0000 - val_accuracy: 0.5377 - val_precision: 0.7080 - val_recall: 0.1190 - val_auc: 0.5776\n",
      "Epoch 18/100\n",
      "1793836/1793836 [==============================] - 176s 98us/step - loss: 0.6498 - tp: 2752698.5000 - fp: 1135428.0000 - tn: 21848642.0000 - fn: 20007226.0000 - accuracy: 0.5378 - precision: 0.7080 - recall: 0.1209 - auc: 0.5712 - val_loss: 0.9577 - val_tp: 2825421.5000 - val_fp: 1165601.0000 - val_tn: 22378508.0000 - val_fn: 20495498.0000 - val_accuracy: 0.5378 - val_precision: 0.7079 - val_recall: 0.1212 - val_auc: 0.5712\n",
      "Restoring model weights from the end of the best epoch.\n",
      "Epoch 00021: early stopping\n"
     ]
    }
   ],
   "source": [
    "\n",
    "resampled_model = keras.Sequential()\n",
    "resampled_model.add(keras.layers.Dense(1024,activation='tanh',input_shape=(n_features,)))\n",
    "resampled_model.add(keras.layers.Dropout(0.5))\n",
    "resampled_model.add(keras.layers.Dense(1024,activation='tanh'))\n",
    "resampled_model.add(keras.layers.Dropout(0.5))\n",
    "resampled_model.add(keras.layers.Dense(1024,activation='tanh'))\n",
    "resampled_model.add(keras.layers.Dropout(0.5))\n",
    "resampled_model.add(keras.layers.Dense(1,activation='sigmoid'))\n",
    "print('Built NN...')\n",
    "resampled_model.compile(optimizer=keras.optimizers.Adam(lr=1e-3),loss=keras.losses.BinaryCrossentropy(),metrics=METRICS)\n",
    "resampled_model.summary()\n",
    "print('Compiled NN...')\n",
    "\n",
    "initial_weights = os.path.join(tempfile.mkdtemp(),'initial_weights')\n",
    "resampled_model.save_weights(initial_weights)\n",
    "\n",
    "resampled_model.load_weights(initial_weights)\n",
    "output_layer = resampled_model.layers[-1] \n",
    "output_layer.bias.assign([0])\n",
    "\n",
    "resampled_history = resampled_model.fit(X_train_smote,\n",
    "                                        y_train_smote,\n",
    "                                        batch_size=BATCH_SIZE,\n",
    "                                        epochs=EPOCHS,\n",
    "                                        callbacks = [early_stopping],\n",
    "                                        validation_split=0.2\n",
    "                                        )"
   ]
  },
  {
   "cell_type": "code",
   "execution_count": 11,
   "metadata": {
    "pycharm": {
     "is_executing": true,
     "name": "#%% USING test_smote\n"
    }
   },
   "outputs": [
    {
     "data": {
      "image/png": "[encoded data removed]",
      "text/plain": [
       "<Figure size 432x288 with 4 Axes>"
      ]
     },
     "metadata": {
      "needs_background": "light"
     },
     "output_type": "display_data"
    }
   ],
   "source": [
    "plot_metrics(resampled_history)\n",
    "plt.show()"
   ]
  },
  {
   "cell_type": "code",
   "execution_count": 12,
   "metadata": {
    "pycharm": {
     "is_executing": true,
     "name": "#%%\n"
    }
   },
   "outputs": [],
   "source": [
    "train_predictions_resampled = resampled_model.predict(X_train_smote, batch_size=BATCH_SIZE)\n",
    "test_predictions_resampled = resampled_model.predict(X_test_smote, batch_size=BATCH_SIZE)"
   ]
  },
  {
   "cell_type": "code",
   "execution_count": 13,
   "metadata": {
    "pycharm": {
     "is_executing": true,
     "name": "#%%\n"
    }
   },
   "outputs": [
    {
     "name": "stdout",
     "output_type": "stream",
     "text": [
      "611400/611400 [==============================] - 12s 20us/step\n"
     ]
    }
   ],
   "source": [
    "resampled_results = resampled_model.evaluate(X_test_smote,\n",
    "                                             y_test_smote,\n",
    "                                             batch_size=BATCH_SIZE, \n",
    "                                             verbose=1)"
   ]
  },
  {
   "cell_type": "code",
   "execution_count": 14,
   "metadata": {
    "pycharm": {
     "is_executing": true,
     "name": "#%%\n"
    }
   },
   "outputs": [
    {
     "name": "stdout",
     "output_type": "stream",
     "text": [
      "loss :  0.7020545454753705\n",
      "tp :  2865515.75\n",
      "fp :  1174152.375\n",
      "tn :  22599166.0\n",
      "fn :  20756576.0\n",
      "accuracy :  0.5372776389122009\n",
      "precision :  0.7093442678451538\n",
      "recall :  0.12130624055862427\n",
      "auc :  0.570114016532898\n",
      "\n",
      "Legitimate Transactions Detected (True Negatives):  291827\n",
      "Legitimate Transactions Incorrectly Detected (False Positives):  13873\n",
      "Fraudulent Transactions Missed (False Negatives):  264509\n",
      "Fraudulent Transactions Detected (True Positives):  41191\n",
      "Total Fraudulent Transactions:  305700\n"
     ]
    },
    {
     "data": {
      "image/png": "[encoded data removed]",
      "text/plain": [
       "<Figure size 360x360 with 2 Axes>"
      ]
     },
     "metadata": {
      "needs_background": "light"
     },
     "output_type": "display_data"
    }
   ],
   "source": [
    "for name, value in zip(resampled_model.metrics_names, resampled_results):\n",
    "  print(name, ': ', value)\n",
    "print()\n",
    "\n",
    "plot_cm(y_test_smote, test_predictions_resampled)"
   ]
  },
  {
   "cell_type": "code",
   "execution_count": 15,
   "metadata": {
    "pycharm": {
     "is_executing": true,
     "name": "#%%\n"
    }
   },
   "outputs": [
    {
     "data": {
      "text/plain": [
       "<matplotlib.legend.Legend at 0x17ab5798c88>"
      ]
     },
     "execution_count": 15,
     "metadata": {},
     "output_type": "execute_result"
    },
    {
     "data": {
      "image/png": "[encoded data removed]",
      "text/plain": [
       "<Figure size 432x288 with 1 Axes>"
      ]
     },
     "metadata": {
      "needs_background": "light"
     },
     "output_type": "display_data"
    }
   ],
   "source": [
    "\n",
    "\n",
    "\n",
    "\n",
    "\n",
    "plot_roc(\"Train Resampled Smote\", y_train_smote, train_predictions_resampled,  color=colors[2])\n",
    "plot_roc(\"Test Resampled Smote\", y_test_smote, test_predictions_resampled,  color=colors[2], linestyle='--')\n",
    "\n",
    "plt.legend(loc='lower right')\n"
   ]
  }
 ],
 "metadata": {
  "kernelspec": {
   "display_name": "Python 3",
   "language": "python",
   "name": "python3"
  },
  "language_info": {
   "codemirror_mode": {
    "name": "ipython",
    "version": 3
   },
   "file_extension": ".py",
   "mimetype": "text/x-python",
   "name": "python",
   "nbconvert_exporter": "python",
   "pygments_lexer": "ipython3",
   "version": "3.7.5"
  },
  "pycharm": {
   "stem_cell": {
    "cell_type": "raw",
    "metadata": {
     "collapsed": false
    },
    "source": []
   }
  }
 },
 "nbformat": 4,
 "nbformat_minor": 1
}
