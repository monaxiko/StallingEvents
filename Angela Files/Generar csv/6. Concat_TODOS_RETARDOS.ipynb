{
 "cells": [
  {
   "cell_type": "code",
   "execution_count": 1,
   "metadata": {},
   "outputs": [],
   "source": [
    "import pandas as pd\n",
    "import glob"
   ]
  },
  {
   "cell_type": "code",
   "execution_count": 2,
   "metadata": {},
   "outputs": [],
   "source": [
    "#CUIDADO CON LOS CSV QUE HAYA EN LA CARPETA EN EL MOMENTO DE EJECUTAR\n",
    "df1= pd.read_csv('ALL_CONCAT_CLIENTE_M_D0_2.csv')\n",
    "df2= pd.read_csv('ALL_CONCAT_CLIENTE_M_D25_2.csv')\n",
    "df3= pd.read_csv('ALL_CONCAT_CLIENTE_M_D75_2.csv')\n",
    "df4= pd.read_csv('ALL_CONCAT_CLIENTE_M_D100_2.csv')\n",
    "df5= pd.read_csv('ALL_CONCAT_CLIENTE_M_D125_2.csv')\n",
    "df6= pd.read_csv('ALL_CONCAT_CLIENTE_M_D150_2.csv')\n",
    "\n",
    "df = pd.concat([df1, df2, df3, df4, df5, df6])\n",
    "df.to_csv('ALL_CONCAT_CLIENTE_M_C.csv', index=False)"
   ]
  },
  {
   "cell_type": "code",
   "execution_count": null,
   "metadata": {},
   "outputs": [],
   "source": []
  }
 ],
 "metadata": {
  "kernelspec": {
   "display_name": "Python 3",
   "language": "python",
   "name": "python3"
  },
  "language_info": {
   "codemirror_mode": {
    "name": "ipython",
    "version": 3
   },
   "file_extension": ".py",
   "mimetype": "text/x-python",
   "name": "python",
   "nbconvert_exporter": "python",
   "pygments_lexer": "ipython3",
   "version": "3.7.0"
  }
 },
 "nbformat": 4,
 "nbformat_minor": 2
}
