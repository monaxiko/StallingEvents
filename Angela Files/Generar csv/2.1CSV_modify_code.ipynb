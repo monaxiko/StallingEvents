{
 "cells": [
  {
   "cell_type": "code",
   "execution_count": 145,
   "metadata": {},
   "outputs": [],
   "source": [
    "import pandas as pd\n",
    "#import numpy as np\n",
    "csv_test = pd.read_csv('DASH150_Client_5.csv', delimiter = ',')\n",
    "#csv_test.head()"
   ]
  },
  {
   "cell_type": "code",
   "execution_count": 146,
   "metadata": {},
   "outputs": [],
   "source": [
    "csv_test.rename(columns={'_ws.col.Time' : 'time',\n",
    "                         '_ws.col.Length' : 'pkt_length',\n",
    "                        'ip.flags' : 'ip_flags',\n",
    "                        'ip.len' : 'ip_len',\n",
    "                        'tcp.hdr_len' : 'tcp_hdr_len',\n",
    "                        'tcp.flags' : 'tcp_flags',\n",
    "                        'tcp.window_size_value' : 'tcp_window_size_value',\n",
    "                        'ip.flags.rb' : 'ip_flags_resbit',\n",
    "                        'ip.flags.df' : 'ip_flags_dontfrag',\n",
    "                        'ip.flags.mf' : 'ip_flags_morefrag',\n",
    "                        'tcp.flags.cwr' : 'tcp_flags_cong_window_reduced',\n",
    "                        'tcp.flags.ecn' : 'tcp_flags_explicit_cong_notif',\n",
    "                        'tcp.flags.urg' : 'tcp_flags_urg_pointer',\n",
    "                        'tcp.flags.ack' : 'tcp_flags_ack',\n",
    "                        'tcp.flags.push' : 'tcp_flags_push',\n",
    "                        'tcp.flags.reset' : 'tcp_flags_reset',\n",
    "                        'tcp.flags.syn' : 'tcp_flags_syn',\n",
    "                        'tcp.flags.fin' : 'tcp_flags_fin',\n",
    "                        'ip.frag_offset' : 'ip_frag_offset'}, inplace=True)\n",
    "df = pd.DataFrame(csv_test)\n",
    "df = df.dropna()"
   ]
  },
  {
   "cell_type": "code",
   "execution_count": 147,
   "metadata": {},
   "outputs": [],
   "source": [
    "df['stalling_event'] = 0\n",
    "df.loc[(df.time > 36.5) & (df.time < 209.7), 'stalling_event'] = '1'\n",
    "#df.loc[(df.time > 132.7) & (df.time < 210.1), 'stalling_event'] = '1'"
   ]
  },
  {
   "cell_type": "code",
   "execution_count": 148,
   "metadata": {},
   "outputs": [],
   "source": [
    "export_csv = df.to_csv (r'C:\\Users\\angel\\OneDrive\\Documentos\\Universidad\\Cuarto\\TFG\\CSVs\\Dash\\Cliente\\Finished_CLIENTE\\Dash150_Client_5_ST.csv', index = None, header=True)"
   ]
  },
  {
   "cell_type": "code",
   "execution_count": null,
   "metadata": {},
   "outputs": [],
   "source": []
  }
 ],
 "metadata": {
  "kernelspec": {
   "display_name": "Python 3",
   "language": "python",
   "name": "python3"
  },
  "language_info": {
   "codemirror_mode": {
    "name": "ipython",
    "version": 3
   },
   "file_extension": ".py",
   "mimetype": "text/x-python",
   "name": "python",
   "nbconvert_exporter": "python",
   "pygments_lexer": "ipython3",
   "version": "3.7.0"
  }
 },
 "nbformat": 4,
 "nbformat_minor": 2
}
