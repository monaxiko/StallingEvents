{
 "cells": [
  {
   "cell_type": "code",
   "execution_count": 1,
   "metadata": {},
   "outputs": [],
   "source": [
    "import pandas as pd\n",
    "import glob"
   ]
  },
  {
   "cell_type": "code",
   "execution_count": 2,
   "metadata": {},
   "outputs": [],
   "source": [
    "#CUIDADO CON LOS CSV QUE HAYA EN LA CARPETA EN EL MOMENTO DE EJECUTAR\n",
    "appended_data = []\n",
    "for infile in glob.glob(\"Dash0*.csv\"):\n",
    "    data = pd.read_csv(infile)\n",
    "    # store DataFrame in list\n",
    "    appended_data.append(data)\n",
    "# see pd.concat documentation for more info\n",
    "#appended_data = pd.concat(appended_data)\n",
    "appended_data = pd.concat(appended_data, ignore_index=True)\n",
    "\n",
    "# write DataFrame to an excel sheet \n",
    "#appended_data = appended_data.sort_values(by=['measure'])\n",
    "appended_data.to_csv('ALL_CONCAT_CLIENTE_M_D0_2.csv', index=False)\n",
    "#df = pd.concat([df1, df2, df3, df4, df5, df6, df7, df8])"
   ]
  },
  {
   "cell_type": "code",
   "execution_count": null,
   "metadata": {},
   "outputs": [],
   "source": []
  }
 ],
 "metadata": {
  "kernelspec": {
   "display_name": "Python 3",
   "language": "python",
   "name": "python3"
  },
  "language_info": {
   "codemirror_mode": {
    "name": "ipython",
    "version": 3
   },
   "file_extension": ".py",
   "mimetype": "text/x-python",
   "name": "python",
   "nbconvert_exporter": "python",
   "pygments_lexer": "ipython3",
   "version": "3.7.0"
  }
 },
 "nbformat": 4,
 "nbformat_minor": 2
}
