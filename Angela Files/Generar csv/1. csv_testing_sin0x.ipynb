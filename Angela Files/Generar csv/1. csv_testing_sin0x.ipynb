{
 "cells": [
  {
   "cell_type": "code",
   "execution_count": 5,
   "metadata": {},
   "outputs": [],
   "source": [
    "import pandas as pd\n",
    "#import numpy as np\n",
    "csv_test = pd.read_csv('test1.csv', delimiter = ',')"
   ]
  },
  {
   "cell_type": "code",
   "execution_count": 6,
   "metadata": {},
   "outputs": [],
   "source": [
    "csv_test.rename(columns={'_ws.col.Time' : 'time',\n",
    "                        'ip.flags' : 'ip_flags',\n",
    "                        'ip.len' : 'ip_len',\n",
    "                        'tcp.hdr_len' : 'tcp_hdr_len',\n",
    "                        'tcp.flags' : 'tcp_flags',\n",
    "                        'tcp.window_size_value' : 'tcp_window_size_value'}, inplace=True)\n",
    "df = pd.DataFrame(csv_test)\n",
    "#df.head()"
   ]
  },
  {
   "cell_type": "code",
   "execution_count": 7,
   "metadata": {},
   "outputs": [
    {
     "data": {
      "text/html": [
       "<div>\n",
       "<style scoped>\n",
       "    .dataframe tbody tr th:only-of-type {\n",
       "        vertical-align: middle;\n",
       "    }\n",
       "\n",
       "    .dataframe tbody tr th {\n",
       "        vertical-align: top;\n",
       "    }\n",
       "\n",
       "    .dataframe thead th {\n",
       "        text-align: right;\n",
       "    }\n",
       "</style>\n",
       "<table border=\"1\" class=\"dataframe\">\n",
       "  <thead>\n",
       "    <tr style=\"text-align: right;\">\n",
       "      <th></th>\n",
       "      <th>time</th>\n",
       "      <th>ip_flags</th>\n",
       "      <th>ip_len</th>\n",
       "      <th>tcp_hdr_len</th>\n",
       "      <th>tcp_flags</th>\n",
       "      <th>tcp_window_size_value</th>\n",
       "      <th>stalling_event</th>\n",
       "    </tr>\n",
       "  </thead>\n",
       "  <tbody>\n",
       "    <tr>\n",
       "      <th>0</th>\n",
       "      <td>0.000000</td>\n",
       "      <td>00000000</td>\n",
       "      <td>1089.0</td>\n",
       "      <td>NaN</td>\n",
       "      <td>NaN</td>\n",
       "      <td>NaN</td>\n",
       "      <td>0</td>\n",
       "    </tr>\n",
       "    <tr>\n",
       "      <th>1</th>\n",
       "      <td>0.001252</td>\n",
       "      <td>00000000</td>\n",
       "      <td>1076.0</td>\n",
       "      <td>NaN</td>\n",
       "      <td>NaN</td>\n",
       "      <td>NaN</td>\n",
       "      <td>0</td>\n",
       "    </tr>\n",
       "    <tr>\n",
       "      <th>2</th>\n",
       "      <td>3.313382</td>\n",
       "      <td>00004000</td>\n",
       "      <td>40.0</td>\n",
       "      <td>20.0</td>\n",
       "      <td>00000011</td>\n",
       "      <td>16425.0</td>\n",
       "      <td>0</td>\n",
       "    </tr>\n",
       "    <tr>\n",
       "      <th>3</th>\n",
       "      <td>3.313489</td>\n",
       "      <td>00004000</td>\n",
       "      <td>40.0</td>\n",
       "      <td>20.0</td>\n",
       "      <td>00000010</td>\n",
       "      <td>65000.0</td>\n",
       "      <td>0</td>\n",
       "    </tr>\n",
       "    <tr>\n",
       "      <th>4</th>\n",
       "      <td>3.329486</td>\n",
       "      <td>00004000</td>\n",
       "      <td>52.0</td>\n",
       "      <td>32.0</td>\n",
       "      <td>00000002</td>\n",
       "      <td>8192.0</td>\n",
       "      <td>0</td>\n",
       "    </tr>\n",
       "  </tbody>\n",
       "</table>\n",
       "</div>"
      ],
      "text/plain": [
       "       time  ip_flags  ip_len  tcp_hdr_len tcp_flags  tcp_window_size_value  \\\n",
       "0  0.000000  00000000  1089.0          NaN       NaN                    NaN   \n",
       "1  0.001252  00000000  1076.0          NaN       NaN                    NaN   \n",
       "2  3.313382  00004000    40.0         20.0  00000011                16425.0   \n",
       "3  3.313489  00004000    40.0         20.0  00000010                65000.0   \n",
       "4  3.329486  00004000    52.0         32.0  00000002                 8192.0   \n",
       "\n",
       "  stalling_event  \n",
       "0              0  \n",
       "1              0  \n",
       "2              0  \n",
       "3              0  \n",
       "4              0  "
      ]
     },
     "execution_count": 7,
     "metadata": {},
     "output_type": "execute_result"
    }
   ],
   "source": [
    "df['stalling_event'] = 0\n",
    "df.loc[(df.time > 36.8) & (df.time < 70.8), 'stalling_event'] = '1'\n",
    "df.loc[(df.time > 71.1) & (df.time < 104.7), 'stalling_event'] = '1'\n",
    "df.loc[(df.time > 105) & (df.time < 153.4), 'stalling_event'] = '1'\n",
    "#df.loc[(df.time > 36.5) & (df.time < 38), 'stalling_event'] = '1'\n",
    "#df.loc[(df.time > 36.8) & (df.time < 37.1), 'stalling_event'] = '1'\n",
    "#df.loc[(df.time > 70.8) & (df.time < 104.9), 'stalling_event'] = '1'\n",
    "#df.loc[(df.time > 71.1) & (df.time < 71.3), 'stalling_event'] = '1'\n",
    "#df.loc[(df.time > 104.7) & (df.time < 138.4), 'stalling_event'] = '1'\n",
    "#df.loc[(df.time > 105) & (df.time < 105.2), 'stalling_event'] = '1'\n",
    "#df.loc[(df.time > 153.4) & (df.time < 201.9), 'stalling_event'] = '1'\n",
    "df = df.replace(['0x'], ['' ''], regex=True)\n",
    "df.head()\n"
   ]
  },
  {
   "cell_type": "code",
   "execution_count": 8,
   "metadata": {},
   "outputs": [],
   "source": [
    "export_csv = df.to_csv (r'C:\\Users\\angel\\OneDrive\\Documentos\\Universidad\\Cuarto\\TFG\\full_test_sin0x.csv', index = None, header=True)"
   ]
  },
  {
   "cell_type": "code",
   "execution_count": null,
   "metadata": {},
   "outputs": [],
   "source": []
  }
 ],
 "metadata": {
  "kernelspec": {
   "display_name": "Python 3",
   "language": "python",
   "name": "python3"
  },
  "language_info": {
   "codemirror_mode": {
    "name": "ipython",
    "version": 3
   },
   "file_extension": ".py",
   "mimetype": "text/x-python",
   "name": "python",
   "nbconvert_exporter": "python",
   "pygments_lexer": "ipython3",
   "version": "3.7.0"
  }
 },
 "nbformat": 4,
 "nbformat_minor": 2
}
