{
 "nbformat": 4,
 "nbformat_minor": 0,
 "metadata": {
  "colab": {
   "name": "Copia de Copia de 2o_EMAIL_TFG_AC3.ipynb",
   "provenance": [
    {
     "file_id": "1l6DhfT7wVqrNBHGnVC57Nd29OUYdh5ni",
     "timestamp": 1570792422518
    },
    {
     "file_id": "1ptqRg06oidE9CP3mgs_-mj-_FZX0Oip3",
     "timestamp": 1568928573708
    },
    {
     "file_id": "19eo6HZntYzG7wN74cirXWJOWqrDHseBN",
     "timestamp": 1566559423234
    }
   ],
   "collapsed_sections": [],
   "machine_shape": "hm"
  },
  "kernelspec": {
   "name": "python3",
   "language": "python",
   "display_name": "Python 3"
  },
  "accelerator": "GPU",
  "pycharm": {
   "stem_cell": {
    "cell_type": "raw",
    "source": [],
    "metadata": {
     "collapsed": false
    }
   }
  }
 },
 "cells": [
  {
   "cell_type": "code",
   "metadata": {
    "id": "f8y5hiNarSzI",
    "colab_type": "code",
    "outputId": "5c27f46f-81bc-44e6-ee10-06ae0e8f295c",
    "executionInfo": {
     "status": "ok",
     "timestamp": 1569498554422,
     "user_tz": -120,
     "elapsed": 30651,
     "user": {
      "displayName": "Angela Castellano",
      "photoUrl": "https://lh3.googleusercontent.com/a-/AAuE7mBFIfs0-q_QYX-S3TEKlZCY_k_hy4X1u24dyMqcyw=s64",
      "userId": "16753213890459025122"
     }
    },
    "colab": {
     "base_uri": "https://localhost:8080/",
     "height": 122
    },
    "pycharm": {
     "is_executing": true
    }
   },
   "source": [
    "#RUNNNNNNNNN, he bajao el min lr\n",
    "from google.colab import drive\n",
    "drive.mount('/content/gdrive')"
   ],
   "execution_count": null,
   "outputs": []
  },
  {
   "cell_type": "code",
   "metadata": {
    "id": "w3TJ_NGTxotz",
    "colab_type": "code",
    "colab": {}
   },
   "source": [
    "import random\n",
    "import pandas as pd\n",
    "import numpy as np\n",
    "from sklearn.metrics import classification_report\n",
    "from sklearn.metrics import confusion_matrix\n",
    "import matplotlib.pyplot as plt\n",
    "from keras.constraints import max_norm\n",
    "\n"
   ],
   "execution_count": 0,
   "outputs": []
  },
  {
   "cell_type": "code",
   "metadata": {
    "id": "zowNt068xqfB",
    "colab_type": "code",
    "colab": {}
   },
   "source": [
    "# Añade tu ruta hacia la carpeta que tengas el dataset\n",
    "df = pd.read_csv('./gdrive/My Drive/Colab Notebooks/dataset.csv')"
   ],
   "execution_count": 0,
   "outputs": []
  },
  {
   "cell_type": "code",
   "metadata": {
    "id": "N9OoJMKDxyZ-",
    "colab_type": "code",
    "colab": {}
   },
   "source": [
    "#df = df.drop(columns=['ip_flags_resbit', 'ip_flags_morefrag', 'ip_frag_offset'])\n",
    "#df = df.drop(columns=['tcp_flags_cong_window_reduced','tcp_flags_explicit_cong_notif'])\n",
    "#df = df.drop(columns=['time','tcp_flags_urg_pointer','ip_flags_dontfrag'])\n",
    "#df = df.drop(columns=['tcp_flags_fin','tcp_flags_syn','tcp_hdr_len'])\n",
    "#df = df.drop(columns=['tcp_flags_ack','tcp_flags_push','tcp_flags_reset'])"
   ],
   "execution_count": 0,
   "outputs": []
  },
  {
   "cell_type": "code",
   "metadata": {
    "id": "3PAa3Q3Cx0VD",
    "colab_type": "code",
    "colab": {}
   },
   "source": [
    "df = df.astype(dtype= {\"pkt_length\":np.uint16, 'ip_len':np.uint16, 'tcp_window_size_value':np.uint16,\n",
    "                       'stalling_event':np.uint8, 'measure':np.uint8,\n",
    "                       'capture':np.uint8})"
   ],
   "execution_count": 0,
   "outputs": []
  },
  {
   "cell_type": "code",
   "metadata": {
    "id": "3NcXgi8i3kK2",
    "colab_type": "code",
    "colab": {}
   },
   "source": [
    "##model5\n",
    "df = df.drop(columns=['ip_flags_resbit', 'ip_flags_dontfrag', 'ip_flags_morefrag'])\n",
    "df = df.drop(columns=['ip_frag_offset', 'tcp_flags_cong_window_reduced', 'tcp_flags_explicit_cong_notif'])\n",
    "df = df.drop(columns=['tcp_flags_urg_pointer', 'time' ])\n"
   ],
   "execution_count": 0,
   "outputs": []
  },
  {
   "cell_type": "code",
   "metadata": {
    "id": "4JVcFLFi_-oj",
    "colab_type": "code",
    "outputId": "d338426d-fd96-48fb-cac0-495ac342fc1b",
    "executionInfo": {
     "status": "ok",
     "timestamp": 1569498557195,
     "user_tz": -120,
     "elapsed": 33293,
     "user": {
      "displayName": "Angela Castellano",
      "photoUrl": "https://lh3.googleusercontent.com/a-/AAuE7mBFIfs0-q_QYX-S3TEKlZCY_k_hy4X1u24dyMqcyw=s64",
      "userId": "16753213890459025122"
     }
    },
    "colab": {
     "base_uri": "https://localhost:8080/",
     "height": 85
    }
   },
   "source": [
    "df.columns"
   ],
   "execution_count": 0,
   "outputs": [
    {
     "output_type": "execute_result",
     "data": {
      "text/plain": [
       "Index(['pkt_length', 'ip_len', 'tcp_hdr_len', 'tcp_flags_ack',\n",
       "       'tcp_flags_push', 'tcp_flags_reset', 'tcp_flags_syn', 'tcp_flags_fin',\n",
       "       'tcp_window_size_value', 'stalling_event', 'measure', 'capture'],\n",
       "      dtype='object')"
      ]
     },
     "metadata": {
      "tags": []
     },
     "execution_count": 10
    }
   ]
  },
  {
   "cell_type": "code",
   "metadata": {
    "id": "NDi4gdko3-rX",
    "colab_type": "code",
    "colab": {}
   },
   "source": [
    "df2 = df[['pkt_length', 'tcp_window_size_value']].rolling(8).mean() #add  'ip_len', 'tcp_hdr_len'?"
   ],
   "execution_count": 0,
   "outputs": []
  },
  {
   "cell_type": "code",
   "metadata": {
    "id": "QpQGC3oFKviv",
    "colab_type": "code",
    "colab": {}
   },
   "source": [
    "#df2 = df[['pkt_length', 'tcp_window_size_value']].rolling(1).mean()"
   ],
   "execution_count": 0,
   "outputs": []
  },
  {
   "cell_type": "code",
   "metadata": {
    "id": "DkAjeUYl4ZV1",
    "colab_type": "code",
    "colab": {}
   },
   "source": [
    "\n",
    "#df2['pkt_length_or'] = df.pkt_length.values\n",
    "#df2['tcp_window_size_value_or'] = df.tcp_window_size_value.values\n",
    "#df2['tcp_hdr_len_or'] = df.tcp_hdr_len.values\n",
    "\n",
    "\n",
    "#df2['tcp_flags_ack_or'] = df.tcp_flags_ack.values\n",
    "#df2['tcp_flags_push_or'] = df.tcp_flags_push.values\n",
    "#df2['tcp_flags_reset_or'] = df.tcp_flags_reset.values\n",
    "#df2['tcp_flags_syn_or'] = df.tcp_flags_syn.values\n",
    "#df2['tcp_flags_fin_or'] = df.tcp_flags_fin.values\n",
    "df2['stalling_event'] = df.stalling_event.values\n",
    "df2['measure'] = df.measure.values\n",
    "df2['capture'] = df.capture.values"
   ],
   "execution_count": 0,
   "outputs": []
  },
  {
   "cell_type": "code",
   "metadata": {
    "id": "7YXXuM784a5W",
    "colab_type": "code",
    "colab": {}
   },
   "source": [
    "df3 = df2.dropna()"
   ],
   "execution_count": 0,
   "outputs": []
  },
  {
   "cell_type": "code",
   "metadata": {
    "id": "q95pBysn4fhe",
    "colab_type": "code",
    "outputId": "24805191-8531-4ad4-e5f1-bd12bff53f2a",
    "executionInfo": {
     "status": "ok",
     "timestamp": 1569498557858,
     "user_tz": -120,
     "elapsed": 33829,
     "user": {
      "displayName": "Angela Castellano",
      "photoUrl": "https://lh3.googleusercontent.com/a-/AAuE7mBFIfs0-q_QYX-S3TEKlZCY_k_hy4X1u24dyMqcyw=s64",
      "userId": "16753213890459025122"
     }
    },
    "colab": {
     "base_uri": "https://localhost:8080/",
     "height": 286
    }
   },
   "source": [
    "plt.plot(df3.pkt_length.values[20:100])\n",
    "plt.plot(df.pkt_length.values[20:100], 'g')"
   ],
   "execution_count": 0,
   "outputs": [
    {
     "output_type": "execute_result",
     "data": {
      "text/plain": [
       "[<matplotlib.lines.Line2D at 0x7fd5fe33f7b8>]"
      ]
     },
     "metadata": {
      "tags": []
     },
     "execution_count": 15
    },
    {
     "output_type": "display_data",
     "data": {
      "image/png": "[encoded data removed]",
      "text/plain": [
       "<Figure size 432x288 with 1 Axes>"
      ]
     },
     "metadata": {
      "tags": []
     }
    }
   ]
  },
  {
   "cell_type": "code",
   "metadata": {
    "id": "S9KJAYH8x3Kl",
    "colab_type": "code",
    "outputId": "8713126c-1ae6-4293-c859-40f66c03b237",
    "executionInfo": {
     "status": "ok",
     "timestamp": 1569498557860,
     "user_tz": -120,
     "elapsed": 33800,
     "user": {
      "displayName": "Angela Castellano",
      "photoUrl": "https://lh3.googleusercontent.com/a-/AAuE7mBFIfs0-q_QYX-S3TEKlZCY_k_hy4X1u24dyMqcyw=s64",
      "userId": "16753213890459025122"
     }
    },
    "colab": {
     "base_uri": "https://localhost:8080/",
     "height": 204
    }
   },
   "source": [
    "df3.head()"
   ],
   "execution_count": 0,
   "outputs": [
    {
     "output_type": "execute_result",
     "data": {
      "text/html": [
       "<div>\n",
       "<style scoped>\n",
       "    .dataframe tbody tr th:only-of-type {\n",
       "        vertical-align: middle;\n",
       "    }\n",
       "\n",
       "    .dataframe tbody tr th {\n",
       "        vertical-align: top;\n",
       "    }\n",
       "\n",
       "    .dataframe thead th {\n",
       "        text-align: right;\n",
       "    }\n",
       "</style>\n",
       "<table border=\"1\" class=\"dataframe\">\n",
       "  <thead>\n",
       "    <tr style=\"text-align: right;\">\n",
       "      <th></th>\n",
       "      <th>pkt_length</th>\n",
       "      <th>tcp_window_size_value</th>\n",
       "      <th>stalling_event</th>\n",
       "      <th>measure</th>\n",
       "      <th>capture</th>\n",
       "    </tr>\n",
       "  </thead>\n",
       "  <tbody>\n",
       "    <tr>\n",
       "      <th>7</th>\n",
       "      <td>102.000</td>\n",
       "      <td>17236.875</td>\n",
       "      <td>0</td>\n",
       "      <td>0</td>\n",
       "      <td>5</td>\n",
       "    </tr>\n",
       "    <tr>\n",
       "      <th>8</th>\n",
       "      <td>162.625</td>\n",
       "      <td>24293.625</td>\n",
       "      <td>0</td>\n",
       "      <td>0</td>\n",
       "      <td>5</td>\n",
       "    </tr>\n",
       "    <tr>\n",
       "      <th>9</th>\n",
       "      <td>345.125</td>\n",
       "      <td>32342.750</td>\n",
       "      <td>0</td>\n",
       "      <td>0</td>\n",
       "      <td>5</td>\n",
       "    </tr>\n",
       "    <tr>\n",
       "      <th>10</th>\n",
       "      <td>345.125</td>\n",
       "      <td>32374.750</td>\n",
       "      <td>0</td>\n",
       "      <td>0</td>\n",
       "      <td>5</td>\n",
       "    </tr>\n",
       "    <tr>\n",
       "      <th>11</th>\n",
       "      <td>462.375</td>\n",
       "      <td>32330.500</td>\n",
       "      <td>0</td>\n",
       "      <td>0</td>\n",
       "      <td>5</td>\n",
       "    </tr>\n",
       "  </tbody>\n",
       "</table>\n",
       "</div>"
      ],
      "text/plain": [
       "    pkt_length  tcp_window_size_value  stalling_event  measure  capture\n",
       "7      102.000              17236.875               0        0        5\n",
       "8      162.625              24293.625               0        0        5\n",
       "9      345.125              32342.750               0        0        5\n",
       "10     345.125              32374.750               0        0        5\n",
       "11     462.375              32330.500               0        0        5"
      ]
     },
     "metadata": {
      "tags": []
     },
     "execution_count": 16
    }
   ]
  },
  {
   "cell_type": "code",
   "metadata": {
    "id": "OomoeKA6x3I4",
    "colab_type": "code",
    "colab": {}
   },
   "source": [
    "np.random.seed(42)\n",
    "grouped = df3.groupby(['measure','capture']) #######df3\n",
    "n1 = 1024\n",
    "n2 = 512\n",
    "step = 2\n",
    "split = 0.8\n",
    "donws_factor = 0.9\n",
    "\n",
    "X_train = []\n",
    "X_test = []\n",
    "y_train = []\n",
    "y_test = []\n",
    "for name, group in grouped:\n",
    "    arr = group.values\n",
    "    for i in range(0,len(arr)-n1,n1):\n",
    "        a = arr[i:i+n1]\n",
    "        option = np.random.rand()\n",
    "        for j in range(0,len(a)-n2,step):\n",
    "          b = a[j:j+n2]\n",
    "          # Case NO stalling event:\n",
    "          if option <= split:\n",
    "            if np.all(b[:,-3]==0):\n",
    "              if np.random.rand() >= donws_factor:\n",
    "                X_train.extend(b[:,:-3])\n",
    "                y_train.append(0)\n",
    "            # Case YES stalling event:\n",
    "            elif np.all(b[:,-3]==1):\n",
    "              X_train.extend(b[:,:-3])\n",
    "              y_train.append(1)\n",
    "          else:\n",
    "            if np.all(b[:,-3]==0):\n",
    "              if np.random.rand() >= donws_factor:\n",
    "                X_test.extend(b[:,:-3])\n",
    "                y_test.append(0)\n",
    "            # Case YES stalling event:\n",
    "            elif np.all(b[:,-3]==1):\n",
    "              X_test.extend(b[:,:-3])\n",
    "              y_test.append(1)\n"
   ],
   "execution_count": 0,
   "outputs": []
  },
  {
   "cell_type": "code",
   "metadata": {
    "id": "7ymgpfTbx3Fq",
    "colab_type": "code",
    "outputId": "3e9e5eaa-e5ce-4a69-b3b1-68230f1aa370",
    "executionInfo": {
     "status": "ok",
     "timestamp": 1569498562244,
     "user_tz": -120,
     "elapsed": 38142,
     "user": {
      "displayName": "Angela Castellano",
      "photoUrl": "https://lh3.googleusercontent.com/a-/AAuE7mBFIfs0-q_QYX-S3TEKlZCY_k_hy4X1u24dyMqcyw=s64",
      "userId": "16753213890459025122"
     }
    },
    "colab": {
     "base_uri": "https://localhost:8080/",
     "height": 119
    }
   },
   "source": [
    "y_train = np.array(y_train)\n",
    "y_test = np.array(y_test)\n",
    "y_train = np.reshape(y_train,(-1,1))\n",
    "y_test = np.reshape(y_test,(-1,1))\n",
    "print(sum(y_train==0))\n",
    "print(sum(y_train==1))\n",
    "print(sum(y_train==2))\n",
    "print(sum(y_train==3))\n",
    "print(sum(y_test==0))\n",
    "print(sum(y_test==1))"
   ],
   "execution_count": 0,
   "outputs": [
    {
     "output_type": "stream",
     "text": [
      "[11780]\n",
      "[12733]\n",
      "[0]\n",
      "[0]\n",
      "[2598]\n",
      "[2647]\n"
     ],
     "name": "stdout"
    }
   ]
  },
  {
   "cell_type": "code",
   "metadata": {
    "id": "5jhUXy31x3DB",
    "colab_type": "code",
    "colab": {}
   },
   "source": [
    "X_train = [item for sublist in X_train for item in sublist]\n",
    "X_test = [item for sublist in X_test for item in sublist]"
   ],
   "execution_count": 0,
   "outputs": []
  },
  {
   "cell_type": "code",
   "metadata": {
    "id": "5ZOj6cyXjnNx",
    "colab_type": "code",
    "colab": {}
   },
   "source": [
    "X_train = np.reshape(X_train, (-1, n2, len(df3.iloc[0])-3)) ###########df3\n",
    "X_test = np.reshape(X_test, (-1, n2, len(df3.iloc[0])-3))"
   ],
   "execution_count": 0,
   "outputs": []
  },
  {
   "cell_type": "code",
   "metadata": {
    "id": "KAKxD-snlLDb",
    "colab_type": "code",
    "colab": {}
   },
   "source": [
    "norm = X_train.max(axis=0)[0]\n",
    "X_train = X_train / norm\n",
    "X_test = X_test / norm"
   ],
   "execution_count": 0,
   "outputs": []
  },
  {
   "cell_type": "code",
   "metadata": {
    "id": "3CPAXKedWTiE",
    "colab_type": "code",
    "outputId": "c90144d9-4f0f-4957-94d2-f48e14db2766",
    "executionInfo": {
     "status": "ok",
     "timestamp": 1569498579016,
     "user_tz": -120,
     "elapsed": 54849,
     "user": {
      "displayName": "Angela Castellano",
      "photoUrl": "https://lh3.googleusercontent.com/a-/AAuE7mBFIfs0-q_QYX-S3TEKlZCY_k_hy4X1u24dyMqcyw=s64",
      "userId": "16753213890459025122"
     }
    },
    "colab": {
     "base_uri": "https://localhost:8080/",
     "height": 34
    }
   },
   "source": [
    "X_test.shape"
   ],
   "execution_count": 0,
   "outputs": [
    {
     "output_type": "execute_result",
     "data": {
      "text/plain": [
       "(5245, 512, 2)"
      ]
     },
     "metadata": {
      "tags": []
     },
     "execution_count": 22
    }
   ]
  },
  {
   "cell_type": "code",
   "metadata": {
    "id": "ZUze_UQVWQ64",
    "colab_type": "code",
    "outputId": "2ac0216a-bf16-4fff-8b4b-88671fca18a0",
    "executionInfo": {
     "status": "ok",
     "timestamp": 1569498579017,
     "user_tz": -120,
     "elapsed": 54823,
     "user": {
      "displayName": "Angela Castellano",
      "photoUrl": "https://lh3.googleusercontent.com/a-/AAuE7mBFIfs0-q_QYX-S3TEKlZCY_k_hy4X1u24dyMqcyw=s64",
      "userId": "16753213890459025122"
     }
    },
    "colab": {
     "base_uri": "https://localhost:8080/",
     "height": 34
    }
   },
   "source": [
    "y_test.shape"
   ],
   "execution_count": 0,
   "outputs": [
    {
     "output_type": "execute_result",
     "data": {
      "text/plain": [
       "(5245, 1)"
      ]
     },
     "metadata": {
      "tags": []
     },
     "execution_count": 23
    }
   ]
  },
  {
   "cell_type": "code",
   "metadata": {
    "id": "2fk4Ts4FXhe6",
    "colab_type": "code",
    "outputId": "09cfa5b1-8d57-4b5e-f319-59ece227708a",
    "executionInfo": {
     "status": "ok",
     "timestamp": 1569498579019,
     "user_tz": -120,
     "elapsed": 54803,
     "user": {
      "displayName": "Angela Castellano",
      "photoUrl": "https://lh3.googleusercontent.com/a-/AAuE7mBFIfs0-q_QYX-S3TEKlZCY_k_hy4X1u24dyMqcyw=s64",
      "userId": "16753213890459025122"
     }
    },
    "colab": {
     "base_uri": "https://localhost:8080/",
     "height": 34
    }
   },
   "source": [
    "X_train.shape"
   ],
   "execution_count": 0,
   "outputs": [
    {
     "output_type": "execute_result",
     "data": {
      "text/plain": [
       "(24513, 512, 2)"
      ]
     },
     "metadata": {
      "tags": []
     },
     "execution_count": 24
    }
   ]
  },
  {
   "cell_type": "code",
   "metadata": {
    "id": "DsDp2d_7XloI",
    "colab_type": "code",
    "outputId": "d882cc43-a1df-4b49-9ed6-c8ca21e1152f",
    "executionInfo": {
     "status": "ok",
     "timestamp": 1569498579020,
     "user_tz": -120,
     "elapsed": 54783,
     "user": {
      "displayName": "Angela Castellano",
      "photoUrl": "https://lh3.googleusercontent.com/a-/AAuE7mBFIfs0-q_QYX-S3TEKlZCY_k_hy4X1u24dyMqcyw=s64",
      "userId": "16753213890459025122"
     }
    },
    "colab": {
     "base_uri": "https://localhost:8080/",
     "height": 34
    }
   },
   "source": [
    "y_train.shape"
   ],
   "execution_count": 0,
   "outputs": [
    {
     "output_type": "execute_result",
     "data": {
      "text/plain": [
       "(24513, 1)"
      ]
     },
     "metadata": {
      "tags": []
     },
     "execution_count": 25
    }
   ]
  },
  {
   "cell_type": "code",
   "metadata": {
    "id": "QGQ4PEqgy3IU",
    "colab_type": "code",
    "colab": {}
   },
   "source": [
    "from keras.models import Sequential\n",
    "from keras.layers import Dense\n",
    "from keras.layers import LSTM\n",
    "from keras.layers import Dense, Dropout, Embedding\n",
    "from keras import backend as K\n",
    "from keras.layers import LSTM, Dense, Bidirectional, Input,Dropout,BatchNormalization, CuDNNGRU, CuDNNLSTM\n",
    "from keras.layers import Flatten, TimeDistributed, Conv1D\n",
    "from keras.layers.convolutional import MaxPooling1D\n",
    "from keras.regularizers import l1_l2, l1, l2\n",
    "from keras.callbacks import EarlyStopping\n",
    "from keras.callbacks import ModelCheckpoint, ReduceLROnPlateau\n",
    "from tensorboardcolab import TensorBoardColab, TensorBoardColabCallback\n",
    "from keras.constraints import unit_norm\n",
    "from keras.optimizers import Adam\n",
    "from keras.utils.vis_utils import plot_model\n"
   ],
   "execution_count": 0,
   "outputs": []
  },
  {
   "cell_type": "code",
   "metadata": {
    "id": "TA9WhgCuzBcz",
    "colab_type": "code",
    "outputId": "95702e5e-4ce1-4e37-b3fd-d440f300b250",
    "executionInfo": {
     "status": "ok",
     "timestamp": 1569498583220,
     "user_tz": -120,
     "elapsed": 58923,
     "user": {
      "displayName": "Angela Castellano",
      "photoUrl": "https://lh3.googleusercontent.com/a-/AAuE7mBFIfs0-q_QYX-S3TEKlZCY_k_hy4X1u24dyMqcyw=s64",
      "userId": "16753213890459025122"
     }
    },
    "colab": {
     "base_uri": "https://localhost:8080/",
     "height": 34
    }
   },
   "source": [
    "!pip install tensorboardcolab # Solo si no está instalado"
   ],
   "execution_count": 0,
   "outputs": [
    {
     "output_type": "stream",
     "text": [
      "Requirement already satisfied: tensorboardcolab in /usr/local/lib/python3.6/dist-packages (0.0.22)\n"
     ],
     "name": "stdout"
    }
   ]
  },
  {
   "cell_type": "code",
   "metadata": {
    "id": "QNGqTiTHFq7y",
    "colab_type": "code",
    "outputId": "4cbff017-edef-414d-d5c5-0c25fe7f9abf",
    "executionInfo": {
     "status": "ok",
     "timestamp": 1569498583224,
     "user_tz": -120,
     "elapsed": 58879,
     "user": {
      "displayName": "Angela Castellano",
      "photoUrl": "https://lh3.googleusercontent.com/a-/AAuE7mBFIfs0-q_QYX-S3TEKlZCY_k_hy4X1u24dyMqcyw=s64",
      "userId": "16753213890459025122"
     }
    },
    "colab": {
     "base_uri": "https://localhost:8080/",
     "height": 34
    }
   },
   "source": [
    "len(X_train[0,:])"
   ],
   "execution_count": 0,
   "outputs": [
    {
     "output_type": "execute_result",
     "data": {
      "text/plain": [
       "512"
      ]
     },
     "metadata": {
      "tags": []
     },
     "execution_count": 28
    }
   ]
  },
  {
   "cell_type": "code",
   "metadata": {
    "id": "jqioSHfKx26h",
    "colab_type": "code",
    "colab": {}
   },
   "source": [
    "splits = 8 #era 16\n",
    "n_steps, n_length = n2//splits, splits\n",
    "n_features = X_train.shape[2]\n",
    "X_train2 = X_train.reshape((X_train.shape[0], n_steps, n_length, n_features))\n",
    "X_test2 = X_test.reshape((X_test.shape[0], n_steps, n_length, n_features))"
   ],
   "execution_count": 0,
   "outputs": []
  },
  {
   "cell_type": "code",
   "metadata": {
    "id": "DlDEZkcEiTPf",
    "colab_type": "code",
    "outputId": "5d1d5ecc-3aa1-412c-d78c-b6d757ac2358",
    "executionInfo": {
     "status": "ok",
     "timestamp": 1569498585142,
     "user_tz": -120,
     "elapsed": 60764,
     "user": {
      "displayName": "Angela Castellano",
      "photoUrl": "https://lh3.googleusercontent.com/a-/AAuE7mBFIfs0-q_QYX-S3TEKlZCY_k_hy4X1u24dyMqcyw=s64",
      "userId": "16753213890459025122"
     }
    },
    "colab": {
     "base_uri": "https://localhost:8080/",
     "height": 343
    }
   },
   "source": [
    "# define model\n",
    "reg = 0.0001 \n",
    "model = Sequential()\n",
    "model.add(TimeDistributed(Conv1D(filters=100, kernel_size=3, activation='relu', \n",
    "                                 kernel_regularizer=l2(reg), bias_regularizer=l2(reg)), \n",
    "                          input_shape=(None,n_length,n_features)))\n",
    "model.add(TimeDistributed(Conv1D(filters=100, kernel_size=3, activation='relu', \n",
    "                                 kernel_regularizer=l2(reg), bias_regularizer=l2(reg))))\n",
    "model.add(TimeDistributed(Dropout(0.5)))\n",
    "model.add(TimeDistributed(MaxPooling1D(pool_size=2)))\n",
    "model.add(TimeDistributed(Flatten()))\n",
    "model.add(Dropout(0.5))\n",
    "model.add(CuDNNLSTM(100, kernel_regularizer=l2(reg), recurrent_regularizer=l2(reg), bias_regularizer=l2(reg))) \n",
    "model.add(BatchNormalization())\n",
    "model.add(Dropout(0.5))\n",
    "model.add(BatchNormalization())\n",
    "model.add(Dense(100, activation='relu', kernel_constraint=unit_norm(), kernel_regularizer=l2(reg), bias_regularizer=l2(reg)))\n",
    "model.add(Dropout(0.5))\n",
    "model.add(Dense(1, activation='sigmoid'))\n",
    "model.compile(loss='binary_crossentropy', optimizer='adam', metrics=['accuracy'])\n"
   ],
   "execution_count": 0,
   "outputs": [
    {
     "output_type": "stream",
     "text": [
      "WARNING:tensorflow:From /usr/local/lib/python3.6/dist-packages/keras/backend/tensorflow_backend.py:541: The name tf.placeholder is deprecated. Please use tf.compat.v1.placeholder instead.\n",
      "\n",
      "WARNING:tensorflow:From /usr/local/lib/python3.6/dist-packages/keras/backend/tensorflow_backend.py:4432: The name tf.random_uniform is deprecated. Please use tf.random.uniform instead.\n",
      "\n",
      "WARNING:tensorflow:From /usr/local/lib/python3.6/dist-packages/keras/backend/tensorflow_backend.py:148: The name tf.placeholder_with_default is deprecated. Please use tf.compat.v1.placeholder_with_default instead.\n",
      "\n",
      "WARNING:tensorflow:From /usr/local/lib/python3.6/dist-packages/keras/backend/tensorflow_backend.py:3733: calling dropout (from tensorflow.python.ops.nn_ops) with keep_prob is deprecated and will be removed in a future version.\n",
      "Instructions for updating:\n",
      "Please use `rate` instead of `keep_prob`. Rate should be set to `rate = 1 - keep_prob`.\n",
      "WARNING:tensorflow:From /usr/local/lib/python3.6/dist-packages/keras/backend/tensorflow_backend.py:4267: The name tf.nn.max_pool is deprecated. Please use tf.nn.max_pool2d instead.\n",
      "\n",
      "WARNING:tensorflow:From /usr/local/lib/python3.6/dist-packages/keras/optimizers.py:793: The name tf.train.Optimizer is deprecated. Please use tf.compat.v1.train.Optimizer instead.\n",
      "\n",
      "WARNING:tensorflow:From /usr/local/lib/python3.6/dist-packages/keras/backend/tensorflow_backend.py:3657: The name tf.log is deprecated. Please use tf.math.log instead.\n",
      "\n",
      "WARNING:tensorflow:From /usr/local/lib/python3.6/dist-packages/tensorflow/python/ops/nn_impl.py:180: add_dispatch_support.<locals>.wrapper (from tensorflow.python.ops.array_ops) is deprecated and will be removed in a future version.\n",
      "Instructions for updating:\n",
      "Use tf.where in 2.0, which has the same broadcast rule as np.where\n"
     ],
     "name": "stdout"
    }
   ]
  },
  {
   "cell_type": "code",
   "metadata": {
    "id": "gyDCaWb5aAMx",
    "colab_type": "code",
    "outputId": "09a105c4-db9c-45a7-aa87-fd373d2a15e6",
    "executionInfo": {
     "status": "ok",
     "timestamp": 1569498976357,
     "user_tz": -120,
     "elapsed": 976,
     "user": {
      "displayName": "Angela Castellano",
      "photoUrl": "https://lh3.googleusercontent.com/a-/AAuE7mBFIfs0-q_QYX-S3TEKlZCY_k_hy4X1u24dyMqcyw=s64",
      "userId": "16753213890459025122"
     }
    },
    "colab": {
     "base_uri": "https://localhost:8080/",
     "height": 1000
    }
   },
   "source": [
    "plot_model(model, show_layer_names=True)"
   ],
   "execution_count": 0,
   "outputs": [
    {
     "output_type": "execute_result",
     "data": {
      "image/png": "[encoded data removed]",
      "text/plain": [
       "<IPython.core.display.Image object>"
      ]
     },
     "metadata": {
      "tags": []
     },
     "execution_count": 34
    }
   ]
  },
  {
   "cell_type": "code",
   "metadata": {
    "id": "x-R48yoWx20J",
    "colab_type": "code",
    "outputId": "290fc3b3-6b45-470b-a5db-7828521eaebd",
    "executionInfo": {
     "status": "error",
     "timestamp": 1569498595544,
     "user_tz": -120,
     "elapsed": 71135,
     "user": {
      "displayName": "Angela Castellano",
      "photoUrl": "https://lh3.googleusercontent.com/a-/AAuE7mBFIfs0-q_QYX-S3TEKlZCY_k_hy4X1u24dyMqcyw=s64",
      "userId": "16753213890459025122"
     }
    },
    "colab": {
     "base_uri": "https://localhost:8080/",
     "height": 333
    }
   },
   "source": [
    "# Ruta a donde guardar los pesos de la red que mejor se adapte al dataset de test\n",
    "filepath=\"./gdrive/My Drive/Colab Notebooks/Pruebas/weights.best2.hdf5\"\n",
    "\n",
    "# Con la sig. linea indicamos que para guardar el mejor modelo miramos la precisión de el dataset de test (val)\n",
    "# y que lo que estamos haciendo es maximizar\n",
    "checkpoint = ModelCheckpoint(filepath, monitor='val_acc', verbose=1, save_best_only=True, mode='max')\n",
    "\n",
    "# Este callback nos permite parar el entrenamiento cuando no se mejora la precisión en el dataset de test\n",
    "# Con el parámetro patience indicamos durante cuánto tiempo estamos buscando una mejor precisión\n",
    "es = EarlyStopping(monitor='val_acc', mode='max', verbose=1, patience=80)\n",
    "\n",
    "reduce_lr = ReduceLROnPlateau(monitor='val_acc', factor=0.9, patience=2, min_lr=0.00001, verbose=1) #0.86 min_lr 2 0 menos 0.0001 #con 0.9; 0.00001 y batch 64 no va mal\n",
    "\n",
    "# Esto es tensorboard, con el link que te genera puedes 'ver' cómo se va comportando la red\n",
    "# Irás viendo que la precisión en el train va aumentando pero en el de test puede bajar (overffiting).\n",
    "# https://py2py.com/cnn-part-4-how-to-use-tensorboard-to-avoid-overfitting/\n",
    "tbc=TensorBoardColab()"
   ],
   "execution_count": 0,
   "outputs": [
    {
     "output_type": "stream",
     "text": [
      "Wait for 8 seconds...\n"
     ],
     "name": "stdout"
    },
    {
     "output_type": "error",
     "ename": "KeyboardInterrupt",
     "evalue": "ignored",
     "traceback": [
      "\u001b[0;31m---------------------------------------------------------------------------\u001b[0m",
      "\u001b[0;31mKeyboardInterrupt\u001b[0m                         Traceback (most recent call last)",
      "\u001b[0;32m<ipython-input-31-62a699b192cc>\u001b[0m in \u001b[0;36m<module>\u001b[0;34m()\u001b[0m\n\u001b[1;32m     14\u001b[0m \u001b[0;31m# Irás viendo que la precisión en el train va aumentando pero en el de test puede bajar (overffiting).\u001b[0m\u001b[0;34m\u001b[0m\u001b[0;34m\u001b[0m\u001b[0;34m\u001b[0m\u001b[0m\n\u001b[1;32m     15\u001b[0m \u001b[0;31m# https://py2py.com/cnn-part-4-how-to-use-tensorboard-to-avoid-overfitting/\u001b[0m\u001b[0;34m\u001b[0m\u001b[0;34m\u001b[0m\u001b[0;34m\u001b[0m\u001b[0m\n\u001b[0;32m---> 16\u001b[0;31m \u001b[0mtbc\u001b[0m\u001b[0;34m=\u001b[0m\u001b[0mTensorBoardColab\u001b[0m\u001b[0;34m(\u001b[0m\u001b[0;34m)\u001b[0m\u001b[0;34m\u001b[0m\u001b[0;34m\u001b[0m\u001b[0m\n\u001b[0m",
      "\u001b[0;32m/usr/local/lib/python3.6/dist-packages/tensorboardcolab/core.py\u001b[0m in \u001b[0;36m__init__\u001b[0;34m(self, port, graph_path, startup_waiting_time)\u001b[0m\n\u001b[1;32m     23\u001b[0m             \u001b[0mtime\u001b[0m\u001b[0;34m.\u001b[0m\u001b[0msleep\u001b[0m\u001b[0;34m(\u001b[0m\u001b[0msleep_time\u001b[0m\u001b[0;34m)\u001b[0m\u001b[0;34m\u001b[0m\u001b[0;34m\u001b[0m\u001b[0m\n\u001b[1;32m     24\u001b[0m             \u001b[0mget_ipython\u001b[0m\u001b[0;34m(\u001b[0m\u001b[0;34m)\u001b[0m\u001b[0;34m.\u001b[0m\u001b[0msystem_raw\u001b[0m\u001b[0;34m(\u001b[0m\u001b[0;34m'tensorboard --logdir %s --host 0.0.0.0 --port %d &'\u001b[0m \u001b[0;34m%\u001b[0m \u001b[0;34m(\u001b[0m\u001b[0mgraph_path\u001b[0m\u001b[0;34m,\u001b[0m \u001b[0mport\u001b[0m\u001b[0;34m)\u001b[0m\u001b[0;34m)\u001b[0m\u001b[0;34m\u001b[0m\u001b[0;34m\u001b[0m\u001b[0m\n\u001b[0;32m---> 25\u001b[0;31m             \u001b[0mtime\u001b[0m\u001b[0;34m.\u001b[0m\u001b[0msleep\u001b[0m\u001b[0;34m(\u001b[0m\u001b[0msleep_time\u001b[0m\u001b[0;34m)\u001b[0m\u001b[0;34m\u001b[0m\u001b[0;34m\u001b[0m\u001b[0m\n\u001b[0m\u001b[1;32m     26\u001b[0m             \u001b[0mget_ipython\u001b[0m\u001b[0;34m(\u001b[0m\u001b[0;34m)\u001b[0m\u001b[0;34m.\u001b[0m\u001b[0msystem_raw\u001b[0m\u001b[0;34m(\u001b[0m\u001b[0;34m'ngrok http %d &'\u001b[0m \u001b[0;34m%\u001b[0m \u001b[0mport\u001b[0m\u001b[0;34m)\u001b[0m\u001b[0;34m\u001b[0m\u001b[0;34m\u001b[0m\u001b[0m\n\u001b[1;32m     27\u001b[0m             \u001b[0mtime\u001b[0m\u001b[0;34m.\u001b[0m\u001b[0msleep\u001b[0m\u001b[0;34m(\u001b[0m\u001b[0msleep_time\u001b[0m\u001b[0;34m)\u001b[0m\u001b[0;34m\u001b[0m\u001b[0;34m\u001b[0m\u001b[0m\n",
      "\u001b[0;31mKeyboardInterrupt\u001b[0m: "
     ]
    }
   ]
  },
  {
   "cell_type": "code",
   "metadata": {
    "id": "7nmLiG4ax2wd",
    "colab_type": "code",
    "colab": {}
   },
   "source": [
    "hist = model.fit(X_train2, y_train, epochs=1000, batch_size=64, #con conv1 X_train2, X_test2\n",
    "                 validation_data=(X_test2, y_test), verbose=1,\n",
    "                 callbacks=[es, TensorBoardColabCallback(tbc), checkpoint, reduce_lr])"
   ],
   "execution_count": 0,
   "outputs": []
  },
  {
   "cell_type": "code",
   "metadata": {
    "id": "CCOE10nvx2rm",
    "colab_type": "code",
    "colab": {}
   },
   "source": [
    "# Para guardar la red completa, carga los pesos de donde estaban guardados, y luego\n",
    "# los guardamos, pero esta vez con la red al completo.\n",
    "model.load_weights(\"./gdrive/My Drive/Colab Notebooks/Pruebas/weights.best2.hdf5\")\n",
    "#model.save(\"./gdrive/My Drive/Colab Notebooks/Pruebas/model_mean_086f1_3_SMOOTH.h5\")\n",
    "#model.summary()"
   ],
   "execution_count": 0,
   "outputs": []
  },
  {
   "cell_type": "code",
   "metadata": {
    "id": "EkO45GeJx2od",
    "colab_type": "code",
    "colab": {}
   },
   "source": [
    "# Una vez que hemos cargado la red con los mejores parámetros, obtenemos los resultados.\n",
    "y_pred = model.predict(X_test2)"
   ],
   "execution_count": 0,
   "outputs": []
  },
  {
   "cell_type": "code",
   "metadata": {
    "id": "UjvmOkvO0j6t",
    "colab_type": "code",
    "colab": {}
   },
   "source": [
    "target_names = ['NoEvent', 'Event', 'Started', 'Ended']\n",
    "target_names = ['NoEvent', 'Event']\n",
    "print(classification_report(y_test, np.rint(y_pred), target_names=target_names))"
   ],
   "execution_count": 0,
   "outputs": []
  },
  {
   "cell_type": "code",
   "metadata": {
    "id": "2cs9Sf-h0qbs",
    "colab_type": "code",
    "colab": {}
   },
   "source": [
    "confusion_matrix(y_test, np.rint(y_pred))"
   ],
   "execution_count": 0,
   "outputs": []
  },
  {
   "cell_type": "code",
   "metadata": {
    "id": "0bKDzsgXYi7r",
    "colab_type": "code",
    "colab": {}
   },
   "source": [
    "stop"
   ],
   "execution_count": 0,
   "outputs": []
  },
  {
   "cell_type": "code",
   "metadata": {
    "id": "XTRNPsMBMFhs",
    "colab_type": "code",
    "colab": {}
   },
   "source": [
    "from keras.models import load_model\n",
    "model2 = load_model(\"./gdrive/My Drive/Colab Notebooks/Pruebas/model_mean_085f1.h5\")"
   ],
   "execution_count": 0,
   "outputs": []
  },
  {
   "cell_type": "code",
   "metadata": {
    "id": "r1_RiDMPMLlj",
    "colab_type": "code",
    "colab": {}
   },
   "source": [
    "model2.summary()\n",
    "model2.get_config()"
   ],
   "execution_count": 0,
   "outputs": []
  },
  {
   "cell_type": "code",
   "metadata": {
    "id": "yNwj1VvhMZXw",
    "colab_type": "code",
    "colab": {}
   },
   "source": [
    "hist2 = model2.fit(X_train2, y_train, epochs=1000, batch_size=64,\n",
    "                 validation_data=(X_test2, y_test), verbose=1,\n",
    "                 callbacks=[es, TensorBoardColabCallback(tbc), checkpoint])"
   ],
   "execution_count": 0,
   "outputs": []
  },
  {
   "cell_type": "code",
   "metadata": {
    "id": "wS3xNv8MOAyI",
    "colab_type": "code",
    "colab": {}
   },
   "source": [
    "stop"
   ],
   "execution_count": 0,
   "outputs": []
  },
  {
   "cell_type": "code",
   "metadata": {
    "id": "qL7du92yx23t",
    "colab_type": "code",
    "colab": {}
   },
   "source": [
    "# define model(model5)\n",
    "model = Sequential()\n",
    "model.add(TimeDistributed(Conv1D(filters=16, kernel_size=3, activation='relu',\n",
    "                             \tkernel_regularizer=l2(0.001), bias_regularizer=l2(0.001),\n",
    "                             \tinput_shape=(None,n_length,n_features))))\n",
    "model.add(TimeDistributed(Conv1D(filters=8, kernel_size=5, activation='relu',\n",
    "                             \tkernel_regularizer=l2(0.001), bias_regularizer=l2(0.001))))\n",
    "model.add(TimeDistributed(Dropout(0.5)))\n",
    "model.add(TimeDistributed(MaxPooling1D(pool_size=2)))\n",
    "model.add(TimeDistributed(Flatten()))\n",
    "model.add(CuDNNLSTM(10, kernel_regularizer=l2(0.0001), bias_regularizer=l2(0.0001),\n",
    "                \trecurrent_regularizer=l2(0.0001), activity_regularizer=l2(0.0001),\n",
    "               \treturn_sequences = False))\n",
    "#model.add(CuDNNLSTM(50, kernel_regularizer=l2(0.001), bias_regularizer=l2(0.001),\n",
    "#                \trecurrent_regularizer=l2(0.001), activity_regularizer=l2(0.001)))\n",
    "#model.add(Dropout(0.5))\n",
    "model.add(Dense(10, activation='relu',kernel_regularizer=l2(0.0001), bias_regularizer=l2(0.0001)))\n",
    "model.add(Dropout(0.5))\n",
    "model.add(Dense(1, activation='sigmoid'))\n",
    "model.compile(loss='binary_crossentropy', optimizer='nadam', metrics=['accuracy'])\n"
   ],
   "execution_count": 0,
   "outputs": []
  },
  {
   "cell_type": "code",
   "metadata": {
    "id": "w_SG28nIY8Uo",
    "colab_type": "code",
    "colab": {}
   },
   "source": [
    "# define model 6\n",
    "model = Sequential()\n",
    "model.add(TimeDistributed(Conv1D(filters=20, kernel_size=3, activation='relu',\n",
    "                             \tkernel_regularizer=l2(0.001), bias_regularizer=l2(0.001),\n",
    "                             \tinput_shape=(None,n_length,n_features))))\n",
    "model.add(TimeDistributed(Conv1D(filters=8, kernel_size=5, activation='relu',\n",
    "                             \tkernel_regularizer=l2(0.001), bias_regularizer=l2(0.001))))\n",
    "model.add(TimeDistributed(Dropout(0.5)))\n",
    "model.add(TimeDistributed(MaxPooling1D(pool_size=2)))\n",
    "model.add(TimeDistributed(Flatten()))\n",
    "model.add(CuDNNLSTM(8, kernel_regularizer=l2(0.0001), bias_regularizer=l2(0.0001),\n",
    "                \trecurrent_regularizer=l2(0.0001), activity_regularizer=l2(0.0001),\n",
    "               \treturn_sequences = False))\n",
    "#model.add(CuDNNLSTM(50, kernel_regularizer=l2(0.001), bias_regularizer=l2(0.001),\n",
    "#                \trecurrent_regularizer=l2(0.001), activity_regularizer=l2(0.001)))\n",
    "#model.add(Dropout(0.5))\n",
    "model.add(Dense(8, activation='relu',kernel_regularizer=l2(0.0001), bias_regularizer=l2(0.0001)))\n",
    "model.add(Dropout(0.5))\n",
    "model.add(Dense(1, activation='sigmoid'))\n",
    "\n",
    "model.compile(loss='binary_crossentropy', optimizer=Adam(lr=0.0001), metrics=['accuracy'])\n"
   ],
   "execution_count": 0,
   "outputs": []
  },
  {
   "cell_type": "code",
   "metadata": {
    "id": "2Pv1DWPRF6-5",
    "colab_type": "code",
    "colab": {}
   },
   "source": [
    "#MODEL JASON\n",
    "#model = Sequential()\n",
    "#model.add(TimeDistributed(Conv1D(filters=16, kernel_size=3, activation='relu'),  input_shape=(None,n_length,n_features)))\n",
    "#model.add(TimeDistributed(Conv1D(filters=16, kernel_size=3, activation='relu')))\n",
    "#model.add(TimeDistributed(Dropout(0.5)))\n",
    "#model.add(TimeDistributed(MaxPooling1D(pool_size=2)))\n",
    "#model.add(TimeDistributed(Flatten()))\n",
    "#model.add(Dropout(0.5))\n",
    "#model.add(CuDNNLSTM(50, return_sequences=False))\n",
    "#model.add(Dropout(0.5))\n",
    "#model.add(Dense(50, activation='relu'))\n",
    "#model.add(Dropout(0.5))\n",
    "reg= 0.0001 #mas ceros es más flexible, si hay overfitting lo hago proximo a 1. Si no aprende, lo hago proximo a 0\n",
    "\n",
    "# define model\n",
    "model = Sequential()\n",
    "model.add(TimeDistributed(Conv1D(filters=64, kernel_size=3, activation='relu', kernel_regularizer=l2(reg), bias_regularizer=l2(reg)), input_shape=(None,n_length,n_features)))\n",
    "model.add(TimeDistributed(Conv1D(filters=64, kernel_size=3, activation='relu',kernel_regularizer=l2(reg), bias_regularizer=l2(reg))))\n",
    "model.add(BatchNormalization())\n",
    "model.add(TimeDistributed(Dropout(0.5)))\n",
    "model.add(TimeDistributed(MaxPooling1D(pool_size=2)))\n",
    "model.add(TimeDistributed(Flatten()))\n",
    "model.add(CuDNNLSTM(100, kernel_constraint=max_norm(3), recurrent_constraint=max_norm(3), bias_constraint=max_norm(3), kernel_regularizer=l2(reg), recurrent_regularizer=l2(reg), bias_regularizer=l2(reg)))\n",
    "model.add(BatchNormalization())\n",
    "model.add(Dropout(0.5))\n",
    "model.add(Dense(100, kernel_regularizer=l2(reg), bias_regularizer=l2(reg), activation='relu'))\n",
    "model.add(BatchNormalization())\n",
    "model.add(Dense(1, activation='sigmoid'))\n",
    "model.compile(loss='binary_crossentropy', optimizer='adam', metrics=['accuracy'])"
   ],
   "execution_count": 0,
   "outputs": []
  }
 ]
}